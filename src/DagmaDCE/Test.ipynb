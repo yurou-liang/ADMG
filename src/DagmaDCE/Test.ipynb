{
 "cells": [
  {
   "cell_type": "markdown",
   "metadata": {},
   "source": [
    "# Test"
   ]
  },
  {
   "cell_type": "code",
   "execution_count": 1,
   "metadata": {},
   "outputs": [
    {
     "name": "stderr",
     "output_type": "stream",
     "text": [
      "/opt/anaconda3/envs/admg/lib/python3.11/site-packages/tqdm/auto.py:21: TqdmWarning: IProgress not found. Please update jupyter and ipywidgets. See https://ipywidgets.readthedocs.io/en/stable/user_install.html\n",
      "  from .autonotebook import tqdm as notebook_tqdm\n"
     ]
    }
   ],
   "source": [
    "import nonlinear_dce\n",
    "import nonlinear\n",
    "import torch\n",
    "import numpy as np\n",
    "import matplotlib.pyplot as plt\n",
    "import pandas as pd"
   ]
  },
  {
   "cell_type": "code",
   "execution_count": 2,
   "metadata": {},
   "outputs": [],
   "source": [
    "class DummyModel(torch.nn.Module):\n",
    "    def __init__(self):\n",
    "        super().__init__()\n",
    "\n",
    "dummy_model = DummyModel()\n",
    "\n",
    "dagma = nonlinear_dce.DagmaDCE(model=dummy_model, use_mle_loss=True)\n",
    "dims = [5,7,1]\n",
    "dagma_mlp = nonlinear_dce.DagmaMLP_DCE(dims=dims)\n",
    "n, d = 100, dims[0]\n",
    "target = torch.randn(n, d)\n",
    "output = target + 0.1 * torch.randn(n, d)\n",
    "\n",
    "A = torch.randn(d, d)\n",
    "Sigma = A @ A.T + 1e-3 * torch.eye(d)"
   ]
  },
  {
   "cell_type": "markdown",
   "metadata": {},
   "source": [
    "## Forward"
   ]
  },
  {
   "cell_type": "code",
   "execution_count": 3,
   "metadata": {},
   "outputs": [
    {
     "data": {
      "text/plain": [
       "torch.Size([100, 5])"
      ]
     },
     "execution_count": 3,
     "metadata": {},
     "output_type": "execute_result"
    }
   ],
   "source": [
    "dagma_mlp.forward(target).shape"
   ]
  },
  {
   "cell_type": "markdown",
   "metadata": {},
   "source": [
    "## MLE loss"
   ]
  },
  {
   "cell_type": "code",
   "execution_count": 4,
   "metadata": {},
   "outputs": [
    {
     "name": "stdout",
     "output_type": "stream",
     "text": [
      "MLE loss: 4.856599931646874\n"
     ]
    }
   ],
   "source": [
    "loss_value = dagma.mle_loss(output=output, target=target, Sigma=Sigma)\n",
    "print(\"MLE loss:\", loss_value.item())"
   ]
  },
  {
   "cell_type": "code",
   "execution_count": 5,
   "metadata": {},
   "outputs": [
    {
     "name": "stdout",
     "output_type": "stream",
     "text": [
      "MLE loss: 4.856599931646874\n"
     ]
    }
   ],
   "source": [
    "tmp = 0\n",
    "diff = target - output\n",
    "for i in range(0,n):\n",
    "    tmp += diff[i, :]@ torch.inverse(Sigma)@diff[i, :].unsqueeze(1)\n",
    "\n",
    "logdet = torch.logdet(Sigma)\n",
    "loss_value2 = tmp/n + logdet\n",
    "print(\"MLE loss:\", loss_value2.item())"
   ]
  },
  {
   "cell_type": "markdown",
   "metadata": {},
   "source": [
    "## Ancestral loss"
   ]
  },
  {
   "cell_type": "code",
   "execution_count": 6,
   "metadata": {},
   "outputs": [
    {
     "name": "stdout",
     "output_type": "stream",
     "text": [
      "ancestrality_loss tensor(0.0900)\n"
     ]
    }
   ],
   "source": [
    "Sigma = torch.tensor([[0.5, 0.3],   \n",
    "                [0.3, 1.5]])\n",
    "Wii = torch.diag(torch.diag(Sigma))\n",
    "W2 = Sigma - Wii\n",
    "\n",
    "W1 = torch.tensor([[0.0, 1.0],   \n",
    "                [0.0, 0.0]])\n",
    "ancestrality =dagma_mlp.ancestrality_loss(W1, W2)\n",
    "print(\"ancestrality_loss\", ancestrality)"
   ]
  },
  {
   "cell_type": "code",
   "execution_count": 7,
   "metadata": {},
   "outputs": [
    {
     "name": "stdout",
     "output_type": "stream",
     "text": [
      "ancestrality_loss tensor(0.6400)\n"
     ]
    }
   ],
   "source": [
    "Sigma = torch.tensor([[0.5, 0.8],   \n",
    "                [0.8, 1.5]])\n",
    "Wii = torch.diag(torch.diag(Sigma))\n",
    "W2 = Sigma - Wii\n",
    "\n",
    "W1 = torch.tensor([[0.0, 1.0],   \n",
    "                [0.0, 0.0]])\n",
    "ancestrality =dagma_mlp.ancestrality_loss(W1, W2)\n",
    "print(\"ancestrality_loss\", ancestrality)"
   ]
  },
  {
   "cell_type": "markdown",
   "metadata": {},
   "source": [
    "## h_func"
   ]
  },
  {
   "cell_type": "code",
   "execution_count": 8,
   "metadata": {},
   "outputs": [
    {
     "name": "stdout",
     "output_type": "stream",
     "text": [
      "h_value: 4.190249672446955\n"
     ]
    }
   ],
   "source": [
    "W1 = torch.rand(d, d)   # values in [0,1)\n",
    "W2 = torch.rand(d, d)\n",
    "h_value =dagma_mlp.h_func(W1, W2)\n",
    "print(\"h_value:\", h_value.item())"
   ]
  },
  {
   "cell_type": "markdown",
   "metadata": {},
   "source": [
    "## Log Cholesky"
   ]
  },
  {
   "cell_type": "code",
   "execution_count": 9,
   "metadata": {},
   "outputs": [
    {
     "name": "stdout",
     "output_type": "stream",
     "text": [
      "Sigma:  tensor([[ 6.0858, -1.8737, -2.6806, -0.2402,  2.3097],\n",
      "        [-1.8737,  2.1774,  1.1716, -0.8645, -1.7391],\n",
      "        [-2.6806,  1.1716,  1.4572,  0.0255, -1.4567],\n",
      "        [-0.2402, -0.8645,  0.0255,  1.4165, -0.7480],\n",
      "        [ 2.3097, -1.7391, -1.4567, -0.7480,  3.4123]])\n"
     ]
    }
   ],
   "source": [
    "A = torch.randn(d, d)             \n",
    "Sigma = A @ A.T + 1e-3 * torch.eye(d)\n",
    "print(\"Sigma: \", Sigma)"
   ]
  },
  {
   "cell_type": "code",
   "execution_count": 10,
   "metadata": {},
   "outputs": [
    {
     "name": "stdout",
     "output_type": "stream",
     "text": [
      "M:  tensor([[ 0.9030,  0.0000,  0.0000,  0.0000,  0.0000],\n",
      "        [-0.7595,  0.2352,  0.0000,  0.0000,  0.0000],\n",
      "        [-1.0866,  0.2737, -0.8007,  0.0000,  0.0000],\n",
      "        [-0.0974, -0.7418,  0.2734, -0.1230,  0.0000],\n",
      "        [ 0.9362, -0.8126, -0.4832, -1.2750, -2.0573]])\n"
     ]
    }
   ],
   "source": [
    "M = nonlinear_dce.reverse_SPDLogCholesky(Sigma)\n",
    "print(\"M: \", M)"
   ]
  },
  {
   "cell_type": "code",
   "execution_count": 11,
   "metadata": {},
   "outputs": [
    {
     "name": "stdout",
     "output_type": "stream",
     "text": [
      "Sigma:  tensor([[ 6.0858, -1.8737, -2.6806, -0.2402,  2.3097],\n",
      "        [-1.8737,  2.1774,  1.1716, -0.8645, -1.7391],\n",
      "        [-2.6806,  1.1716,  1.4572,  0.0255, -1.4567],\n",
      "        [-0.2402, -0.8645,  0.0255,  1.4165, -0.7480],\n",
      "        [ 2.3097, -1.7391, -1.4567, -0.7480,  3.4123]])\n"
     ]
    }
   ],
   "source": [
    "Sigma = nonlinear_dce.SPDLogCholesky(M)\n",
    "print(\"Sigma: \", Sigma)"
   ]
  },
  {
   "cell_type": "markdown",
   "metadata": {},
   "source": [
    "## Simulation"
   ]
  },
  {
   "cell_type": "markdown",
   "metadata": {},
   "source": [
    "### random init"
   ]
  },
  {
   "cell_type": "code",
   "execution_count": 12,
   "metadata": {},
   "outputs": [],
   "source": [
    "np.random.seed(0)\n",
    "n_samples = 1000  # Number of samples\n",
    "dim = 2  # Dimension of the normal vectors\n",
    "d = 2\n",
    "# Random data for X and X_hat\n",
    "True_Sigma = np.array([[0.5, 0.0],    # Variance of X is 1, covariance between X and Y is 0.8\n",
    "                [0.0, 1.5]])   # Variance of Y is 1, covariance between Y and X is 0.8\n",
    "epsilon = np.random.multivariate_normal([0] * dim, True_Sigma, size=n_samples) #[n, d]\n",
    "epsilon = torch.tensor(epsilon, dtype=torch.float64)\n",
    "x1 = epsilon[:, 0]\n",
    "# x1 = torch.randn(n_samples)\n",
    "x1_true = epsilon[:, 0]\n",
    "x2 = 10*torch.sin(x1)\n",
    "# Step 4: Combine these results into a new tensor of shape [n, 2]\n",
    "X = torch.stack((x1, x2), dim=1)\n",
    "x2_true = 10*torch.sin(x1)+ epsilon[:, 1]\n",
    "X_true = torch.stack((x1_true, x2_true), dim=1)"
   ]
  },
  {
   "cell_type": "code",
   "execution_count": 13,
   "metadata": {},
   "outputs": [
    {
     "name": "stderr",
     "output_type": "stream",
     "text": [
      "  0%|          | 0/29000 [00:00<?, ?it/s]"
     ]
    },
    {
     "name": "stderr",
     "output_type": "stream",
     "text": [
      "  1%|          | 159/29000 [00:00<01:37, 295.55it/s]"
     ]
    },
    {
     "name": "stdout",
     "output_type": "stream",
     "text": [
      "Sigma:  tensor([[0.9604, 0.0195],\n",
      "        [0.0195, 1.0411]], grad_fn=<MmBackward0>)\n",
      "obj:  tensor(29.7284, grad_fn=<AddBackward0>)\n",
      "mle loss:  tensor(29.7268, grad_fn=<AddBackward0>)\n",
      "h_val:  tensor(0.0002, grad_fn=<AddBackward0>)\n"
     ]
    },
    {
     "name": "stderr",
     "output_type": "stream",
     "text": [
      "  1%|          | 282/29000 [00:01<01:18, 367.02it/s]"
     ]
    },
    {
     "name": "stdout",
     "output_type": "stream",
     "text": [
      "Sigma:  tensor([[0.9204, 0.0379],\n",
      "        [0.0379, 1.0842]], grad_fn=<MmBackward0>)\n",
      "obj:  tensor(27.5371, grad_fn=<AddBackward0>)\n",
      "mle loss:  tensor(27.5333, grad_fn=<AddBackward0>)\n",
      "h_val:  tensor(0.0009, grad_fn=<AddBackward0>)\n"
     ]
    },
    {
     "name": "stderr",
     "output_type": "stream",
     "text": [
      "  1%|▏         | 363/29000 [00:01<01:14, 384.83it/s]"
     ]
    },
    {
     "name": "stdout",
     "output_type": "stream",
     "text": [
      "Sigma:  tensor([[0.8800, 0.0547],\n",
      "        [0.0547, 1.1287]], grad_fn=<MmBackward0>)\n",
      "obj:  tensor(25.4354, grad_fn=<AddBackward0>)\n",
      "mle loss:  tensor(25.4289, grad_fn=<AddBackward0>)\n",
      "h_val:  tensor(0.0021, grad_fn=<AddBackward0>)\n"
     ]
    },
    {
     "name": "stderr",
     "output_type": "stream",
     "text": [
      "  2%|▏         | 444/29000 [00:01<01:12, 391.97it/s]"
     ]
    },
    {
     "name": "stdout",
     "output_type": "stream",
     "text": [
      "Sigma:  tensor([[0.8400, 0.0701],\n",
      "        [0.0701, 1.1742]], grad_fn=<MmBackward0>)\n",
      "obj:  tensor(23.4334, grad_fn=<AddBackward0>)\n",
      "mle loss:  tensor(23.4237, grad_fn=<AddBackward0>)\n",
      "h_val:  tensor(0.0038, grad_fn=<AddBackward0>)\n"
     ]
    },
    {
     "name": "stderr",
     "output_type": "stream",
     "text": [
      "  2%|▏         | 567/29000 [00:01<01:11, 399.24it/s]"
     ]
    },
    {
     "name": "stdout",
     "output_type": "stream",
     "text": [
      "Sigma:  tensor([[0.8012, 0.0840],\n",
      "        [0.0840, 1.2203]], grad_fn=<MmBackward0>)\n",
      "obj:  tensor(21.5429, grad_fn=<AddBackward0>)\n",
      "mle loss:  tensor(21.5294, grad_fn=<AddBackward0>)\n",
      "h_val:  tensor(0.0063, grad_fn=<AddBackward0>)\n"
     ]
    },
    {
     "name": "stderr",
     "output_type": "stream",
     "text": [
      "  2%|▏         | 649/29000 [00:02<01:14, 378.63it/s]"
     ]
    },
    {
     "name": "stdout",
     "output_type": "stream",
     "text": [
      "Sigma:  tensor([[0.7643, 0.0967],\n",
      "        [0.0967, 1.2666]], grad_fn=<MmBackward0>)\n",
      "obj:  tensor(19.7748, grad_fn=<AddBackward0>)\n",
      "mle loss:  tensor(19.7567, grad_fn=<AddBackward0>)\n",
      "h_val:  tensor(0.0094, grad_fn=<AddBackward0>)\n"
     ]
    },
    {
     "name": "stderr",
     "output_type": "stream",
     "text": [
      "  3%|▎         | 771/29000 [00:02<01:11, 393.62it/s]"
     ]
    },
    {
     "name": "stdout",
     "output_type": "stream",
     "text": [
      "Sigma:  tensor([[0.7293, 0.1083],\n",
      "        [0.1083, 1.3129]], grad_fn=<MmBackward0>)\n",
      "obj:  tensor(18.1364, grad_fn=<AddBackward0>)\n",
      "mle loss:  tensor(18.1131, grad_fn=<AddBackward0>)\n",
      "h_val:  tensor(0.0133, grad_fn=<AddBackward0>)\n"
     ]
    },
    {
     "name": "stderr",
     "output_type": "stream",
     "text": [
      "  3%|▎         | 851/29000 [00:02<01:16, 366.98it/s]"
     ]
    },
    {
     "name": "stdout",
     "output_type": "stream",
     "text": [
      "Sigma:  tensor([[0.6964, 0.1190],\n",
      "        [0.1190, 1.3591]], grad_fn=<MmBackward0>)\n",
      "obj:  tensor(16.6311, grad_fn=<AddBackward0>)\n",
      "mle loss:  tensor(16.6018, grad_fn=<AddBackward0>)\n",
      "h_val:  tensor(0.0179, grad_fn=<AddBackward0>)\n"
     ]
    },
    {
     "name": "stderr",
     "output_type": "stream",
     "text": [
      "  3%|▎         | 963/29000 [00:02<01:16, 365.33it/s]"
     ]
    },
    {
     "name": "stdout",
     "output_type": "stream",
     "text": [
      "Sigma:  tensor([[0.6654, 0.1290],\n",
      "        [0.1290, 1.4051]], grad_fn=<MmBackward0>)\n",
      "obj:  tensor(15.2574, grad_fn=<AddBackward0>)\n",
      "mle loss:  tensor(15.2216, grad_fn=<AddBackward0>)\n",
      "h_val:  tensor(0.0232, grad_fn=<AddBackward0>)\n"
     ]
    },
    {
     "name": "stderr",
     "output_type": "stream",
     "text": [
      "  4%|▎         | 1037/29000 [00:03<01:17, 362.30it/s]"
     ]
    },
    {
     "name": "stdout",
     "output_type": "stream",
     "text": [
      "Sigma:  tensor([[0.6362, 0.1384],\n",
      "        [0.1384, 1.4508]], grad_fn=<MmBackward0>)\n",
      "obj:  tensor(14.0101, grad_fn=<AddBackward0>)\n",
      "mle loss:  tensor(13.9672, grad_fn=<AddBackward0>)\n",
      "h_val:  tensor(0.0292, grad_fn=<AddBackward0>)\n"
     ]
    },
    {
     "name": "stderr",
     "output_type": "stream",
     "text": [
      "  4%|▍         | 1155/29000 [00:03<01:16, 364.14it/s]"
     ]
    },
    {
     "name": "stdout",
     "output_type": "stream",
     "text": [
      "Sigma:  tensor([[0.6087, 0.1472],\n",
      "        [0.1472, 1.4962]], grad_fn=<MmBackward0>)\n",
      "obj:  tensor(12.8806, grad_fn=<AddBackward0>)\n",
      "mle loss:  tensor(12.8300, grad_fn=<AddBackward0>)\n",
      "h_val:  tensor(0.0359, grad_fn=<AddBackward0>)\n"
     ]
    },
    {
     "name": "stderr",
     "output_type": "stream",
     "text": [
      "  4%|▍         | 1272/29000 [00:03<01:13, 377.21it/s]"
     ]
    },
    {
     "name": "stdout",
     "output_type": "stream",
     "text": [
      "Sigma:  tensor([[0.5827, 0.1557],\n",
      "        [0.1557, 1.5413]], grad_fn=<MmBackward0>)\n",
      "obj:  tensor(11.8591, grad_fn=<AddBackward0>)\n",
      "mle loss:  tensor(11.8003, grad_fn=<AddBackward0>)\n",
      "h_val:  tensor(0.0432, grad_fn=<AddBackward0>)\n"
     ]
    },
    {
     "name": "stderr",
     "output_type": "stream",
     "text": [
      "  5%|▍         | 1350/29000 [00:03<01:12, 379.40it/s]"
     ]
    },
    {
     "name": "stdout",
     "output_type": "stream",
     "text": [
      "Sigma:  tensor([[0.5582, 0.1639],\n",
      "        [0.1639, 1.5861]], grad_fn=<MmBackward0>)\n",
      "obj:  tensor(10.9356, grad_fn=<AddBackward0>)\n",
      "mle loss:  tensor(10.8678, grad_fn=<AddBackward0>)\n",
      "h_val:  tensor(0.0512, grad_fn=<AddBackward0>)\n"
     ]
    },
    {
     "name": "stderr",
     "output_type": "stream",
     "text": [
      "  5%|▌         | 1472/29000 [00:04<01:09, 395.69it/s]"
     ]
    },
    {
     "name": "stdout",
     "output_type": "stream",
     "text": [
      "Sigma:  tensor([[0.5350, 0.1717],\n",
      "        [0.1717, 1.6306]], grad_fn=<MmBackward0>)\n",
      "obj:  tensor(10.0999, grad_fn=<AddBackward0>)\n",
      "mle loss:  tensor(10.0227, grad_fn=<AddBackward0>)\n",
      "h_val:  tensor(0.0598, grad_fn=<AddBackward0>)\n"
     ]
    },
    {
     "name": "stderr",
     "output_type": "stream",
     "text": [
      "  5%|▌         | 1552/29000 [00:04<01:09, 392.38it/s]"
     ]
    },
    {
     "name": "stdout",
     "output_type": "stream",
     "text": [
      "Sigma:  tensor([[0.5130, 0.1792],\n",
      "        [0.1792, 1.6748]], grad_fn=<MmBackward0>)\n",
      "obj:  tensor(9.3427, grad_fn=<AddBackward0>)\n",
      "mle loss:  tensor(9.2554, grad_fn=<AddBackward0>)\n",
      "h_val:  tensor(0.0690, grad_fn=<AddBackward0>)\n"
     ]
    },
    {
     "name": "stderr",
     "output_type": "stream",
     "text": [
      "  6%|▌         | 1674/29000 [00:04<01:09, 395.82it/s]"
     ]
    },
    {
     "name": "stdout",
     "output_type": "stream",
     "text": [
      "Sigma:  tensor([[0.4921, 0.1863],\n",
      "        [0.1863, 1.7186]], grad_fn=<MmBackward0>)\n",
      "obj:  tensor(8.6555, grad_fn=<AddBackward0>)\n",
      "mle loss:  tensor(8.5575, grad_fn=<AddBackward0>)\n",
      "h_val:  tensor(0.0788, grad_fn=<AddBackward0>)\n"
     ]
    },
    {
     "name": "stderr",
     "output_type": "stream",
     "text": [
      "  6%|▌         | 1757/29000 [00:04<01:07, 404.03it/s]"
     ]
    },
    {
     "name": "stdout",
     "output_type": "stream",
     "text": [
      "Sigma:  tensor([[0.4722, 0.1930],\n",
      "        [0.1930, 1.7622]], grad_fn=<MmBackward0>)\n",
      "obj:  tensor(8.0305, grad_fn=<AddBackward0>)\n",
      "mle loss:  tensor(7.9212, grad_fn=<AddBackward0>)\n",
      "h_val:  tensor(0.0891, grad_fn=<AddBackward0>)\n"
     ]
    },
    {
     "name": "stderr",
     "output_type": "stream",
     "text": [
      "  6%|▋         | 1881/29000 [00:05<01:07, 401.53it/s]"
     ]
    },
    {
     "name": "stdout",
     "output_type": "stream",
     "text": [
      "Sigma:  tensor([[0.4532, 0.1992],\n",
      "        [0.1992, 1.8054]], grad_fn=<MmBackward0>)\n",
      "obj:  tensor(7.4610, grad_fn=<AddBackward0>)\n",
      "mle loss:  tensor(7.3400, grad_fn=<AddBackward0>)\n",
      "h_val:  tensor(0.1000, grad_fn=<AddBackward0>)\n"
     ]
    },
    {
     "name": "stderr",
     "output_type": "stream",
     "text": [
      "  7%|▋         | 1963/29000 [00:05<01:08, 397.21it/s]"
     ]
    },
    {
     "name": "stdout",
     "output_type": "stream",
     "text": [
      "Sigma:  tensor([[0.4351, 0.2050],\n",
      "        [0.2050, 1.8482]], grad_fn=<MmBackward0>)\n",
      "obj:  tensor(6.9410, grad_fn=<AddBackward0>)\n",
      "mle loss:  tensor(6.8078, grad_fn=<AddBackward0>)\n",
      "h_val:  tensor(0.1113, grad_fn=<AddBackward0>)\n"
     ]
    },
    {
     "name": "stderr",
     "output_type": "stream",
     "text": [
      "  7%|▋         | 2044/29000 [00:05<01:08, 395.82it/s]"
     ]
    },
    {
     "name": "stdout",
     "output_type": "stream",
     "text": [
      "Sigma:  tensor([[0.4177, 0.2104],\n",
      "        [0.2104, 1.8906]], grad_fn=<MmBackward0>)\n",
      "obj:  tensor(6.4653, grad_fn=<AddBackward0>)\n",
      "mle loss:  tensor(6.3194, grad_fn=<AddBackward0>)\n",
      "h_val:  tensor(0.1232, grad_fn=<AddBackward0>)\n"
     ]
    },
    {
     "name": "stderr",
     "output_type": "stream",
     "text": [
      "  7%|▋         | 2168/29000 [00:05<01:06, 404.03it/s]"
     ]
    },
    {
     "name": "stdout",
     "output_type": "stream",
     "text": [
      "Sigma:  tensor([[0.4010, 0.2153],\n",
      "        [0.2153, 1.9326]], grad_fn=<MmBackward0>)\n",
      "obj:  tensor(6.0293, grad_fn=<AddBackward0>)\n",
      "mle loss:  tensor(5.8703, grad_fn=<AddBackward0>)\n",
      "h_val:  tensor(0.1355, grad_fn=<AddBackward0>)\n"
     ]
    },
    {
     "name": "stderr",
     "output_type": "stream",
     "text": [
      "  8%|▊         | 2250/29000 [00:06<01:07, 396.73it/s]"
     ]
    },
    {
     "name": "stdout",
     "output_type": "stream",
     "text": [
      "Sigma:  tensor([[0.3851, 0.2198],\n",
      "        [0.2198, 1.9741]], grad_fn=<MmBackward0>)\n",
      "obj:  tensor(5.6290, grad_fn=<AddBackward0>)\n",
      "mle loss:  tensor(5.4565, grad_fn=<AddBackward0>)\n",
      "h_val:  tensor(0.1483, grad_fn=<AddBackward0>)\n"
     ]
    },
    {
     "name": "stderr",
     "output_type": "stream",
     "text": [
      "  8%|▊         | 2373/29000 [00:06<01:06, 397.48it/s]"
     ]
    },
    {
     "name": "stdout",
     "output_type": "stream",
     "text": [
      "Sigma:  tensor([[0.3698, 0.2238],\n",
      "        [0.2238, 2.0153]], grad_fn=<MmBackward0>)\n",
      "obj:  tensor(5.2607, grad_fn=<AddBackward0>)\n",
      "mle loss:  tensor(5.0743, grad_fn=<AddBackward0>)\n",
      "h_val:  tensor(0.1615, grad_fn=<AddBackward0>)\n"
     ]
    },
    {
     "name": "stderr",
     "output_type": "stream",
     "text": [
      "  8%|▊         | 2456/29000 [00:06<01:07, 391.81it/s]"
     ]
    },
    {
     "name": "stdout",
     "output_type": "stream",
     "text": [
      "Sigma:  tensor([[0.3551, 0.2275],\n",
      "        [0.2275, 2.0559]], grad_fn=<MmBackward0>)\n",
      "obj:  tensor(4.9215, grad_fn=<AddBackward0>)\n",
      "mle loss:  tensor(4.7207, grad_fn=<AddBackward0>)\n",
      "h_val:  tensor(0.1751, grad_fn=<AddBackward0>)\n"
     ]
    },
    {
     "name": "stderr",
     "output_type": "stream",
     "text": [
      "  9%|▉         | 2579/29000 [00:06<01:06, 395.21it/s]"
     ]
    },
    {
     "name": "stdout",
     "output_type": "stream",
     "text": [
      "Sigma:  tensor([[0.3410, 0.2308],\n",
      "        [0.2308, 2.0962]], grad_fn=<MmBackward0>)\n",
      "obj:  tensor(4.6084, grad_fn=<AddBackward0>)\n",
      "mle loss:  tensor(4.3929, grad_fn=<AddBackward0>)\n",
      "h_val:  tensor(0.1890, grad_fn=<AddBackward0>)\n"
     ]
    },
    {
     "name": "stderr",
     "output_type": "stream",
     "text": [
      "  9%|▉         | 2661/29000 [00:07<01:05, 400.39it/s]"
     ]
    },
    {
     "name": "stdout",
     "output_type": "stream",
     "text": [
      "Sigma:  tensor([[0.3275, 0.2338],\n",
      "        [0.2338, 2.1359]], grad_fn=<MmBackward0>)\n",
      "obj:  tensor(4.3190, grad_fn=<AddBackward0>)\n",
      "mle loss:  tensor(4.0885, grad_fn=<AddBackward0>)\n",
      "h_val:  tensor(0.2034, grad_fn=<AddBackward0>)\n"
     ]
    },
    {
     "name": "stderr",
     "output_type": "stream",
     "text": [
      "  9%|▉         | 2744/29000 [00:07<01:05, 399.79it/s]"
     ]
    },
    {
     "name": "stdout",
     "output_type": "stream",
     "text": [
      "Sigma:  tensor([[0.3146, 0.2364],\n",
      "        [0.2364, 2.1752]], grad_fn=<MmBackward0>)\n",
      "obj:  tensor(4.0512, grad_fn=<AddBackward0>)\n",
      "mle loss:  tensor(3.8054, grad_fn=<AddBackward0>)\n",
      "h_val:  tensor(0.2181, grad_fn=<AddBackward0>)\n"
     ]
    },
    {
     "name": "stderr",
     "output_type": "stream",
     "text": [
      " 10%|▉         | 2871/29000 [00:07<01:04, 402.88it/s]"
     ]
    },
    {
     "name": "stdout",
     "output_type": "stream",
     "text": [
      "Sigma:  tensor([[0.3021, 0.2387],\n",
      "        [0.2387, 2.2140]], grad_fn=<MmBackward0>)\n",
      "obj:  tensor(3.8030, grad_fn=<AddBackward0>)\n",
      "mle loss:  tensor(3.5415, grad_fn=<AddBackward0>)\n",
      "h_val:  tensor(0.2331, grad_fn=<AddBackward0>)\n"
     ]
    },
    {
     "name": "stderr",
     "output_type": "stream",
     "text": [
      " 10%|█         | 2953/29000 [00:07<01:05, 395.12it/s]"
     ]
    },
    {
     "name": "stdout",
     "output_type": "stream",
     "text": [
      "Sigma:  tensor([[0.2902, 0.2407],\n",
      "        [0.2407, 2.2523]], grad_fn=<MmBackward0>)\n",
      "obj:  tensor(3.5727, grad_fn=<AddBackward0>)\n",
      "mle loss:  tensor(3.2953, grad_fn=<AddBackward0>)\n",
      "h_val:  tensor(0.2483, grad_fn=<AddBackward0>)\n"
     ]
    },
    {
     "name": "stderr",
     "output_type": "stream",
     "text": [
      " 11%|█         | 3074/29000 [00:08<01:05, 397.21it/s]"
     ]
    },
    {
     "name": "stdout",
     "output_type": "stream",
     "text": [
      "Sigma:  tensor([[0.2788, 0.2425],\n",
      "        [0.2425, 2.2901]], grad_fn=<MmBackward0>)\n",
      "obj:  tensor(3.3587, grad_fn=<AddBackward0>)\n",
      "mle loss:  tensor(3.0651, grad_fn=<AddBackward0>)\n",
      "h_val:  tensor(0.2639, grad_fn=<AddBackward0>)\n"
     ]
    },
    {
     "name": "stderr",
     "output_type": "stream",
     "text": [
      " 11%|█         | 3156/29000 [00:08<01:04, 401.02it/s]"
     ]
    },
    {
     "name": "stdout",
     "output_type": "stream",
     "text": [
      "Sigma:  tensor([[0.2678, 0.2440],\n",
      "        [0.2440, 2.3274]], grad_fn=<MmBackward0>)\n",
      "obj:  tensor(3.1596, grad_fn=<AddBackward0>)\n",
      "mle loss:  tensor(2.8496, grad_fn=<AddBackward0>)\n",
      "h_val:  tensor(0.2797, grad_fn=<AddBackward0>)\n"
     ]
    },
    {
     "name": "stderr",
     "output_type": "stream",
     "text": [
      " 11%|█▏        | 3282/29000 [00:08<01:02, 409.17it/s]"
     ]
    },
    {
     "name": "stdout",
     "output_type": "stream",
     "text": [
      "Sigma:  tensor([[0.2572, 0.2452],\n",
      "        [0.2452, 2.3642]], grad_fn=<MmBackward0>)\n",
      "obj:  tensor(2.9741, grad_fn=<AddBackward0>)\n",
      "mle loss:  tensor(2.6475, grad_fn=<AddBackward0>)\n",
      "h_val:  tensor(0.2957, grad_fn=<AddBackward0>)\n"
     ]
    },
    {
     "name": "stderr",
     "output_type": "stream",
     "text": [
      " 12%|█▏        | 3365/29000 [00:08<01:03, 401.02it/s]"
     ]
    },
    {
     "name": "stdout",
     "output_type": "stream",
     "text": [
      "Sigma:  tensor([[0.2471, 0.2462],\n",
      "        [0.2462, 2.4004]], grad_fn=<MmBackward0>)\n",
      "obj:  tensor(2.8011, grad_fn=<AddBackward0>)\n",
      "mle loss:  tensor(2.4578, grad_fn=<AddBackward0>)\n",
      "h_val:  tensor(0.3118, grad_fn=<AddBackward0>)\n"
     ]
    },
    {
     "name": "stderr",
     "output_type": "stream",
     "text": [
      " 12%|█▏        | 3446/29000 [00:09<01:05, 388.25it/s]"
     ]
    },
    {
     "name": "stdout",
     "output_type": "stream",
     "text": [
      "Sigma:  tensor([[0.2374, 0.2470],\n",
      "        [0.2470, 2.4361]], grad_fn=<MmBackward0>)\n",
      "obj:  tensor(2.6396, grad_fn=<AddBackward0>)\n",
      "mle loss:  tensor(2.2794, grad_fn=<AddBackward0>)\n",
      "h_val:  tensor(0.3280, grad_fn=<AddBackward0>)\n"
     ]
    },
    {
     "name": "stderr",
     "output_type": "stream",
     "text": [
      " 12%|█▏        | 3570/29000 [00:09<01:03, 401.90it/s]"
     ]
    },
    {
     "name": "stdout",
     "output_type": "stream",
     "text": [
      "Sigma:  tensor([[0.2281, 0.2477],\n",
      "        [0.2477, 2.4713]], grad_fn=<MmBackward0>)\n",
      "obj:  tensor(2.4885, grad_fn=<AddBackward0>)\n",
      "mle loss:  tensor(2.1114, grad_fn=<AddBackward0>)\n",
      "h_val:  tensor(0.3443, grad_fn=<AddBackward0>)\n"
     ]
    },
    {
     "name": "stderr",
     "output_type": "stream",
     "text": [
      " 13%|█▎        | 3654/29000 [00:09<01:03, 399.80it/s]"
     ]
    },
    {
     "name": "stdout",
     "output_type": "stream",
     "text": [
      "Sigma:  tensor([[0.2191, 0.2481],\n",
      "        [0.2481, 2.5059]], grad_fn=<MmBackward0>)\n",
      "obj:  tensor(2.3469, grad_fn=<AddBackward0>)\n",
      "mle loss:  tensor(1.9531, grad_fn=<AddBackward0>)\n",
      "h_val:  tensor(0.3606, grad_fn=<AddBackward0>)\n"
     ]
    },
    {
     "name": "stderr",
     "output_type": "stream",
     "text": [
      " 13%|█▎        | 3768/29000 [00:10<01:19, 316.68it/s]"
     ]
    },
    {
     "name": "stdout",
     "output_type": "stream",
     "text": [
      "Sigma:  tensor([[0.2106, 0.2484],\n",
      "        [0.2484, 2.5399]], grad_fn=<MmBackward0>)\n",
      "obj:  tensor(2.2141, grad_fn=<AddBackward0>)\n",
      "mle loss:  tensor(1.8035, grad_fn=<AddBackward0>)\n",
      "h_val:  tensor(0.3768, grad_fn=<AddBackward0>)\n"
     ]
    },
    {
     "name": "stderr",
     "output_type": "stream",
     "text": [
      " 13%|█▎        | 3851/29000 [00:10<01:10, 359.27it/s]"
     ]
    },
    {
     "name": "stdout",
     "output_type": "stream",
     "text": [
      "Sigma:  tensor([[0.2023, 0.2485],\n",
      "        [0.2485, 2.5733]], grad_fn=<MmBackward0>)\n",
      "obj:  tensor(2.0893, grad_fn=<AddBackward0>)\n",
      "mle loss:  tensor(1.6620, grad_fn=<AddBackward0>)\n",
      "h_val:  tensor(0.3928, grad_fn=<AddBackward0>)\n"
     ]
    },
    {
     "name": "stderr",
     "output_type": "stream",
     "text": [
      " 14%|█▎        | 3972/29000 [00:10<01:04, 387.76it/s]"
     ]
    },
    {
     "name": "stdout",
     "output_type": "stream",
     "text": [
      "Sigma:  tensor([[0.1944, 0.2485],\n",
      "        [0.2485, 2.6062]], grad_fn=<MmBackward0>)\n",
      "obj:  tensor(1.9716, grad_fn=<AddBackward0>)\n",
      "mle loss:  tensor(1.5281, grad_fn=<AddBackward0>)\n",
      "h_val:  tensor(0.4085, grad_fn=<AddBackward0>)\n"
     ]
    },
    {
     "name": "stderr",
     "output_type": "stream",
     "text": [
      " 14%|█▍        | 4052/29000 [00:10<01:04, 385.51it/s]"
     ]
    },
    {
     "name": "stdout",
     "output_type": "stream",
     "text": [
      "Sigma:  tensor([[0.1868, 0.2484],\n",
      "        [0.2484, 2.6384]], grad_fn=<MmBackward0>)\n",
      "obj:  tensor(1.8606, grad_fn=<AddBackward0>)\n",
      "mle loss:  tensor(1.4010, grad_fn=<AddBackward0>)\n",
      "h_val:  tensor(0.4240, grad_fn=<AddBackward0>)\n"
     ]
    },
    {
     "name": "stderr",
     "output_type": "stream",
     "text": [
      " 14%|█▍        | 4173/29000 [00:11<01:03, 390.74it/s]"
     ]
    },
    {
     "name": "stdout",
     "output_type": "stream",
     "text": [
      "Sigma:  tensor([[0.1795, 0.2482],\n",
      "        [0.2482, 2.6700]], grad_fn=<MmBackward0>)\n",
      "obj:  tensor(1.7554, grad_fn=<AddBackward0>)\n",
      "mle loss:  tensor(1.2803, grad_fn=<AddBackward0>)\n",
      "h_val:  tensor(0.4390, grad_fn=<AddBackward0>)\n"
     ]
    },
    {
     "name": "stderr",
     "output_type": "stream",
     "text": [
      " 15%|█▍        | 4256/29000 [00:11<01:01, 400.57it/s]"
     ]
    },
    {
     "name": "stdout",
     "output_type": "stream",
     "text": [
      "Sigma:  tensor([[0.1725, 0.2478],\n",
      "        [0.2478, 2.7010]], grad_fn=<MmBackward0>)\n",
      "obj:  tensor(1.6556, grad_fn=<AddBackward0>)\n",
      "mle loss:  tensor(1.1654, grad_fn=<AddBackward0>)\n",
      "h_val:  tensor(0.4535, grad_fn=<AddBackward0>)\n"
     ]
    },
    {
     "name": "stderr",
     "output_type": "stream",
     "text": [
      " 15%|█▍        | 4338/29000 [00:11<01:02, 391.78it/s]"
     ]
    },
    {
     "name": "stdout",
     "output_type": "stream",
     "text": [
      "Sigma:  tensor([[0.1658, 0.2474],\n",
      "        [0.2474, 2.7313]], grad_fn=<MmBackward0>)\n",
      "obj:  tensor(1.5605, grad_fn=<AddBackward0>)\n",
      "mle loss:  tensor(1.0558, grad_fn=<AddBackward0>)\n",
      "h_val:  tensor(0.4674, grad_fn=<AddBackward0>)\n"
     ]
    },
    {
     "name": "stderr",
     "output_type": "stream",
     "text": [
      " 15%|█▌        | 4462/29000 [00:11<01:02, 391.74it/s]"
     ]
    },
    {
     "name": "stdout",
     "output_type": "stream",
     "text": [
      "Sigma:  tensor([[0.1594, 0.2469],\n",
      "        [0.2469, 2.7609]], grad_fn=<MmBackward0>)\n",
      "obj:  tensor(1.4696, grad_fn=<AddBackward0>)\n",
      "mle loss:  tensor(0.9512, grad_fn=<AddBackward0>)\n",
      "h_val:  tensor(0.4805, grad_fn=<AddBackward0>)\n"
     ]
    },
    {
     "name": "stderr",
     "output_type": "stream",
     "text": [
      " 16%|█▌        | 4543/29000 [00:12<01:01, 396.07it/s]"
     ]
    },
    {
     "name": "stdout",
     "output_type": "stream",
     "text": [
      "Sigma:  tensor([[0.1532, 0.2463],\n",
      "        [0.2463, 2.7899]], grad_fn=<MmBackward0>)\n",
      "obj:  tensor(1.3823, grad_fn=<AddBackward0>)\n",
      "mle loss:  tensor(0.8512, grad_fn=<AddBackward0>)\n",
      "h_val:  tensor(0.4927, grad_fn=<AddBackward0>)\n"
     ]
    },
    {
     "name": "stderr",
     "output_type": "stream",
     "text": [
      " 16%|█▌        | 4667/29000 [00:12<01:01, 397.24it/s]"
     ]
    },
    {
     "name": "stdout",
     "output_type": "stream",
     "text": [
      "Sigma:  tensor([[0.1473, 0.2456],\n",
      "        [0.2456, 2.8181]], grad_fn=<MmBackward0>)\n",
      "obj:  tensor(1.2983, grad_fn=<AddBackward0>)\n",
      "mle loss:  tensor(0.7553, grad_fn=<AddBackward0>)\n",
      "h_val:  tensor(0.5039, grad_fn=<AddBackward0>)\n"
     ]
    },
    {
     "name": "stderr",
     "output_type": "stream",
     "text": [
      " 16%|█▋        | 4748/29000 [00:12<01:01, 391.29it/s]"
     ]
    },
    {
     "name": "stdout",
     "output_type": "stream",
     "text": [
      "Sigma:  tensor([[0.1415, 0.2449],\n",
      "        [0.2449, 2.8456]], grad_fn=<MmBackward0>)\n",
      "obj:  tensor(1.2169, grad_fn=<AddBackward0>)\n",
      "mle loss:  tensor(0.6631, grad_fn=<AddBackward0>)\n",
      "h_val:  tensor(0.5142, grad_fn=<AddBackward0>)\n"
     ]
    },
    {
     "name": "stderr",
     "output_type": "stream",
     "text": [
      " 17%|█▋        | 4871/29000 [00:12<01:00, 397.49it/s]"
     ]
    },
    {
     "name": "stdout",
     "output_type": "stream",
     "text": [
      "Sigma:  tensor([[0.1361, 0.2441],\n",
      "        [0.2441, 2.8722]], grad_fn=<MmBackward0>)\n",
      "obj:  tensor(1.1379, grad_fn=<AddBackward0>)\n",
      "mle loss:  tensor(0.5744, grad_fn=<AddBackward0>)\n",
      "h_val:  tensor(0.5233, grad_fn=<AddBackward0>)\n"
     ]
    },
    {
     "name": "stderr",
     "output_type": "stream",
     "text": [
      " 17%|█▋        | 4952/29000 [00:13<01:00, 397.45it/s]"
     ]
    },
    {
     "name": "stdout",
     "output_type": "stream",
     "text": [
      "Sigma:  tensor([[0.1308, 0.2432],\n",
      "        [0.2432, 2.8981]], grad_fn=<MmBackward0>)\n",
      "obj:  tensor(1.0608, grad_fn=<AddBackward0>)\n",
      "mle loss:  tensor(0.4887, grad_fn=<AddBackward0>)\n",
      "h_val:  tensor(0.5313, grad_fn=<AddBackward0>)\n"
     ]
    },
    {
     "name": "stderr",
     "output_type": "stream",
     "text": [
      " 17%|█▋        | 5074/29000 [00:13<01:00, 395.13it/s]"
     ]
    },
    {
     "name": "stdout",
     "output_type": "stream",
     "text": [
      "Sigma:  tensor([[0.1258, 0.2423],\n",
      "        [0.2423, 2.9231]], grad_fn=<MmBackward0>)\n",
      "obj:  tensor(0.9854, grad_fn=<AddBackward0>)\n",
      "mle loss:  tensor(0.4058, grad_fn=<AddBackward0>)\n",
      "h_val:  tensor(0.5381, grad_fn=<AddBackward0>)\n"
     ]
    },
    {
     "name": "stderr",
     "output_type": "stream",
     "text": [
      " 18%|█▊        | 5156/29000 [00:13<01:00, 393.53it/s]"
     ]
    },
    {
     "name": "stdout",
     "output_type": "stream",
     "text": [
      "Sigma:  tensor([[0.1209, 0.2414],\n",
      "        [0.2414, 2.9473]], grad_fn=<MmBackward0>)\n",
      "obj:  tensor(0.9114, grad_fn=<AddBackward0>)\n",
      "mle loss:  tensor(0.3254, grad_fn=<AddBackward0>)\n",
      "h_val:  tensor(0.5439, grad_fn=<AddBackward0>)\n"
     ]
    },
    {
     "name": "stderr",
     "output_type": "stream",
     "text": [
      " 18%|█▊        | 5237/29000 [00:13<01:01, 384.08it/s]"
     ]
    },
    {
     "name": "stdout",
     "output_type": "stream",
     "text": [
      "Sigma:  tensor([[0.1162, 0.2405],\n",
      "        [0.2405, 2.9704]], grad_fn=<MmBackward0>)\n",
      "obj:  tensor(0.8387, grad_fn=<AddBackward0>)\n",
      "mle loss:  tensor(0.2472, grad_fn=<AddBackward0>)\n",
      "h_val:  tensor(0.5487, grad_fn=<AddBackward0>)\n"
     ]
    },
    {
     "name": "stderr",
     "output_type": "stream",
     "text": [
      " 18%|█▊        | 5359/29000 [00:14<01:00, 391.73it/s]"
     ]
    },
    {
     "name": "stdout",
     "output_type": "stream",
     "text": [
      "Sigma:  tensor([[0.1118, 0.2395],\n",
      "        [0.2395, 2.9926]], grad_fn=<MmBackward0>)\n",
      "obj:  tensor(0.7669, grad_fn=<AddBackward0>)\n",
      "mle loss:  tensor(0.1709, grad_fn=<AddBackward0>)\n",
      "h_val:  tensor(0.5525, grad_fn=<AddBackward0>)\n"
     ]
    },
    {
     "name": "stderr",
     "output_type": "stream",
     "text": [
      " 19%|█▉        | 5479/29000 [00:14<00:59, 392.75it/s]"
     ]
    },
    {
     "name": "stdout",
     "output_type": "stream",
     "text": [
      "Sigma:  tensor([[0.1075, 0.2384],\n",
      "        [0.2384, 3.0138]], grad_fn=<MmBackward0>)\n",
      "obj:  tensor(0.6961, grad_fn=<AddBackward0>)\n",
      "mle loss:  tensor(0.0964, grad_fn=<AddBackward0>)\n",
      "h_val:  tensor(0.5556, grad_fn=<AddBackward0>)\n"
     ]
    },
    {
     "name": "stderr",
     "output_type": "stream",
     "text": [
      " 19%|█▉        | 5563/29000 [00:14<00:57, 404.26it/s]"
     ]
    },
    {
     "name": "stdout",
     "output_type": "stream",
     "text": [
      "Sigma:  tensor([[0.1033, 0.2374],\n",
      "        [0.2374, 3.0337]], grad_fn=<MmBackward0>)\n",
      "obj:  tensor(0.6261, grad_fn=<AddBackward0>)\n",
      "mle loss:  tensor(0.0232, grad_fn=<AddBackward0>)\n",
      "h_val:  tensor(0.5581, grad_fn=<AddBackward0>)\n"
     ]
    },
    {
     "name": "stderr",
     "output_type": "stream",
     "text": [
      " 19%|█▉        | 5645/29000 [00:14<00:58, 400.95it/s]"
     ]
    },
    {
     "name": "stdout",
     "output_type": "stream",
     "text": [
      "Sigma:  tensor([[0.0994, 0.2363],\n",
      "        [0.2363, 3.0525]], grad_fn=<MmBackward0>)\n",
      "obj:  tensor(0.5569, grad_fn=<AddBackward0>)\n",
      "mle loss:  tensor(-0.0486, grad_fn=<AddBackward0>)\n",
      "h_val:  tensor(0.5600, grad_fn=<AddBackward0>)\n"
     ]
    },
    {
     "name": "stderr",
     "output_type": "stream",
     "text": [
      " 20%|█▉        | 5771/29000 [00:15<00:58, 399.52it/s]"
     ]
    },
    {
     "name": "stdout",
     "output_type": "stream",
     "text": [
      "Sigma:  tensor([[0.0956, 0.2353],\n",
      "        [0.2353, 3.0700]], grad_fn=<MmBackward0>)\n",
      "obj:  tensor(0.4884, grad_fn=<AddBackward0>)\n",
      "mle loss:  tensor(-0.1195, grad_fn=<AddBackward0>)\n",
      "h_val:  tensor(0.5617, grad_fn=<AddBackward0>)\n"
     ]
    },
    {
     "name": "stderr",
     "output_type": "stream",
     "text": [
      " 20%|██        | 5850/29000 [00:15<01:00, 385.68it/s]"
     ]
    },
    {
     "name": "stdout",
     "output_type": "stream",
     "text": [
      "Sigma:  tensor([[0.0919, 0.2341],\n",
      "        [0.2341, 3.0861]], grad_fn=<MmBackward0>)\n",
      "obj:  tensor(0.4207, grad_fn=<AddBackward0>)\n",
      "mle loss:  tensor(-0.1896, grad_fn=<AddBackward0>)\n",
      "h_val:  tensor(0.5632, grad_fn=<AddBackward0>)\n"
     ]
    },
    {
     "name": "stderr",
     "output_type": "stream",
     "text": [
      " 21%|██        | 5972/29000 [00:15<00:57, 397.58it/s]"
     ]
    },
    {
     "name": "stdout",
     "output_type": "stream",
     "text": [
      "Sigma:  tensor([[0.0884, 0.2330],\n",
      "        [0.2330, 3.1007]], grad_fn=<MmBackward0>)\n",
      "obj:  tensor(0.3535, grad_fn=<AddBackward0>)\n",
      "mle loss:  tensor(-0.2589, grad_fn=<AddBackward0>)\n",
      "h_val:  tensor(0.5646, grad_fn=<AddBackward0>)\n"
     ]
    },
    {
     "name": "stderr",
     "output_type": "stream",
     "text": [
      " 21%|██        | 6052/29000 [00:15<00:58, 393.62it/s]"
     ]
    },
    {
     "name": "stdout",
     "output_type": "stream",
     "text": [
      "Sigma:  tensor([[0.0850, 0.2319],\n",
      "        [0.2319, 3.1138]], grad_fn=<MmBackward0>)\n",
      "obj:  tensor(0.2869, grad_fn=<AddBackward0>)\n",
      "mle loss:  tensor(-0.3279, grad_fn=<AddBackward0>)\n",
      "h_val:  tensor(0.5662, grad_fn=<AddBackward0>)\n"
     ]
    },
    {
     "name": "stderr",
     "output_type": "stream",
     "text": [
      " 21%|██▏       | 6166/29000 [00:16<01:05, 348.76it/s]"
     ]
    },
    {
     "name": "stdout",
     "output_type": "stream",
     "text": [
      "Sigma:  tensor([[0.0817, 0.2307],\n",
      "        [0.2307, 3.1251]], grad_fn=<MmBackward0>)\n",
      "obj:  tensor(0.2209, grad_fn=<AddBackward0>)\n",
      "mle loss:  tensor(-0.3964, grad_fn=<AddBackward0>)\n",
      "h_val:  tensor(0.5678, grad_fn=<AddBackward0>)\n"
     ]
    },
    {
     "name": "stderr",
     "output_type": "stream",
     "text": [
      " 22%|██▏       | 6248/29000 [00:16<01:00, 376.86it/s]"
     ]
    },
    {
     "name": "stdout",
     "output_type": "stream",
     "text": [
      "Sigma:  tensor([[0.0786, 0.2295],\n",
      "        [0.2295, 3.1346]], grad_fn=<MmBackward0>)\n",
      "obj:  tensor(0.1553, grad_fn=<AddBackward0>)\n",
      "mle loss:  tensor(-0.4648, grad_fn=<AddBackward0>)\n",
      "h_val:  tensor(0.5698, grad_fn=<AddBackward0>)\n"
     ]
    },
    {
     "name": "stderr",
     "output_type": "stream",
     "text": [
      " 22%|██▏       | 6364/29000 [00:16<01:01, 368.89it/s]"
     ]
    },
    {
     "name": "stdout",
     "output_type": "stream",
     "text": [
      "Sigma:  tensor([[0.0756, 0.2283],\n",
      "        [0.2283, 3.1421]], grad_fn=<MmBackward0>)\n",
      "obj:  tensor(0.0902, grad_fn=<AddBackward0>)\n",
      "mle loss:  tensor(-0.5331, grad_fn=<AddBackward0>)\n",
      "h_val:  tensor(0.5720, grad_fn=<AddBackward0>)\n"
     ]
    },
    {
     "name": "stderr",
     "output_type": "stream",
     "text": [
      " 22%|██▏       | 6441/29000 [00:16<01:00, 369.85it/s]"
     ]
    },
    {
     "name": "stdout",
     "output_type": "stream",
     "text": [
      "Sigma:  tensor([[0.0727, 0.2270],\n",
      "        [0.2270, 3.1476]], grad_fn=<MmBackward0>)\n",
      "obj:  tensor(0.0253, grad_fn=<AddBackward0>)\n",
      "mle loss:  tensor(-0.6014, grad_fn=<AddBackward0>)\n",
      "h_val:  tensor(0.5745, grad_fn=<AddBackward0>)\n"
     ]
    },
    {
     "name": "stderr",
     "output_type": "stream",
     "text": [
      " 23%|██▎       | 6564/29000 [00:17<00:58, 386.50it/s]"
     ]
    },
    {
     "name": "stdout",
     "output_type": "stream",
     "text": [
      "Sigma:  tensor([[0.0700, 0.2258],\n",
      "        [0.2258, 3.1510]], grad_fn=<MmBackward0>)\n",
      "obj:  tensor(-0.0393, grad_fn=<AddBackward0>)\n",
      "mle loss:  tensor(-0.6698, grad_fn=<AddBackward0>)\n",
      "h_val:  tensor(0.5773, grad_fn=<AddBackward0>)\n"
     ]
    },
    {
     "name": "stderr",
     "output_type": "stream",
     "text": [
      " 23%|██▎       | 6648/29000 [00:17<00:56, 398.27it/s]"
     ]
    },
    {
     "name": "stdout",
     "output_type": "stream",
     "text": [
      "Sigma:  tensor([[0.0673, 0.2245],\n",
      "        [0.2245, 3.1521]], grad_fn=<MmBackward0>)\n",
      "obj:  tensor(-0.1037, grad_fn=<AddBackward0>)\n",
      "mle loss:  tensor(-0.7383, grad_fn=<AddBackward0>)\n",
      "h_val:  tensor(0.5804, grad_fn=<AddBackward0>)\n"
     ]
    },
    {
     "name": "stderr",
     "output_type": "stream",
     "text": [
      " 23%|██▎       | 6765/29000 [00:17<01:00, 367.84it/s]"
     ]
    },
    {
     "name": "stdout",
     "output_type": "stream",
     "text": [
      "Sigma:  tensor([[0.0647, 0.2232],\n",
      "        [0.2232, 3.1508]], grad_fn=<MmBackward0>)\n",
      "obj:  tensor(-0.1681, grad_fn=<AddBackward0>)\n",
      "mle loss:  tensor(-0.8071, grad_fn=<AddBackward0>)\n",
      "h_val:  tensor(0.5838, grad_fn=<AddBackward0>)\n"
     ]
    },
    {
     "name": "stderr",
     "output_type": "stream",
     "text": [
      " 24%|██▎       | 6851/29000 [00:18<00:55, 397.09it/s]"
     ]
    },
    {
     "name": "stdout",
     "output_type": "stream",
     "text": [
      "Sigma:  tensor([[0.0623, 0.2218],\n",
      "        [0.2218, 3.1471]], grad_fn=<MmBackward0>)\n",
      "obj:  tensor(-0.2324, grad_fn=<AddBackward0>)\n",
      "mle loss:  tensor(-0.8763, grad_fn=<AddBackward0>)\n",
      "h_val:  tensor(0.5876, grad_fn=<AddBackward0>)\n"
     ]
    },
    {
     "name": "stderr",
     "output_type": "stream",
     "text": [
      " 24%|██▍       | 6984/29000 [00:18<00:51, 424.67it/s]"
     ]
    },
    {
     "name": "stdout",
     "output_type": "stream",
     "text": [
      "Sigma:  tensor([[0.0599, 0.2204],\n",
      "        [0.2204, 3.1408]], grad_fn=<MmBackward0>)\n",
      "obj:  tensor(-0.2969, grad_fn=<AddBackward0>)\n",
      "mle loss:  tensor(-0.9459, grad_fn=<AddBackward0>)\n",
      "h_val:  tensor(0.5916, grad_fn=<AddBackward0>)\n"
     ]
    },
    {
     "name": "stderr",
     "output_type": "stream",
     "text": [
      " 25%|██▍       | 7156/29000 [00:18<00:58, 371.29it/s]"
     ]
    },
    {
     "name": "stdout",
     "output_type": "stream",
     "text": [
      "Sigma:  tensor([[0.0558, 0.2131],\n",
      "        [0.2131, 3.0523]], grad_fn=<MmBackward0>)\n",
      "obj:  tensor(0.4378, grad_fn=<AddBackward0>)\n",
      "mle loss:  tensor(-0.9422, grad_fn=<AddBackward0>)\n",
      "h_val:  tensor(0.5263, grad_fn=<AddBackward0>)\n"
     ]
    },
    {
     "name": "stderr",
     "output_type": "stream",
     "text": [
      " 25%|██▌       | 7290/29000 [00:19<00:52, 417.39it/s]"
     ]
    },
    {
     "name": "stdout",
     "output_type": "stream",
     "text": [
      "Sigma:  tensor([[0.0538, 0.2059],\n",
      "        [0.2059, 2.9589]], grad_fn=<MmBackward0>)\n",
      "obj:  tensor(0.3818, grad_fn=<AddBackward0>)\n",
      "mle loss:  tensor(-0.8206, grad_fn=<AddBackward0>)\n",
      "h_val:  tensor(0.4583, grad_fn=<AddBackward0>)\n"
     ]
    },
    {
     "name": "stderr",
     "output_type": "stream",
     "text": [
      " 25%|██▌       | 7377/29000 [00:19<00:52, 412.08it/s]"
     ]
    },
    {
     "name": "stdout",
     "output_type": "stream",
     "text": [
      "Sigma:  tensor([[0.0519, 0.1992],\n",
      "        [0.1992, 2.8781]], grad_fn=<MmBackward0>)\n",
      "obj:  tensor(0.3401, grad_fn=<AddBackward0>)\n",
      "mle loss:  tensor(-0.6682, grad_fn=<AddBackward0>)\n",
      "h_val:  tensor(0.4016, grad_fn=<AddBackward0>)\n"
     ]
    },
    {
     "name": "stderr",
     "output_type": "stream",
     "text": [
      " 26%|██▌       | 7463/29000 [00:19<00:51, 418.08it/s]"
     ]
    },
    {
     "name": "stdout",
     "output_type": "stream",
     "text": [
      "Sigma:  tensor([[0.0501, 0.1938],\n",
      "        [0.1938, 2.8264]], grad_fn=<MmBackward0>)\n",
      "obj:  tensor(0.3110, grad_fn=<AddBackward0>)\n",
      "mle loss:  tensor(-0.5035, grad_fn=<AddBackward0>)\n",
      "h_val:  tensor(0.3561, grad_fn=<AddBackward0>)\n"
     ]
    },
    {
     "name": "stderr",
     "output_type": "stream",
     "text": [
      " 26%|██▌       | 7550/29000 [00:19<00:50, 425.63it/s]"
     ]
    },
    {
     "name": "stdout",
     "output_type": "stream",
     "text": [
      "Sigma:  tensor([[0.0484, 0.1901],\n",
      "        [0.1901, 2.8187]], grad_fn=<MmBackward0>)\n",
      "obj:  tensor(0.2909, grad_fn=<AddBackward0>)\n",
      "mle loss:  tensor(-0.3514, grad_fn=<AddBackward0>)\n",
      "h_val:  tensor(0.3209, grad_fn=<AddBackward0>)\n"
     ]
    },
    {
     "name": "stderr",
     "output_type": "stream",
     "text": [
      " 26%|██▋       | 7682/29000 [00:20<00:49, 428.87it/s]"
     ]
    },
    {
     "name": "stdout",
     "output_type": "stream",
     "text": [
      "Sigma:  tensor([[0.0467, 0.1879],\n",
      "        [0.1879, 2.8607]], grad_fn=<MmBackward0>)\n",
      "obj:  tensor(0.2763, grad_fn=<AddBackward0>)\n",
      "mle loss:  tensor(-0.2312, grad_fn=<AddBackward0>)\n",
      "h_val:  tensor(0.2942, grad_fn=<AddBackward0>)\n"
     ]
    },
    {
     "name": "stderr",
     "output_type": "stream",
     "text": [
      " 27%|██▋       | 7769/29000 [00:20<00:49, 429.27it/s]"
     ]
    },
    {
     "name": "stdout",
     "output_type": "stream",
     "text": [
      "Sigma:  tensor([[0.0451, 0.1868],\n",
      "        [0.1868, 2.9440]], grad_fn=<MmBackward0>)\n",
      "obj:  tensor(0.2648, grad_fn=<AddBackward0>)\n",
      "mle loss:  tensor(-0.1467, grad_fn=<AddBackward0>)\n",
      "h_val:  tensor(0.2743, grad_fn=<AddBackward0>)\n"
     ]
    },
    {
     "name": "stderr",
     "output_type": "stream",
     "text": [
      " 27%|██▋       | 7854/29000 [00:20<00:52, 406.59it/s]"
     ]
    },
    {
     "name": "stdout",
     "output_type": "stream",
     "text": [
      "Sigma:  tensor([[0.0435, 0.1859],\n",
      "        [0.1859, 3.0535]], grad_fn=<MmBackward0>)\n",
      "obj:  tensor(0.2552, grad_fn=<AddBackward0>)\n",
      "mle loss:  tensor(-0.0900, grad_fn=<AddBackward0>)\n",
      "h_val:  tensor(0.2589, grad_fn=<AddBackward0>)\n"
     ]
    },
    {
     "name": "stderr",
     "output_type": "stream",
     "text": [
      " 28%|██▊       | 7979/29000 [00:20<00:52, 403.01it/s]"
     ]
    },
    {
     "name": "stdout",
     "output_type": "stream",
     "text": [
      "Sigma:  tensor([[0.0420, 0.1849],\n",
      "        [0.1849, 3.1765]], grad_fn=<MmBackward0>)\n",
      "obj:  tensor(0.2468, grad_fn=<AddBackward0>)\n",
      "mle loss:  tensor(-0.0511, grad_fn=<AddBackward0>)\n",
      "h_val:  tensor(0.2466, grad_fn=<AddBackward0>)\n"
     ]
    },
    {
     "name": "stderr",
     "output_type": "stream",
     "text": [
      " 28%|██▊       | 8061/29000 [00:21<00:52, 398.31it/s]"
     ]
    },
    {
     "name": "stdout",
     "output_type": "stream",
     "text": [
      "Sigma:  tensor([[0.0405, 0.1833],\n",
      "        [0.1833, 3.3056]], grad_fn=<MmBackward0>)\n",
      "obj:  tensor(0.2392, grad_fn=<AddBackward0>)\n",
      "mle loss:  tensor(-0.0219, grad_fn=<AddBackward0>)\n",
      "h_val:  tensor(0.2360, grad_fn=<AddBackward0>)\n"
     ]
    },
    {
     "name": "stderr",
     "output_type": "stream",
     "text": [
      " 28%|██▊       | 8143/29000 [00:21<00:51, 401.59it/s]"
     ]
    },
    {
     "name": "stdout",
     "output_type": "stream",
     "text": [
      "Sigma:  tensor([[0.0391, 0.1813],\n",
      "        [0.1813, 3.4371]], grad_fn=<MmBackward0>)\n",
      "obj:  tensor(0.2321, grad_fn=<AddBackward0>)\n",
      "mle loss:  tensor(0.0017, grad_fn=<AddBackward0>)\n",
      "h_val:  tensor(0.2266, grad_fn=<AddBackward0>)\n"
     ]
    },
    {
     "name": "stderr",
     "output_type": "stream",
     "text": [
      " 29%|██▊       | 8271/29000 [00:21<00:50, 414.22it/s]"
     ]
    },
    {
     "name": "stdout",
     "output_type": "stream",
     "text": [
      "Sigma:  tensor([[0.0377, 0.1787],\n",
      "        [0.1787, 3.5702]], grad_fn=<MmBackward0>)\n",
      "obj:  tensor(0.2254, grad_fn=<AddBackward0>)\n",
      "mle loss:  tensor(0.0213, grad_fn=<AddBackward0>)\n",
      "h_val:  tensor(0.2179, grad_fn=<AddBackward0>)\n"
     ]
    },
    {
     "name": "stderr",
     "output_type": "stream",
     "text": [
      " 29%|██▉       | 8358/29000 [00:21<00:48, 423.27it/s]"
     ]
    },
    {
     "name": "stdout",
     "output_type": "stream",
     "text": [
      "Sigma:  tensor([[0.0364, 0.1758],\n",
      "        [0.1758, 3.7051]], grad_fn=<MmBackward0>)\n",
      "obj:  tensor(0.2190, grad_fn=<AddBackward0>)\n",
      "mle loss:  tensor(0.0372, grad_fn=<AddBackward0>)\n",
      "h_val:  tensor(0.2099, grad_fn=<AddBackward0>)\n"
     ]
    },
    {
     "name": "stderr",
     "output_type": "stream",
     "text": [
      " 29%|██▉       | 8447/29000 [00:21<00:47, 432.62it/s]"
     ]
    },
    {
     "name": "stdout",
     "output_type": "stream",
     "text": [
      "Sigma:  tensor([[0.0351, 0.1724],\n",
      "        [0.1724, 3.8419]], grad_fn=<MmBackward0>)\n",
      "obj:  tensor(0.2129, grad_fn=<AddBackward0>)\n",
      "mle loss:  tensor(0.0495, grad_fn=<AddBackward0>)\n",
      "h_val:  tensor(0.2025, grad_fn=<AddBackward0>)\n"
     ]
    },
    {
     "name": "stderr",
     "output_type": "stream",
     "text": [
      " 30%|██▉       | 8580/29000 [00:22<00:46, 435.76it/s]"
     ]
    },
    {
     "name": "stdout",
     "output_type": "stream",
     "text": [
      "Sigma:  tensor([[0.0339, 0.1688],\n",
      "        [0.1688, 3.9805]], grad_fn=<MmBackward0>)\n",
      "obj:  tensor(0.2069, grad_fn=<AddBackward0>)\n",
      "mle loss:  tensor(0.0588, grad_fn=<AddBackward0>)\n",
      "h_val:  tensor(0.1956, grad_fn=<AddBackward0>)\n"
     ]
    },
    {
     "name": "stderr",
     "output_type": "stream",
     "text": [
      " 30%|██▉       | 8668/29000 [00:22<00:47, 430.74it/s]"
     ]
    },
    {
     "name": "stdout",
     "output_type": "stream",
     "text": [
      "Sigma:  tensor([[0.0327, 0.1648],\n",
      "        [0.1648, 4.1203]], grad_fn=<MmBackward0>)\n",
      "obj:  tensor(0.2011, grad_fn=<AddBackward0>)\n",
      "mle loss:  tensor(0.0655, grad_fn=<AddBackward0>)\n",
      "h_val:  tensor(0.1891, grad_fn=<AddBackward0>)\n"
     ]
    },
    {
     "name": "stderr",
     "output_type": "stream",
     "text": [
      " 30%|███       | 8754/29000 [00:22<00:51, 392.30it/s]"
     ]
    },
    {
     "name": "stdout",
     "output_type": "stream",
     "text": [
      "Sigma:  tensor([[0.0316, 0.1604],\n",
      "        [0.1604, 4.2609]], grad_fn=<MmBackward0>)\n",
      "obj:  tensor(0.1954, grad_fn=<AddBackward0>)\n",
      "mle loss:  tensor(0.0703, grad_fn=<AddBackward0>)\n",
      "h_val:  tensor(0.1829, grad_fn=<AddBackward0>)\n"
     ]
    },
    {
     "name": "stderr",
     "output_type": "stream",
     "text": [
      " 31%|███       | 8875/29000 [00:23<00:51, 389.88it/s]"
     ]
    },
    {
     "name": "stdout",
     "output_type": "stream",
     "text": [
      "Sigma:  tensor([[0.0305, 0.1557],\n",
      "        [0.1557, 4.4020]], grad_fn=<MmBackward0>)\n",
      "obj:  tensor(0.1898, grad_fn=<AddBackward0>)\n",
      "mle loss:  tensor(0.0733, grad_fn=<AddBackward0>)\n",
      "h_val:  tensor(0.1770, grad_fn=<AddBackward0>)\n"
     ]
    },
    {
     "name": "stderr",
     "output_type": "stream",
     "text": [
      " 31%|███       | 8953/29000 [00:23<00:54, 370.22it/s]"
     ]
    },
    {
     "name": "stdout",
     "output_type": "stream",
     "text": [
      "Sigma:  tensor([[0.0295, 0.1506],\n",
      "        [0.1506, 4.5438]], grad_fn=<MmBackward0>)\n",
      "obj:  tensor(0.1843, grad_fn=<AddBackward0>)\n",
      "mle loss:  tensor(0.0745, grad_fn=<AddBackward0>)\n",
      "h_val:  tensor(0.1713, grad_fn=<AddBackward0>)\n"
     ]
    },
    {
     "name": "stderr",
     "output_type": "stream",
     "text": [
      " 31%|███▏      | 9070/29000 [00:23<00:52, 376.69it/s]"
     ]
    },
    {
     "name": "stdout",
     "output_type": "stream",
     "text": [
      "Sigma:  tensor([[0.0285, 0.1451],\n",
      "        [0.1451, 4.6866]], grad_fn=<MmBackward0>)\n",
      "obj:  tensor(0.1788, grad_fn=<AddBackward0>)\n",
      "mle loss:  tensor(0.0740, grad_fn=<AddBackward0>)\n",
      "h_val:  tensor(0.1658, grad_fn=<AddBackward0>)\n"
     ]
    },
    {
     "name": "stderr",
     "output_type": "stream",
     "text": [
      " 32%|███▏      | 9146/29000 [00:23<00:53, 368.79it/s]"
     ]
    },
    {
     "name": "stdout",
     "output_type": "stream",
     "text": [
      "Sigma:  tensor([[0.0276, 0.1393],\n",
      "        [0.1393, 4.8313]], grad_fn=<MmBackward0>)\n",
      "obj:  tensor(0.1734, grad_fn=<AddBackward0>)\n",
      "mle loss:  tensor(0.0717, grad_fn=<AddBackward0>)\n",
      "h_val:  tensor(0.1605, grad_fn=<AddBackward0>)\n"
     ]
    },
    {
     "name": "stderr",
     "output_type": "stream",
     "text": [
      " 32%|███▏      | 9258/29000 [00:24<00:54, 361.44it/s]"
     ]
    },
    {
     "name": "stdout",
     "output_type": "stream",
     "text": [
      "Sigma:  tensor([[0.0267, 0.1334],\n",
      "        [0.1334, 4.9785]], grad_fn=<MmBackward0>)\n",
      "obj:  tensor(0.1680, grad_fn=<AddBackward0>)\n",
      "mle loss:  tensor(0.0679, grad_fn=<AddBackward0>)\n",
      "h_val:  tensor(0.1554, grad_fn=<AddBackward0>)\n"
     ]
    },
    {
     "name": "stderr",
     "output_type": "stream",
     "text": [
      " 32%|███▏      | 9374/29000 [00:24<00:52, 376.71it/s]"
     ]
    },
    {
     "name": "stdout",
     "output_type": "stream",
     "text": [
      "Sigma:  tensor([[0.0258, 0.1273],\n",
      "        [0.1273, 5.1292]], grad_fn=<MmBackward0>)\n",
      "obj:  tensor(0.1627, grad_fn=<AddBackward0>)\n",
      "mle loss:  tensor(0.0626, grad_fn=<AddBackward0>)\n",
      "h_val:  tensor(0.1506, grad_fn=<AddBackward0>)\n"
     ]
    },
    {
     "name": "stderr",
     "output_type": "stream",
     "text": [
      " 33%|███▎      | 9452/29000 [00:24<00:51, 377.89it/s]"
     ]
    },
    {
     "name": "stdout",
     "output_type": "stream",
     "text": [
      "Sigma:  tensor([[0.0250, 0.1213],\n",
      "        [0.1213, 5.2840]], grad_fn=<MmBackward0>)\n",
      "obj:  tensor(0.1574, grad_fn=<AddBackward0>)\n",
      "mle loss:  tensor(0.0562, grad_fn=<AddBackward0>)\n",
      "h_val:  tensor(0.1459, grad_fn=<AddBackward0>)\n"
     ]
    },
    {
     "name": "stderr",
     "output_type": "stream",
     "text": [
      " 33%|███▎      | 9574/29000 [00:24<00:49, 391.29it/s]"
     ]
    },
    {
     "name": "stdout",
     "output_type": "stream",
     "text": [
      "Sigma:  tensor([[0.0242, 0.1152],\n",
      "        [0.1152, 5.4433]], grad_fn=<MmBackward0>)\n",
      "obj:  tensor(0.1523, grad_fn=<AddBackward0>)\n",
      "mle loss:  tensor(0.0489, grad_fn=<AddBackward0>)\n",
      "h_val:  tensor(0.1414, grad_fn=<AddBackward0>)\n"
     ]
    },
    {
     "name": "stderr",
     "output_type": "stream",
     "text": [
      " 33%|███▎      | 9655/29000 [00:25<00:49, 387.98it/s]"
     ]
    },
    {
     "name": "stdout",
     "output_type": "stream",
     "text": [
      "Sigma:  tensor([[0.0234, 0.1093],\n",
      "        [0.1093, 5.6074]], grad_fn=<MmBackward0>)\n",
      "obj:  tensor(0.1473, grad_fn=<AddBackward0>)\n",
      "mle loss:  tensor(0.0411, grad_fn=<AddBackward0>)\n",
      "h_val:  tensor(0.1370, grad_fn=<AddBackward0>)\n"
     ]
    },
    {
     "name": "stderr",
     "output_type": "stream",
     "text": [
      " 34%|███▎      | 9774/29000 [00:25<00:49, 384.55it/s]"
     ]
    },
    {
     "name": "stdout",
     "output_type": "stream",
     "text": [
      "Sigma:  tensor([[0.0227, 0.1036],\n",
      "        [0.1036, 5.7765]], grad_fn=<MmBackward0>)\n",
      "obj:  tensor(0.1424, grad_fn=<AddBackward0>)\n",
      "mle loss:  tensor(0.0330, grad_fn=<AddBackward0>)\n",
      "h_val:  tensor(0.1329, grad_fn=<AddBackward0>)\n"
     ]
    },
    {
     "name": "stderr",
     "output_type": "stream",
     "text": [
      " 34%|███▍      | 9854/29000 [00:25<00:49, 389.72it/s]"
     ]
    },
    {
     "name": "stdout",
     "output_type": "stream",
     "text": [
      "Sigma:  tensor([[0.0220, 0.0980],\n",
      "        [0.0980, 5.9503]], grad_fn=<MmBackward0>)\n",
      "obj:  tensor(0.1378, grad_fn=<AddBackward0>)\n",
      "mle loss:  tensor(0.0248, grad_fn=<AddBackward0>)\n",
      "h_val:  tensor(0.1289, grad_fn=<AddBackward0>)\n"
     ]
    },
    {
     "name": "stderr",
     "output_type": "stream",
     "text": [
      " 34%|███▍      | 9977/29000 [00:25<00:47, 401.51it/s]"
     ]
    },
    {
     "name": "stdout",
     "output_type": "stream",
     "text": [
      "Sigma:  tensor([[0.0213, 0.0927],\n",
      "        [0.0927, 6.1287]], grad_fn=<MmBackward0>)\n",
      "obj:  tensor(0.1333, grad_fn=<AddBackward0>)\n",
      "mle loss:  tensor(0.0167, grad_fn=<AddBackward0>)\n",
      "h_val:  tensor(0.1252, grad_fn=<AddBackward0>)\n"
     ]
    },
    {
     "name": "stderr",
     "output_type": "stream",
     "text": [
      " 35%|███▍      | 10058/29000 [00:26<00:48, 388.96it/s]"
     ]
    },
    {
     "name": "stdout",
     "output_type": "stream",
     "text": [
      "Sigma:  tensor([[0.0207, 0.0875],\n",
      "        [0.0875, 6.3112]], grad_fn=<MmBackward0>)\n",
      "obj:  tensor(0.1291, grad_fn=<AddBackward0>)\n",
      "mle loss:  tensor(0.0087, grad_fn=<AddBackward0>)\n",
      "h_val:  tensor(0.1217, grad_fn=<AddBackward0>)\n"
     ]
    },
    {
     "name": "stderr",
     "output_type": "stream",
     "text": [
      " 35%|███▌      | 10181/29000 [00:26<00:47, 400.04it/s]"
     ]
    },
    {
     "name": "stdout",
     "output_type": "stream",
     "text": [
      "Sigma:  tensor([[0.0201, 0.0826],\n",
      "        [0.0826, 6.4976]], grad_fn=<MmBackward0>)\n",
      "obj:  tensor(0.1251, grad_fn=<AddBackward0>)\n",
      "mle loss:  tensor(0.0010, grad_fn=<AddBackward0>)\n",
      "h_val:  tensor(0.1184, grad_fn=<AddBackward0>)\n"
     ]
    },
    {
     "name": "stderr",
     "output_type": "stream",
     "text": [
      " 35%|███▌      | 10263/29000 [00:26<00:46, 400.69it/s]"
     ]
    },
    {
     "name": "stdout",
     "output_type": "stream",
     "text": [
      "Sigma:  tensor([[0.0195, 0.0780],\n",
      "        [0.0780, 6.6873]], grad_fn=<MmBackward0>)\n",
      "obj:  tensor(0.1213, grad_fn=<AddBackward0>)\n",
      "mle loss:  tensor(-0.0064, grad_fn=<AddBackward0>)\n",
      "h_val:  tensor(0.1153, grad_fn=<AddBackward0>)\n"
     ]
    },
    {
     "name": "stderr",
     "output_type": "stream",
     "text": [
      " 36%|███▌      | 10345/29000 [00:26<00:46, 398.48it/s]"
     ]
    },
    {
     "name": "stdout",
     "output_type": "stream",
     "text": [
      "Sigma:  tensor([[0.0190, 0.0735],\n",
      "        [0.0735, 6.8800]], grad_fn=<MmBackward0>)\n",
      "obj:  tensor(0.1178, grad_fn=<AddBackward0>)\n",
      "mle loss:  tensor(-0.0132, grad_fn=<AddBackward0>)\n",
      "h_val:  tensor(0.1123, grad_fn=<AddBackward0>)\n"
     ]
    },
    {
     "name": "stderr",
     "output_type": "stream",
     "text": [
      " 36%|███▌      | 10472/29000 [00:27<00:46, 399.46it/s]"
     ]
    },
    {
     "name": "stdout",
     "output_type": "stream",
     "text": [
      "Sigma:  tensor([[0.0185, 0.0693],\n",
      "        [0.0693, 7.0751]], grad_fn=<MmBackward0>)\n",
      "obj:  tensor(0.1146, grad_fn=<AddBackward0>)\n",
      "mle loss:  tensor(-0.0195, grad_fn=<AddBackward0>)\n",
      "h_val:  tensor(0.1096, grad_fn=<AddBackward0>)\n"
     ]
    },
    {
     "name": "stderr",
     "output_type": "stream",
     "text": [
      " 36%|███▋      | 10553/29000 [00:27<00:46, 396.55it/s]"
     ]
    },
    {
     "name": "stdout",
     "output_type": "stream",
     "text": [
      "Sigma:  tensor([[0.0180, 0.0653],\n",
      "        [0.0653, 7.2722]], grad_fn=<MmBackward0>)\n",
      "obj:  tensor(0.1115, grad_fn=<AddBackward0>)\n",
      "mle loss:  tensor(-0.0250, grad_fn=<AddBackward0>)\n",
      "h_val:  tensor(0.1071, grad_fn=<AddBackward0>)\n"
     ]
    },
    {
     "name": "stderr",
     "output_type": "stream",
     "text": [
      " 37%|███▋      | 10676/29000 [00:27<00:45, 406.89it/s]"
     ]
    },
    {
     "name": "stdout",
     "output_type": "stream",
     "text": [
      "Sigma:  tensor([[0.0175, 0.0615],\n",
      "        [0.0615, 7.4710]], grad_fn=<MmBackward0>)\n",
      "obj:  tensor(0.1088, grad_fn=<AddBackward0>)\n",
      "mle loss:  tensor(-0.0299, grad_fn=<AddBackward0>)\n",
      "h_val:  tensor(0.1047, grad_fn=<AddBackward0>)\n"
     ]
    },
    {
     "name": "stderr",
     "output_type": "stream",
     "text": [
      " 37%|███▋      | 10758/29000 [00:27<00:45, 400.38it/s]"
     ]
    },
    {
     "name": "stdout",
     "output_type": "stream",
     "text": [
      "Sigma:  tensor([[0.0171, 0.0580],\n",
      "        [0.0580, 7.6710]], grad_fn=<MmBackward0>)\n",
      "obj:  tensor(0.1062, grad_fn=<AddBackward0>)\n",
      "mle loss:  tensor(-0.0338, grad_fn=<AddBackward0>)\n",
      "h_val:  tensor(0.1025, grad_fn=<AddBackward0>)\n"
     ]
    },
    {
     "name": "stderr",
     "output_type": "stream",
     "text": [
      " 38%|███▊      | 10883/29000 [00:28<00:44, 409.71it/s]"
     ]
    },
    {
     "name": "stdout",
     "output_type": "stream",
     "text": [
      "Sigma:  tensor([[0.0166, 0.0546],\n",
      "        [0.0546, 7.8720]], grad_fn=<MmBackward0>)\n",
      "obj:  tensor(0.1039, grad_fn=<AddBackward0>)\n",
      "mle loss:  tensor(-0.0368, grad_fn=<AddBackward0>)\n",
      "h_val:  tensor(0.1004, grad_fn=<AddBackward0>)\n"
     ]
    },
    {
     "name": "stderr",
     "output_type": "stream",
     "text": [
      " 38%|███▊      | 10965/29000 [00:28<00:44, 404.55it/s]"
     ]
    },
    {
     "name": "stdout",
     "output_type": "stream",
     "text": [
      "Sigma:  tensor([[0.0162, 0.0514],\n",
      "        [0.0514, 8.0737]], grad_fn=<MmBackward0>)\n",
      "obj:  tensor(0.1017, grad_fn=<AddBackward0>)\n",
      "mle loss:  tensor(-0.0389, grad_fn=<AddBackward0>)\n",
      "h_val:  tensor(0.0985, grad_fn=<AddBackward0>)\n"
     ]
    },
    {
     "name": "stderr",
     "output_type": "stream",
     "text": [
      " 38%|███▊      | 11047/29000 [00:28<00:44, 401.88it/s]"
     ]
    },
    {
     "name": "stdout",
     "output_type": "stream",
     "text": [
      "Sigma:  tensor([[0.0158, 0.0484],\n",
      "        [0.0484, 8.2760]], grad_fn=<MmBackward0>)\n",
      "obj:  tensor(0.0998, grad_fn=<AddBackward0>)\n",
      "mle loss:  tensor(-0.0400, grad_fn=<AddBackward0>)\n",
      "h_val:  tensor(0.0966, grad_fn=<AddBackward0>)\n"
     ]
    },
    {
     "name": "stderr",
     "output_type": "stream",
     "text": [
      " 39%|███▊      | 11173/29000 [00:28<00:43, 408.26it/s]"
     ]
    },
    {
     "name": "stdout",
     "output_type": "stream",
     "text": [
      "Sigma:  tensor([[0.0155, 0.0456],\n",
      "        [0.0456, 8.4787]], grad_fn=<MmBackward0>)\n",
      "obj:  tensor(0.0980, grad_fn=<AddBackward0>)\n",
      "mle loss:  tensor(-0.0400, grad_fn=<AddBackward0>)\n",
      "h_val:  tensor(0.0948, grad_fn=<AddBackward0>)\n"
     ]
    },
    {
     "name": "stderr",
     "output_type": "stream",
     "text": [
      " 39%|███▉      | 11256/29000 [00:29<00:44, 399.84it/s]"
     ]
    },
    {
     "name": "stdout",
     "output_type": "stream",
     "text": [
      "Sigma:  tensor([[0.0151, 0.0429],\n",
      "        [0.0429, 8.6819]], grad_fn=<MmBackward0>)\n",
      "obj:  tensor(0.0964, grad_fn=<AddBackward0>)\n",
      "mle loss:  tensor(-0.0391, grad_fn=<AddBackward0>)\n",
      "h_val:  tensor(0.0931, grad_fn=<AddBackward0>)\n"
     ]
    },
    {
     "name": "stderr",
     "output_type": "stream",
     "text": [
      " 39%|███▉      | 11381/29000 [00:29<00:43, 409.51it/s]"
     ]
    },
    {
     "name": "stdout",
     "output_type": "stream",
     "text": [
      "Sigma:  tensor([[0.0148, 0.0404],\n",
      "        [0.0404, 8.8854]], grad_fn=<MmBackward0>)\n",
      "obj:  tensor(0.0949, grad_fn=<AddBackward0>)\n",
      "mle loss:  tensor(-0.0372, grad_fn=<AddBackward0>)\n",
      "h_val:  tensor(0.0914, grad_fn=<AddBackward0>)\n"
     ]
    },
    {
     "name": "stderr",
     "output_type": "stream",
     "text": [
      " 40%|███▉      | 11463/29000 [00:29<00:43, 402.88it/s]"
     ]
    },
    {
     "name": "stdout",
     "output_type": "stream",
     "text": [
      "Sigma:  tensor([[0.0145, 0.0381],\n",
      "        [0.0381, 9.0893]], grad_fn=<MmBackward0>)\n",
      "obj:  tensor(0.0936, grad_fn=<AddBackward0>)\n",
      "mle loss:  tensor(-0.0344, grad_fn=<AddBackward0>)\n",
      "h_val:  tensor(0.0898, grad_fn=<AddBackward0>)\n"
     ]
    },
    {
     "name": "stderr",
     "output_type": "stream",
     "text": [
      " 40%|███▉      | 11545/29000 [00:29<00:43, 401.77it/s]"
     ]
    },
    {
     "name": "stdout",
     "output_type": "stream",
     "text": [
      "Sigma:  tensor([[0.0142, 0.0359],\n",
      "        [0.0359, 9.2936]], grad_fn=<MmBackward0>)\n",
      "obj:  tensor(0.0924, grad_fn=<AddBackward0>)\n",
      "mle loss:  tensor(-0.0307, grad_fn=<AddBackward0>)\n",
      "h_val:  tensor(0.0883, grad_fn=<AddBackward0>)\n"
     ]
    },
    {
     "name": "stderr",
     "output_type": "stream",
     "text": [
      " 40%|████      | 11671/29000 [00:30<00:43, 395.48it/s]"
     ]
    },
    {
     "name": "stdout",
     "output_type": "stream",
     "text": [
      "Sigma:  tensor([[0.0139, 0.0338],\n",
      "        [0.0338, 9.4983]], grad_fn=<MmBackward0>)\n",
      "obj:  tensor(0.0913, grad_fn=<AddBackward0>)\n",
      "mle loss:  tensor(-0.0263, grad_fn=<AddBackward0>)\n",
      "h_val:  tensor(0.0868, grad_fn=<AddBackward0>)\n"
     ]
    },
    {
     "name": "stderr",
     "output_type": "stream",
     "text": [
      " 41%|████      | 11750/29000 [00:30<00:45, 375.08it/s]"
     ]
    },
    {
     "name": "stdout",
     "output_type": "stream",
     "text": [
      "Sigma:  tensor([[0.0137, 0.0319],\n",
      "        [0.0319, 9.7033]], grad_fn=<MmBackward0>)\n",
      "obj:  tensor(0.0903, grad_fn=<AddBackward0>)\n",
      "mle loss:  tensor(-0.0211, grad_fn=<AddBackward0>)\n",
      "h_val:  tensor(0.0853, grad_fn=<AddBackward0>)\n"
     ]
    },
    {
     "name": "stderr",
     "output_type": "stream",
     "text": [
      " 41%|████      | 11868/29000 [00:30<00:44, 385.10it/s]"
     ]
    },
    {
     "name": "stdout",
     "output_type": "stream",
     "text": [
      "Sigma:  tensor([[0.0134, 0.0301],\n",
      "        [0.0301, 9.9087]], grad_fn=<MmBackward0>)\n",
      "obj:  tensor(0.0894, grad_fn=<AddBackward0>)\n",
      "mle loss:  tensor(-0.0153, grad_fn=<AddBackward0>)\n",
      "h_val:  tensor(0.0839, grad_fn=<AddBackward0>)\n"
     ]
    },
    {
     "name": "stderr",
     "output_type": "stream",
     "text": [
      " 41%|████      | 11946/29000 [00:30<00:45, 375.65it/s]"
     ]
    },
    {
     "name": "stdout",
     "output_type": "stream",
     "text": [
      "Sigma:  tensor([[ 0.0132,  0.0284],\n",
      "        [ 0.0284, 10.1143]], grad_fn=<MmBackward0>)\n",
      "obj:  tensor(0.0886, grad_fn=<AddBackward0>)\n",
      "mle loss:  tensor(-0.0089, grad_fn=<AddBackward0>)\n",
      "h_val:  tensor(0.0825, grad_fn=<AddBackward0>)\n"
     ]
    },
    {
     "name": "stderr",
     "output_type": "stream",
     "text": [
      " 42%|████▏     | 12056/29000 [00:31<01:03, 268.13it/s]"
     ]
    },
    {
     "name": "stdout",
     "output_type": "stream",
     "text": [
      "Sigma:  tensor([[ 0.0130,  0.0268],\n",
      "        [ 0.0268, 10.3200]], grad_fn=<MmBackward0>)\n",
      "obj:  tensor(0.0879, grad_fn=<AddBackward0>)\n",
      "mle loss:  tensor(-0.0021, grad_fn=<AddBackward0>)\n",
      "h_val:  tensor(0.0811, grad_fn=<AddBackward0>)\n"
     ]
    },
    {
     "name": "stderr",
     "output_type": "stream",
     "text": [
      " 42%|████▏     | 12161/29000 [00:31<00:54, 311.77it/s]"
     ]
    },
    {
     "name": "stdout",
     "output_type": "stream",
     "text": [
      "Sigma:  tensor([[ 0.0128,  0.0253],\n",
      "        [ 0.0253, 10.5257]], grad_fn=<MmBackward0>)\n",
      "obj:  tensor(0.0873, grad_fn=<AddBackward0>)\n",
      "mle loss:  tensor(0.0052, grad_fn=<AddBackward0>)\n",
      "h_val:  tensor(0.0798, grad_fn=<AddBackward0>)\n"
     ]
    },
    {
     "name": "stderr",
     "output_type": "stream",
     "text": [
      " 42%|████▏     | 12266/29000 [00:32<00:50, 334.20it/s]"
     ]
    },
    {
     "name": "stdout",
     "output_type": "stream",
     "text": [
      "Sigma:  tensor([[ 0.0126,  0.0239],\n",
      "        [ 0.0239, 10.7311]], grad_fn=<MmBackward0>)\n",
      "obj:  tensor(0.0867, grad_fn=<AddBackward0>)\n",
      "mle loss:  tensor(0.0129, grad_fn=<AddBackward0>)\n",
      "h_val:  tensor(0.0785, grad_fn=<AddBackward0>)\n"
     ]
    },
    {
     "name": "stderr",
     "output_type": "stream",
     "text": [
      " 43%|████▎     | 12336/29000 [00:32<00:49, 337.15it/s]"
     ]
    },
    {
     "name": "stdout",
     "output_type": "stream",
     "text": [
      "Sigma:  tensor([[ 0.0124,  0.0226],\n",
      "        [ 0.0226, 10.9360]], grad_fn=<MmBackward0>)\n",
      "obj:  tensor(0.0862, grad_fn=<AddBackward0>)\n",
      "mle loss:  tensor(0.0208, grad_fn=<AddBackward0>)\n",
      "h_val:  tensor(0.0772, grad_fn=<AddBackward0>)\n"
     ]
    },
    {
     "name": "stderr",
     "output_type": "stream",
     "text": [
      " 43%|████▎     | 12448/29000 [00:32<00:46, 355.80it/s]"
     ]
    },
    {
     "name": "stdout",
     "output_type": "stream",
     "text": [
      "Sigma:  tensor([[ 0.0123,  0.0213],\n",
      "        [ 0.0213, 11.1400]], grad_fn=<MmBackward0>)\n",
      "obj:  tensor(0.0857, grad_fn=<AddBackward0>)\n",
      "mle loss:  tensor(0.0290, grad_fn=<AddBackward0>)\n",
      "h_val:  tensor(0.0760, grad_fn=<AddBackward0>)\n"
     ]
    },
    {
     "name": "stderr",
     "output_type": "stream",
     "text": [
      " 43%|████▎     | 12558/29000 [00:32<00:46, 357.32it/s]"
     ]
    },
    {
     "name": "stdout",
     "output_type": "stream",
     "text": [
      "Sigma:  tensor([[ 0.0121,  0.0202],\n",
      "        [ 0.0202, 11.3429]], grad_fn=<MmBackward0>)\n",
      "obj:  tensor(0.0853, grad_fn=<AddBackward0>)\n",
      "mle loss:  tensor(0.0374, grad_fn=<AddBackward0>)\n",
      "h_val:  tensor(0.0748, grad_fn=<AddBackward0>)\n"
     ]
    },
    {
     "name": "stderr",
     "output_type": "stream",
     "text": [
      " 44%|████▎     | 12668/29000 [00:33<00:45, 358.69it/s]"
     ]
    },
    {
     "name": "stdout",
     "output_type": "stream",
     "text": [
      "Sigma:  tensor([[ 0.0120,  0.0191],\n",
      "        [ 0.0191, 11.5442]], grad_fn=<MmBackward0>)\n",
      "obj:  tensor(0.0849, grad_fn=<AddBackward0>)\n",
      "mle loss:  tensor(0.0459, grad_fn=<AddBackward0>)\n",
      "h_val:  tensor(0.0736, grad_fn=<AddBackward0>)\n"
     ]
    },
    {
     "name": "stderr",
     "output_type": "stream",
     "text": [
      " 44%|████▍     | 12740/29000 [00:33<00:47, 343.66it/s]"
     ]
    },
    {
     "name": "stdout",
     "output_type": "stream",
     "text": [
      "Sigma:  tensor([[ 0.0119,  0.0181],\n",
      "        [ 0.0181, 11.7435]], grad_fn=<MmBackward0>)\n",
      "obj:  tensor(0.0845, grad_fn=<AddBackward0>)\n",
      "mle loss:  tensor(0.0545, grad_fn=<AddBackward0>)\n",
      "h_val:  tensor(0.0724, grad_fn=<AddBackward0>)\n"
     ]
    },
    {
     "name": "stderr",
     "output_type": "stream",
     "text": [
      " 44%|████▍     | 12847/29000 [00:33<00:46, 349.31it/s]"
     ]
    },
    {
     "name": "stdout",
     "output_type": "stream",
     "text": [
      "Sigma:  tensor([[1.1773e-02, 1.7105e-02],\n",
      "        [1.7105e-02, 1.1940e+01]], grad_fn=<MmBackward0>)\n",
      "obj:  tensor(0.0842, grad_fn=<AddBackward0>)\n",
      "mle loss:  tensor(0.0631, grad_fn=<AddBackward0>)\n",
      "h_val:  tensor(0.0713, grad_fn=<AddBackward0>)\n"
     ]
    },
    {
     "name": "stderr",
     "output_type": "stream",
     "text": [
      " 45%|████▍     | 12958/29000 [00:34<00:44, 361.60it/s]"
     ]
    },
    {
     "name": "stdout",
     "output_type": "stream",
     "text": [
      "Sigma:  tensor([[1.1676e-02, 1.6198e-02],\n",
      "        [1.6198e-02, 1.2134e+01]], grad_fn=<MmBackward0>)\n",
      "obj:  tensor(0.0839, grad_fn=<AddBackward0>)\n",
      "mle loss:  tensor(0.0717, grad_fn=<AddBackward0>)\n",
      "h_val:  tensor(0.0702, grad_fn=<AddBackward0>)\n"
     ]
    },
    {
     "name": "stderr",
     "output_type": "stream",
     "text": [
      " 45%|████▌     | 13067/29000 [00:34<00:46, 345.81it/s]"
     ]
    },
    {
     "name": "stdout",
     "output_type": "stream",
     "text": [
      "Sigma:  tensor([[1.1590e-02, 1.5345e-02],\n",
      "        [1.5345e-02, 1.2325e+01]], grad_fn=<MmBackward0>)\n",
      "obj:  tensor(0.0837, grad_fn=<AddBackward0>)\n",
      "mle loss:  tensor(0.0802, grad_fn=<AddBackward0>)\n",
      "h_val:  tensor(0.0692, grad_fn=<AddBackward0>)\n"
     ]
    },
    {
     "name": "stderr",
     "output_type": "stream",
     "text": [
      " 45%|████▌     | 13140/29000 [00:34<00:44, 355.33it/s]"
     ]
    },
    {
     "name": "stdout",
     "output_type": "stream",
     "text": [
      "Sigma:  tensor([[1.1513e-02, 1.4542e-02],\n",
      "        [1.4542e-02, 1.2511e+01]], grad_fn=<MmBackward0>)\n",
      "obj:  tensor(0.0835, grad_fn=<AddBackward0>)\n",
      "mle loss:  tensor(0.0887, grad_fn=<AddBackward0>)\n",
      "h_val:  tensor(0.0682, grad_fn=<AddBackward0>)\n"
     ]
    },
    {
     "name": "stderr",
     "output_type": "stream",
     "text": [
      " 46%|████▌     | 13252/29000 [00:34<00:44, 355.73it/s]"
     ]
    },
    {
     "name": "stdout",
     "output_type": "stream",
     "text": [
      "Sigma:  tensor([[1.1446e-02, 1.3787e-02],\n",
      "        [1.3787e-02, 1.2693e+01]], grad_fn=<MmBackward0>)\n",
      "obj:  tensor(0.0833, grad_fn=<AddBackward0>)\n",
      "mle loss:  tensor(0.0970, grad_fn=<AddBackward0>)\n",
      "h_val:  tensor(0.0672, grad_fn=<AddBackward0>)\n"
     ]
    },
    {
     "name": "stderr",
     "output_type": "stream",
     "text": [
      " 46%|████▌     | 13367/29000 [00:35<00:41, 376.41it/s]"
     ]
    },
    {
     "name": "stdout",
     "output_type": "stream",
     "text": [
      "Sigma:  tensor([[1.1388e-02, 1.3077e-02],\n",
      "        [1.3077e-02, 1.2870e+01]], grad_fn=<MmBackward0>)\n",
      "obj:  tensor(0.0831, grad_fn=<AddBackward0>)\n",
      "mle loss:  tensor(0.1051, grad_fn=<AddBackward0>)\n",
      "h_val:  tensor(0.0662, grad_fn=<AddBackward0>)\n"
     ]
    },
    {
     "name": "stderr",
     "output_type": "stream",
     "text": [
      " 46%|████▋     | 13447/29000 [00:35<00:40, 386.55it/s]"
     ]
    },
    {
     "name": "stdout",
     "output_type": "stream",
     "text": [
      "Sigma:  tensor([[1.1338e-02, 1.2409e-02],\n",
      "        [1.2409e-02, 1.3042e+01]], grad_fn=<MmBackward0>)\n",
      "obj:  tensor(0.0829, grad_fn=<AddBackward0>)\n",
      "mle loss:  tensor(0.1131, grad_fn=<AddBackward0>)\n",
      "h_val:  tensor(0.0653, grad_fn=<AddBackward0>)\n"
     ]
    },
    {
     "name": "stderr",
     "output_type": "stream",
     "text": [
      " 47%|████▋     | 13567/29000 [00:35<00:39, 389.23it/s]"
     ]
    },
    {
     "name": "stdout",
     "output_type": "stream",
     "text": [
      "Sigma:  tensor([[1.1295e-02, 1.1781e-02],\n",
      "        [1.1781e-02, 1.3208e+01]], grad_fn=<MmBackward0>)\n",
      "obj:  tensor(0.0827, grad_fn=<AddBackward0>)\n",
      "mle loss:  tensor(0.1208, grad_fn=<AddBackward0>)\n",
      "h_val:  tensor(0.0644, grad_fn=<AddBackward0>)\n"
     ]
    },
    {
     "name": "stderr",
     "output_type": "stream",
     "text": [
      " 47%|████▋     | 13644/29000 [00:35<00:41, 372.70it/s]"
     ]
    },
    {
     "name": "stdout",
     "output_type": "stream",
     "text": [
      "Sigma:  tensor([[1.1259e-02, 1.1193e-02],\n",
      "        [1.1193e-02, 1.3367e+01]], grad_fn=<MmBackward0>)\n",
      "obj:  tensor(0.0826, grad_fn=<AddBackward0>)\n",
      "mle loss:  tensor(0.1283, grad_fn=<AddBackward0>)\n",
      "h_val:  tensor(0.0636, grad_fn=<AddBackward0>)\n"
     ]
    },
    {
     "name": "stderr",
     "output_type": "stream",
     "text": [
      " 47%|████▋     | 13767/29000 [00:36<00:38, 394.53it/s]"
     ]
    },
    {
     "name": "stdout",
     "output_type": "stream",
     "text": [
      "Sigma:  tensor([[1.1228e-02, 1.0641e-02],\n",
      "        [1.0641e-02, 1.3520e+01]], grad_fn=<MmBackward0>)\n",
      "obj:  tensor(0.0825, grad_fn=<AddBackward0>)\n",
      "mle loss:  tensor(0.1355, grad_fn=<AddBackward0>)\n",
      "h_val:  tensor(0.0628, grad_fn=<AddBackward0>)\n"
     ]
    },
    {
     "name": "stderr",
     "output_type": "stream",
     "text": [
      " 48%|████▊     | 13847/29000 [00:36<00:38, 388.62it/s]"
     ]
    },
    {
     "name": "stdout",
     "output_type": "stream",
     "text": [
      "Sigma:  tensor([[1.1203e-02, 1.0125e-02],\n",
      "        [1.0125e-02, 1.3666e+01]], grad_fn=<MmBackward0>)\n",
      "obj:  tensor(0.0824, grad_fn=<AddBackward0>)\n",
      "mle loss:  tensor(0.1425, grad_fn=<AddBackward0>)\n",
      "h_val:  tensor(0.0620, grad_fn=<AddBackward0>)\n"
     ]
    },
    {
     "name": "stderr",
     "output_type": "stream",
     "text": [
      " 48%|████▊     | 13968/29000 [00:36<00:39, 377.82it/s]"
     ]
    },
    {
     "name": "stdout",
     "output_type": "stream",
     "text": [
      "Sigma:  tensor([[1.1182e-02, 9.6440e-03],\n",
      "        [9.6440e-03, 1.3805e+01]], grad_fn=<MmBackward0>)\n",
      "obj:  tensor(0.0823, grad_fn=<AddBackward0>)\n",
      "mle loss:  tensor(0.1492, grad_fn=<AddBackward0>)\n",
      "h_val:  tensor(0.0613, grad_fn=<AddBackward0>)\n"
     ]
    },
    {
     "name": "stderr",
     "output_type": "stream",
     "text": [
      " 49%|████▉     | 14161/29000 [00:37<00:40, 370.34it/s]"
     ]
    },
    {
     "name": "stdout",
     "output_type": "stream",
     "text": [
      "Sigma:  tensor([[1.1217e-02, 8.2558e-03],\n",
      "        [8.2558e-03, 1.4047e+01]], grad_fn=<MmBackward0>)\n",
      "obj:  tensor(0.0557, grad_fn=<AddBackward0>)\n",
      "mle loss:  tensor(0.6350, grad_fn=<AddBackward0>)\n",
      "h_val:  tensor(0.0487, grad_fn=<AddBackward0>)\n"
     ]
    },
    {
     "name": "stderr",
     "output_type": "stream",
     "text": [
      " 49%|████▉     | 14282/29000 [00:37<00:37, 393.00it/s]"
     ]
    },
    {
     "name": "stdout",
     "output_type": "stream",
     "text": [
      "Sigma:  tensor([[1.1622e-02, 7.6502e-03],\n",
      "        [7.6502e-03, 1.4189e+01]], grad_fn=<MmBackward0>)\n",
      "obj:  tensor(0.0450, grad_fn=<AddBackward0>)\n",
      "mle loss:  tensor(0.4446, grad_fn=<AddBackward0>)\n",
      "h_val:  tensor(0.0400, grad_fn=<AddBackward0>)\n"
     ]
    },
    {
     "name": "stderr",
     "output_type": "stream",
     "text": [
      " 50%|████▉     | 14362/29000 [00:37<00:37, 385.72it/s]"
     ]
    },
    {
     "name": "stdout",
     "output_type": "stream",
     "text": [
      "Sigma:  tensor([[1.2002e-02, 6.6907e-03],\n",
      "        [6.6907e-03, 1.4556e+01]], grad_fn=<MmBackward0>)\n",
      "obj:  tensor(0.0377, grad_fn=<AddBackward0>)\n",
      "mle loss:  tensor(0.7592, grad_fn=<AddBackward0>)\n",
      "h_val:  tensor(0.0296, grad_fn=<AddBackward0>)\n"
     ]
    },
    {
     "name": "stderr",
     "output_type": "stream",
     "text": [
      " 50%|████▉     | 14441/29000 [00:37<00:37, 389.76it/s]"
     ]
    },
    {
     "name": "stdout",
     "output_type": "stream",
     "text": [
      "Sigma:  tensor([[1.2463e-02, 6.1684e-03],\n",
      "        [6.1684e-03, 1.5120e+01]], grad_fn=<MmBackward0>)\n",
      "obj:  tensor(0.0333, grad_fn=<AddBackward0>)\n",
      "mle loss:  tensor(0.7592, grad_fn=<AddBackward0>)\n",
      "h_val:  tensor(0.0252, grad_fn=<AddBackward0>)\n"
     ]
    },
    {
     "name": "stderr",
     "output_type": "stream",
     "text": [
      " 50%|█████     | 14566/29000 [00:38<00:36, 400.71it/s]"
     ]
    },
    {
     "name": "stdout",
     "output_type": "stream",
     "text": [
      "Sigma:  tensor([[1.2920e-02, 5.7195e-03],\n",
      "        [5.7195e-03, 1.5809e+01]], grad_fn=<MmBackward0>)\n",
      "obj:  tensor(0.0306, grad_fn=<AddBackward0>)\n",
      "mle loss:  tensor(0.8832, grad_fn=<AddBackward0>)\n",
      "h_val:  tensor(0.0212, grad_fn=<AddBackward0>)\n"
     ]
    },
    {
     "name": "stderr",
     "output_type": "stream",
     "text": [
      " 51%|█████     | 14646/29000 [00:38<00:37, 381.92it/s]"
     ]
    },
    {
     "name": "stdout",
     "output_type": "stream",
     "text": [
      "Sigma:  tensor([[1.3370e-02, 5.5383e-03],\n",
      "        [5.5383e-03, 1.6565e+01]], grad_fn=<MmBackward0>)\n",
      "obj:  tensor(0.0285, grad_fn=<AddBackward0>)\n",
      "mle loss:  tensor(0.8942, grad_fn=<AddBackward0>)\n",
      "h_val:  tensor(0.0191, grad_fn=<AddBackward0>)\n"
     ]
    },
    {
     "name": "stderr",
     "output_type": "stream",
     "text": [
      " 51%|█████     | 14770/29000 [00:38<00:36, 390.65it/s]"
     ]
    },
    {
     "name": "stdout",
     "output_type": "stream",
     "text": [
      "Sigma:  tensor([[1.3764e-02, 5.4299e-03],\n",
      "        [5.4299e-03, 1.7350e+01]], grad_fn=<MmBackward0>)\n",
      "obj:  tensor(0.0269, grad_fn=<AddBackward0>)\n",
      "mle loss:  tensor(0.9066, grad_fn=<AddBackward0>)\n",
      "h_val:  tensor(0.0174, grad_fn=<AddBackward0>)\n"
     ]
    },
    {
     "name": "stderr",
     "output_type": "stream",
     "text": [
      " 51%|█████     | 14850/29000 [00:38<00:36, 391.50it/s]"
     ]
    },
    {
     "name": "stdout",
     "output_type": "stream",
     "text": [
      "Sigma:  tensor([[1.4076e-02, 5.3289e-03],\n",
      "        [5.3289e-03, 1.8133e+01]], grad_fn=<MmBackward0>)\n",
      "obj:  tensor(0.0255, grad_fn=<AddBackward0>)\n",
      "mle loss:  tensor(0.9179, grad_fn=<AddBackward0>)\n",
      "h_val:  tensor(0.0159, grad_fn=<AddBackward0>)\n"
     ]
    },
    {
     "name": "stderr",
     "output_type": "stream",
     "text": [
      " 52%|█████▏    | 14975/29000 [00:39<00:34, 405.96it/s]"
     ]
    },
    {
     "name": "stdout",
     "output_type": "stream",
     "text": [
      "Sigma:  tensor([[1.4302e-02, 5.2233e-03],\n",
      "        [5.2233e-03, 1.8892e+01]], grad_fn=<MmBackward0>)\n",
      "obj:  tensor(0.0242, grad_fn=<AddBackward0>)\n",
      "mle loss:  tensor(0.9143, grad_fn=<AddBackward0>)\n",
      "h_val:  tensor(0.0146, grad_fn=<AddBackward0>)\n"
     ]
    },
    {
     "name": "stderr",
     "output_type": "stream",
     "text": [
      " 52%|█████▏    | 15057/29000 [00:39<00:34, 401.53it/s]"
     ]
    },
    {
     "name": "stdout",
     "output_type": "stream",
     "text": [
      "Sigma:  tensor([[1.4446e-02, 5.0788e-03],\n",
      "        [5.0788e-03, 1.9612e+01]], grad_fn=<MmBackward0>)\n",
      "obj:  tensor(0.0230, grad_fn=<AddBackward0>)\n",
      "mle loss:  tensor(0.9204, grad_fn=<AddBackward0>)\n",
      "h_val:  tensor(0.0134, grad_fn=<AddBackward0>)\n"
     ]
    },
    {
     "name": "stderr",
     "output_type": "stream",
     "text": [
      " 52%|█████▏    | 15183/29000 [00:39<00:33, 409.87it/s]"
     ]
    },
    {
     "name": "stdout",
     "output_type": "stream",
     "text": [
      "Sigma:  tensor([[1.4524e-02, 4.9252e-03],\n",
      "        [4.9252e-03, 2.0286e+01]], grad_fn=<MmBackward0>)\n",
      "obj:  tensor(0.0219, grad_fn=<AddBackward0>)\n",
      "mle loss:  tensor(0.9270, grad_fn=<AddBackward0>)\n",
      "h_val:  tensor(0.0123, grad_fn=<AddBackward0>)\n"
     ]
    },
    {
     "name": "stderr",
     "output_type": "stream",
     "text": [
      " 53%|█████▎    | 15266/29000 [00:40<00:34, 402.83it/s]"
     ]
    },
    {
     "name": "stdout",
     "output_type": "stream",
     "text": [
      "Sigma:  tensor([[1.4552e-02, 4.7840e-03],\n",
      "        [4.7840e-03, 2.0916e+01]], grad_fn=<MmBackward0>)\n",
      "obj:  tensor(0.0209, grad_fn=<AddBackward0>)\n",
      "mle loss:  tensor(0.9320, grad_fn=<AddBackward0>)\n",
      "h_val:  tensor(0.0113, grad_fn=<AddBackward0>)\n"
     ]
    },
    {
     "name": "stderr",
     "output_type": "stream",
     "text": [
      " 53%|█████▎    | 15348/29000 [00:40<00:34, 400.13it/s]"
     ]
    },
    {
     "name": "stdout",
     "output_type": "stream",
     "text": [
      "Sigma:  tensor([[1.4541e-02, 4.6621e-03],\n",
      "        [4.6621e-03, 2.1505e+01]], grad_fn=<MmBackward0>)\n",
      "obj:  tensor(0.0201, grad_fn=<AddBackward0>)\n",
      "mle loss:  tensor(0.9386, grad_fn=<AddBackward0>)\n",
      "h_val:  tensor(0.0103, grad_fn=<AddBackward0>)\n"
     ]
    },
    {
     "name": "stderr",
     "output_type": "stream",
     "text": [
      " 53%|█████▎    | 15473/29000 [00:40<00:33, 399.58it/s]"
     ]
    },
    {
     "name": "stdout",
     "output_type": "stream",
     "text": [
      "Sigma:  tensor([[1.4502e-02, 4.5627e-03],\n",
      "        [4.5627e-03, 2.2057e+01]], grad_fn=<MmBackward0>)\n",
      "obj:  tensor(0.0192, grad_fn=<AddBackward0>)\n",
      "mle loss:  tensor(0.9464, grad_fn=<AddBackward0>)\n",
      "h_val:  tensor(0.0095, grad_fn=<AddBackward0>)\n"
     ]
    },
    {
     "name": "stderr",
     "output_type": "stream",
     "text": [
      " 54%|█████▎    | 15554/29000 [00:40<00:33, 398.42it/s]"
     ]
    },
    {
     "name": "stdout",
     "output_type": "stream",
     "text": [
      "Sigma:  tensor([[1.4446e-02, 4.4836e-03],\n",
      "        [4.4836e-03, 2.2578e+01]], grad_fn=<MmBackward0>)\n",
      "obj:  tensor(0.0185, grad_fn=<AddBackward0>)\n",
      "mle loss:  tensor(0.9548, grad_fn=<AddBackward0>)\n",
      "h_val:  tensor(0.0086, grad_fn=<AddBackward0>)\n"
     ]
    },
    {
     "name": "stderr",
     "output_type": "stream",
     "text": [
      " 54%|█████▍    | 15679/29000 [00:41<00:32, 405.74it/s]"
     ]
    },
    {
     "name": "stdout",
     "output_type": "stream",
     "text": [
      "Sigma:  tensor([[1.4384e-02, 4.4191e-03],\n",
      "        [4.4191e-03, 2.3069e+01]], grad_fn=<MmBackward0>)\n",
      "obj:  tensor(0.0178, grad_fn=<AddBackward0>)\n",
      "mle loss:  tensor(0.9633, grad_fn=<AddBackward0>)\n",
      "h_val:  tensor(0.0079, grad_fn=<AddBackward0>)\n"
     ]
    },
    {
     "name": "stderr",
     "output_type": "stream",
     "text": [
      " 54%|█████▍    | 15761/29000 [00:41<00:32, 401.71it/s]"
     ]
    },
    {
     "name": "stdout",
     "output_type": "stream",
     "text": [
      "Sigma:  tensor([[1.4325e-02, 4.3642e-03],\n",
      "        [4.3642e-03, 2.3532e+01]], grad_fn=<MmBackward0>)\n",
      "obj:  tensor(0.0172, grad_fn=<AddBackward0>)\n",
      "mle loss:  tensor(0.9716, grad_fn=<AddBackward0>)\n",
      "h_val:  tensor(0.0072, grad_fn=<AddBackward0>)\n"
     ]
    },
    {
     "name": "stderr",
     "output_type": "stream",
     "text": [
      " 55%|█████▍    | 15843/29000 [00:41<00:32, 400.69it/s]"
     ]
    },
    {
     "name": "stdout",
     "output_type": "stream",
     "text": [
      "Sigma:  tensor([[1.4274e-02, 4.3162e-03],\n",
      "        [4.3162e-03, 2.3966e+01]], grad_fn=<MmBackward0>)\n",
      "obj:  tensor(0.0167, grad_fn=<AddBackward0>)\n",
      "mle loss:  tensor(0.9798, grad_fn=<AddBackward0>)\n",
      "h_val:  tensor(0.0066, grad_fn=<AddBackward0>)\n"
     ]
    },
    {
     "name": "stderr",
     "output_type": "stream",
     "text": [
      " 55%|█████▌    | 15966/29000 [00:41<00:34, 376.06it/s]"
     ]
    },
    {
     "name": "stdout",
     "output_type": "stream",
     "text": [
      "Sigma:  tensor([[1.4234e-02, 4.2739e-03],\n",
      "        [4.2739e-03, 2.4372e+01]], grad_fn=<MmBackward0>)\n",
      "obj:  tensor(0.0162, grad_fn=<AddBackward0>)\n",
      "mle loss:  tensor(0.9879, grad_fn=<AddBackward0>)\n",
      "h_val:  tensor(0.0061, grad_fn=<AddBackward0>)\n"
     ]
    },
    {
     "name": "stderr",
     "output_type": "stream",
     "text": [
      " 55%|█████▌    | 16041/29000 [00:42<00:35, 361.97it/s]"
     ]
    },
    {
     "name": "stdout",
     "output_type": "stream",
     "text": [
      "Sigma:  tensor([[1.4204e-02, 4.2366e-03],\n",
      "        [4.2366e-03, 2.4750e+01]], grad_fn=<MmBackward0>)\n",
      "obj:  tensor(0.0158, grad_fn=<AddBackward0>)\n",
      "mle loss:  tensor(0.9959, grad_fn=<AddBackward0>)\n",
      "h_val:  tensor(0.0055, grad_fn=<AddBackward0>)\n"
     ]
    },
    {
     "name": "stderr",
     "output_type": "stream",
     "text": [
      " 56%|█████▌    | 16156/29000 [00:42<00:34, 372.38it/s]"
     ]
    },
    {
     "name": "stdout",
     "output_type": "stream",
     "text": [
      "Sigma:  tensor([[1.4184e-02, 4.2044e-03],\n",
      "        [4.2044e-03, 2.5100e+01]], grad_fn=<MmBackward0>)\n",
      "obj:  tensor(0.0154, grad_fn=<AddBackward0>)\n",
      "mle loss:  tensor(1.0037, grad_fn=<AddBackward0>)\n",
      "h_val:  tensor(0.0051, grad_fn=<AddBackward0>)\n"
     ]
    },
    {
     "name": "stderr",
     "output_type": "stream",
     "text": [
      " 56%|█████▌    | 16234/29000 [00:42<00:35, 362.72it/s]"
     ]
    },
    {
     "name": "stdout",
     "output_type": "stream",
     "text": [
      "Sigma:  tensor([[1.4173e-02, 4.1769e-03],\n",
      "        [4.1769e-03, 2.5425e+01]], grad_fn=<MmBackward0>)\n",
      "obj:  tensor(0.0150, grad_fn=<AddBackward0>)\n",
      "mle loss:  tensor(1.0112, grad_fn=<AddBackward0>)\n",
      "h_val:  tensor(0.0046, grad_fn=<AddBackward0>)\n"
     ]
    },
    {
     "name": "stderr",
     "output_type": "stream",
     "text": [
      " 56%|█████▋    | 16345/29000 [00:42<00:35, 358.35it/s]"
     ]
    },
    {
     "name": "stdout",
     "output_type": "stream",
     "text": [
      "Sigma:  tensor([[1.4167e-02, 4.1542e-03],\n",
      "        [4.1542e-03, 2.5724e+01]], grad_fn=<MmBackward0>)\n",
      "obj:  tensor(0.0147, grad_fn=<AddBackward0>)\n",
      "mle loss:  tensor(1.0185, grad_fn=<AddBackward0>)\n",
      "h_val:  tensor(0.0043, grad_fn=<AddBackward0>)\n"
     ]
    },
    {
     "name": "stderr",
     "output_type": "stream",
     "text": [
      " 57%|█████▋    | 16456/29000 [00:43<00:34, 359.78it/s]"
     ]
    },
    {
     "name": "stdout",
     "output_type": "stream",
     "text": [
      "Sigma:  tensor([[1.4166e-02, 4.1361e-03],\n",
      "        [4.1361e-03, 2.6001e+01]], grad_fn=<MmBackward0>)\n",
      "obj:  tensor(0.0144, grad_fn=<AddBackward0>)\n",
      "mle loss:  tensor(1.0255, grad_fn=<AddBackward0>)\n",
      "h_val:  tensor(0.0039, grad_fn=<AddBackward0>)\n"
     ]
    },
    {
     "name": "stderr",
     "output_type": "stream",
     "text": [
      " 57%|█████▋    | 16566/29000 [00:43<00:35, 352.26it/s]"
     ]
    },
    {
     "name": "stdout",
     "output_type": "stream",
     "text": [
      "Sigma:  tensor([[1.4167e-02, 4.1224e-03],\n",
      "        [4.1224e-03, 2.6257e+01]], grad_fn=<MmBackward0>)\n",
      "obj:  tensor(0.0141, grad_fn=<AddBackward0>)\n",
      "mle loss:  tensor(1.0322, grad_fn=<AddBackward0>)\n",
      "h_val:  tensor(0.0036, grad_fn=<AddBackward0>)\n"
     ]
    },
    {
     "name": "stderr",
     "output_type": "stream",
     "text": [
      " 57%|█████▋    | 16637/29000 [00:43<00:36, 338.55it/s]"
     ]
    },
    {
     "name": "stdout",
     "output_type": "stream",
     "text": [
      "Sigma:  tensor([[1.4169e-02, 4.1131e-03],\n",
      "        [4.1131e-03, 2.6493e+01]], grad_fn=<MmBackward0>)\n",
      "obj:  tensor(0.0139, grad_fn=<AddBackward0>)\n",
      "mle loss:  tensor(1.0386, grad_fn=<AddBackward0>)\n",
      "h_val:  tensor(0.0033, grad_fn=<AddBackward0>)\n"
     ]
    },
    {
     "name": "stderr",
     "output_type": "stream",
     "text": [
      " 58%|█████▊    | 16743/29000 [00:44<00:36, 338.63it/s]"
     ]
    },
    {
     "name": "stdout",
     "output_type": "stream",
     "text": [
      "Sigma:  tensor([[1.4172e-02, 4.1081e-03],\n",
      "        [4.1081e-03, 2.6712e+01]], grad_fn=<MmBackward0>)\n",
      "obj:  tensor(0.0136, grad_fn=<AddBackward0>)\n",
      "mle loss:  tensor(1.0447, grad_fn=<AddBackward0>)\n",
      "h_val:  tensor(0.0030, grad_fn=<AddBackward0>)\n"
     ]
    },
    {
     "name": "stderr",
     "output_type": "stream",
     "text": [
      " 58%|█████▊    | 16850/29000 [00:44<00:35, 346.77it/s]"
     ]
    },
    {
     "name": "stdout",
     "output_type": "stream",
     "text": [
      "Sigma:  tensor([[1.4176e-02, 4.1073e-03],\n",
      "        [4.1073e-03, 2.6916e+01]], grad_fn=<MmBackward0>)\n",
      "obj:  tensor(0.0135, grad_fn=<AddBackward0>)\n",
      "mle loss:  tensor(1.0505, grad_fn=<AddBackward0>)\n",
      "h_val:  tensor(0.0028, grad_fn=<AddBackward0>)\n"
     ]
    },
    {
     "name": "stderr",
     "output_type": "stream",
     "text": [
      " 58%|█████▊    | 16956/29000 [00:44<00:35, 338.54it/s]"
     ]
    },
    {
     "name": "stdout",
     "output_type": "stream",
     "text": [
      "Sigma:  tensor([[1.4180e-02, 4.1108e-03],\n",
      "        [4.1108e-03, 2.7105e+01]], grad_fn=<MmBackward0>)\n",
      "obj:  tensor(0.0133, grad_fn=<AddBackward0>)\n",
      "mle loss:  tensor(1.0561, grad_fn=<AddBackward0>)\n",
      "h_val:  tensor(0.0025, grad_fn=<AddBackward0>)\n"
     ]
    },
    {
     "name": "stderr",
     "output_type": "stream",
     "text": [
      " 59%|█████▉    | 17060/29000 [00:44<00:35, 339.64it/s]"
     ]
    },
    {
     "name": "stdout",
     "output_type": "stream",
     "text": [
      "Sigma:  tensor([[1.4184e-02, 4.1184e-03],\n",
      "        [4.1184e-03, 2.7281e+01]], grad_fn=<MmBackward0>)\n",
      "obj:  tensor(0.0131, grad_fn=<AddBackward0>)\n",
      "mle loss:  tensor(1.0614, grad_fn=<AddBackward0>)\n",
      "h_val:  tensor(0.0023, grad_fn=<AddBackward0>)\n"
     ]
    },
    {
     "name": "stderr",
     "output_type": "stream",
     "text": [
      " 59%|█████▉    | 17168/29000 [00:45<00:41, 284.63it/s]"
     ]
    },
    {
     "name": "stdout",
     "output_type": "stream",
     "text": [
      "Sigma:  tensor([[1.4189e-02, 4.1304e-03],\n",
      "        [4.1304e-03, 2.7446e+01]], grad_fn=<MmBackward0>)\n",
      "obj:  tensor(0.0130, grad_fn=<AddBackward0>)\n",
      "mle loss:  tensor(1.0664, grad_fn=<AddBackward0>)\n",
      "h_val:  tensor(0.0021, grad_fn=<AddBackward0>)\n"
     ]
    },
    {
     "name": "stderr",
     "output_type": "stream",
     "text": [
      " 59%|█████▉    | 17242/29000 [00:45<00:36, 323.07it/s]"
     ]
    },
    {
     "name": "stdout",
     "output_type": "stream",
     "text": [
      "Sigma:  tensor([[1.4193e-02, 4.1466e-03],\n",
      "        [4.1466e-03, 2.7601e+01]], grad_fn=<MmBackward0>)\n",
      "obj:  tensor(0.0128, grad_fn=<AddBackward0>)\n",
      "mle loss:  tensor(1.0712, grad_fn=<AddBackward0>)\n",
      "h_val:  tensor(0.0020, grad_fn=<AddBackward0>)\n"
     ]
    },
    {
     "name": "stderr",
     "output_type": "stream",
     "text": [
      " 60%|█████▉    | 17356/29000 [00:45<00:32, 354.39it/s]"
     ]
    },
    {
     "name": "stdout",
     "output_type": "stream",
     "text": [
      "Sigma:  tensor([[1.4198e-02, 4.1672e-03],\n",
      "        [4.1672e-03, 2.7746e+01]], grad_fn=<MmBackward0>)\n",
      "obj:  tensor(0.0127, grad_fn=<AddBackward0>)\n",
      "mle loss:  tensor(1.0758, grad_fn=<AddBackward0>)\n",
      "h_val:  tensor(0.0018, grad_fn=<AddBackward0>)\n"
     ]
    },
    {
     "name": "stderr",
     "output_type": "stream",
     "text": [
      " 60%|██████    | 17467/29000 [00:46<00:31, 360.84it/s]"
     ]
    },
    {
     "name": "stdout",
     "output_type": "stream",
     "text": [
      "Sigma:  tensor([[1.4202e-02, 4.1922e-03],\n",
      "        [4.1922e-03, 2.7883e+01]], grad_fn=<MmBackward0>)\n",
      "obj:  tensor(0.0126, grad_fn=<AddBackward0>)\n",
      "mle loss:  tensor(1.0801, grad_fn=<AddBackward0>)\n",
      "h_val:  tensor(0.0017, grad_fn=<AddBackward0>)\n"
     ]
    },
    {
     "name": "stderr",
     "output_type": "stream",
     "text": [
      " 60%|██████    | 17543/29000 [00:46<00:31, 363.90it/s]"
     ]
    },
    {
     "name": "stdout",
     "output_type": "stream",
     "text": [
      "Sigma:  tensor([[1.4207e-02, 4.2218e-03],\n",
      "        [4.2218e-03, 2.8012e+01]], grad_fn=<MmBackward0>)\n",
      "obj:  tensor(0.0125, grad_fn=<AddBackward0>)\n",
      "mle loss:  tensor(1.0843, grad_fn=<AddBackward0>)\n",
      "h_val:  tensor(0.0015, grad_fn=<AddBackward0>)\n"
     ]
    },
    {
     "name": "stderr",
     "output_type": "stream",
     "text": [
      " 61%|██████    | 17659/29000 [00:46<00:30, 366.49it/s]"
     ]
    },
    {
     "name": "stdout",
     "output_type": "stream",
     "text": [
      "Sigma:  tensor([[1.4211e-02, 4.2561e-03],\n",
      "        [4.2561e-03, 2.8134e+01]], grad_fn=<MmBackward0>)\n",
      "obj:  tensor(0.0124, grad_fn=<AddBackward0>)\n",
      "mle loss:  tensor(1.0882, grad_fn=<AddBackward0>)\n",
      "h_val:  tensor(0.0014, grad_fn=<AddBackward0>)\n"
     ]
    },
    {
     "name": "stderr",
     "output_type": "stream",
     "text": [
      " 61%|██████▏   | 17770/29000 [00:47<00:31, 358.49it/s]"
     ]
    },
    {
     "name": "stdout",
     "output_type": "stream",
     "text": [
      "Sigma:  tensor([[1.4215e-02, 4.2953e-03],\n",
      "        [4.2953e-03, 2.8250e+01]], grad_fn=<MmBackward0>)\n",
      "obj:  tensor(0.0124, grad_fn=<AddBackward0>)\n",
      "mle loss:  tensor(1.0920, grad_fn=<AddBackward0>)\n",
      "h_val:  tensor(0.0013, grad_fn=<AddBackward0>)\n"
     ]
    },
    {
     "name": "stderr",
     "output_type": "stream",
     "text": [
      " 62%|██████▏   | 17842/29000 [00:47<00:31, 350.10it/s]"
     ]
    },
    {
     "name": "stdout",
     "output_type": "stream",
     "text": [
      "Sigma:  tensor([[1.4219e-02, 4.3395e-03],\n",
      "        [4.3395e-03, 2.8359e+01]], grad_fn=<MmBackward0>)\n",
      "obj:  tensor(0.0123, grad_fn=<AddBackward0>)\n",
      "mle loss:  tensor(1.0955, grad_fn=<AddBackward0>)\n",
      "h_val:  tensor(0.0012, grad_fn=<AddBackward0>)\n"
     ]
    },
    {
     "name": "stderr",
     "output_type": "stream",
     "text": [
      " 62%|██████▏   | 17949/29000 [00:47<00:32, 345.30it/s]"
     ]
    },
    {
     "name": "stdout",
     "output_type": "stream",
     "text": [
      "Sigma:  tensor([[1.4222e-02, 4.3890e-03],\n",
      "        [4.3890e-03, 2.8462e+01]], grad_fn=<MmBackward0>)\n",
      "obj:  tensor(0.0122, grad_fn=<AddBackward0>)\n",
      "mle loss:  tensor(1.0989, grad_fn=<AddBackward0>)\n",
      "h_val:  tensor(0.0011, grad_fn=<AddBackward0>)\n"
     ]
    },
    {
     "name": "stderr",
     "output_type": "stream",
     "text": [
      " 62%|██████▏   | 18055/29000 [00:47<00:32, 339.68it/s]"
     ]
    },
    {
     "name": "stdout",
     "output_type": "stream",
     "text": [
      "Sigma:  tensor([[1.4225e-02, 4.4440e-03],\n",
      "        [4.4440e-03, 2.8560e+01]], grad_fn=<MmBackward0>)\n",
      "obj:  tensor(0.0122, grad_fn=<AddBackward0>)\n",
      "mle loss:  tensor(1.1021, grad_fn=<AddBackward0>)\n",
      "h_val:  tensor(0.0010, grad_fn=<AddBackward0>)\n"
     ]
    },
    {
     "name": "stderr",
     "output_type": "stream",
     "text": [
      " 63%|██████▎   | 18160/29000 [00:48<00:31, 340.77it/s]"
     ]
    },
    {
     "name": "stdout",
     "output_type": "stream",
     "text": [
      "Sigma:  tensor([[1.4228e-02, 4.5046e-03],\n",
      "        [4.5046e-03, 2.8653e+01]], grad_fn=<MmBackward0>)\n",
      "obj:  tensor(0.0121, grad_fn=<AddBackward0>)\n",
      "mle loss:  tensor(1.1052, grad_fn=<AddBackward0>)\n",
      "h_val:  tensor(0.0010, grad_fn=<AddBackward0>)\n"
     ]
    },
    {
     "name": "stderr",
     "output_type": "stream",
     "text": [
      " 63%|██████▎   | 18267/29000 [00:48<00:31, 343.02it/s]"
     ]
    },
    {
     "name": "stdout",
     "output_type": "stream",
     "text": [
      "Sigma:  tensor([[1.4231e-02, 4.5709e-03],\n",
      "        [4.5709e-03, 2.8741e+01]], grad_fn=<MmBackward0>)\n",
      "obj:  tensor(0.0121, grad_fn=<AddBackward0>)\n",
      "mle loss:  tensor(1.1081, grad_fn=<AddBackward0>)\n",
      "h_val:  tensor(0.0009, grad_fn=<AddBackward0>)\n"
     ]
    },
    {
     "name": "stderr",
     "output_type": "stream",
     "text": [
      " 63%|██████▎   | 18337/29000 [00:48<00:31, 339.95it/s]"
     ]
    },
    {
     "name": "stdout",
     "output_type": "stream",
     "text": [
      "Sigma:  tensor([[1.4234e-02, 4.6432e-03],\n",
      "        [4.6432e-03, 2.8824e+01]], grad_fn=<MmBackward0>)\n",
      "obj:  tensor(0.0121, grad_fn=<AddBackward0>)\n",
      "mle loss:  tensor(1.1109, grad_fn=<AddBackward0>)\n",
      "h_val:  tensor(0.0008, grad_fn=<AddBackward0>)\n"
     ]
    },
    {
     "name": "stderr",
     "output_type": "stream",
     "text": [
      " 64%|██████▎   | 18446/29000 [00:49<00:29, 352.99it/s]"
     ]
    },
    {
     "name": "stdout",
     "output_type": "stream",
     "text": [
      "Sigma:  tensor([[1.4236e-02, 4.7215e-03],\n",
      "        [4.7215e-03, 2.8903e+01]], grad_fn=<MmBackward0>)\n",
      "obj:  tensor(0.0120, grad_fn=<AddBackward0>)\n",
      "mle loss:  tensor(1.1135, grad_fn=<AddBackward0>)\n",
      "h_val:  tensor(0.0008, grad_fn=<AddBackward0>)\n"
     ]
    },
    {
     "name": "stderr",
     "output_type": "stream",
     "text": [
      " 64%|██████▍   | 18557/29000 [00:49<00:28, 363.03it/s]"
     ]
    },
    {
     "name": "stdout",
     "output_type": "stream",
     "text": [
      "Sigma:  tensor([[1.4238e-02, 4.8060e-03],\n",
      "        [4.8060e-03, 2.8978e+01]], grad_fn=<MmBackward0>)\n",
      "obj:  tensor(0.0120, grad_fn=<AddBackward0>)\n",
      "mle loss:  tensor(1.1159, grad_fn=<AddBackward0>)\n",
      "h_val:  tensor(0.0007, grad_fn=<AddBackward0>)\n"
     ]
    },
    {
     "name": "stderr",
     "output_type": "stream",
     "text": [
      " 64%|██████▍   | 18671/29000 [00:49<00:28, 368.51it/s]"
     ]
    },
    {
     "name": "stdout",
     "output_type": "stream",
     "text": [
      "Sigma:  tensor([[1.4239e-02, 4.8965e-03],\n",
      "        [4.8965e-03, 2.9049e+01]], grad_fn=<MmBackward0>)\n",
      "obj:  tensor(0.0120, grad_fn=<AddBackward0>)\n",
      "mle loss:  tensor(1.1183, grad_fn=<AddBackward0>)\n",
      "h_val:  tensor(0.0007, grad_fn=<AddBackward0>)\n"
     ]
    },
    {
     "name": "stderr",
     "output_type": "stream",
     "text": [
      " 65%|██████▍   | 18745/29000 [00:49<00:28, 358.74it/s]"
     ]
    },
    {
     "name": "stdout",
     "output_type": "stream",
     "text": [
      "Sigma:  tensor([[1.4241e-02, 4.9931e-03],\n",
      "        [4.9931e-03, 2.9116e+01]], grad_fn=<MmBackward0>)\n",
      "obj:  tensor(0.0119, grad_fn=<AddBackward0>)\n",
      "mle loss:  tensor(1.1205, grad_fn=<AddBackward0>)\n",
      "h_val:  tensor(0.0006, grad_fn=<AddBackward0>)\n"
     ]
    },
    {
     "name": "stderr",
     "output_type": "stream",
     "text": [
      " 65%|██████▌   | 18864/29000 [00:50<00:26, 377.67it/s]"
     ]
    },
    {
     "name": "stdout",
     "output_type": "stream",
     "text": [
      "Sigma:  tensor([[1.4242e-02, 5.0957e-03],\n",
      "        [5.0957e-03, 2.9179e+01]], grad_fn=<MmBackward0>)\n",
      "obj:  tensor(0.0119, grad_fn=<AddBackward0>)\n",
      "mle loss:  tensor(1.1225, grad_fn=<AddBackward0>)\n",
      "h_val:  tensor(0.0006, grad_fn=<AddBackward0>)\n"
     ]
    },
    {
     "name": "stderr",
     "output_type": "stream",
     "text": [
      " 65%|██████▌   | 18943/29000 [00:50<00:26, 384.45it/s]"
     ]
    },
    {
     "name": "stdout",
     "output_type": "stream",
     "text": [
      "Sigma:  tensor([[1.4243e-02, 5.2041e-03],\n",
      "        [5.2041e-03, 2.9239e+01]], grad_fn=<MmBackward0>)\n",
      "obj:  tensor(0.0119, grad_fn=<AddBackward0>)\n",
      "mle loss:  tensor(1.1245, grad_fn=<AddBackward0>)\n",
      "h_val:  tensor(0.0006, grad_fn=<AddBackward0>)\n"
     ]
    },
    {
     "name": "stderr",
     "output_type": "stream",
     "text": [
      " 66%|██████▌   | 19068/29000 [00:50<00:25, 396.43it/s]"
     ]
    },
    {
     "name": "stdout",
     "output_type": "stream",
     "text": [
      "Sigma:  tensor([[1.4244e-02, 5.3181e-03],\n",
      "        [5.3181e-03, 2.9295e+01]], grad_fn=<MmBackward0>)\n",
      "obj:  tensor(0.0119, grad_fn=<AddBackward0>)\n",
      "mle loss:  tensor(1.1263, grad_fn=<AddBackward0>)\n",
      "h_val:  tensor(0.0005, grad_fn=<AddBackward0>)\n"
     ]
    },
    {
     "name": "stderr",
     "output_type": "stream",
     "text": [
      " 66%|██████▌   | 19148/29000 [00:50<00:25, 390.77it/s]"
     ]
    },
    {
     "name": "stdout",
     "output_type": "stream",
     "text": [
      "Sigma:  tensor([[1.4245e-02, 5.4371e-03],\n",
      "        [5.4371e-03, 2.9348e+01]], grad_fn=<MmBackward0>)\n",
      "obj:  tensor(0.0119, grad_fn=<AddBackward0>)\n",
      "mle loss:  tensor(1.1280, grad_fn=<AddBackward0>)\n",
      "h_val:  tensor(0.0005, grad_fn=<AddBackward0>)\n"
     ]
    },
    {
     "name": "stderr",
     "output_type": "stream",
     "text": [
      " 66%|██████▋   | 19271/29000 [00:51<00:24, 399.10it/s]"
     ]
    },
    {
     "name": "stdout",
     "output_type": "stream",
     "text": [
      "Sigma:  tensor([[1.4245e-02, 5.5609e-03],\n",
      "        [5.5609e-03, 2.9398e+01]], grad_fn=<MmBackward0>)\n",
      "obj:  tensor(0.0119, grad_fn=<AddBackward0>)\n",
      "mle loss:  tensor(1.1296, grad_fn=<AddBackward0>)\n",
      "h_val:  tensor(0.0005, grad_fn=<AddBackward0>)\n"
     ]
    },
    {
     "name": "stderr",
     "output_type": "stream",
     "text": [
      " 67%|██████▋   | 19351/29000 [00:51<00:24, 392.12it/s]"
     ]
    },
    {
     "name": "stdout",
     "output_type": "stream",
     "text": [
      "Sigma:  tensor([[1.4246e-02, 5.6888e-03],\n",
      "        [5.6888e-03, 2.9444e+01]], grad_fn=<MmBackward0>)\n",
      "obj:  tensor(0.0119, grad_fn=<AddBackward0>)\n",
      "mle loss:  tensor(1.1311, grad_fn=<AddBackward0>)\n",
      "h_val:  tensor(0.0005, grad_fn=<AddBackward0>)\n"
     ]
    },
    {
     "name": "stderr",
     "output_type": "stream",
     "text": [
      " 67%|██████▋   | 19474/29000 [00:51<00:24, 391.61it/s]"
     ]
    },
    {
     "name": "stdout",
     "output_type": "stream",
     "text": [
      "Sigma:  tensor([[1.4246e-02, 5.8201e-03],\n",
      "        [5.8201e-03, 2.9487e+01]], grad_fn=<MmBackward0>)\n",
      "obj:  tensor(0.0118, grad_fn=<AddBackward0>)\n",
      "mle loss:  tensor(1.1324, grad_fn=<AddBackward0>)\n",
      "h_val:  tensor(0.0004, grad_fn=<AddBackward0>)\n"
     ]
    },
    {
     "name": "stderr",
     "output_type": "stream",
     "text": [
      " 67%|██████▋   | 19553/29000 [00:51<00:24, 380.27it/s]"
     ]
    },
    {
     "name": "stdout",
     "output_type": "stream",
     "text": [
      "Sigma:  tensor([[1.4246e-02, 5.9540e-03],\n",
      "        [5.9540e-03, 2.9527e+01]], grad_fn=<MmBackward0>)\n",
      "obj:  tensor(0.0118, grad_fn=<AddBackward0>)\n",
      "mle loss:  tensor(1.1337, grad_fn=<AddBackward0>)\n",
      "h_val:  tensor(0.0004, grad_fn=<AddBackward0>)\n"
     ]
    },
    {
     "name": "stderr",
     "output_type": "stream",
     "text": [
      " 68%|██████▊   | 19674/29000 [00:52<00:23, 392.83it/s]"
     ]
    },
    {
     "name": "stdout",
     "output_type": "stream",
     "text": [
      "Sigma:  tensor([[1.4246e-02, 6.0896e-03],\n",
      "        [6.0896e-03, 2.9564e+01]], grad_fn=<MmBackward0>)\n",
      "obj:  tensor(0.0118, grad_fn=<AddBackward0>)\n",
      "mle loss:  tensor(1.1349, grad_fn=<AddBackward0>)\n",
      "h_val:  tensor(0.0004, grad_fn=<AddBackward0>)\n"
     ]
    },
    {
     "name": "stderr",
     "output_type": "stream",
     "text": [
      " 68%|██████▊   | 19753/29000 [00:52<00:23, 388.65it/s]"
     ]
    },
    {
     "name": "stdout",
     "output_type": "stream",
     "text": [
      "Sigma:  tensor([[1.4246e-02, 6.2260e-03],\n",
      "        [6.2260e-03, 2.9598e+01]], grad_fn=<MmBackward0>)\n",
      "obj:  tensor(0.0118, grad_fn=<AddBackward0>)\n",
      "mle loss:  tensor(1.1359, grad_fn=<AddBackward0>)\n",
      "h_val:  tensor(0.0004, grad_fn=<AddBackward0>)\n"
     ]
    },
    {
     "name": "stderr",
     "output_type": "stream",
     "text": [
      " 69%|██████▊   | 19876/29000 [00:52<00:22, 403.46it/s]"
     ]
    },
    {
     "name": "stdout",
     "output_type": "stream",
     "text": [
      "Sigma:  tensor([[1.4246e-02, 6.3621e-03],\n",
      "        [6.3621e-03, 2.9628e+01]], grad_fn=<MmBackward0>)\n",
      "obj:  tensor(0.0118, grad_fn=<AddBackward0>)\n",
      "mle loss:  tensor(1.1369, grad_fn=<AddBackward0>)\n",
      "h_val:  tensor(0.0004, grad_fn=<AddBackward0>)\n"
     ]
    },
    {
     "name": "stderr",
     "output_type": "stream",
     "text": [
      " 69%|██████▉   | 19958/29000 [00:52<00:22, 398.28it/s]"
     ]
    },
    {
     "name": "stdout",
     "output_type": "stream",
     "text": [
      "Sigma:  tensor([[1.4246e-02, 6.4966e-03],\n",
      "        [6.4966e-03, 2.9656e+01]], grad_fn=<MmBackward0>)\n",
      "obj:  tensor(0.0118, grad_fn=<AddBackward0>)\n",
      "mle loss:  tensor(1.1378, grad_fn=<AddBackward0>)\n",
      "h_val:  tensor(0.0004, grad_fn=<AddBackward0>)\n"
     ]
    },
    {
     "name": "stderr",
     "output_type": "stream",
     "text": [
      " 69%|██████▉   | 20038/29000 [00:53<00:23, 388.50it/s]"
     ]
    },
    {
     "name": "stdout",
     "output_type": "stream",
     "text": [
      "Sigma:  tensor([[1.4246e-02, 6.6286e-03],\n",
      "        [6.6286e-03, 2.9681e+01]], grad_fn=<MmBackward0>)\n",
      "obj:  tensor(0.0118, grad_fn=<AddBackward0>)\n",
      "mle loss:  tensor(1.1385, grad_fn=<AddBackward0>)\n",
      "h_val:  tensor(0.0003, grad_fn=<AddBackward0>)\n"
     ]
    },
    {
     "name": "stderr",
     "output_type": "stream",
     "text": [
      " 70%|██████▉   | 20165/29000 [00:53<00:21, 402.34it/s]"
     ]
    },
    {
     "name": "stdout",
     "output_type": "stream",
     "text": [
      "Sigma:  tensor([[1.4246e-02, 6.7568e-03],\n",
      "        [6.7568e-03, 2.9704e+01]], grad_fn=<MmBackward0>)\n",
      "obj:  tensor(0.0118, grad_fn=<AddBackward0>)\n",
      "mle loss:  tensor(1.1392, grad_fn=<AddBackward0>)\n",
      "h_val:  tensor(0.0003, grad_fn=<AddBackward0>)\n"
     ]
    },
    {
     "name": "stderr",
     "output_type": "stream",
     "text": [
      " 70%|██████▉   | 20246/29000 [00:53<00:22, 393.49it/s]"
     ]
    },
    {
     "name": "stdout",
     "output_type": "stream",
     "text": [
      "Sigma:  tensor([[1.4245e-02, 6.8802e-03],\n",
      "        [6.8802e-03, 2.9723e+01]], grad_fn=<MmBackward0>)\n",
      "obj:  tensor(0.0118, grad_fn=<AddBackward0>)\n",
      "mle loss:  tensor(1.1398, grad_fn=<AddBackward0>)\n",
      "h_val:  tensor(0.0003, grad_fn=<AddBackward0>)\n"
     ]
    },
    {
     "name": "stderr",
     "output_type": "stream",
     "text": [
      " 70%|███████   | 20372/29000 [00:54<00:21, 403.73it/s]"
     ]
    },
    {
     "name": "stdout",
     "output_type": "stream",
     "text": [
      "Sigma:  tensor([[1.4245e-02, 6.9977e-03],\n",
      "        [6.9977e-03, 2.9740e+01]], grad_fn=<MmBackward0>)\n",
      "obj:  tensor(0.0118, grad_fn=<AddBackward0>)\n",
      "mle loss:  tensor(1.1404, grad_fn=<AddBackward0>)\n",
      "h_val:  tensor(0.0003, grad_fn=<AddBackward0>)\n"
     ]
    },
    {
     "name": "stderr",
     "output_type": "stream",
     "text": [
      " 71%|███████   | 20454/29000 [00:54<00:21, 401.82it/s]"
     ]
    },
    {
     "name": "stdout",
     "output_type": "stream",
     "text": [
      "Sigma:  tensor([[1.4245e-02, 7.1084e-03],\n",
      "        [7.1084e-03, 2.9755e+01]], grad_fn=<MmBackward0>)\n",
      "obj:  tensor(0.0118, grad_fn=<AddBackward0>)\n",
      "mle loss:  tensor(1.1408, grad_fn=<AddBackward0>)\n",
      "h_val:  tensor(0.0003, grad_fn=<AddBackward0>)\n"
     ]
    },
    {
     "name": "stderr",
     "output_type": "stream",
     "text": [
      " 71%|███████   | 20579/29000 [00:54<00:20, 405.70it/s]"
     ]
    },
    {
     "name": "stdout",
     "output_type": "stream",
     "text": [
      "Sigma:  tensor([[1.4245e-02, 7.2115e-03],\n",
      "        [7.2115e-03, 2.9768e+01]], grad_fn=<MmBackward0>)\n",
      "obj:  tensor(0.0118, grad_fn=<AddBackward0>)\n",
      "mle loss:  tensor(1.1412, grad_fn=<AddBackward0>)\n",
      "h_val:  tensor(0.0003, grad_fn=<AddBackward0>)\n"
     ]
    },
    {
     "name": "stderr",
     "output_type": "stream",
     "text": [
      " 71%|███████   | 20660/29000 [00:54<00:21, 387.37it/s]"
     ]
    },
    {
     "name": "stdout",
     "output_type": "stream",
     "text": [
      "Sigma:  tensor([[1.4245e-02, 7.3066e-03],\n",
      "        [7.3066e-03, 2.9778e+01]], grad_fn=<MmBackward0>)\n",
      "obj:  tensor(0.0118, grad_fn=<AddBackward0>)\n",
      "mle loss:  tensor(1.1415, grad_fn=<AddBackward0>)\n",
      "h_val:  tensor(0.0003, grad_fn=<AddBackward0>)\n"
     ]
    },
    {
     "name": "stderr",
     "output_type": "stream",
     "text": [
      " 72%|███████▏  | 20782/29000 [00:55<00:20, 399.33it/s]"
     ]
    },
    {
     "name": "stdout",
     "output_type": "stream",
     "text": [
      "Sigma:  tensor([[1.4245e-02, 7.3933e-03],\n",
      "        [7.3933e-03, 2.9787e+01]], grad_fn=<MmBackward0>)\n",
      "obj:  tensor(0.0118, grad_fn=<AddBackward0>)\n",
      "mle loss:  tensor(1.1418, grad_fn=<AddBackward0>)\n",
      "h_val:  tensor(0.0003, grad_fn=<AddBackward0>)\n"
     ]
    },
    {
     "name": "stderr",
     "output_type": "stream",
     "text": [
      " 72%|███████▏  | 20862/29000 [00:55<00:20, 396.81it/s]"
     ]
    },
    {
     "name": "stdout",
     "output_type": "stream",
     "text": [
      "Sigma:  tensor([[1.4245e-02, 7.4714e-03],\n",
      "        [7.4714e-03, 2.9794e+01]], grad_fn=<MmBackward0>)\n",
      "obj:  tensor(0.0118, grad_fn=<AddBackward0>)\n",
      "mle loss:  tensor(1.1420, grad_fn=<AddBackward0>)\n",
      "h_val:  tensor(0.0003, grad_fn=<AddBackward0>)\n"
     ]
    },
    {
     "name": "stderr",
     "output_type": "stream",
     "text": [
      " 72%|███████▏  | 20943/29000 [00:55<00:20, 397.35it/s]"
     ]
    },
    {
     "name": "stdout",
     "output_type": "stream",
     "text": [
      "Sigma:  tensor([[1.4245e-02, 7.5411e-03],\n",
      "        [7.5411e-03, 2.9799e+01]], grad_fn=<MmBackward0>)\n",
      "obj:  tensor(0.0118, grad_fn=<AddBackward0>)\n",
      "mle loss:  tensor(1.1422, grad_fn=<AddBackward0>)\n",
      "h_val:  tensor(0.0003, grad_fn=<AddBackward0>)\n"
     ]
    },
    {
     "name": "stderr",
     "output_type": "stream",
     "text": [
      " 73%|███████▎  | 21153/29000 [00:55<00:19, 404.93it/s]"
     ]
    },
    {
     "name": "stdout",
     "output_type": "stream",
     "text": [
      "Sigma:  tensor([[1.4158e-02, 7.7674e-03],\n",
      "        [7.7674e-03, 2.9979e+01]], grad_fn=<MmBackward0>)\n",
      "obj:  tensor(0.0016, grad_fn=<AddBackward0>)\n",
      "mle loss:  tensor(1.1336, grad_fn=<AddBackward0>)\n",
      "h_val:  tensor(0.0004, grad_fn=<AddBackward0>)\n"
     ]
    },
    {
     "name": "stderr",
     "output_type": "stream",
     "text": [
      " 73%|███████▎  | 21279/29000 [00:56<00:19, 401.24it/s]"
     ]
    },
    {
     "name": "stdout",
     "output_type": "stream",
     "text": [
      "Sigma:  tensor([[1.4141e-02, 7.6246e-03],\n",
      "        [7.6246e-03, 2.9989e+01]], grad_fn=<MmBackward0>)\n",
      "obj:  tensor(0.0014, grad_fn=<AddBackward0>)\n",
      "mle loss:  tensor(1.1508, grad_fn=<AddBackward0>)\n",
      "h_val:  tensor(0.0002, grad_fn=<AddBackward0>)\n"
     ]
    },
    {
     "name": "stderr",
     "output_type": "stream",
     "text": [
      " 74%|███████▎  | 21360/29000 [00:56<00:19, 391.36it/s]"
     ]
    },
    {
     "name": "stdout",
     "output_type": "stream",
     "text": [
      "Sigma:  tensor([[1.4152e-02, 7.3923e-03],\n",
      "        [7.3923e-03, 2.9975e+01]], grad_fn=<MmBackward0>)\n",
      "obj:  tensor(0.0013, grad_fn=<AddBackward0>)\n",
      "mle loss:  tensor(1.1681, grad_fn=<AddBackward0>)\n",
      "h_val:  tensor(0.0001, grad_fn=<AddBackward0>)\n"
     ]
    },
    {
     "name": "stderr",
     "output_type": "stream",
     "text": [
      " 74%|███████▍  | 21441/29000 [00:56<00:19, 393.41it/s]"
     ]
    },
    {
     "name": "stdout",
     "output_type": "stream",
     "text": [
      "Sigma:  tensor([[1.4192e-02, 7.0967e-03],\n",
      "        [7.0967e-03, 2.9978e+01]], grad_fn=<MmBackward0>)\n",
      "obj:  tensor(0.0013, grad_fn=<AddBackward0>)\n",
      "mle loss:  tensor(1.1797, grad_fn=<AddBackward0>)\n",
      "h_val:  tensor(0.0001, grad_fn=<AddBackward0>)\n"
     ]
    },
    {
     "name": "stderr",
     "output_type": "stream",
     "text": [
      " 74%|███████▍  | 21568/29000 [00:57<00:18, 406.16it/s]"
     ]
    },
    {
     "name": "stdout",
     "output_type": "stream",
     "text": [
      "Sigma:  tensor([[1.4250e-02, 6.7649e-03],\n",
      "        [6.7649e-03, 3.0019e+01]], grad_fn=<MmBackward0>)\n",
      "obj:  tensor(0.0013, grad_fn=<AddBackward0>)\n",
      "mle loss:  tensor(1.1825, grad_fn=<AddBackward0>)\n",
      "h_val:  tensor(8.1140e-05, grad_fn=<AddBackward0>)\n"
     ]
    },
    {
     "name": "stderr",
     "output_type": "stream",
     "text": [
      " 75%|███████▍  | 21650/29000 [00:57<00:18, 401.27it/s]"
     ]
    },
    {
     "name": "stdout",
     "output_type": "stream",
     "text": [
      "Sigma:  tensor([[1.4307e-02, 6.4111e-03],\n",
      "        [6.4111e-03, 3.0101e+01]], grad_fn=<MmBackward0>)\n",
      "obj:  tensor(0.0013, grad_fn=<AddBackward0>)\n",
      "mle loss:  tensor(1.1824, grad_fn=<AddBackward0>)\n",
      "h_val:  tensor(7.1239e-05, grad_fn=<AddBackward0>)\n"
     ]
    },
    {
     "name": "stderr",
     "output_type": "stream",
     "text": [
      " 75%|███████▌  | 21775/29000 [00:57<00:17, 402.77it/s]"
     ]
    },
    {
     "name": "stdout",
     "output_type": "stream",
     "text": [
      "Sigma:  tensor([[1.4354e-02, 6.0432e-03],\n",
      "        [6.0432e-03, 3.0207e+01]], grad_fn=<MmBackward0>)\n",
      "obj:  tensor(0.0013, grad_fn=<AddBackward0>)\n",
      "mle loss:  tensor(1.1835, grad_fn=<AddBackward0>)\n",
      "h_val:  tensor(6.2470e-05, grad_fn=<AddBackward0>)\n"
     ]
    },
    {
     "name": "stderr",
     "output_type": "stream",
     "text": [
      " 75%|███████▌  | 21857/29000 [00:57<00:18, 392.15it/s]"
     ]
    },
    {
     "name": "stdout",
     "output_type": "stream",
     "text": [
      "Sigma:  tensor([[1.4391e-02, 5.6687e-03],\n",
      "        [5.6687e-03, 3.0319e+01]], grad_fn=<MmBackward0>)\n",
      "obj:  tensor(0.0012, grad_fn=<AddBackward0>)\n",
      "mle loss:  tensor(1.1856, grad_fn=<AddBackward0>)\n",
      "h_val:  tensor(5.2279e-05, grad_fn=<AddBackward0>)\n"
     ]
    },
    {
     "name": "stderr",
     "output_type": "stream",
     "text": [
      " 76%|███████▌  | 21980/29000 [00:58<00:17, 400.37it/s]"
     ]
    },
    {
     "name": "stdout",
     "output_type": "stream",
     "text": [
      "Sigma:  tensor([[1.4422e-02, 5.2945e-03],\n",
      "        [5.2945e-03, 3.0421e+01]], grad_fn=<MmBackward0>)\n",
      "obj:  tensor(0.0012, grad_fn=<AddBackward0>)\n",
      "mle loss:  tensor(1.1869, grad_fn=<AddBackward0>)\n",
      "h_val:  tensor(4.4566e-05, grad_fn=<AddBackward0>)\n"
     ]
    },
    {
     "name": "stderr",
     "output_type": "stream",
     "text": [
      " 76%|███████▌  | 22061/29000 [00:58<00:17, 396.09it/s]"
     ]
    },
    {
     "name": "stdout",
     "output_type": "stream",
     "text": [
      "Sigma:  tensor([[1.4449e-02, 4.9250e-03],\n",
      "        [4.9250e-03, 3.0503e+01]], grad_fn=<MmBackward0>)\n",
      "obj:  tensor(0.0012, grad_fn=<AddBackward0>)\n",
      "mle loss:  tensor(1.1874, grad_fn=<AddBackward0>)\n",
      "h_val:  tensor(3.8505e-05, grad_fn=<AddBackward0>)\n"
     ]
    },
    {
     "name": "stderr",
     "output_type": "stream",
     "text": [
      " 76%|███████▌  | 22101/29000 [00:58<00:17, 388.38it/s]"
     ]
    },
    {
     "name": "stdout",
     "output_type": "stream",
     "text": [
      "Sigma:  tensor([[1.4469e-02, 4.5636e-03],\n",
      "        [4.5636e-03, 3.0567e+01]], grad_fn=<MmBackward0>)\n",
      "obj:  tensor(0.0012, grad_fn=<AddBackward0>)\n",
      "mle loss:  tensor(1.1884, grad_fn=<AddBackward0>)\n",
      "h_val:  tensor(3.2993e-05, grad_fn=<AddBackward0>)\n"
     ]
    },
    {
     "name": "stderr",
     "output_type": "stream",
     "text": [
      " 77%|███████▋  | 22265/29000 [00:58<00:19, 348.02it/s]"
     ]
    },
    {
     "name": "stdout",
     "output_type": "stream",
     "text": [
      "Sigma:  tensor([[1.4482e-02, 4.2135e-03],\n",
      "        [4.2135e-03, 3.0619e+01]], grad_fn=<MmBackward0>)\n",
      "obj:  tensor(0.0012, grad_fn=<AddBackward0>)\n",
      "mle loss:  tensor(1.1899, grad_fn=<AddBackward0>)\n",
      "h_val:  tensor(2.7750e-05, grad_fn=<AddBackward0>)\n"
     ]
    },
    {
     "name": "stderr",
     "output_type": "stream",
     "text": [
      " 77%|███████▋  | 22342/29000 [00:59<00:18, 353.12it/s]"
     ]
    },
    {
     "name": "stdout",
     "output_type": "stream",
     "text": [
      "Sigma:  tensor([[1.4491e-02, 3.8776e-03],\n",
      "        [3.8776e-03, 3.0664e+01]], grad_fn=<MmBackward0>)\n",
      "obj:  tensor(0.0012, grad_fn=<AddBackward0>)\n",
      "mle loss:  tensor(1.1912, grad_fn=<AddBackward0>)\n",
      "h_val:  tensor(2.3416e-05, grad_fn=<AddBackward0>)\n"
     ]
    },
    {
     "name": "stderr",
     "output_type": "stream",
     "text": [
      " 77%|███████▋  | 22467/29000 [00:59<00:16, 385.81it/s]"
     ]
    },
    {
     "name": "stdout",
     "output_type": "stream",
     "text": [
      "Sigma:  tensor([[1.4497e-02, 3.5581e-03],\n",
      "        [3.5581e-03, 3.0704e+01]], grad_fn=<MmBackward0>)\n",
      "obj:  tensor(0.0012, grad_fn=<AddBackward0>)\n",
      "mle loss:  tensor(1.1921, grad_fn=<AddBackward0>)\n",
      "h_val:  tensor(2.0082e-05, grad_fn=<AddBackward0>)\n"
     ]
    },
    {
     "name": "stderr",
     "output_type": "stream",
     "text": [
      " 78%|███████▊  | 22546/29000 [00:59<00:16, 383.69it/s]"
     ]
    },
    {
     "name": "stdout",
     "output_type": "stream",
     "text": [
      "Sigma:  tensor([[1.4501e-02, 3.2566e-03],\n",
      "        [3.2566e-03, 3.0741e+01]], grad_fn=<MmBackward0>)\n",
      "obj:  tensor(0.0012, grad_fn=<AddBackward0>)\n",
      "mle loss:  tensor(1.1929, grad_fn=<AddBackward0>)\n",
      "h_val:  tensor(1.7385e-05, grad_fn=<AddBackward0>)\n"
     ]
    },
    {
     "name": "stderr",
     "output_type": "stream",
     "text": [
      " 78%|███████▊  | 22671/29000 [01:00<00:15, 398.46it/s]"
     ]
    },
    {
     "name": "stdout",
     "output_type": "stream",
     "text": [
      "Sigma:  tensor([[1.4502e-02, 2.9747e-03],\n",
      "        [2.9747e-03, 3.0773e+01]], grad_fn=<MmBackward0>)\n",
      "obj:  tensor(0.0012, grad_fn=<AddBackward0>)\n",
      "mle loss:  tensor(1.1936, grad_fn=<AddBackward0>)\n",
      "h_val:  tensor(1.5150e-05, grad_fn=<AddBackward0>)\n"
     ]
    },
    {
     "name": "stderr",
     "output_type": "stream",
     "text": [
      " 78%|███████▊  | 22752/29000 [01:00<00:15, 393.14it/s]"
     ]
    },
    {
     "name": "stdout",
     "output_type": "stream",
     "text": [
      "Sigma:  tensor([[1.4503e-02, 2.7135e-03],\n",
      "        [2.7135e-03, 3.0800e+01]], grad_fn=<MmBackward0>)\n",
      "obj:  tensor(0.0012, grad_fn=<AddBackward0>)\n",
      "mle loss:  tensor(1.1943, grad_fn=<AddBackward0>)\n",
      "h_val:  tensor(1.3363e-05, grad_fn=<AddBackward0>)\n"
     ]
    },
    {
     "name": "stderr",
     "output_type": "stream",
     "text": [
      " 79%|███████▉  | 22878/29000 [01:00<00:15, 404.05it/s]"
     ]
    },
    {
     "name": "stdout",
     "output_type": "stream",
     "text": [
      "Sigma:  tensor([[1.4503e-02, 2.4739e-03],\n",
      "        [2.4739e-03, 3.0824e+01]], grad_fn=<MmBackward0>)\n",
      "obj:  tensor(0.0012, grad_fn=<AddBackward0>)\n",
      "mle loss:  tensor(1.1948, grad_fn=<AddBackward0>)\n",
      "h_val:  tensor(1.1924e-05, grad_fn=<AddBackward0>)\n"
     ]
    },
    {
     "name": "stderr",
     "output_type": "stream",
     "text": [
      " 79%|███████▉  | 22959/29000 [01:00<00:15, 390.69it/s]"
     ]
    },
    {
     "name": "stdout",
     "output_type": "stream",
     "text": [
      "Sigma:  tensor([[1.4503e-02, 2.2563e-03],\n",
      "        [2.2563e-03, 3.0845e+01]], grad_fn=<MmBackward0>)\n",
      "obj:  tensor(0.0012, grad_fn=<AddBackward0>)\n",
      "mle loss:  tensor(1.1953, grad_fn=<AddBackward0>)\n",
      "h_val:  tensor(1.0745e-05, grad_fn=<AddBackward0>)\n"
     ]
    },
    {
     "name": "stderr",
     "output_type": "stream",
     "text": [
      " 80%|███████▉  | 23082/29000 [01:01<00:14, 401.06it/s]"
     ]
    },
    {
     "name": "stdout",
     "output_type": "stream",
     "text": [
      "Sigma:  tensor([[1.4502e-02, 2.0611e-03],\n",
      "        [2.0611e-03, 3.0862e+01]], grad_fn=<MmBackward0>)\n",
      "obj:  tensor(0.0012, grad_fn=<AddBackward0>)\n",
      "mle loss:  tensor(1.1956, grad_fn=<AddBackward0>)\n",
      "h_val:  tensor(9.7957e-06, grad_fn=<AddBackward0>)\n"
     ]
    },
    {
     "name": "stderr",
     "output_type": "stream",
     "text": [
      " 80%|███████▉  | 23164/29000 [01:01<00:14, 396.76it/s]"
     ]
    },
    {
     "name": "stdout",
     "output_type": "stream",
     "text": [
      "Sigma:  tensor([[1.4502e-02, 1.8880e-03],\n",
      "        [1.8880e-03, 3.0876e+01]], grad_fn=<MmBackward0>)\n",
      "obj:  tensor(0.0012, grad_fn=<AddBackward0>)\n",
      "mle loss:  tensor(1.1959, grad_fn=<AddBackward0>)\n",
      "h_val:  tensor(9.0191e-06, grad_fn=<AddBackward0>)\n"
     ]
    },
    {
     "name": "stderr",
     "output_type": "stream",
     "text": [
      " 80%|████████  | 23245/29000 [01:01<00:14, 395.69it/s]"
     ]
    },
    {
     "name": "stdout",
     "output_type": "stream",
     "text": [
      "Sigma:  tensor([[1.4502e-02, 1.7364e-03],\n",
      "        [1.7364e-03, 3.0887e+01]], grad_fn=<MmBackward0>)\n",
      "obj:  tensor(0.0012, grad_fn=<AddBackward0>)\n",
      "mle loss:  tensor(1.1962, grad_fn=<AddBackward0>)\n",
      "h_val:  tensor(8.3630e-06, grad_fn=<AddBackward0>)\n"
     ]
    },
    {
     "name": "stderr",
     "output_type": "stream",
     "text": [
      " 81%|████████  | 23371/29000 [01:01<00:13, 403.95it/s]"
     ]
    },
    {
     "name": "stdout",
     "output_type": "stream",
     "text": [
      "Sigma:  tensor([[1.4501e-02, 1.6056e-03],\n",
      "        [1.6056e-03, 3.0896e+01]], grad_fn=<MmBackward0>)\n",
      "obj:  tensor(0.0012, grad_fn=<AddBackward0>)\n",
      "mle loss:  tensor(1.1964, grad_fn=<AddBackward0>)\n",
      "h_val:  tensor(7.8062e-06, grad_fn=<AddBackward0>)\n"
     ]
    },
    {
     "name": "stderr",
     "output_type": "stream",
     "text": [
      " 81%|████████  | 23452/29000 [01:01<00:14, 389.12it/s]"
     ]
    },
    {
     "name": "stdout",
     "output_type": "stream",
     "text": [
      "Sigma:  tensor([[1.4501e-02, 1.4943e-03],\n",
      "        [1.4943e-03, 3.0903e+01]], grad_fn=<MmBackward0>)\n",
      "obj:  tensor(0.0012, grad_fn=<AddBackward0>)\n",
      "mle loss:  tensor(1.1965, grad_fn=<AddBackward0>)\n",
      "h_val:  tensor(7.3269e-06, grad_fn=<AddBackward0>)\n"
     ]
    },
    {
     "name": "stderr",
     "output_type": "stream",
     "text": [
      " 81%|████████▏ | 23574/29000 [01:02<00:13, 400.05it/s]"
     ]
    },
    {
     "name": "stdout",
     "output_type": "stream",
     "text": [
      "Sigma:  tensor([[1.4501e-02, 1.4011e-03],\n",
      "        [1.4011e-03, 3.0908e+01]], grad_fn=<MmBackward0>)\n",
      "obj:  tensor(0.0012, grad_fn=<AddBackward0>)\n",
      "mle loss:  tensor(1.1966, grad_fn=<AddBackward0>)\n",
      "h_val:  tensor(6.9079e-06, grad_fn=<AddBackward0>)\n"
     ]
    },
    {
     "name": "stderr",
     "output_type": "stream",
     "text": [
      " 82%|████████▏ | 23656/29000 [01:02<00:13, 397.32it/s]"
     ]
    },
    {
     "name": "stdout",
     "output_type": "stream",
     "text": [
      "Sigma:  tensor([[1.4501e-02, 1.3243e-03],\n",
      "        [1.3243e-03, 3.0912e+01]], grad_fn=<MmBackward0>)\n",
      "obj:  tensor(0.0012, grad_fn=<AddBackward0>)\n",
      "mle loss:  tensor(1.1967, grad_fn=<AddBackward0>)\n",
      "h_val:  tensor(6.5383e-06, grad_fn=<AddBackward0>)\n"
     ]
    },
    {
     "name": "stderr",
     "output_type": "stream",
     "text": [
      " 82%|████████▏ | 23780/29000 [01:02<00:12, 405.00it/s]"
     ]
    },
    {
     "name": "stdout",
     "output_type": "stream",
     "text": [
      "Sigma:  tensor([[1.4501e-02, 1.2621e-03],\n",
      "        [1.2621e-03, 3.0915e+01]], grad_fn=<MmBackward0>)\n",
      "obj:  tensor(0.0012, grad_fn=<AddBackward0>)\n",
      "mle loss:  tensor(1.1967, grad_fn=<AddBackward0>)\n",
      "h_val:  tensor(6.2076e-06, grad_fn=<AddBackward0>)\n"
     ]
    },
    {
     "name": "stderr",
     "output_type": "stream",
     "text": [
      " 82%|████████▏ | 23862/29000 [01:03<00:12, 396.95it/s]"
     ]
    },
    {
     "name": "stdout",
     "output_type": "stream",
     "text": [
      "Sigma:  tensor([[1.4500e-02, 1.2127e-03],\n",
      "        [1.2127e-03, 3.0917e+01]], grad_fn=<MmBackward0>)\n",
      "obj:  tensor(0.0012, grad_fn=<AddBackward0>)\n",
      "mle loss:  tensor(1.1968, grad_fn=<AddBackward0>)\n",
      "h_val:  tensor(5.9101e-06, grad_fn=<AddBackward0>)\n"
     ]
    },
    {
     "name": "stderr",
     "output_type": "stream",
     "text": [
      " 83%|████████▎ | 23943/29000 [01:03<00:12, 389.26it/s]"
     ]
    },
    {
     "name": "stdout",
     "output_type": "stream",
     "text": [
      "Sigma:  tensor([[1.4500e-02, 1.1741e-03],\n",
      "        [1.1741e-03, 3.0918e+01]], grad_fn=<MmBackward0>)\n",
      "obj:  tensor(0.0012, grad_fn=<AddBackward0>)\n",
      "mle loss:  tensor(1.1968, grad_fn=<AddBackward0>)\n",
      "h_val:  tensor(5.6406e-06, grad_fn=<AddBackward0>)\n"
     ]
    },
    {
     "name": "stderr",
     "output_type": "stream",
     "text": [
      " 83%|████████▎ | 24069/29000 [01:03<00:12, 402.81it/s]"
     ]
    },
    {
     "name": "stdout",
     "output_type": "stream",
     "text": [
      "Sigma:  tensor([[1.4500e-02, 1.1445e-03],\n",
      "        [1.1445e-03, 3.0919e+01]], grad_fn=<MmBackward0>)\n",
      "obj:  tensor(0.0012, grad_fn=<AddBackward0>)\n",
      "mle loss:  tensor(1.1968, grad_fn=<AddBackward0>)\n",
      "h_val:  tensor(5.3949e-06, grad_fn=<AddBackward0>)\n"
     ]
    },
    {
     "name": "stderr",
     "output_type": "stream",
     "text": [
      " 83%|████████▎ | 24151/29000 [01:03<00:12, 397.12it/s]"
     ]
    },
    {
     "name": "stdout",
     "output_type": "stream",
     "text": [
      "Sigma:  tensor([[1.4500e-02, 1.1222e-03],\n",
      "        [1.1222e-03, 3.0920e+01]], grad_fn=<MmBackward0>)\n",
      "obj:  tensor(0.0012, grad_fn=<AddBackward0>)\n",
      "mle loss:  tensor(1.1968, grad_fn=<AddBackward0>)\n",
      "h_val:  tensor(5.1701e-06, grad_fn=<AddBackward0>)\n"
     ]
    },
    {
     "name": "stderr",
     "output_type": "stream",
     "text": [
      " 84%|████████▎ | 24275/29000 [01:04<00:11, 399.28it/s]"
     ]
    },
    {
     "name": "stdout",
     "output_type": "stream",
     "text": [
      "Sigma:  tensor([[1.4500e-02, 1.1056e-03],\n",
      "        [1.1056e-03, 3.0920e+01]], grad_fn=<MmBackward0>)\n",
      "obj:  tensor(0.0012, grad_fn=<AddBackward0>)\n",
      "mle loss:  tensor(1.1968, grad_fn=<AddBackward0>)\n",
      "h_val:  tensor(4.9639e-06, grad_fn=<AddBackward0>)\n"
     ]
    },
    {
     "name": "stderr",
     "output_type": "stream",
     "text": [
      " 84%|████████▍ | 24356/29000 [01:04<00:11, 392.47it/s]"
     ]
    },
    {
     "name": "stdout",
     "output_type": "stream",
     "text": [
      "Sigma:  tensor([[1.4500e-02, 1.0934e-03],\n",
      "        [1.0934e-03, 3.0921e+01]], grad_fn=<MmBackward0>)\n",
      "obj:  tensor(0.0012, grad_fn=<AddBackward0>)\n",
      "mle loss:  tensor(1.1969, grad_fn=<AddBackward0>)\n",
      "h_val:  tensor(4.7745e-06, grad_fn=<AddBackward0>)\n"
     ]
    },
    {
     "name": "stderr",
     "output_type": "stream",
     "text": [
      " 84%|████████▍ | 24435/29000 [01:04<00:12, 375.16it/s]"
     ]
    },
    {
     "name": "stdout",
     "output_type": "stream",
     "text": [
      "Sigma:  tensor([[1.4500e-02, 1.0845e-03],\n",
      "        [1.0845e-03, 3.0921e+01]], grad_fn=<MmBackward0>)\n",
      "obj:  tensor(0.0012, grad_fn=<AddBackward0>)\n",
      "mle loss:  tensor(1.1969, grad_fn=<AddBackward0>)\n",
      "h_val:  tensor(4.6007e-06, grad_fn=<AddBackward0>)\n"
     ]
    },
    {
     "name": "stderr",
     "output_type": "stream",
     "text": [
      " 85%|████████▍ | 24560/29000 [01:04<00:11, 396.87it/s]"
     ]
    },
    {
     "name": "stdout",
     "output_type": "stream",
     "text": [
      "Sigma:  tensor([[1.4500e-02, 1.0779e-03],\n",
      "        [1.0779e-03, 3.0922e+01]], grad_fn=<MmBackward0>)\n",
      "obj:  tensor(0.0012, grad_fn=<AddBackward0>)\n",
      "mle loss:  tensor(1.1969, grad_fn=<AddBackward0>)\n",
      "h_val:  tensor(4.4414e-06, grad_fn=<AddBackward0>)\n"
     ]
    },
    {
     "name": "stderr",
     "output_type": "stream",
     "text": [
      " 85%|████████▍ | 24640/29000 [01:05<00:11, 393.03it/s]"
     ]
    },
    {
     "name": "stdout",
     "output_type": "stream",
     "text": [
      "Sigma:  tensor([[1.4500e-02, 1.0728e-03],\n",
      "        [1.0728e-03, 3.0922e+01]], grad_fn=<MmBackward0>)\n",
      "obj:  tensor(0.0012, grad_fn=<AddBackward0>)\n",
      "mle loss:  tensor(1.1969, grad_fn=<AddBackward0>)\n",
      "h_val:  tensor(4.2959e-06, grad_fn=<AddBackward0>)\n"
     ]
    },
    {
     "name": "stderr",
     "output_type": "stream",
     "text": [
      " 85%|████████▌ | 24768/29000 [01:05<00:10, 386.85it/s]"
     ]
    },
    {
     "name": "stdout",
     "output_type": "stream",
     "text": [
      "Sigma:  tensor([[1.4500e-02, 1.0689e-03],\n",
      "        [1.0689e-03, 3.0922e+01]], grad_fn=<MmBackward0>)\n",
      "obj:  tensor(0.0012, grad_fn=<AddBackward0>)\n",
      "mle loss:  tensor(1.1969, grad_fn=<AddBackward0>)\n",
      "h_val:  tensor(4.1635e-06, grad_fn=<AddBackward0>)\n"
     ]
    },
    {
     "name": "stderr",
     "output_type": "stream",
     "text": [
      " 86%|████████▌ | 24849/29000 [01:05<00:10, 388.75it/s]"
     ]
    },
    {
     "name": "stdout",
     "output_type": "stream",
     "text": [
      "Sigma:  tensor([[1.4500e-02, 1.0656e-03],\n",
      "        [1.0656e-03, 3.0923e+01]], grad_fn=<MmBackward0>)\n",
      "obj:  tensor(0.0012, grad_fn=<AddBackward0>)\n",
      "mle loss:  tensor(1.1969, grad_fn=<AddBackward0>)\n",
      "h_val:  tensor(4.0433e-06, grad_fn=<AddBackward0>)\n"
     ]
    },
    {
     "name": "stderr",
     "output_type": "stream",
     "text": [
      " 86%|████████▌ | 24970/29000 [01:05<00:10, 389.39it/s]"
     ]
    },
    {
     "name": "stdout",
     "output_type": "stream",
     "text": [
      "Sigma:  tensor([[1.4500e-02, 1.0628e-03],\n",
      "        [1.0628e-03, 3.0923e+01]], grad_fn=<MmBackward0>)\n",
      "obj:  tensor(0.0012, grad_fn=<AddBackward0>)\n",
      "mle loss:  tensor(1.1970, grad_fn=<AddBackward0>)\n",
      "h_val:  tensor(3.9348e-06, grad_fn=<AddBackward0>)\n"
     ]
    },
    {
     "name": "stderr",
     "output_type": "stream",
     "text": [
      " 86%|████████▋ | 25049/29000 [01:06<00:10, 383.21it/s]"
     ]
    },
    {
     "name": "stdout",
     "output_type": "stream",
     "text": [
      "Sigma:  tensor([[1.4500e-02, 1.0603e-03],\n",
      "        [1.0603e-03, 3.0924e+01]], grad_fn=<MmBackward0>)\n",
      "obj:  tensor(0.0012, grad_fn=<AddBackward0>)\n",
      "mle loss:  tensor(1.1970, grad_fn=<AddBackward0>)\n",
      "h_val:  tensor(3.8372e-06, grad_fn=<AddBackward0>)\n"
     ]
    },
    {
     "name": "stderr",
     "output_type": "stream",
     "text": [
      " 87%|████████▋ | 25171/29000 [01:06<00:09, 395.95it/s]"
     ]
    },
    {
     "name": "stdout",
     "output_type": "stream",
     "text": [
      "Sigma:  tensor([[1.4500e-02, 1.0580e-03],\n",
      "        [1.0580e-03, 3.0924e+01]], grad_fn=<MmBackward0>)\n",
      "obj:  tensor(0.0012, grad_fn=<AddBackward0>)\n",
      "mle loss:  tensor(1.1970, grad_fn=<AddBackward0>)\n",
      "h_val:  tensor(3.7496e-06, grad_fn=<AddBackward0>)\n"
     ]
    },
    {
     "name": "stderr",
     "output_type": "stream",
     "text": [
      " 87%|████████▋ | 25250/29000 [01:06<00:09, 382.36it/s]"
     ]
    },
    {
     "name": "stdout",
     "output_type": "stream",
     "text": [
      "Sigma:  tensor([[1.4501e-02, 1.0560e-03],\n",
      "        [1.0560e-03, 3.0924e+01]], grad_fn=<MmBackward0>)\n",
      "obj:  tensor(0.0012, grad_fn=<AddBackward0>)\n",
      "mle loss:  tensor(1.1970, grad_fn=<AddBackward0>)\n",
      "h_val:  tensor(3.6713e-06, grad_fn=<AddBackward0>)\n"
     ]
    },
    {
     "name": "stderr",
     "output_type": "stream",
     "text": [
      " 87%|████████▋ | 25370/29000 [01:06<00:09, 390.37it/s]"
     ]
    },
    {
     "name": "stdout",
     "output_type": "stream",
     "text": [
      "Sigma:  tensor([[1.4501e-02, 1.0542e-03],\n",
      "        [1.0542e-03, 3.0924e+01]], grad_fn=<MmBackward0>)\n",
      "obj:  tensor(0.0012, grad_fn=<AddBackward0>)\n",
      "mle loss:  tensor(1.1970, grad_fn=<AddBackward0>)\n",
      "h_val:  tensor(3.6014e-06, grad_fn=<AddBackward0>)\n"
     ]
    },
    {
     "name": "stderr",
     "output_type": "stream",
     "text": [
      " 88%|████████▊ | 25453/29000 [01:07<00:08, 402.71it/s]"
     ]
    },
    {
     "name": "stdout",
     "output_type": "stream",
     "text": [
      "Sigma:  tensor([[1.4501e-02, 1.0526e-03],\n",
      "        [1.0526e-03, 3.0925e+01]], grad_fn=<MmBackward0>)\n",
      "obj:  tensor(0.0012, grad_fn=<AddBackward0>)\n",
      "mle loss:  tensor(1.1970, grad_fn=<AddBackward0>)\n",
      "h_val:  tensor(3.5392e-06, grad_fn=<AddBackward0>)\n"
     ]
    },
    {
     "name": "stderr",
     "output_type": "stream",
     "text": [
      " 88%|████████▊ | 25584/29000 [01:07<00:08, 423.32it/s]"
     ]
    },
    {
     "name": "stdout",
     "output_type": "stream",
     "text": [
      "Sigma:  tensor([[1.4501e-02, 1.0511e-03],\n",
      "        [1.0511e-03, 3.0925e+01]], grad_fn=<MmBackward0>)\n",
      "obj:  tensor(0.0012, grad_fn=<AddBackward0>)\n",
      "mle loss:  tensor(1.1971, grad_fn=<AddBackward0>)\n",
      "h_val:  tensor(3.4839e-06, grad_fn=<AddBackward0>)\n"
     ]
    },
    {
     "name": "stderr",
     "output_type": "stream",
     "text": [
      " 89%|████████▊ | 25671/29000 [01:07<00:07, 426.57it/s]"
     ]
    },
    {
     "name": "stdout",
     "output_type": "stream",
     "text": [
      "Sigma:  tensor([[1.4501e-02, 1.0499e-03],\n",
      "        [1.0499e-03, 3.0925e+01]], grad_fn=<MmBackward0>)\n",
      "obj:  tensor(0.0012, grad_fn=<AddBackward0>)\n",
      "mle loss:  tensor(1.1971, grad_fn=<AddBackward0>)\n",
      "h_val:  tensor(3.4347e-06, grad_fn=<AddBackward0>)\n"
     ]
    },
    {
     "name": "stderr",
     "output_type": "stream",
     "text": [
      " 89%|████████▉ | 25758/29000 [01:07<00:07, 429.34it/s]"
     ]
    },
    {
     "name": "stdout",
     "output_type": "stream",
     "text": [
      "Sigma:  tensor([[1.4501e-02, 1.0488e-03],\n",
      "        [1.0488e-03, 3.0926e+01]], grad_fn=<MmBackward0>)\n",
      "obj:  tensor(0.0012, grad_fn=<AddBackward0>)\n",
      "mle loss:  tensor(1.1971, grad_fn=<AddBackward0>)\n",
      "h_val:  tensor(3.3910e-06, grad_fn=<AddBackward0>)\n"
     ]
    },
    {
     "name": "stderr",
     "output_type": "stream",
     "text": [
      " 89%|████████▉ | 25844/29000 [01:08<00:07, 424.47it/s]"
     ]
    },
    {
     "name": "stdout",
     "output_type": "stream",
     "text": [
      "Sigma:  tensor([[1.4501e-02, 1.0478e-03],\n",
      "        [1.0478e-03, 3.0926e+01]], grad_fn=<MmBackward0>)\n",
      "obj:  tensor(0.0012, grad_fn=<AddBackward0>)\n",
      "mle loss:  tensor(1.1971, grad_fn=<AddBackward0>)\n",
      "h_val:  tensor(3.3522e-06, grad_fn=<AddBackward0>)\n"
     ]
    },
    {
     "name": "stderr",
     "output_type": "stream",
     "text": [
      " 90%|████████▉ | 25977/29000 [01:08<00:06, 434.15it/s]"
     ]
    },
    {
     "name": "stdout",
     "output_type": "stream",
     "text": [
      "Sigma:  tensor([[1.4501e-02, 1.0470e-03],\n",
      "        [1.0470e-03, 3.0926e+01]], grad_fn=<MmBackward0>)\n",
      "obj:  tensor(0.0012, grad_fn=<AddBackward0>)\n",
      "mle loss:  tensor(1.1971, grad_fn=<AddBackward0>)\n",
      "h_val:  tensor(3.3177e-06, grad_fn=<AddBackward0>)\n"
     ]
    },
    {
     "name": "stderr",
     "output_type": "stream",
     "text": [
      "100%|██████████| 29000/29000 [01:08<00:00, 424.15it/s]"
     ]
    },
    {
     "name": "stdout",
     "output_type": "stream",
     "text": [
      "Sigma:  tensor([[1.4501e-02, 1.0462e-03],\n",
      "        [1.0462e-03, 3.0926e+01]], grad_fn=<MmBackward0>)\n",
      "obj:  tensor(0.0012, grad_fn=<AddBackward0>)\n",
      "mle loss:  tensor(1.1971, grad_fn=<AddBackward0>)\n",
      "h_val:  tensor(3.2869e-06, grad_fn=<AddBackward0>)\n"
     ]
    },
    {
     "name": "stderr",
     "output_type": "stream",
     "text": [
      "\n"
     ]
    }
   ],
   "source": [
    "eq_model = nonlinear_dce.DagmaMLP_DCE(\n",
    "    dims=[d, 10, 1], bias=True)\n",
    "model = nonlinear_dce.DagmaDCE(eq_model, use_mle_loss=True)\n",
    "W_est_dce_no_thresh, W2, x_est = model.fit(X, lambda1=3.5e-2, lambda2=5e-3,\n",
    "                                lr=2e-4, mu_factor=0.1, mu_init=1, T=4, warm_iter=7000, max_iter=8000)\n"
   ]
  },
  {
   "cell_type": "code",
   "execution_count": 14,
   "metadata": {},
   "outputs": [
    {
     "name": "stdout",
     "output_type": "stream",
     "text": [
      "W_est_dce_no_thresh:  tensor([[0.0011, 0.0073],\n",
      "        [0.1215, 0.0012]], grad_fn=<SqrtBackward0>)\n"
     ]
    }
   ],
   "source": [
    "print(\"W_est_dce_no_thresh: \", W_est_dce_no_thresh)"
   ]
  },
  {
   "cell_type": "code",
   "execution_count": 15,
   "metadata": {},
   "outputs": [
    {
     "data": {
      "image/png": "[encoded data removed]",
      "text/plain": [
       "<Figure size 1000x600 with 1 Axes>"
      ]
     },
     "metadata": {},
     "output_type": "display_data"
    },
    {
     "name": "stdout",
     "output_type": "stream",
     "text": [
      "The programm is closed\n"
     ]
    }
   ],
   "source": [
    "plt.figure(figsize=(10, 6))  # Optional: specifies the figure size\n",
    "plt.scatter(X.detach().numpy()[:, 0], X.detach().numpy()[:, 1], label='y', color='blue', marker='o')  # Plot x vs. y1\n",
    "plt.scatter(X.detach().numpy()[:, 0], x_est.detach().numpy()[:, 1], label='y_est', color='red', marker='s') \n",
    "plt.scatter(X.detach().numpy()[:, 0], X_true.detach().numpy()[:, 1], label='y_noise', color='green', marker='s') \n",
    "plt.xlabel('x')\n",
    "plt.ylabel('y')\n",
    "plt.legend()\n",
    "plt.show()\n",
    "print(\"The programm is closed\")"
   ]
  },
  {
   "cell_type": "code",
   "execution_count": 16,
   "metadata": {},
   "outputs": [
    {
     "data": {
      "image/png": "[encoded data removed]",
      "text/plain": [
       "<Figure size 1000x600 with 1 Axes>"
      ]
     },
     "metadata": {},
     "output_type": "display_data"
    },
    {
     "name": "stdout",
     "output_type": "stream",
     "text": [
      "The programm is closed\n"
     ]
    }
   ],
   "source": [
    "plt.figure(figsize=(10, 6))  # Optional: specifies the figure size\n",
    "plt.scatter(X.detach().numpy()[:, 1], x_est.detach().numpy()[:, 0], label='x_est', color='red', marker='s') \n",
    "plt.scatter(X.detach().numpy()[:, 1], X.detach().numpy()[:, 0], label='x', color='green', marker='o')\n",
    "plt.xlabel('x')\n",
    "plt.ylabel('y')\n",
    "plt.legend()\n",
    "plt.show()\n",
    "print(\"The programm is closed\")"
   ]
  },
  {
   "cell_type": "markdown",
   "metadata": {},
   "source": [
    "### DAGMA init"
   ]
  },
  {
   "cell_type": "code",
   "execution_count": 17,
   "metadata": {},
   "outputs": [],
   "source": [
    "np.random.seed(0)\n",
    "n_samples = 1000  # Number of samples\n",
    "dim = 2  # Dimension of the normal vectors\n",
    "d = 2\n",
    "# Random data for X and X_hat\n",
    "True_Sigma = np.array([[0.5, 0.0],    # Variance of X is 1, covariance between X and Y is 0.8\n",
    "                [0.0, 1.5]])   # Variance of Y is 1, covariance between Y and X is 0.8\n",
    "epsilon = np.random.multivariate_normal([0] * dim, True_Sigma, size=n_samples) #[n, d]\n",
    "epsilon = torch.tensor(epsilon, dtype=torch.float64)\n",
    "x1 = epsilon[:, 0]\n",
    "# x1 = torch.randn(n_samples)\n",
    "x1_true = epsilon[:, 0]\n",
    "x2 = 10*torch.sin(x1)\n",
    "# Step 4: Combine these results into a new tensor of shape [n, 2]\n",
    "X = torch.stack((x1, x2), dim=1)\n",
    "x2_true = 10*torch.sin(x1)+ epsilon[:, 1]\n",
    "X_true = torch.stack((x1_true, x2_true), dim=1)"
   ]
  },
  {
   "cell_type": "code",
   "execution_count": 18,
   "metadata": {},
   "outputs": [
    {
     "name": "stderr",
     "output_type": "stream",
     "text": [
      "100%|██████████| 80000/80000 [00:10<00:00, 7521.08it/s]\n",
      "  1%|          | 161/29000 [00:00<01:11, 401.56it/s]"
     ]
    },
    {
     "name": "stdout",
     "output_type": "stream",
     "text": [
      "Sigma:  tensor([[9.6082e-01, 3.8500e-04],\n",
      "        [3.8500e-04, 9.6079e-01]], grad_fn=<MmBackward0>)\n",
      "obj:  tensor(0.7165, grad_fn=<AddBackward0>)\n",
      "mle loss:  tensor(0.4550, grad_fn=<AddBackward0>)\n",
      "h_val:  tensor(0.0066, grad_fn=<AddBackward0>)\n"
     ]
    },
    {
     "name": "stderr",
     "output_type": "stream",
     "text": [
      "  1%|          | 241/29000 [00:00<01:16, 375.20it/s]"
     ]
    },
    {
     "name": "stdout",
     "output_type": "stream",
     "text": [
      "Sigma:  tensor([[9.2332e-01, 2.1585e-04],\n",
      "        [2.1585e-04, 9.2311e-01]], grad_fn=<MmBackward0>)\n",
      "obj:  tensor(0.6445, grad_fn=<AddBackward0>)\n",
      "mle loss:  tensor(0.3839, grad_fn=<AddBackward0>)\n",
      "h_val:  tensor(0.0098, grad_fn=<AddBackward0>)\n"
     ]
    },
    {
     "name": "stderr",
     "output_type": "stream",
     "text": [
      "  1%|          | 359/29000 [00:00<01:15, 378.28it/s]"
     ]
    },
    {
     "name": "stdout",
     "output_type": "stream",
     "text": [
      "Sigma:  tensor([[8.8737e-01, 3.1645e-04],\n",
      "        [3.1645e-04, 8.8693e-01]], grad_fn=<MmBackward0>)\n",
      "obj:  tensor(0.5648, grad_fn=<AddBackward0>)\n",
      "mle loss:  tensor(0.3029, grad_fn=<AddBackward0>)\n",
      "h_val:  tensor(0.0144, grad_fn=<AddBackward0>)\n"
     ]
    },
    {
     "name": "stderr",
     "output_type": "stream",
     "text": [
      "  2%|▏         | 476/29000 [00:01<01:14, 381.18it/s]"
     ]
    },
    {
     "name": "stdout",
     "output_type": "stream",
     "text": [
      "Sigma:  tensor([[8.5273e-01, 2.1796e-04],\n",
      "        [2.1796e-04, 8.5218e-01]], grad_fn=<MmBackward0>)\n",
      "obj:  tensor(0.4778, grad_fn=<AddBackward0>)\n",
      "mle loss:  tensor(0.2122, grad_fn=<AddBackward0>)\n",
      "h_val:  tensor(0.0208, grad_fn=<AddBackward0>)\n"
     ]
    },
    {
     "name": "stderr",
     "output_type": "stream",
     "text": [
      "  2%|▏         | 553/29000 [00:01<01:16, 373.85it/s]"
     ]
    },
    {
     "name": "stdout",
     "output_type": "stream",
     "text": [
      "Sigma:  tensor([[8.1906e-01, 2.3075e-04],\n",
      "        [2.3075e-04, 8.1882e-01]], grad_fn=<MmBackward0>)\n",
      "obj:  tensor(0.3856, grad_fn=<AddBackward0>)\n",
      "mle loss:  tensor(0.1134, grad_fn=<AddBackward0>)\n",
      "h_val:  tensor(0.0294, grad_fn=<AddBackward0>)\n"
     ]
    },
    {
     "name": "stderr",
     "output_type": "stream",
     "text": [
      "  2%|▏         | 670/29000 [00:01<01:14, 379.80it/s]"
     ]
    },
    {
     "name": "stdout",
     "output_type": "stream",
     "text": [
      "Sigma:  tensor([[7.8614e-01, 2.8485e-04],\n",
      "        [2.8485e-04, 7.8677e-01]], grad_fn=<MmBackward0>)\n",
      "obj:  tensor(0.2897, grad_fn=<AddBackward0>)\n",
      "mle loss:  tensor(0.0081, grad_fn=<AddBackward0>)\n",
      "h_val:  tensor(0.0408, grad_fn=<AddBackward0>)\n"
     ]
    },
    {
     "name": "stderr",
     "output_type": "stream",
     "text": [
      "  3%|▎         | 748/29000 [00:01<01:14, 379.20it/s]"
     ]
    },
    {
     "name": "stdout",
     "output_type": "stream",
     "text": [
      "Sigma:  tensor([[7.5381e-01, 3.1685e-04],\n",
      "        [3.1685e-04, 7.5599e-01]], grad_fn=<MmBackward0>)\n",
      "obj:  tensor(0.1898, grad_fn=<AddBackward0>)\n",
      "mle loss:  tensor(-0.1043, grad_fn=<AddBackward0>)\n",
      "h_val:  tensor(0.0555, grad_fn=<AddBackward0>)\n"
     ]
    },
    {
     "name": "stderr",
     "output_type": "stream",
     "text": [
      "  3%|▎         | 867/29000 [00:02<01:13, 385.18it/s]"
     ]
    },
    {
     "name": "stdout",
     "output_type": "stream",
     "text": [
      "Sigma:  tensor([[7.2200e-01, 3.4343e-04],\n",
      "        [3.4343e-04, 7.2643e-01]], grad_fn=<MmBackward0>)\n",
      "obj:  tensor(0.0857, grad_fn=<AddBackward0>)\n",
      "mle loss:  tensor(-0.2251, grad_fn=<AddBackward0>)\n",
      "h_val:  tensor(0.0745, grad_fn=<AddBackward0>)\n"
     ]
    },
    {
     "name": "stderr",
     "output_type": "stream",
     "text": [
      "  3%|▎         | 944/29000 [00:02<01:14, 376.85it/s]"
     ]
    },
    {
     "name": "stdout",
     "output_type": "stream",
     "text": [
      "Sigma:  tensor([[6.9065e-01, 3.7055e-04],\n",
      "        [3.7055e-04, 6.9804e-01]], grad_fn=<MmBackward0>)\n",
      "obj:  tensor(-0.0208, grad_fn=<AddBackward0>)\n",
      "mle loss:  tensor(-0.3536, grad_fn=<AddBackward0>)\n",
      "h_val:  tensor(0.0992, grad_fn=<AddBackward0>)\n"
     ]
    },
    {
     "name": "stderr",
     "output_type": "stream",
     "text": [
      "  4%|▎         | 1062/29000 [00:02<01:13, 380.59it/s]"
     ]
    },
    {
     "name": "stdout",
     "output_type": "stream",
     "text": [
      "Sigma:  tensor([[6.5978e-01, 4.3772e-04],\n",
      "        [4.3772e-04, 6.7078e-01]], grad_fn=<MmBackward0>)\n",
      "obj:  tensor(-0.1255, grad_fn=<AddBackward0>)\n",
      "mle loss:  tensor(-0.4857, grad_fn=<AddBackward0>)\n",
      "h_val:  tensor(0.1295, grad_fn=<AddBackward0>)\n"
     ]
    },
    {
     "name": "stderr",
     "output_type": "stream",
     "text": [
      "  4%|▍         | 1139/29000 [00:03<01:14, 375.28it/s]"
     ]
    },
    {
     "name": "stdout",
     "output_type": "stream",
     "text": [
      "Sigma:  tensor([[6.2953e-01, 5.3888e-04],\n",
      "        [5.3888e-04, 6.4461e-01]], grad_fn=<MmBackward0>)\n",
      "obj:  tensor(-0.2246, grad_fn=<AddBackward0>)\n",
      "mle loss:  tensor(-0.6152, grad_fn=<AddBackward0>)\n",
      "h_val:  tensor(0.1632, grad_fn=<AddBackward0>)\n"
     ]
    },
    {
     "name": "stderr",
     "output_type": "stream",
     "text": [
      "  4%|▍         | 1262/29000 [00:03<01:11, 389.06it/s]"
     ]
    },
    {
     "name": "stdout",
     "output_type": "stream",
     "text": [
      "Sigma:  tensor([[0.6001, 0.0006],\n",
      "        [0.0006, 0.6195]], grad_fn=<MmBackward0>)\n",
      "obj:  tensor(-0.3172, grad_fn=<AddBackward0>)\n",
      "mle loss:  tensor(-0.7354, grad_fn=<AddBackward0>)\n",
      "h_val:  tensor(0.1945, grad_fn=<AddBackward0>)\n"
     ]
    },
    {
     "name": "stderr",
     "output_type": "stream",
     "text": [
      "  5%|▍         | 1340/29000 [00:03<01:12, 382.48it/s]"
     ]
    },
    {
     "name": "stdout",
     "output_type": "stream",
     "text": [
      "Sigma:  tensor([[0.5719, 0.0007],\n",
      "        [0.0007, 0.5954]], grad_fn=<MmBackward0>)\n",
      "obj:  tensor(-0.4063, grad_fn=<AddBackward0>)\n",
      "mle loss:  tensor(-0.8429, grad_fn=<AddBackward0>)\n",
      "h_val:  tensor(0.2168, grad_fn=<AddBackward0>)\n"
     ]
    },
    {
     "name": "stderr",
     "output_type": "stream",
     "text": [
      "  5%|▌         | 1465/29000 [00:03<01:08, 400.29it/s]"
     ]
    },
    {
     "name": "stdout",
     "output_type": "stream",
     "text": [
      "Sigma:  tensor([[0.5451, 0.0009],\n",
      "        [0.0009, 0.5722]], grad_fn=<MmBackward0>)\n",
      "obj:  tensor(-0.4945, grad_fn=<AddBackward0>)\n",
      "mle loss:  tensor(-0.9393, grad_fn=<AddBackward0>)\n",
      "h_val:  tensor(0.2287, grad_fn=<AddBackward0>)\n"
     ]
    },
    {
     "name": "stderr",
     "output_type": "stream",
     "text": [
      "  5%|▌         | 1546/29000 [00:04<01:09, 395.66it/s]"
     ]
    },
    {
     "name": "stdout",
     "output_type": "stream",
     "text": [
      "Sigma:  tensor([[0.5199, 0.0009],\n",
      "        [0.0009, 0.5500]], grad_fn=<MmBackward0>)\n",
      "obj:  tensor(-0.5818, grad_fn=<AddBackward0>)\n",
      "mle loss:  tensor(-1.0303, grad_fn=<AddBackward0>)\n",
      "h_val:  tensor(0.2355, grad_fn=<AddBackward0>)\n"
     ]
    },
    {
     "name": "stderr",
     "output_type": "stream",
     "text": [
      "  6%|▌         | 1672/29000 [00:04<01:07, 405.72it/s]"
     ]
    },
    {
     "name": "stdout",
     "output_type": "stream",
     "text": [
      "Sigma:  tensor([[0.4961, 0.0010],\n",
      "        [0.0010, 0.5286]], grad_fn=<MmBackward0>)\n",
      "obj:  tensor(-0.6677, grad_fn=<AddBackward0>)\n",
      "mle loss:  tensor(-1.1215, grad_fn=<AddBackward0>)\n",
      "h_val:  tensor(0.2429, grad_fn=<AddBackward0>)\n"
     ]
    },
    {
     "name": "stderr",
     "output_type": "stream",
     "text": [
      "  6%|▌         | 1754/29000 [00:04<01:08, 398.81it/s]"
     ]
    },
    {
     "name": "stdout",
     "output_type": "stream",
     "text": [
      "Sigma:  tensor([[0.4737, 0.0010],\n",
      "        [0.0010, 0.5081]], grad_fn=<MmBackward0>)\n",
      "obj:  tensor(-0.7524, grad_fn=<AddBackward0>)\n",
      "mle loss:  tensor(-1.2142, grad_fn=<AddBackward0>)\n",
      "h_val:  tensor(0.2525, grad_fn=<AddBackward0>)\n"
     ]
    },
    {
     "name": "stderr",
     "output_type": "stream",
     "text": [
      "  6%|▋         | 1877/29000 [00:04<01:07, 401.03it/s]"
     ]
    },
    {
     "name": "stdout",
     "output_type": "stream",
     "text": [
      "Sigma:  tensor([[0.4526, 0.0010],\n",
      "        [0.0010, 0.4884]], grad_fn=<MmBackward0>)\n",
      "obj:  tensor(-0.8354, grad_fn=<AddBackward0>)\n",
      "mle loss:  tensor(-1.3057, grad_fn=<AddBackward0>)\n",
      "h_val:  tensor(0.2620, grad_fn=<AddBackward0>)\n"
     ]
    },
    {
     "name": "stderr",
     "output_type": "stream",
     "text": [
      "  7%|▋         | 1958/29000 [00:05<01:08, 396.91it/s]"
     ]
    },
    {
     "name": "stdout",
     "output_type": "stream",
     "text": [
      "Sigma:  tensor([[0.4326, 0.0010],\n",
      "        [0.0010, 0.4695]], grad_fn=<MmBackward0>)\n",
      "obj:  tensor(-0.9167, grad_fn=<AddBackward0>)\n",
      "mle loss:  tensor(-1.3944, grad_fn=<AddBackward0>)\n",
      "h_val:  tensor(0.2699, grad_fn=<AddBackward0>)\n"
     ]
    },
    {
     "name": "stderr",
     "output_type": "stream",
     "text": [
      "  7%|▋         | 2082/29000 [00:05<01:06, 406.72it/s]"
     ]
    },
    {
     "name": "stdout",
     "output_type": "stream",
     "text": [
      "Sigma:  tensor([[0.4136, 0.0010],\n",
      "        [0.0010, 0.4514]], grad_fn=<MmBackward0>)\n",
      "obj:  tensor(-0.9965, grad_fn=<AddBackward0>)\n",
      "mle loss:  tensor(-1.4816, grad_fn=<AddBackward0>)\n",
      "h_val:  tensor(0.2773, grad_fn=<AddBackward0>)\n"
     ]
    },
    {
     "name": "stderr",
     "output_type": "stream",
     "text": [
      "  7%|▋         | 2164/29000 [00:05<01:07, 398.98it/s]"
     ]
    },
    {
     "name": "stdout",
     "output_type": "stream",
     "text": [
      "Sigma:  tensor([[0.3956, 0.0009],\n",
      "        [0.0009, 0.4339]], grad_fn=<MmBackward0>)\n",
      "obj:  tensor(-1.0752, grad_fn=<AddBackward0>)\n",
      "mle loss:  tensor(-1.5678, grad_fn=<AddBackward0>)\n",
      "h_val:  tensor(0.2846, grad_fn=<AddBackward0>)\n"
     ]
    },
    {
     "name": "stderr",
     "output_type": "stream",
     "text": [
      "  8%|▊         | 2244/29000 [00:05<01:07, 395.44it/s]"
     ]
    },
    {
     "name": "stdout",
     "output_type": "stream",
     "text": [
      "Sigma:  tensor([[0.3785, 0.0009],\n",
      "        [0.0009, 0.4171]], grad_fn=<MmBackward0>)\n",
      "obj:  tensor(-1.1528, grad_fn=<AddBackward0>)\n",
      "mle loss:  tensor(-1.6521, grad_fn=<AddBackward0>)\n",
      "h_val:  tensor(0.2910, grad_fn=<AddBackward0>)\n"
     ]
    },
    {
     "name": "stderr",
     "output_type": "stream",
     "text": [
      "  8%|▊         | 2371/29000 [00:06<01:06, 398.17it/s]"
     ]
    },
    {
     "name": "stdout",
     "output_type": "stream",
     "text": [
      "Sigma:  tensor([[0.3623, 0.0008],\n",
      "        [0.0008, 0.4010]], grad_fn=<MmBackward0>)\n",
      "obj:  tensor(-1.2298, grad_fn=<AddBackward0>)\n",
      "mle loss:  tensor(-1.7351, grad_fn=<AddBackward0>)\n",
      "h_val:  tensor(0.2968, grad_fn=<AddBackward0>)\n"
     ]
    },
    {
     "name": "stderr",
     "output_type": "stream",
     "text": [
      "  8%|▊         | 2451/29000 [00:06<01:07, 391.00it/s]"
     ]
    },
    {
     "name": "stdout",
     "output_type": "stream",
     "text": [
      "Sigma:  tensor([[0.3470, 0.0008],\n",
      "        [0.0008, 0.3855]], grad_fn=<MmBackward0>)\n",
      "obj:  tensor(-1.3063, grad_fn=<AddBackward0>)\n",
      "mle loss:  tensor(-1.8172, grad_fn=<AddBackward0>)\n",
      "h_val:  tensor(0.3024, grad_fn=<AddBackward0>)\n"
     ]
    },
    {
     "name": "stderr",
     "output_type": "stream",
     "text": [
      "  9%|▉         | 2575/29000 [00:06<01:05, 400.78it/s]"
     ]
    },
    {
     "name": "stdout",
     "output_type": "stream",
     "text": [
      "Sigma:  tensor([[0.3323, 0.0008],\n",
      "        [0.0008, 0.3706]], grad_fn=<MmBackward0>)\n",
      "obj:  tensor(-1.3823, grad_fn=<AddBackward0>)\n",
      "mle loss:  tensor(-1.8984, grad_fn=<AddBackward0>)\n",
      "h_val:  tensor(0.3077, grad_fn=<AddBackward0>)\n"
     ]
    },
    {
     "name": "stderr",
     "output_type": "stream",
     "text": [
      "  9%|▉         | 2657/29000 [00:06<01:06, 397.62it/s]"
     ]
    },
    {
     "name": "stdout",
     "output_type": "stream",
     "text": [
      "Sigma:  tensor([[0.3184, 0.0007],\n",
      "        [0.0007, 0.3563]], grad_fn=<MmBackward0>)\n",
      "obj:  tensor(-1.4581, grad_fn=<AddBackward0>)\n",
      "mle loss:  tensor(-1.9793, grad_fn=<AddBackward0>)\n",
      "h_val:  tensor(0.3131, grad_fn=<AddBackward0>)\n"
     ]
    },
    {
     "name": "stderr",
     "output_type": "stream",
     "text": [
      " 10%|▉         | 2781/29000 [00:07<01:04, 405.95it/s]"
     ]
    },
    {
     "name": "stdout",
     "output_type": "stream",
     "text": [
      "Sigma:  tensor([[0.3052, 0.0007],\n",
      "        [0.0007, 0.3426]], grad_fn=<MmBackward0>)\n",
      "obj:  tensor(-1.5336, grad_fn=<AddBackward0>)\n",
      "mle loss:  tensor(-2.0599, grad_fn=<AddBackward0>)\n",
      "h_val:  tensor(0.3185, grad_fn=<AddBackward0>)\n"
     ]
    },
    {
     "name": "stderr",
     "output_type": "stream",
     "text": [
      " 10%|▉         | 2862/29000 [00:07<01:05, 397.35it/s]"
     ]
    },
    {
     "name": "stdout",
     "output_type": "stream",
     "text": [
      "Sigma:  tensor([[0.2926, 0.0007],\n",
      "        [0.0007, 0.3294]], grad_fn=<MmBackward0>)\n",
      "obj:  tensor(-1.6089, grad_fn=<AddBackward0>)\n",
      "mle loss:  tensor(-2.1404, grad_fn=<AddBackward0>)\n",
      "h_val:  tensor(0.3240, grad_fn=<AddBackward0>)\n"
     ]
    },
    {
     "name": "stderr",
     "output_type": "stream",
     "text": [
      " 10%|█         | 2942/29000 [00:07<01:27, 297.83it/s]"
     ]
    },
    {
     "name": "stdout",
     "output_type": "stream",
     "text": [
      "Sigma:  tensor([[0.2805, 0.0007],\n",
      "        [0.0007, 0.3167]], grad_fn=<MmBackward0>)\n",
      "obj:  tensor(-1.6842, grad_fn=<AddBackward0>)\n",
      "mle loss:  tensor(-2.2206, grad_fn=<AddBackward0>)\n",
      "h_val:  tensor(0.3294, grad_fn=<AddBackward0>)\n"
     ]
    },
    {
     "name": "stderr",
     "output_type": "stream",
     "text": [
      " 11%|█         | 3066/29000 [00:08<01:11, 361.63it/s]"
     ]
    },
    {
     "name": "stdout",
     "output_type": "stream",
     "text": [
      "Sigma:  tensor([[0.2690, 0.0006],\n",
      "        [0.0006, 0.3045]], grad_fn=<MmBackward0>)\n",
      "obj:  tensor(-1.7593, grad_fn=<AddBackward0>)\n",
      "mle loss:  tensor(-2.3007, grad_fn=<AddBackward0>)\n",
      "h_val:  tensor(0.3346, grad_fn=<AddBackward0>)\n"
     ]
    },
    {
     "name": "stderr",
     "output_type": "stream",
     "text": [
      " 11%|█         | 3145/29000 [00:08<01:09, 373.36it/s]"
     ]
    },
    {
     "name": "stdout",
     "output_type": "stream",
     "text": [
      "Sigma:  tensor([[0.2580, 0.0006],\n",
      "        [0.0006, 0.2927]], grad_fn=<MmBackward0>)\n",
      "obj:  tensor(-1.8344, grad_fn=<AddBackward0>)\n",
      "mle loss:  tensor(-2.3806, grad_fn=<AddBackward0>)\n",
      "h_val:  tensor(0.3398, grad_fn=<AddBackward0>)\n"
     ]
    },
    {
     "name": "stderr",
     "output_type": "stream",
     "text": [
      " 11%|█▏        | 3269/29000 [00:08<01:05, 394.35it/s]"
     ]
    },
    {
     "name": "stdout",
     "output_type": "stream",
     "text": [
      "Sigma:  tensor([[0.2476, 0.0005],\n",
      "        [0.0005, 0.2814]], grad_fn=<MmBackward0>)\n",
      "obj:  tensor(-1.9094, grad_fn=<AddBackward0>)\n",
      "mle loss:  tensor(-2.4604, grad_fn=<AddBackward0>)\n",
      "h_val:  tensor(0.3447, grad_fn=<AddBackward0>)\n"
     ]
    },
    {
     "name": "stderr",
     "output_type": "stream",
     "text": [
      " 12%|█▏        | 3349/29000 [00:08<01:05, 389.16it/s]"
     ]
    },
    {
     "name": "stdout",
     "output_type": "stream",
     "text": [
      "Sigma:  tensor([[0.2375, 0.0004],\n",
      "        [0.0004, 0.2706]], grad_fn=<MmBackward0>)\n",
      "obj:  tensor(-1.9844, grad_fn=<AddBackward0>)\n",
      "mle loss:  tensor(-2.5400, grad_fn=<AddBackward0>)\n",
      "h_val:  tensor(0.3496, grad_fn=<AddBackward0>)\n"
     ]
    },
    {
     "name": "stderr",
     "output_type": "stream",
     "text": [
      " 12%|█▏        | 3472/29000 [00:09<01:03, 400.59it/s]"
     ]
    },
    {
     "name": "stdout",
     "output_type": "stream",
     "text": [
      "Sigma:  tensor([[0.2279, 0.0003],\n",
      "        [0.0003, 0.2601]], grad_fn=<MmBackward0>)\n",
      "obj:  tensor(-2.0594, grad_fn=<AddBackward0>)\n",
      "mle loss:  tensor(-2.6197, grad_fn=<AddBackward0>)\n",
      "h_val:  tensor(0.3544, grad_fn=<AddBackward0>)\n"
     ]
    },
    {
     "name": "stderr",
     "output_type": "stream",
     "text": [
      " 12%|█▏        | 3553/29000 [00:09<01:04, 397.24it/s]"
     ]
    },
    {
     "name": "stdout",
     "output_type": "stream",
     "text": [
      "Sigma:  tensor([[2.1875e-01, 2.2030e-04],\n",
      "        [2.2030e-04, 2.5008e-01]], grad_fn=<MmBackward0>)\n",
      "obj:  tensor(-2.1345, grad_fn=<AddBackward0>)\n",
      "mle loss:  tensor(-2.6993, grad_fn=<AddBackward0>)\n",
      "h_val:  tensor(0.3591, grad_fn=<AddBackward0>)\n"
     ]
    },
    {
     "name": "stderr",
     "output_type": "stream",
     "text": [
      " 13%|█▎        | 3678/29000 [00:09<01:02, 402.65it/s]"
     ]
    },
    {
     "name": "stdout",
     "output_type": "stream",
     "text": [
      "Sigma:  tensor([[2.0996e-01, 9.4416e-05],\n",
      "        [9.4416e-05, 2.4043e-01]], grad_fn=<MmBackward0>)\n",
      "obj:  tensor(-2.2097, grad_fn=<AddBackward0>)\n",
      "mle loss:  tensor(-2.7791, grad_fn=<AddBackward0>)\n",
      "h_val:  tensor(0.3638, grad_fn=<AddBackward0>)\n"
     ]
    },
    {
     "name": "stderr",
     "output_type": "stream",
     "text": [
      " 13%|█▎        | 3760/29000 [00:09<01:03, 397.53it/s]"
     ]
    },
    {
     "name": "stdout",
     "output_type": "stream",
     "text": [
      "Sigma:  tensor([[ 2.0154e-01, -5.6206e-05],\n",
      "        [-5.6206e-05,  2.3114e-01]], grad_fn=<MmBackward0>)\n",
      "obj:  tensor(-2.2850, grad_fn=<AddBackward0>)\n",
      "mle loss:  tensor(-2.8590, grad_fn=<AddBackward0>)\n",
      "h_val:  tensor(0.3686, grad_fn=<AddBackward0>)\n"
     ]
    },
    {
     "name": "stderr",
     "output_type": "stream",
     "text": [
      " 13%|█▎        | 3840/29000 [00:09<01:04, 390.87it/s]"
     ]
    },
    {
     "name": "stdout",
     "output_type": "stream",
     "text": [
      "Sigma:  tensor([[ 0.1935, -0.0002],\n",
      "        [-0.0002,  0.2222]], grad_fn=<MmBackward0>)\n",
      "obj:  tensor(-2.3605, grad_fn=<AddBackward0>)\n",
      "mle loss:  tensor(-2.9391, grad_fn=<AddBackward0>)\n",
      "h_val:  tensor(0.3734, grad_fn=<AddBackward0>)\n"
     ]
    },
    {
     "name": "stderr",
     "output_type": "stream",
     "text": [
      " 14%|█▎        | 3965/29000 [00:10<01:03, 393.04it/s]"
     ]
    },
    {
     "name": "stdout",
     "output_type": "stream",
     "text": [
      "Sigma:  tensor([[ 0.1857, -0.0005],\n",
      "        [-0.0005,  0.2136]], grad_fn=<MmBackward0>)\n",
      "obj:  tensor(-2.4361, grad_fn=<AddBackward0>)\n",
      "mle loss:  tensor(-3.0195, grad_fn=<AddBackward0>)\n",
      "h_val:  tensor(0.3784, grad_fn=<AddBackward0>)\n"
     ]
    },
    {
     "name": "stderr",
     "output_type": "stream",
     "text": [
      " 14%|█▍        | 4045/29000 [00:10<01:03, 391.71it/s]"
     ]
    },
    {
     "name": "stdout",
     "output_type": "stream",
     "text": [
      "Sigma:  tensor([[ 0.1783, -0.0007],\n",
      "        [-0.0007,  0.2054]], grad_fn=<MmBackward0>)\n",
      "obj:  tensor(-2.5121, grad_fn=<AddBackward0>)\n",
      "mle loss:  tensor(-3.1002, grad_fn=<AddBackward0>)\n",
      "h_val:  tensor(0.3834, grad_fn=<AddBackward0>)\n"
     ]
    },
    {
     "name": "stderr",
     "output_type": "stream",
     "text": [
      " 14%|█▍        | 4173/29000 [00:10<01:01, 405.30it/s]"
     ]
    },
    {
     "name": "stdout",
     "output_type": "stream",
     "text": [
      "Sigma:  tensor([[ 0.1712, -0.0010],\n",
      "        [-0.0010,  0.1974]], grad_fn=<MmBackward0>)\n",
      "obj:  tensor(-2.5882, grad_fn=<AddBackward0>)\n",
      "mle loss:  tensor(-3.1812, grad_fn=<AddBackward0>)\n",
      "h_val:  tensor(0.3885, grad_fn=<AddBackward0>)\n"
     ]
    },
    {
     "name": "stderr",
     "output_type": "stream",
     "text": [
      " 15%|█▍        | 4254/29000 [00:11<01:02, 393.87it/s]"
     ]
    },
    {
     "name": "stdout",
     "output_type": "stream",
     "text": [
      "Sigma:  tensor([[ 0.1644, -0.0013],\n",
      "        [-0.0013,  0.1898]], grad_fn=<MmBackward0>)\n",
      "obj:  tensor(-2.6647, grad_fn=<AddBackward0>)\n",
      "mle loss:  tensor(-3.2624, grad_fn=<AddBackward0>)\n",
      "h_val:  tensor(0.3936, grad_fn=<AddBackward0>)\n"
     ]
    },
    {
     "name": "stderr",
     "output_type": "stream",
     "text": [
      " 15%|█▌        | 4375/29000 [00:11<01:02, 393.93it/s]"
     ]
    },
    {
     "name": "stdout",
     "output_type": "stream",
     "text": [
      "Sigma:  tensor([[ 0.1578, -0.0017],\n",
      "        [-0.0017,  0.1824]], grad_fn=<MmBackward0>)\n",
      "obj:  tensor(-2.7414, grad_fn=<AddBackward0>)\n",
      "mle loss:  tensor(-3.3436, grad_fn=<AddBackward0>)\n",
      "h_val:  tensor(0.3986, grad_fn=<AddBackward0>)\n"
     ]
    },
    {
     "name": "stderr",
     "output_type": "stream",
     "text": [
      " 15%|█▌        | 4454/29000 [00:11<01:03, 386.35it/s]"
     ]
    },
    {
     "name": "stdout",
     "output_type": "stream",
     "text": [
      "Sigma:  tensor([[ 0.1515, -0.0020],\n",
      "        [-0.0020,  0.1754]], grad_fn=<MmBackward0>)\n",
      "obj:  tensor(-2.8185, grad_fn=<AddBackward0>)\n",
      "mle loss:  tensor(-3.4250, grad_fn=<AddBackward0>)\n",
      "h_val:  tensor(0.4032, grad_fn=<AddBackward0>)\n"
     ]
    },
    {
     "name": "stderr",
     "output_type": "stream",
     "text": [
      " 16%|█▌        | 4575/29000 [00:11<01:01, 397.83it/s]"
     ]
    },
    {
     "name": "stdout",
     "output_type": "stream",
     "text": [
      "Sigma:  tensor([[ 0.1455, -0.0024],\n",
      "        [-0.0024,  0.1686]], grad_fn=<MmBackward0>)\n",
      "obj:  tensor(-2.8959, grad_fn=<AddBackward0>)\n",
      "mle loss:  tensor(-3.5064, grad_fn=<AddBackward0>)\n",
      "h_val:  tensor(0.4076, grad_fn=<AddBackward0>)\n"
     ]
    },
    {
     "name": "stderr",
     "output_type": "stream",
     "text": [
      " 16%|█▌        | 4655/29000 [00:12<01:02, 389.17it/s]"
     ]
    },
    {
     "name": "stdout",
     "output_type": "stream",
     "text": [
      "Sigma:  tensor([[ 0.1397, -0.0028],\n",
      "        [-0.0028,  0.1620]], grad_fn=<MmBackward0>)\n",
      "obj:  tensor(-2.9737, grad_fn=<AddBackward0>)\n",
      "mle loss:  tensor(-3.5881, grad_fn=<AddBackward0>)\n",
      "h_val:  tensor(0.4118, grad_fn=<AddBackward0>)\n"
     ]
    },
    {
     "name": "stderr",
     "output_type": "stream",
     "text": [
      " 16%|█▋        | 4776/29000 [00:12<01:01, 395.52it/s]"
     ]
    },
    {
     "name": "stdout",
     "output_type": "stream",
     "text": [
      "Sigma:  tensor([[ 0.1342, -0.0033],\n",
      "        [-0.0033,  0.1557]], grad_fn=<MmBackward0>)\n",
      "obj:  tensor(-3.0518, grad_fn=<AddBackward0>)\n",
      "mle loss:  tensor(-3.6700, grad_fn=<AddBackward0>)\n",
      "h_val:  tensor(0.4159, grad_fn=<AddBackward0>)\n"
     ]
    },
    {
     "name": "stderr",
     "output_type": "stream",
     "text": [
      " 17%|█▋        | 4856/29000 [00:12<01:01, 390.32it/s]"
     ]
    },
    {
     "name": "stdout",
     "output_type": "stream",
     "text": [
      "Sigma:  tensor([[ 0.1289, -0.0037],\n",
      "        [-0.0037,  0.1497]], grad_fn=<MmBackward0>)\n",
      "obj:  tensor(-3.1304, grad_fn=<AddBackward0>)\n",
      "mle loss:  tensor(-3.7522, grad_fn=<AddBackward0>)\n",
      "h_val:  tensor(0.4198, grad_fn=<AddBackward0>)\n"
     ]
    },
    {
     "name": "stderr",
     "output_type": "stream",
     "text": [
      " 17%|█▋        | 4978/29000 [00:12<01:00, 397.18it/s]"
     ]
    },
    {
     "name": "stdout",
     "output_type": "stream",
     "text": [
      "Sigma:  tensor([[ 0.1237, -0.0041],\n",
      "        [-0.0041,  0.1439]], grad_fn=<MmBackward0>)\n",
      "obj:  tensor(-3.2093, grad_fn=<AddBackward0>)\n",
      "mle loss:  tensor(-3.8347, grad_fn=<AddBackward0>)\n",
      "h_val:  tensor(0.4235, grad_fn=<AddBackward0>)\n"
     ]
    },
    {
     "name": "stderr",
     "output_type": "stream",
     "text": [
      " 17%|█▋        | 5058/29000 [00:13<01:02, 383.20it/s]"
     ]
    },
    {
     "name": "stdout",
     "output_type": "stream",
     "text": [
      "Sigma:  tensor([[ 0.1188, -0.0045],\n",
      "        [-0.0045,  0.1383]], grad_fn=<MmBackward0>)\n",
      "obj:  tensor(-3.2887, grad_fn=<AddBackward0>)\n",
      "mle loss:  tensor(-3.9174, grad_fn=<AddBackward0>)\n",
      "h_val:  tensor(0.4272, grad_fn=<AddBackward0>)\n"
     ]
    },
    {
     "name": "stderr",
     "output_type": "stream",
     "text": [
      " 18%|█▊        | 5181/29000 [00:13<00:59, 401.04it/s]"
     ]
    },
    {
     "name": "stdout",
     "output_type": "stream",
     "text": [
      "Sigma:  tensor([[ 0.1141, -0.0050],\n",
      "        [-0.0050,  0.1329]], grad_fn=<MmBackward0>)\n",
      "obj:  tensor(-3.3684, grad_fn=<AddBackward0>)\n",
      "mle loss:  tensor(-4.0006, grad_fn=<AddBackward0>)\n",
      "h_val:  tensor(0.4308, grad_fn=<AddBackward0>)\n"
     ]
    },
    {
     "name": "stderr",
     "output_type": "stream",
     "text": [
      " 18%|█▊        | 5262/29000 [00:13<01:00, 392.98it/s]"
     ]
    },
    {
     "name": "stdout",
     "output_type": "stream",
     "text": [
      "Sigma:  tensor([[ 0.1096, -0.0054],\n",
      "        [-0.0054,  0.1277]], grad_fn=<MmBackward0>)\n",
      "obj:  tensor(-3.4486, grad_fn=<AddBackward0>)\n",
      "mle loss:  tensor(-4.0841, grad_fn=<AddBackward0>)\n",
      "h_val:  tensor(0.4343, grad_fn=<AddBackward0>)\n"
     ]
    },
    {
     "name": "stderr",
     "output_type": "stream",
     "text": [
      " 18%|█▊        | 5342/29000 [00:13<01:00, 388.55it/s]"
     ]
    },
    {
     "name": "stdout",
     "output_type": "stream",
     "text": [
      "Sigma:  tensor([[ 0.1053, -0.0058],\n",
      "        [-0.0058,  0.1228]], grad_fn=<MmBackward0>)\n",
      "obj:  tensor(-3.5291, grad_fn=<AddBackward0>)\n",
      "mle loss:  tensor(-4.1681, grad_fn=<AddBackward0>)\n",
      "h_val:  tensor(0.4379, grad_fn=<AddBackward0>)\n"
     ]
    },
    {
     "name": "stderr",
     "output_type": "stream",
     "text": [
      " 19%|█▉        | 5468/29000 [00:14<00:58, 402.60it/s]"
     ]
    },
    {
     "name": "stdout",
     "output_type": "stream",
     "text": [
      "Sigma:  tensor([[ 0.1011, -0.0062],\n",
      "        [-0.0062,  0.1180]], grad_fn=<MmBackward0>)\n",
      "obj:  tensor(-3.6100, grad_fn=<AddBackward0>)\n",
      "mle loss:  tensor(-4.2524, grad_fn=<AddBackward0>)\n",
      "h_val:  tensor(0.4415, grad_fn=<AddBackward0>)\n"
     ]
    },
    {
     "name": "stderr",
     "output_type": "stream",
     "text": [
      " 19%|█▉        | 5549/29000 [00:14<00:59, 391.70it/s]"
     ]
    },
    {
     "name": "stdout",
     "output_type": "stream",
     "text": [
      "Sigma:  tensor([[ 0.0971, -0.0067],\n",
      "        [-0.0067,  0.1134]], grad_fn=<MmBackward0>)\n",
      "obj:  tensor(-3.6912, grad_fn=<AddBackward0>)\n",
      "mle loss:  tensor(-4.3371, grad_fn=<AddBackward0>)\n",
      "h_val:  tensor(0.4452, grad_fn=<AddBackward0>)\n"
     ]
    },
    {
     "name": "stderr",
     "output_type": "stream",
     "text": [
      " 20%|█▉        | 5671/29000 [00:14<00:58, 398.11it/s]"
     ]
    },
    {
     "name": "stdout",
     "output_type": "stream",
     "text": [
      "Sigma:  tensor([[ 0.0932, -0.0071],\n",
      "        [-0.0071,  0.1090]], grad_fn=<MmBackward0>)\n",
      "obj:  tensor(-3.7727, grad_fn=<AddBackward0>)\n",
      "mle loss:  tensor(-4.4221, grad_fn=<AddBackward0>)\n",
      "h_val:  tensor(0.4490, grad_fn=<AddBackward0>)\n"
     ]
    },
    {
     "name": "stderr",
     "output_type": "stream",
     "text": [
      " 20%|█▉        | 5751/29000 [00:15<01:48, 214.84it/s]"
     ]
    },
    {
     "name": "stdout",
     "output_type": "stream",
     "text": [
      "Sigma:  tensor([[ 0.0896, -0.0075],\n",
      "        [-0.0075,  0.1048]], grad_fn=<MmBackward0>)\n",
      "obj:  tensor(-3.8544, grad_fn=<AddBackward0>)\n",
      "mle loss:  tensor(-4.5074, grad_fn=<AddBackward0>)\n",
      "h_val:  tensor(0.4528, grad_fn=<AddBackward0>)\n"
     ]
    },
    {
     "name": "stderr",
     "output_type": "stream",
     "text": [
      " 20%|██        | 5870/29000 [00:15<01:14, 308.62it/s]"
     ]
    },
    {
     "name": "stdout",
     "output_type": "stream",
     "text": [
      "Sigma:  tensor([[ 0.0860, -0.0080],\n",
      "        [-0.0080,  0.1008]], grad_fn=<MmBackward0>)\n",
      "obj:  tensor(-3.9364, grad_fn=<AddBackward0>)\n",
      "mle loss:  tensor(-4.5930, grad_fn=<AddBackward0>)\n",
      "h_val:  tensor(0.4566, grad_fn=<AddBackward0>)\n"
     ]
    },
    {
     "name": "stderr",
     "output_type": "stream",
     "text": [
      " 21%|██        | 5947/29000 [00:15<01:07, 339.25it/s]"
     ]
    },
    {
     "name": "stdout",
     "output_type": "stream",
     "text": [
      "Sigma:  tensor([[ 0.0826, -0.0084],\n",
      "        [-0.0084,  0.0969]], grad_fn=<MmBackward0>)\n",
      "obj:  tensor(-4.0185, grad_fn=<AddBackward0>)\n",
      "mle loss:  tensor(-4.6788, grad_fn=<AddBackward0>)\n",
      "h_val:  tensor(0.4606, grad_fn=<AddBackward0>)\n"
     ]
    },
    {
     "name": "stderr",
     "output_type": "stream",
     "text": [
      " 21%|██        | 6070/29000 [00:16<01:00, 378.78it/s]"
     ]
    },
    {
     "name": "stdout",
     "output_type": "stream",
     "text": [
      "Sigma:  tensor([[ 0.0793, -0.0088],\n",
      "        [-0.0088,  0.0932]], grad_fn=<MmBackward0>)\n",
      "obj:  tensor(-4.1009, grad_fn=<AddBackward0>)\n",
      "mle loss:  tensor(-4.7648, grad_fn=<AddBackward0>)\n",
      "h_val:  tensor(0.4646, grad_fn=<AddBackward0>)\n"
     ]
    },
    {
     "name": "stderr",
     "output_type": "stream",
     "text": [
      " 21%|██        | 6149/29000 [00:16<01:00, 380.77it/s]"
     ]
    },
    {
     "name": "stdout",
     "output_type": "stream",
     "text": [
      "Sigma:  tensor([[ 0.0762, -0.0092],\n",
      "        [-0.0092,  0.0897]], grad_fn=<MmBackward0>)\n",
      "obj:  tensor(-4.1835, grad_fn=<AddBackward0>)\n",
      "mle loss:  tensor(-4.8510, grad_fn=<AddBackward0>)\n",
      "h_val:  tensor(0.4686, grad_fn=<AddBackward0>)\n"
     ]
    },
    {
     "name": "stderr",
     "output_type": "stream",
     "text": [
      " 22%|██▏       | 6272/29000 [00:16<00:57, 394.78it/s]"
     ]
    },
    {
     "name": "stdout",
     "output_type": "stream",
     "text": [
      "Sigma:  tensor([[ 0.0732, -0.0095],\n",
      "        [-0.0095,  0.0863]], grad_fn=<MmBackward0>)\n",
      "obj:  tensor(-4.2662, grad_fn=<AddBackward0>)\n",
      "mle loss:  tensor(-4.9374, grad_fn=<AddBackward0>)\n",
      "h_val:  tensor(0.4726, grad_fn=<AddBackward0>)\n"
     ]
    },
    {
     "name": "stderr",
     "output_type": "stream",
     "text": [
      " 22%|██▏       | 6351/29000 [00:16<00:59, 377.85it/s]"
     ]
    },
    {
     "name": "stdout",
     "output_type": "stream",
     "text": [
      "Sigma:  tensor([[ 0.0703, -0.0099],\n",
      "        [-0.0099,  0.0830]], grad_fn=<MmBackward0>)\n",
      "obj:  tensor(-4.3490, grad_fn=<AddBackward0>)\n",
      "mle loss:  tensor(-5.0238, grad_fn=<AddBackward0>)\n",
      "h_val:  tensor(0.4766, grad_fn=<AddBackward0>)\n"
     ]
    },
    {
     "name": "stderr",
     "output_type": "stream",
     "text": [
      " 22%|██▏       | 6472/29000 [00:17<00:57, 392.10it/s]"
     ]
    },
    {
     "name": "stdout",
     "output_type": "stream",
     "text": [
      "Sigma:  tensor([[ 0.0675, -0.0102],\n",
      "        [-0.0102,  0.0799]], grad_fn=<MmBackward0>)\n",
      "obj:  tensor(-4.4318, grad_fn=<AddBackward0>)\n",
      "mle loss:  tensor(-5.1101, grad_fn=<AddBackward0>)\n",
      "h_val:  tensor(0.4805, grad_fn=<AddBackward0>)\n"
     ]
    },
    {
     "name": "stderr",
     "output_type": "stream",
     "text": [
      " 23%|██▎       | 6551/29000 [00:17<00:58, 382.83it/s]"
     ]
    },
    {
     "name": "stdout",
     "output_type": "stream",
     "text": [
      "Sigma:  tensor([[ 0.0648, -0.0104],\n",
      "        [-0.0104,  0.0769]], grad_fn=<MmBackward0>)\n",
      "obj:  tensor(-4.5145, grad_fn=<AddBackward0>)\n",
      "mle loss:  tensor(-5.1962, grad_fn=<AddBackward0>)\n",
      "h_val:  tensor(0.4843, grad_fn=<AddBackward0>)\n"
     ]
    },
    {
     "name": "stderr",
     "output_type": "stream",
     "text": [
      " 23%|██▎       | 6673/29000 [00:17<00:56, 396.52it/s]"
     ]
    },
    {
     "name": "stdout",
     "output_type": "stream",
     "text": [
      "Sigma:  tensor([[ 0.0622, -0.0106],\n",
      "        [-0.0106,  0.0740]], grad_fn=<MmBackward0>)\n",
      "obj:  tensor(-4.5972, grad_fn=<AddBackward0>)\n",
      "mle loss:  tensor(-5.2822, grad_fn=<AddBackward0>)\n",
      "h_val:  tensor(0.4880, grad_fn=<AddBackward0>)\n"
     ]
    },
    {
     "name": "stderr",
     "output_type": "stream",
     "text": [
      " 23%|██▎       | 6753/29000 [00:17<00:57, 389.70it/s]"
     ]
    },
    {
     "name": "stdout",
     "output_type": "stream",
     "text": [
      "Sigma:  tensor([[ 0.0598, -0.0108],\n",
      "        [-0.0108,  0.0712]], grad_fn=<MmBackward0>)\n",
      "obj:  tensor(-4.6797, grad_fn=<AddBackward0>)\n",
      "mle loss:  tensor(-5.3679, grad_fn=<AddBackward0>)\n",
      "h_val:  tensor(0.4915, grad_fn=<AddBackward0>)\n"
     ]
    },
    {
     "name": "stderr",
     "output_type": "stream",
     "text": [
      " 24%|██▎       | 6876/29000 [00:18<00:55, 397.71it/s]"
     ]
    },
    {
     "name": "stdout",
     "output_type": "stream",
     "text": [
      "Sigma:  tensor([[ 0.0574, -0.0109],\n",
      "        [-0.0109,  0.0686]], grad_fn=<MmBackward0>)\n",
      "obj:  tensor(-4.7621, grad_fn=<AddBackward0>)\n",
      "mle loss:  tensor(-5.4534, grad_fn=<AddBackward0>)\n",
      "h_val:  tensor(0.4949, grad_fn=<AddBackward0>)\n"
     ]
    },
    {
     "name": "stderr",
     "output_type": "stream",
     "text": [
      " 24%|██▍       | 6956/29000 [00:18<00:56, 391.18it/s]"
     ]
    },
    {
     "name": "stdout",
     "output_type": "stream",
     "text": [
      "Sigma:  tensor([[ 0.0551, -0.0110],\n",
      "        [-0.0110,  0.0660]], grad_fn=<MmBackward0>)\n",
      "obj:  tensor(-4.8444, grad_fn=<AddBackward0>)\n",
      "mle loss:  tensor(-5.5387, grad_fn=<AddBackward0>)\n",
      "h_val:  tensor(0.4982, grad_fn=<AddBackward0>)\n"
     ]
    },
    {
     "name": "stderr",
     "output_type": "stream",
     "text": [
      " 25%|██▍       | 7162/29000 [00:18<00:53, 407.69it/s]"
     ]
    },
    {
     "name": "stdout",
     "output_type": "stream",
     "text": [
      "Sigma:  tensor([[ 0.0516, -0.0069],\n",
      "        [-0.0069,  0.0606]], grad_fn=<MmBackward0>)\n",
      "obj:  tensor(-0.1246, grad_fn=<AddBackward0>)\n",
      "mle loss:  tensor(-4.9617, grad_fn=<AddBackward0>)\n",
      "h_val:  tensor(0.3519, grad_fn=<AddBackward0>)\n"
     ]
    },
    {
     "name": "stderr",
     "output_type": "stream",
     "text": [
      " 25%|██▍       | 7244/29000 [00:19<00:54, 398.03it/s]"
     ]
    },
    {
     "name": "stdout",
     "output_type": "stream",
     "text": [
      "Sigma:  tensor([[ 0.0509, -0.0024],\n",
      "        [-0.0024,  0.0579]], grad_fn=<MmBackward0>)\n",
      "obj:  tensor(-0.1461, grad_fn=<AddBackward0>)\n",
      "mle loss:  tensor(-4.7894, grad_fn=<AddBackward0>)\n",
      "h_val:  tensor(0.3126, grad_fn=<AddBackward0>)\n"
     ]
    },
    {
     "name": "stderr",
     "output_type": "stream",
     "text": [
      " 25%|██▌       | 7370/29000 [00:19<00:54, 399.77it/s]"
     ]
    },
    {
     "name": "stdout",
     "output_type": "stream",
     "text": [
      "Sigma:  tensor([[0.0503, 0.0007],\n",
      "        [0.0007, 0.0559]], grad_fn=<MmBackward0>)\n",
      "obj:  tensor(-0.1594, grad_fn=<AddBackward0>)\n",
      "mle loss:  tensor(-5.0321, grad_fn=<AddBackward0>)\n",
      "h_val:  tensor(0.3231, grad_fn=<AddBackward0>)\n"
     ]
    },
    {
     "name": "stderr",
     "output_type": "stream",
     "text": [
      " 26%|██▌       | 7451/29000 [00:19<00:56, 381.57it/s]"
     ]
    },
    {
     "name": "stdout",
     "output_type": "stream",
     "text": [
      "Sigma:  tensor([[0.0495, 0.0015],\n",
      "        [0.0015, 0.0541]], grad_fn=<MmBackward0>)\n",
      "obj:  tensor(-0.1710, grad_fn=<AddBackward0>)\n",
      "mle loss:  tensor(-4.8559, grad_fn=<AddBackward0>)\n",
      "h_val:  tensor(0.2936, grad_fn=<AddBackward0>)\n"
     ]
    },
    {
     "name": "stderr",
     "output_type": "stream",
     "text": [
      " 26%|██▌       | 7571/29000 [00:19<00:54, 391.49it/s]"
     ]
    },
    {
     "name": "stdout",
     "output_type": "stream",
     "text": [
      "Sigma:  tensor([[0.0490, 0.0010],\n",
      "        [0.0010, 0.0522]], grad_fn=<MmBackward0>)\n",
      "obj:  tensor(-0.1809, grad_fn=<AddBackward0>)\n",
      "mle loss:  tensor(-4.9095, grad_fn=<AddBackward0>)\n",
      "h_val:  tensor(0.2889, grad_fn=<AddBackward0>)\n"
     ]
    },
    {
     "name": "stderr",
     "output_type": "stream",
     "text": [
      " 26%|██▋       | 7651/29000 [00:20<00:54, 388.29it/s]"
     ]
    },
    {
     "name": "stdout",
     "output_type": "stream",
     "text": [
      "Sigma:  tensor([[0.0486, 0.0006],\n",
      "        [0.0006, 0.0503]], grad_fn=<MmBackward0>)\n",
      "obj:  tensor(-0.1895, grad_fn=<AddBackward0>)\n",
      "mle loss:  tensor(-5.0231, grad_fn=<AddBackward0>)\n",
      "h_val:  tensor(0.2916, grad_fn=<AddBackward0>)\n"
     ]
    },
    {
     "name": "stderr",
     "output_type": "stream",
     "text": [
      " 27%|██▋       | 7775/29000 [00:20<00:53, 397.32it/s]"
     ]
    },
    {
     "name": "stdout",
     "output_type": "stream",
     "text": [
      "Sigma:  tensor([[0.0481, 0.0008],\n",
      "        [0.0008, 0.0484]], grad_fn=<MmBackward0>)\n",
      "obj:  tensor(-0.1971, grad_fn=<AddBackward0>)\n",
      "mle loss:  tensor(-4.9866, grad_fn=<AddBackward0>)\n",
      "h_val:  tensor(0.2800, grad_fn=<AddBackward0>)\n"
     ]
    },
    {
     "name": "stderr",
     "output_type": "stream",
     "text": [
      " 27%|██▋       | 7855/29000 [00:20<00:53, 392.99it/s]"
     ]
    },
    {
     "name": "stdout",
     "output_type": "stream",
     "text": [
      "Sigma:  tensor([[0.0478, 0.0013],\n",
      "        [0.0013, 0.0466]], grad_fn=<MmBackward0>)\n",
      "obj:  tensor(-0.2042, grad_fn=<AddBackward0>)\n",
      "mle loss:  tensor(-5.0343, grad_fn=<AddBackward0>)\n",
      "h_val:  tensor(0.2774, grad_fn=<AddBackward0>)\n"
     ]
    },
    {
     "name": "stderr",
     "output_type": "stream",
     "text": [
      " 28%|██▊       | 7978/29000 [00:20<00:53, 396.00it/s]"
     ]
    },
    {
     "name": "stdout",
     "output_type": "stream",
     "text": [
      "Sigma:  tensor([[0.0476, 0.0015],\n",
      "        [0.0015, 0.0449]], grad_fn=<MmBackward0>)\n",
      "obj:  tensor(-0.2106, grad_fn=<AddBackward0>)\n",
      "mle loss:  tensor(-5.0281, grad_fn=<AddBackward0>)\n",
      "h_val:  tensor(0.2701, grad_fn=<AddBackward0>)\n"
     ]
    },
    {
     "name": "stderr",
     "output_type": "stream",
     "text": [
      " 28%|██▊       | 8058/29000 [00:21<00:53, 389.17it/s]"
     ]
    },
    {
     "name": "stdout",
     "output_type": "stream",
     "text": [
      "Sigma:  tensor([[0.0475, 0.0013],\n",
      "        [0.0013, 0.0432]], grad_fn=<MmBackward0>)\n",
      "obj:  tensor(-0.2167, grad_fn=<AddBackward0>)\n",
      "mle loss:  tensor(-5.0619, grad_fn=<AddBackward0>)\n",
      "h_val:  tensor(0.2672, grad_fn=<AddBackward0>)\n"
     ]
    },
    {
     "name": "stderr",
     "output_type": "stream",
     "text": [
      " 28%|██▊       | 8179/29000 [00:21<00:52, 398.40it/s]"
     ]
    },
    {
     "name": "stdout",
     "output_type": "stream",
     "text": [
      "Sigma:  tensor([[0.0476, 0.0013],\n",
      "        [0.0013, 0.0415]], grad_fn=<MmBackward0>)\n",
      "obj:  tensor(-0.2224, grad_fn=<AddBackward0>)\n",
      "mle loss:  tensor(-5.0713, grad_fn=<AddBackward0>)\n",
      "h_val:  tensor(0.2622, grad_fn=<AddBackward0>)\n"
     ]
    },
    {
     "name": "stderr",
     "output_type": "stream",
     "text": [
      " 28%|██▊       | 8260/29000 [00:21<00:52, 395.07it/s]"
     ]
    },
    {
     "name": "stdout",
     "output_type": "stream",
     "text": [
      "Sigma:  tensor([[0.0478, 0.0013],\n",
      "        [0.0013, 0.0399]], grad_fn=<MmBackward0>)\n",
      "obj:  tensor(-0.2279, grad_fn=<AddBackward0>)\n",
      "mle loss:  tensor(-5.0928, grad_fn=<AddBackward0>)\n",
      "h_val:  tensor(0.2586, grad_fn=<AddBackward0>)\n"
     ]
    },
    {
     "name": "stderr",
     "output_type": "stream",
     "text": [
      " 29%|██▉       | 8340/29000 [00:21<00:53, 386.98it/s]"
     ]
    },
    {
     "name": "stdout",
     "output_type": "stream",
     "text": [
      "Sigma:  tensor([[0.0482, 0.0012],\n",
      "        [0.0012, 0.0384]], grad_fn=<MmBackward0>)\n",
      "obj:  tensor(-0.2332, grad_fn=<AddBackward0>)\n",
      "mle loss:  tensor(-5.1057, grad_fn=<AddBackward0>)\n",
      "h_val:  tensor(0.2544, grad_fn=<AddBackward0>)\n"
     ]
    },
    {
     "name": "stderr",
     "output_type": "stream",
     "text": [
      " 29%|██▉       | 8465/29000 [00:22<00:51, 397.33it/s]"
     ]
    },
    {
     "name": "stdout",
     "output_type": "stream",
     "text": [
      "Sigma:  tensor([[0.0487, 0.0011],\n",
      "        [0.0011, 0.0369]], grad_fn=<MmBackward0>)\n",
      "obj:  tensor(-0.2384, grad_fn=<AddBackward0>)\n",
      "mle loss:  tensor(-5.1210, grad_fn=<AddBackward0>)\n",
      "h_val:  tensor(0.2505, grad_fn=<AddBackward0>)\n"
     ]
    },
    {
     "name": "stderr",
     "output_type": "stream",
     "text": [
      " 29%|██▉       | 8540/29000 [00:22<01:11, 285.25it/s]"
     ]
    },
    {
     "name": "stdout",
     "output_type": "stream",
     "text": [
      "Sigma:  tensor([[0.0495, 0.0010],\n",
      "        [0.0010, 0.0355]], grad_fn=<MmBackward0>)\n",
      "obj:  tensor(-0.2435, grad_fn=<AddBackward0>)\n",
      "mle loss:  tensor(-5.1299, grad_fn=<AddBackward0>)\n",
      "h_val:  tensor(0.2461, grad_fn=<AddBackward0>)\n"
     ]
    },
    {
     "name": "stderr",
     "output_type": "stream",
     "text": [
      " 30%|██▉       | 8662/29000 [00:22<00:57, 353.57it/s]"
     ]
    },
    {
     "name": "stdout",
     "output_type": "stream",
     "text": [
      "Sigma:  tensor([[0.0504, 0.0010],\n",
      "        [0.0010, 0.0341]], grad_fn=<MmBackward0>)\n",
      "obj:  tensor(-0.2486, grad_fn=<AddBackward0>)\n",
      "mle loss:  tensor(-5.1366, grad_fn=<AddBackward0>)\n",
      "h_val:  tensor(0.2415, grad_fn=<AddBackward0>)\n"
     ]
    },
    {
     "name": "stderr",
     "output_type": "stream",
     "text": [
      " 30%|███       | 8781/29000 [00:23<00:52, 383.13it/s]"
     ]
    },
    {
     "name": "stdout",
     "output_type": "stream",
     "text": [
      "Sigma:  tensor([[0.0516, 0.0009],\n",
      "        [0.0009, 0.0328]], grad_fn=<MmBackward0>)\n",
      "obj:  tensor(-0.2536, grad_fn=<AddBackward0>)\n",
      "mle loss:  tensor(-5.1398, grad_fn=<AddBackward0>)\n",
      "h_val:  tensor(0.2366, grad_fn=<AddBackward0>)\n"
     ]
    },
    {
     "name": "stderr",
     "output_type": "stream",
     "text": [
      " 31%|███       | 8861/29000 [00:23<00:52, 385.13it/s]"
     ]
    },
    {
     "name": "stdout",
     "output_type": "stream",
     "text": [
      "Sigma:  tensor([[0.0530, 0.0008],\n",
      "        [0.0008, 0.0315]], grad_fn=<MmBackward0>)\n",
      "obj:  tensor(-0.2587, grad_fn=<AddBackward0>)\n",
      "mle loss:  tensor(-5.1391, grad_fn=<AddBackward0>)\n",
      "h_val:  tensor(0.2313, grad_fn=<AddBackward0>)\n"
     ]
    },
    {
     "name": "stderr",
     "output_type": "stream",
     "text": [
      " 31%|███       | 8939/29000 [00:23<00:52, 382.18it/s]"
     ]
    },
    {
     "name": "stdout",
     "output_type": "stream",
     "text": [
      "Sigma:  tensor([[0.0546, 0.0007],\n",
      "        [0.0007, 0.0303]], grad_fn=<MmBackward0>)\n",
      "obj:  tensor(-0.2638, grad_fn=<AddBackward0>)\n",
      "mle loss:  tensor(-5.1356, grad_fn=<AddBackward0>)\n",
      "h_val:  tensor(0.2257, grad_fn=<AddBackward0>)\n"
     ]
    },
    {
     "name": "stderr",
     "output_type": "stream",
     "text": [
      " 31%|███▏      | 9064/29000 [00:23<00:50, 395.22it/s]"
     ]
    },
    {
     "name": "stdout",
     "output_type": "stream",
     "text": [
      "Sigma:  tensor([[0.0565, 0.0006],\n",
      "        [0.0006, 0.0291]], grad_fn=<MmBackward0>)\n",
      "obj:  tensor(-0.2690, grad_fn=<AddBackward0>)\n",
      "mle loss:  tensor(-5.1292, grad_fn=<AddBackward0>)\n",
      "h_val:  tensor(0.2198, grad_fn=<AddBackward0>)\n"
     ]
    },
    {
     "name": "stderr",
     "output_type": "stream",
     "text": [
      " 32%|███▏      | 9143/29000 [00:24<00:51, 386.40it/s]"
     ]
    },
    {
     "name": "stdout",
     "output_type": "stream",
     "text": [
      "Sigma:  tensor([[0.0586, 0.0005],\n",
      "        [0.0005, 0.0279]], grad_fn=<MmBackward0>)\n",
      "obj:  tensor(-0.2742, grad_fn=<AddBackward0>)\n",
      "mle loss:  tensor(-5.1203, grad_fn=<AddBackward0>)\n",
      "h_val:  tensor(0.2135, grad_fn=<AddBackward0>)\n"
     ]
    },
    {
     "name": "stderr",
     "output_type": "stream",
     "text": [
      " 32%|███▏      | 9268/29000 [00:24<00:49, 396.58it/s]"
     ]
    },
    {
     "name": "stdout",
     "output_type": "stream",
     "text": [
      "Sigma:  tensor([[0.0610, 0.0004],\n",
      "        [0.0004, 0.0268]], grad_fn=<MmBackward0>)\n",
      "obj:  tensor(-0.2796, grad_fn=<AddBackward0>)\n",
      "mle loss:  tensor(-5.1098, grad_fn=<AddBackward0>)\n",
      "h_val:  tensor(0.2070, grad_fn=<AddBackward0>)\n"
     ]
    },
    {
     "name": "stderr",
     "output_type": "stream",
     "text": [
      " 32%|███▏      | 9347/29000 [00:24<00:50, 387.30it/s]"
     ]
    },
    {
     "name": "stdout",
     "output_type": "stream",
     "text": [
      "Sigma:  tensor([[0.0636, 0.0003],\n",
      "        [0.0003, 0.0258]], grad_fn=<MmBackward0>)\n",
      "obj:  tensor(-0.2850, grad_fn=<AddBackward0>)\n",
      "mle loss:  tensor(-5.0982, grad_fn=<AddBackward0>)\n",
      "h_val:  tensor(0.2002, grad_fn=<AddBackward0>)\n"
     ]
    },
    {
     "name": "stderr",
     "output_type": "stream",
     "text": [
      " 33%|███▎      | 9472/29000 [00:24<00:48, 400.72it/s]"
     ]
    },
    {
     "name": "stdout",
     "output_type": "stream",
     "text": [
      "Sigma:  tensor([[0.0664, 0.0002],\n",
      "        [0.0002, 0.0248]], grad_fn=<MmBackward0>)\n",
      "obj:  tensor(-0.2905, grad_fn=<AddBackward0>)\n",
      "mle loss:  tensor(-5.0860, grad_fn=<AddBackward0>)\n",
      "h_val:  tensor(0.1934, grad_fn=<AddBackward0>)\n"
     ]
    },
    {
     "name": "stderr",
     "output_type": "stream",
     "text": [
      " 33%|███▎      | 9552/29000 [00:25<00:50, 382.47it/s]"
     ]
    },
    {
     "name": "stdout",
     "output_type": "stream",
     "text": [
      "Sigma:  tensor([[0.0695, 0.0002],\n",
      "        [0.0002, 0.0238]], grad_fn=<MmBackward0>)\n",
      "obj:  tensor(-0.2961, grad_fn=<AddBackward0>)\n",
      "mle loss:  tensor(-5.0738, grad_fn=<AddBackward0>)\n",
      "h_val:  tensor(0.1864, grad_fn=<AddBackward0>)\n"
     ]
    },
    {
     "name": "stderr",
     "output_type": "stream",
     "text": [
      " 33%|███▎      | 9674/29000 [00:25<00:48, 395.36it/s]"
     ]
    },
    {
     "name": "stdout",
     "output_type": "stream",
     "text": [
      "Sigma:  tensor([[0.0727, 0.0001],\n",
      "        [0.0001, 0.0229]], grad_fn=<MmBackward0>)\n",
      "obj:  tensor(-0.3018, grad_fn=<AddBackward0>)\n",
      "mle loss:  tensor(-5.0621, grad_fn=<AddBackward0>)\n",
      "h_val:  tensor(0.1795, grad_fn=<AddBackward0>)\n"
     ]
    },
    {
     "name": "stderr",
     "output_type": "stream",
     "text": [
      " 34%|███▎      | 9753/29000 [00:25<00:49, 385.74it/s]"
     ]
    },
    {
     "name": "stdout",
     "output_type": "stream",
     "text": [
      "Sigma:  tensor([[7.6130e-02, 4.5043e-05],\n",
      "        [4.5043e-05, 2.1960e-02]], grad_fn=<MmBackward0>)\n",
      "obj:  tensor(-0.3076, grad_fn=<AddBackward0>)\n",
      "mle loss:  tensor(-5.0514, grad_fn=<AddBackward0>)\n",
      "h_val:  tensor(0.1725, grad_fn=<AddBackward0>)\n"
     ]
    },
    {
     "name": "stderr",
     "output_type": "stream",
     "text": [
      " 34%|███▍      | 9874/29000 [00:25<00:48, 394.93it/s]"
     ]
    },
    {
     "name": "stdout",
     "output_type": "stream",
     "text": [
      "Sigma:  tensor([[ 7.9753e-02, -7.4356e-06],\n",
      "        [-7.4356e-06,  2.1095e-02]], grad_fn=<MmBackward0>)\n",
      "obj:  tensor(-0.3134, grad_fn=<AddBackward0>)\n",
      "mle loss:  tensor(-5.0420, grad_fn=<AddBackward0>)\n",
      "h_val:  tensor(0.1657, grad_fn=<AddBackward0>)\n"
     ]
    },
    {
     "name": "stderr",
     "output_type": "stream",
     "text": [
      " 34%|███▍      | 9953/29000 [00:26<00:49, 385.42it/s]"
     ]
    },
    {
     "name": "stdout",
     "output_type": "stream",
     "text": [
      "Sigma:  tensor([[ 8.3552e-02, -5.2866e-05],\n",
      "        [-5.2866e-05,  2.0263e-02]], grad_fn=<MmBackward0>)\n",
      "obj:  tensor(-0.3192, grad_fn=<AddBackward0>)\n",
      "mle loss:  tensor(-5.0343, grad_fn=<AddBackward0>)\n",
      "h_val:  tensor(0.1590, grad_fn=<AddBackward0>)\n"
     ]
    },
    {
     "name": "stderr",
     "output_type": "stream",
     "text": [
      " 35%|███▍      | 10074/29000 [00:26<00:47, 397.61it/s]"
     ]
    },
    {
     "name": "stdout",
     "output_type": "stream",
     "text": [
      "Sigma:  tensor([[ 8.7520e-02, -9.1156e-05],\n",
      "        [-9.1156e-05,  1.9463e-02]], grad_fn=<MmBackward0>)\n",
      "obj:  tensor(-0.3251, grad_fn=<AddBackward0>)\n",
      "mle loss:  tensor(-5.0284, grad_fn=<AddBackward0>)\n",
      "h_val:  tensor(0.1524, grad_fn=<AddBackward0>)\n"
     ]
    },
    {
     "name": "stderr",
     "output_type": "stream",
     "text": [
      " 35%|███▌      | 10154/29000 [00:26<00:48, 388.39it/s]"
     ]
    },
    {
     "name": "stdout",
     "output_type": "stream",
     "text": [
      "Sigma:  tensor([[ 0.0916, -0.0001],\n",
      "        [-0.0001,  0.0187]], grad_fn=<MmBackward0>)\n",
      "obj:  tensor(-0.3310, grad_fn=<AddBackward0>)\n",
      "mle loss:  tensor(-5.0246, grad_fn=<AddBackward0>)\n",
      "h_val:  tensor(0.1460, grad_fn=<AddBackward0>)\n"
     ]
    },
    {
     "name": "stderr",
     "output_type": "stream",
     "text": [
      " 35%|███▌      | 10274/29000 [00:27<00:47, 394.99it/s]"
     ]
    },
    {
     "name": "stdout",
     "output_type": "stream",
     "text": [
      "Sigma:  tensor([[ 0.0959, -0.0001],\n",
      "        [-0.0001,  0.0180]], grad_fn=<MmBackward0>)\n",
      "obj:  tensor(-0.3369, grad_fn=<AddBackward0>)\n",
      "mle loss:  tensor(-5.0229, grad_fn=<AddBackward0>)\n",
      "h_val:  tensor(0.1399, grad_fn=<AddBackward0>)\n"
     ]
    },
    {
     "name": "stderr",
     "output_type": "stream",
     "text": [
      " 36%|███▌      | 10353/29000 [00:27<00:48, 384.76it/s]"
     ]
    },
    {
     "name": "stdout",
     "output_type": "stream",
     "text": [
      "Sigma:  tensor([[ 0.1003, -0.0002],\n",
      "        [-0.0002,  0.0172]], grad_fn=<MmBackward0>)\n",
      "obj:  tensor(-0.3428, grad_fn=<AddBackward0>)\n",
      "mle loss:  tensor(-5.0234, grad_fn=<AddBackward0>)\n",
      "h_val:  tensor(0.1339, grad_fn=<AddBackward0>)\n"
     ]
    },
    {
     "name": "stderr",
     "output_type": "stream",
     "text": [
      " 36%|███▌      | 10471/29000 [00:27<00:48, 379.49it/s]"
     ]
    },
    {
     "name": "stdout",
     "output_type": "stream",
     "text": [
      "Sigma:  tensor([[ 0.1049, -0.0002],\n",
      "        [-0.0002,  0.0166]], grad_fn=<MmBackward0>)\n",
      "obj:  tensor(-0.3486, grad_fn=<AddBackward0>)\n",
      "mle loss:  tensor(-5.0261, grad_fn=<AddBackward0>)\n",
      "h_val:  tensor(0.1282, grad_fn=<AddBackward0>)\n"
     ]
    },
    {
     "name": "stderr",
     "output_type": "stream",
     "text": [
      " 36%|███▋      | 10550/29000 [00:27<00:48, 380.41it/s]"
     ]
    },
    {
     "name": "stdout",
     "output_type": "stream",
     "text": [
      "Sigma:  tensor([[ 0.1096, -0.0002],\n",
      "        [-0.0002,  0.0159]], grad_fn=<MmBackward0>)\n",
      "obj:  tensor(-0.3545, grad_fn=<AddBackward0>)\n",
      "mle loss:  tensor(-5.0309, grad_fn=<AddBackward0>)\n",
      "h_val:  tensor(0.1228, grad_fn=<AddBackward0>)\n"
     ]
    },
    {
     "name": "stderr",
     "output_type": "stream",
     "text": [
      " 37%|███▋      | 10673/29000 [00:28<00:46, 394.46it/s]"
     ]
    },
    {
     "name": "stdout",
     "output_type": "stream",
     "text": [
      "Sigma:  tensor([[ 0.1144, -0.0002],\n",
      "        [-0.0002,  0.0153]], grad_fn=<MmBackward0>)\n",
      "obj:  tensor(-0.3603, grad_fn=<AddBackward0>)\n",
      "mle loss:  tensor(-5.0378, grad_fn=<AddBackward0>)\n",
      "h_val:  tensor(0.1176, grad_fn=<AddBackward0>)\n"
     ]
    },
    {
     "name": "stderr",
     "output_type": "stream",
     "text": [
      " 37%|███▋      | 10753/29000 [00:28<00:46, 388.75it/s]"
     ]
    },
    {
     "name": "stdout",
     "output_type": "stream",
     "text": [
      "Sigma:  tensor([[ 0.1193, -0.0002],\n",
      "        [-0.0002,  0.0146]], grad_fn=<MmBackward0>)\n",
      "obj:  tensor(-0.3660, grad_fn=<AddBackward0>)\n",
      "mle loss:  tensor(-5.0465, grad_fn=<AddBackward0>)\n",
      "h_val:  tensor(0.1126, grad_fn=<AddBackward0>)\n"
     ]
    },
    {
     "name": "stderr",
     "output_type": "stream",
     "text": [
      " 38%|███▊      | 10876/29000 [00:28<00:45, 397.26it/s]"
     ]
    },
    {
     "name": "stdout",
     "output_type": "stream",
     "text": [
      "Sigma:  tensor([[ 0.1243, -0.0002],\n",
      "        [-0.0002,  0.0141]], grad_fn=<MmBackward0>)\n",
      "obj:  tensor(-0.3717, grad_fn=<AddBackward0>)\n",
      "mle loss:  tensor(-5.0571, grad_fn=<AddBackward0>)\n",
      "h_val:  tensor(0.1079, grad_fn=<AddBackward0>)\n"
     ]
    },
    {
     "name": "stderr",
     "output_type": "stream",
     "text": [
      " 38%|███▊      | 10955/29000 [00:28<00:46, 388.10it/s]"
     ]
    },
    {
     "name": "stdout",
     "output_type": "stream",
     "text": [
      "Sigma:  tensor([[ 0.1294, -0.0002],\n",
      "        [-0.0002,  0.0135]], grad_fn=<MmBackward0>)\n",
      "obj:  tensor(-0.3773, grad_fn=<AddBackward0>)\n",
      "mle loss:  tensor(-5.0692, grad_fn=<AddBackward0>)\n",
      "h_val:  tensor(0.1034, grad_fn=<AddBackward0>)\n"
     ]
    },
    {
     "name": "stderr",
     "output_type": "stream",
     "text": [
      " 38%|███▊      | 11076/29000 [00:29<00:45, 394.50it/s]"
     ]
    },
    {
     "name": "stdout",
     "output_type": "stream",
     "text": [
      "Sigma:  tensor([[ 0.1346, -0.0002],\n",
      "        [-0.0002,  0.0129]], grad_fn=<MmBackward0>)\n",
      "obj:  tensor(-0.3829, grad_fn=<AddBackward0>)\n",
      "mle loss:  tensor(-5.0829, grad_fn=<AddBackward0>)\n",
      "h_val:  tensor(0.0992, grad_fn=<AddBackward0>)\n"
     ]
    },
    {
     "name": "stderr",
     "output_type": "stream",
     "text": [
      " 38%|███▊      | 11155/29000 [00:29<00:46, 385.72it/s]"
     ]
    },
    {
     "name": "stdout",
     "output_type": "stream",
     "text": [
      "Sigma:  tensor([[ 0.1398, -0.0001],\n",
      "        [-0.0001,  0.0124]], grad_fn=<MmBackward0>)\n",
      "obj:  tensor(-0.3884, grad_fn=<AddBackward0>)\n",
      "mle loss:  tensor(-5.0980, grad_fn=<AddBackward0>)\n",
      "h_val:  tensor(0.0951, grad_fn=<AddBackward0>)\n"
     ]
    },
    {
     "name": "stderr",
     "output_type": "stream",
     "text": [
      " 39%|███▉      | 11274/29000 [00:29<00:45, 393.41it/s]"
     ]
    },
    {
     "name": "stdout",
     "output_type": "stream",
     "text": [
      "Sigma:  tensor([[ 1.4516e-01, -1.2918e-04],\n",
      "        [-1.2918e-04,  1.1925e-02]], grad_fn=<MmBackward0>)\n",
      "obj:  tensor(-0.3937, grad_fn=<AddBackward0>)\n",
      "mle loss:  tensor(-5.1144, grad_fn=<AddBackward0>)\n",
      "h_val:  tensor(0.0913, grad_fn=<AddBackward0>)\n"
     ]
    },
    {
     "name": "stderr",
     "output_type": "stream",
     "text": [
      " 39%|███▉      | 11353/29000 [00:29<00:46, 378.20it/s]"
     ]
    },
    {
     "name": "stdout",
     "output_type": "stream",
     "text": [
      "Sigma:  tensor([[ 1.5052e-01, -1.1449e-04],\n",
      "        [-1.1449e-04,  1.1444e-02]], grad_fn=<MmBackward0>)\n",
      "obj:  tensor(-0.3990, grad_fn=<AddBackward0>)\n",
      "mle loss:  tensor(-5.1320, grad_fn=<AddBackward0>)\n",
      "h_val:  tensor(0.0877, grad_fn=<AddBackward0>)\n"
     ]
    },
    {
     "name": "stderr",
     "output_type": "stream",
     "text": [
      " 40%|███▉      | 11474/29000 [00:30<00:44, 389.50it/s]"
     ]
    },
    {
     "name": "stdout",
     "output_type": "stream",
     "text": [
      "Sigma:  tensor([[ 1.5592e-01, -9.9542e-05],\n",
      "        [-9.9542e-05,  1.0982e-02]], grad_fn=<MmBackward0>)\n",
      "obj:  tensor(-0.4042, grad_fn=<AddBackward0>)\n",
      "mle loss:  tensor(-5.1507, grad_fn=<AddBackward0>)\n",
      "h_val:  tensor(0.0843, grad_fn=<AddBackward0>)\n"
     ]
    },
    {
     "name": "stderr",
     "output_type": "stream",
     "text": [
      " 40%|███▉      | 11553/29000 [00:30<00:45, 383.46it/s]"
     ]
    },
    {
     "name": "stdout",
     "output_type": "stream",
     "text": [
      "Sigma:  tensor([[ 1.6133e-01, -8.4807e-05],\n",
      "        [-8.4807e-05,  1.0539e-02]], grad_fn=<MmBackward0>)\n",
      "obj:  tensor(-0.4093, grad_fn=<AddBackward0>)\n",
      "mle loss:  tensor(-5.1704, grad_fn=<AddBackward0>)\n",
      "h_val:  tensor(0.0811, grad_fn=<AddBackward0>)\n"
     ]
    },
    {
     "name": "stderr",
     "output_type": "stream",
     "text": [
      " 40%|████      | 11673/29000 [00:30<00:44, 389.26it/s]"
     ]
    },
    {
     "name": "stdout",
     "output_type": "stream",
     "text": [
      "Sigma:  tensor([[ 1.6676e-01, -7.0710e-05],\n",
      "        [-7.0710e-05,  1.0113e-02]], grad_fn=<MmBackward0>)\n",
      "obj:  tensor(-0.4143, grad_fn=<AddBackward0>)\n",
      "mle loss:  tensor(-5.1911, grad_fn=<AddBackward0>)\n",
      "h_val:  tensor(0.0781, grad_fn=<AddBackward0>)\n"
     ]
    },
    {
     "name": "stderr",
     "output_type": "stream",
     "text": [
      " 41%|████      | 11751/29000 [00:30<00:44, 383.34it/s]"
     ]
    },
    {
     "name": "stdout",
     "output_type": "stream",
     "text": [
      "Sigma:  tensor([[ 1.7217e-01, -5.7618e-05],\n",
      "        [-5.7618e-05,  9.7052e-03]], grad_fn=<MmBackward0>)\n",
      "obj:  tensor(-0.4192, grad_fn=<AddBackward0>)\n",
      "mle loss:  tensor(-5.2126, grad_fn=<AddBackward0>)\n",
      "h_val:  tensor(0.0753, grad_fn=<AddBackward0>)\n"
     ]
    },
    {
     "name": "stderr",
     "output_type": "stream",
     "text": [
      " 41%|████      | 11874/29000 [00:31<00:43, 396.72it/s]"
     ]
    },
    {
     "name": "stdout",
     "output_type": "stream",
     "text": [
      "Sigma:  tensor([[ 1.7756e-01, -4.5819e-05],\n",
      "        [-4.5819e-05,  9.3140e-03]], grad_fn=<MmBackward0>)\n",
      "obj:  tensor(-0.4241, grad_fn=<AddBackward0>)\n",
      "mle loss:  tensor(-5.2351, grad_fn=<AddBackward0>)\n",
      "h_val:  tensor(0.0727, grad_fn=<AddBackward0>)\n"
     ]
    },
    {
     "name": "stderr",
     "output_type": "stream",
     "text": [
      " 41%|████      | 11954/29000 [00:31<00:43, 388.79it/s]"
     ]
    },
    {
     "name": "stdout",
     "output_type": "stream",
     "text": [
      "Sigma:  tensor([[ 1.8291e-01, -3.5513e-05],\n",
      "        [-3.5513e-05,  8.9389e-03]], grad_fn=<MmBackward0>)\n",
      "obj:  tensor(-0.4288, grad_fn=<AddBackward0>)\n",
      "mle loss:  tensor(-5.2583, grad_fn=<AddBackward0>)\n",
      "h_val:  tensor(0.0702, grad_fn=<AddBackward0>)\n"
     ]
    },
    {
     "name": "stderr",
     "output_type": "stream",
     "text": [
      " 42%|████▏     | 12074/29000 [00:31<00:44, 382.96it/s]"
     ]
    },
    {
     "name": "stdout",
     "output_type": "stream",
     "text": [
      "Sigma:  tensor([[ 1.8819e-01, -2.6796e-05],\n",
      "        [-2.6796e-05,  8.5794e-03]], grad_fn=<MmBackward0>)\n",
      "obj:  tensor(-0.4335, grad_fn=<AddBackward0>)\n",
      "mle loss:  tensor(-5.2824, grad_fn=<AddBackward0>)\n",
      "h_val:  tensor(0.0679, grad_fn=<AddBackward0>)\n"
     ]
    },
    {
     "name": "stderr",
     "output_type": "stream",
     "text": [
      " 42%|████▏     | 12151/29000 [00:31<00:44, 374.80it/s]"
     ]
    },
    {
     "name": "stdout",
     "output_type": "stream",
     "text": [
      "Sigma:  tensor([[ 1.9339e-01, -1.9661e-05],\n",
      "        [-1.9661e-05,  8.2347e-03]], grad_fn=<MmBackward0>)\n",
      "obj:  tensor(-0.4381, grad_fn=<AddBackward0>)\n",
      "mle loss:  tensor(-5.3074, grad_fn=<AddBackward0>)\n",
      "h_val:  tensor(0.0658, grad_fn=<AddBackward0>)\n"
     ]
    },
    {
     "name": "stderr",
     "output_type": "stream",
     "text": [
      " 42%|████▏     | 12273/29000 [00:32<00:42, 392.46it/s]"
     ]
    },
    {
     "name": "stdout",
     "output_type": "stream",
     "text": [
      "Sigma:  tensor([[ 1.9849e-01, -1.3992e-05],\n",
      "        [-1.3992e-05,  7.9043e-03]], grad_fn=<MmBackward0>)\n",
      "obj:  tensor(-0.4426, grad_fn=<AddBackward0>)\n",
      "mle loss:  tensor(-5.3331, grad_fn=<AddBackward0>)\n",
      "h_val:  tensor(0.0638, grad_fn=<AddBackward0>)\n"
     ]
    },
    {
     "name": "stderr",
     "output_type": "stream",
     "text": [
      " 43%|████▎     | 12353/29000 [00:32<00:42, 387.29it/s]"
     ]
    },
    {
     "name": "stdout",
     "output_type": "stream",
     "text": [
      "Sigma:  tensor([[ 2.0347e-01, -9.5716e-06],\n",
      "        [-9.5716e-06,  7.5875e-03]], grad_fn=<MmBackward0>)\n",
      "obj:  tensor(-0.4471, grad_fn=<AddBackward0>)\n",
      "mle loss:  tensor(-5.3597, grad_fn=<AddBackward0>)\n",
      "h_val:  tensor(0.0619, grad_fn=<AddBackward0>)\n"
     ]
    },
    {
     "name": "stderr",
     "output_type": "stream",
     "text": [
      " 43%|████▎     | 12475/29000 [00:32<00:41, 394.71it/s]"
     ]
    },
    {
     "name": "stdout",
     "output_type": "stream",
     "text": [
      "Sigma:  tensor([[ 2.0830e-01, -6.0953e-06],\n",
      "        [-6.0953e-06,  7.2839e-03]], grad_fn=<MmBackward0>)\n",
      "obj:  tensor(-0.4516, grad_fn=<AddBackward0>)\n",
      "mle loss:  tensor(-5.3871, grad_fn=<AddBackward0>)\n",
      "h_val:  tensor(0.0602, grad_fn=<AddBackward0>)\n"
     ]
    },
    {
     "name": "stderr",
     "output_type": "stream",
     "text": [
      " 43%|████▎     | 12554/29000 [00:32<00:42, 384.45it/s]"
     ]
    },
    {
     "name": "stdout",
     "output_type": "stream",
     "text": [
      "Sigma:  tensor([[ 2.1297e-01, -3.1888e-06],\n",
      "        [-3.1888e-06,  6.9928e-03]], grad_fn=<MmBackward0>)\n",
      "obj:  tensor(-0.4560, grad_fn=<AddBackward0>)\n",
      "mle loss:  tensor(-5.4153, grad_fn=<AddBackward0>)\n",
      "h_val:  tensor(0.0586, grad_fn=<AddBackward0>)\n"
     ]
    },
    {
     "name": "stderr",
     "output_type": "stream",
     "text": [
      " 44%|████▎     | 12674/29000 [00:33<00:41, 391.55it/s]"
     ]
    },
    {
     "name": "stdout",
     "output_type": "stream",
     "text": [
      "Sigma:  tensor([[ 2.1744e-01, -4.4558e-07],\n",
      "        [-4.4558e-07,  6.7138e-03]], grad_fn=<MmBackward0>)\n",
      "obj:  tensor(-0.4603, grad_fn=<AddBackward0>)\n",
      "mle loss:  tensor(-5.4445, grad_fn=<AddBackward0>)\n",
      "h_val:  tensor(0.0571, grad_fn=<AddBackward0>)\n"
     ]
    },
    {
     "name": "stderr",
     "output_type": "stream",
     "text": [
      " 44%|████▍     | 12753/29000 [00:33<00:42, 381.51it/s]"
     ]
    },
    {
     "name": "stdout",
     "output_type": "stream",
     "text": [
      "Sigma:  tensor([[2.2172e-01, 2.4922e-06],\n",
      "        [2.4922e-06, 6.4461e-03]], grad_fn=<MmBackward0>)\n",
      "obj:  tensor(-0.4647, grad_fn=<AddBackward0>)\n",
      "mle loss:  tensor(-5.4744, grad_fn=<AddBackward0>)\n",
      "h_val:  tensor(0.0557, grad_fn=<AddBackward0>)\n"
     ]
    },
    {
     "name": "stderr",
     "output_type": "stream",
     "text": [
      " 44%|████▍     | 12874/29000 [00:33<00:40, 394.58it/s]"
     ]
    },
    {
     "name": "stdout",
     "output_type": "stream",
     "text": [
      "Sigma:  tensor([[2.2576e-01, 5.7937e-06],\n",
      "        [5.7937e-06, 6.1894e-03]], grad_fn=<MmBackward0>)\n",
      "obj:  tensor(-0.4690, grad_fn=<AddBackward0>)\n",
      "mle loss:  tensor(-5.5053, grad_fn=<AddBackward0>)\n",
      "h_val:  tensor(0.0545, grad_fn=<AddBackward0>)\n"
     ]
    },
    {
     "name": "stderr",
     "output_type": "stream",
     "text": [
      " 45%|████▍     | 12953/29000 [00:33<00:41, 385.77it/s]"
     ]
    },
    {
     "name": "stdout",
     "output_type": "stream",
     "text": [
      "Sigma:  tensor([[2.2957e-01, 9.3342e-06],\n",
      "        [9.3342e-06, 5.9432e-03]], grad_fn=<MmBackward0>)\n",
      "obj:  tensor(-0.4733, grad_fn=<AddBackward0>)\n",
      "mle loss:  tensor(-5.5370, grad_fn=<AddBackward0>)\n",
      "h_val:  tensor(0.0533, grad_fn=<AddBackward0>)\n"
     ]
    },
    {
     "name": "stderr",
     "output_type": "stream",
     "text": [
      " 45%|████▌     | 13074/29000 [00:34<00:40, 394.75it/s]"
     ]
    },
    {
     "name": "stdout",
     "output_type": "stream",
     "text": [
      "Sigma:  tensor([[2.3313e-01, 1.2781e-05],\n",
      "        [1.2781e-05, 5.7070e-03]], grad_fn=<MmBackward0>)\n",
      "obj:  tensor(-0.4776, grad_fn=<AddBackward0>)\n",
      "mle loss:  tensor(-5.5695, grad_fn=<AddBackward0>)\n",
      "h_val:  tensor(0.0523, grad_fn=<AddBackward0>)\n"
     ]
    },
    {
     "name": "stderr",
     "output_type": "stream",
     "text": [
      " 45%|████▌     | 13154/29000 [00:34<00:40, 388.40it/s]"
     ]
    },
    {
     "name": "stdout",
     "output_type": "stream",
     "text": [
      "Sigma:  tensor([[2.3642e-01, 1.5824e-05],\n",
      "        [1.5824e-05, 5.4804e-03]], grad_fn=<MmBackward0>)\n",
      "obj:  tensor(-0.4819, grad_fn=<AddBackward0>)\n",
      "mle loss:  tensor(-5.6027, grad_fn=<AddBackward0>)\n",
      "h_val:  tensor(0.0513, grad_fn=<AddBackward0>)\n"
     ]
    },
    {
     "name": "stderr",
     "output_type": "stream",
     "text": [
      " 46%|████▌     | 13275/29000 [00:34<00:39, 396.49it/s]"
     ]
    },
    {
     "name": "stdout",
     "output_type": "stream",
     "text": [
      "Sigma:  tensor([[2.3943e-01, 1.8350e-05],\n",
      "        [1.8350e-05, 5.2629e-03]], grad_fn=<MmBackward0>)\n",
      "obj:  tensor(-0.4861, grad_fn=<AddBackward0>)\n",
      "mle loss:  tensor(-5.6368, grad_fn=<AddBackward0>)\n",
      "h_val:  tensor(0.0505, grad_fn=<AddBackward0>)\n"
     ]
    },
    {
     "name": "stderr",
     "output_type": "stream",
     "text": [
      " 46%|████▌     | 13354/29000 [00:35<00:40, 386.06it/s]"
     ]
    },
    {
     "name": "stdout",
     "output_type": "stream",
     "text": [
      "Sigma:  tensor([[2.4216e-01, 2.0437e-05],\n",
      "        [2.0437e-05, 5.0542e-03]], grad_fn=<MmBackward0>)\n",
      "obj:  tensor(-0.4904, grad_fn=<AddBackward0>)\n",
      "mle loss:  tensor(-5.6716, grad_fn=<AddBackward0>)\n",
      "h_val:  tensor(0.0497, grad_fn=<AddBackward0>)\n"
     ]
    },
    {
     "name": "stderr",
     "output_type": "stream",
     "text": [
      " 46%|████▋     | 13476/29000 [00:35<00:39, 394.34it/s]"
     ]
    },
    {
     "name": "stdout",
     "output_type": "stream",
     "text": [
      "Sigma:  tensor([[2.4460e-01, 2.2255e-05],\n",
      "        [2.2255e-05, 4.8539e-03]], grad_fn=<MmBackward0>)\n",
      "obj:  tensor(-0.4946, grad_fn=<AddBackward0>)\n",
      "mle loss:  tensor(-5.7071, grad_fn=<AddBackward0>)\n",
      "h_val:  tensor(0.0490, grad_fn=<AddBackward0>)\n"
     ]
    },
    {
     "name": "stderr",
     "output_type": "stream",
     "text": [
      " 47%|████▋     | 13555/29000 [00:35<00:40, 379.73it/s]"
     ]
    },
    {
     "name": "stdout",
     "output_type": "stream",
     "text": [
      "Sigma:  tensor([[2.4676e-01, 2.3976e-05],\n",
      "        [2.3976e-05, 4.6616e-03]], grad_fn=<MmBackward0>)\n",
      "obj:  tensor(-0.4988, grad_fn=<AddBackward0>)\n",
      "mle loss:  tensor(-5.7432, grad_fn=<AddBackward0>)\n",
      "h_val:  tensor(0.0484, grad_fn=<AddBackward0>)\n"
     ]
    },
    {
     "name": "stderr",
     "output_type": "stream",
     "text": [
      " 47%|████▋     | 13594/29000 [00:35<00:40, 379.20it/s]"
     ]
    },
    {
     "name": "stdout",
     "output_type": "stream",
     "text": [
      "Sigma:  tensor([[2.4863e-01, 2.5741e-05],\n",
      "        [2.5741e-05, 4.4771e-03]], grad_fn=<MmBackward0>)\n",
      "obj:  tensor(-0.5030, grad_fn=<AddBackward0>)\n",
      "mle loss:  tensor(-5.7800, grad_fn=<AddBackward0>)\n",
      "h_val:  tensor(0.0479, grad_fn=<AddBackward0>)\n"
     ]
    },
    {
     "name": "stderr",
     "output_type": "stream",
     "text": [
      " 47%|████▋     | 13754/29000 [00:36<00:45, 336.28it/s]"
     ]
    },
    {
     "name": "stdout",
     "output_type": "stream",
     "text": [
      "Sigma:  tensor([[2.5024e-01, 2.7662e-05],\n",
      "        [2.7662e-05, 4.3000e-03]], grad_fn=<MmBackward0>)\n",
      "obj:  tensor(-0.5072, grad_fn=<AddBackward0>)\n",
      "mle loss:  tensor(-5.8173, grad_fn=<AddBackward0>)\n",
      "h_val:  tensor(0.0475, grad_fn=<AddBackward0>)\n"
     ]
    },
    {
     "name": "stderr",
     "output_type": "stream",
     "text": [
      " 48%|████▊     | 13875/29000 [00:36<00:40, 375.28it/s]"
     ]
    },
    {
     "name": "stdout",
     "output_type": "stream",
     "text": [
      "Sigma:  tensor([[2.5159e-01, 2.9806e-05],\n",
      "        [2.9806e-05, 4.1300e-03]], grad_fn=<MmBackward0>)\n",
      "obj:  tensor(-0.5113, grad_fn=<AddBackward0>)\n",
      "mle loss:  tensor(-5.8551, grad_fn=<AddBackward0>)\n",
      "h_val:  tensor(0.0471, grad_fn=<AddBackward0>)\n"
     ]
    },
    {
     "name": "stderr",
     "output_type": "stream",
     "text": [
      " 48%|████▊     | 13954/29000 [00:36<00:40, 375.76it/s]"
     ]
    },
    {
     "name": "stdout",
     "output_type": "stream",
     "text": [
      "Sigma:  tensor([[2.5271e-01, 3.2197e-05],\n",
      "        [3.2197e-05, 3.9668e-03]], grad_fn=<MmBackward0>)\n",
      "obj:  tensor(-0.5155, grad_fn=<AddBackward0>)\n",
      "mle loss:  tensor(-5.8934, grad_fn=<AddBackward0>)\n",
      "h_val:  tensor(0.0468, grad_fn=<AddBackward0>)\n"
     ]
    },
    {
     "name": "stderr",
     "output_type": "stream",
     "text": [
      " 49%|████▉     | 14159/29000 [00:37<00:36, 403.07it/s]"
     ]
    },
    {
     "name": "stdout",
     "output_type": "stream",
     "text": [
      "Sigma:  tensor([[ 0.2575, -0.0005],\n",
      "        [-0.0005,  0.0038]], grad_fn=<MmBackward0>)\n",
      "obj:  tensor(-0.0235, grad_fn=<AddBackward0>)\n",
      "mle loss:  tensor(-5.7153, grad_fn=<AddBackward0>)\n",
      "h_val:  tensor(0.0309, grad_fn=<AddBackward0>)\n"
     ]
    },
    {
     "name": "stderr",
     "output_type": "stream",
     "text": [
      " 49%|████▉     | 14240/29000 [00:37<00:37, 392.26it/s]"
     ]
    },
    {
     "name": "stdout",
     "output_type": "stream",
     "text": [
      "Sigma:  tensor([[ 2.6789e-01, -1.0330e-04],\n",
      "        [-1.0330e-04,  3.7524e-03]], grad_fn=<MmBackward0>)\n",
      "obj:  tensor(-0.0302, grad_fn=<AddBackward0>)\n",
      "mle loss:  tensor(-5.4496, grad_fn=<AddBackward0>)\n",
      "h_val:  tensor(0.0215, grad_fn=<AddBackward0>)\n"
     ]
    },
    {
     "name": "stderr",
     "output_type": "stream",
     "text": [
      " 50%|████▉     | 14365/29000 [00:37<00:37, 389.43it/s]"
     ]
    },
    {
     "name": "stdout",
     "output_type": "stream",
     "text": [
      "Sigma:  tensor([[2.8034e-01, 1.2982e-04],\n",
      "        [1.2982e-04, 3.7264e-03]], grad_fn=<MmBackward0>)\n",
      "obj:  tensor(-0.0349, grad_fn=<AddBackward0>)\n",
      "mle loss:  tensor(-5.3931, grad_fn=<AddBackward0>)\n",
      "h_val:  tensor(0.0163, grad_fn=<AddBackward0>)\n"
     ]
    },
    {
     "name": "stderr",
     "output_type": "stream",
     "text": [
      " 50%|████▉     | 14444/29000 [00:38<00:38, 380.18it/s]"
     ]
    },
    {
     "name": "stdout",
     "output_type": "stream",
     "text": [
      "Sigma:  tensor([[2.9324e-01, 3.1724e-05],\n",
      "        [3.1724e-05, 3.6974e-03]], grad_fn=<MmBackward0>)\n",
      "obj:  tensor(-0.0384, grad_fn=<AddBackward0>)\n",
      "mle loss:  tensor(-5.4104, grad_fn=<AddBackward0>)\n",
      "h_val:  tensor(0.0130, grad_fn=<AddBackward0>)\n"
     ]
    },
    {
     "name": "stderr",
     "output_type": "stream",
     "text": [
      " 50%|█████     | 14568/29000 [00:38<00:36, 392.58it/s]"
     ]
    },
    {
     "name": "stdout",
     "output_type": "stream",
     "text": [
      "Sigma:  tensor([[3.0571e-01, 3.8056e-05],\n",
      "        [3.8056e-05, 3.6655e-03]], grad_fn=<MmBackward0>)\n",
      "obj:  tensor(-0.0405, grad_fn=<AddBackward0>)\n",
      "mle loss:  tensor(-5.3777, grad_fn=<AddBackward0>)\n",
      "h_val:  tensor(0.0105, grad_fn=<AddBackward0>)\n"
     ]
    },
    {
     "name": "stderr",
     "output_type": "stream",
     "text": [
      " 51%|█████     | 14647/29000 [00:38<00:37, 382.55it/s]"
     ]
    },
    {
     "name": "stdout",
     "output_type": "stream",
     "text": [
      "Sigma:  tensor([[ 3.1837e-01, -2.5894e-05],\n",
      "        [-2.5894e-05,  3.6302e-03]], grad_fn=<MmBackward0>)\n",
      "obj:  tensor(-0.0419, grad_fn=<AddBackward0>)\n",
      "mle loss:  tensor(-5.3354, grad_fn=<AddBackward0>)\n",
      "h_val:  tensor(0.0087, grad_fn=<AddBackward0>)\n"
     ]
    },
    {
     "name": "stderr",
     "output_type": "stream",
     "text": [
      " 51%|█████     | 14771/29000 [00:38<00:36, 391.49it/s]"
     ]
    },
    {
     "name": "stdout",
     "output_type": "stream",
     "text": [
      "Sigma:  tensor([[ 3.3164e-01, -4.2580e-05],\n",
      "        [-4.2580e-05,  3.5915e-03]], grad_fn=<MmBackward0>)\n",
      "obj:  tensor(-0.0427, grad_fn=<AddBackward0>)\n",
      "mle loss:  tensor(-5.3428, grad_fn=<AddBackward0>)\n",
      "h_val:  tensor(0.0079, grad_fn=<AddBackward0>)\n"
     ]
    },
    {
     "name": "stderr",
     "output_type": "stream",
     "text": [
      " 51%|█████     | 14850/29000 [00:39<00:36, 383.71it/s]"
     ]
    },
    {
     "name": "stdout",
     "output_type": "stream",
     "text": [
      "Sigma:  tensor([[ 3.4491e-01, -3.1817e-05],\n",
      "        [-3.1817e-05,  3.5494e-03]], grad_fn=<MmBackward0>)\n",
      "obj:  tensor(-0.0432, grad_fn=<AddBackward0>)\n",
      "mle loss:  tensor(-5.3518, grad_fn=<AddBackward0>)\n",
      "h_val:  tensor(0.0075, grad_fn=<AddBackward0>)\n"
     ]
    },
    {
     "name": "stderr",
     "output_type": "stream",
     "text": [
      " 52%|█████▏    | 14972/29000 [00:39<00:36, 387.88it/s]"
     ]
    },
    {
     "name": "stdout",
     "output_type": "stream",
     "text": [
      "Sigma:  tensor([[ 3.5780e-01, -1.5060e-05],\n",
      "        [-1.5060e-05,  3.5041e-03]], grad_fn=<MmBackward0>)\n",
      "obj:  tensor(-0.0436, grad_fn=<AddBackward0>)\n",
      "mle loss:  tensor(-5.3469, grad_fn=<AddBackward0>)\n",
      "h_val:  tensor(0.0070, grad_fn=<AddBackward0>)\n"
     ]
    },
    {
     "name": "stderr",
     "output_type": "stream",
     "text": [
      " 52%|█████▏    | 15050/29000 [00:39<00:36, 378.61it/s]"
     ]
    },
    {
     "name": "stdout",
     "output_type": "stream",
     "text": [
      "Sigma:  tensor([[ 3.7032e-01, -3.0527e-05],\n",
      "        [-3.0527e-05,  3.4560e-03]], grad_fn=<MmBackward0>)\n",
      "obj:  tensor(-0.0440, grad_fn=<AddBackward0>)\n",
      "mle loss:  tensor(-5.3562, grad_fn=<AddBackward0>)\n",
      "h_val:  tensor(0.0068, grad_fn=<AddBackward0>)\n"
     ]
    },
    {
     "name": "stderr",
     "output_type": "stream",
     "text": [
      " 52%|█████▏    | 15169/29000 [00:39<00:35, 388.32it/s]"
     ]
    },
    {
     "name": "stdout",
     "output_type": "stream",
     "text": [
      "Sigma:  tensor([[ 3.8220e-01, -2.3462e-05],\n",
      "        [-2.3462e-05,  3.4055e-03]], grad_fn=<MmBackward0>)\n",
      "obj:  tensor(-0.0443, grad_fn=<AddBackward0>)\n",
      "mle loss:  tensor(-5.3713, grad_fn=<AddBackward0>)\n",
      "h_val:  tensor(0.0066, grad_fn=<AddBackward0>)\n"
     ]
    },
    {
     "name": "stderr",
     "output_type": "stream",
     "text": [
      " 53%|█████▎    | 15247/29000 [00:40<00:36, 379.25it/s]"
     ]
    },
    {
     "name": "stdout",
     "output_type": "stream",
     "text": [
      "Sigma:  tensor([[ 3.9325e-01, -2.7267e-05],\n",
      "        [-2.7267e-05,  3.3526e-03]], grad_fn=<MmBackward0>)\n",
      "obj:  tensor(-0.0446, grad_fn=<AddBackward0>)\n",
      "mle loss:  tensor(-5.3853, grad_fn=<AddBackward0>)\n",
      "h_val:  tensor(0.0065, grad_fn=<AddBackward0>)\n"
     ]
    },
    {
     "name": "stderr",
     "output_type": "stream",
     "text": [
      " 53%|█████▎    | 15371/29000 [00:40<00:34, 392.07it/s]"
     ]
    },
    {
     "name": "stdout",
     "output_type": "stream",
     "text": [
      "Sigma:  tensor([[ 4.0340e-01, -2.9217e-05],\n",
      "        [-2.9217e-05,  3.2975e-03]], grad_fn=<MmBackward0>)\n",
      "obj:  tensor(-0.0449, grad_fn=<AddBackward0>)\n",
      "mle loss:  tensor(-5.4022, grad_fn=<AddBackward0>)\n",
      "h_val:  tensor(0.0064, grad_fn=<AddBackward0>)\n"
     ]
    },
    {
     "name": "stderr",
     "output_type": "stream",
     "text": [
      " 53%|█████▎    | 15451/29000 [00:40<00:34, 387.58it/s]"
     ]
    },
    {
     "name": "stdout",
     "output_type": "stream",
     "text": [
      "Sigma:  tensor([[ 4.1256e-01, -2.8572e-05],\n",
      "        [-2.8572e-05,  3.2403e-03]], grad_fn=<MmBackward0>)\n",
      "obj:  tensor(-0.0452, grad_fn=<AddBackward0>)\n",
      "mle loss:  tensor(-5.4182, grad_fn=<AddBackward0>)\n",
      "h_val:  tensor(0.0063, grad_fn=<AddBackward0>)\n"
     ]
    },
    {
     "name": "stderr",
     "output_type": "stream",
     "text": [
      " 54%|█████▎    | 15574/29000 [00:40<00:34, 390.87it/s]"
     ]
    },
    {
     "name": "stdout",
     "output_type": "stream",
     "text": [
      "Sigma:  tensor([[ 4.2073e-01, -2.9100e-05],\n",
      "        [-2.9100e-05,  3.1812e-03]], grad_fn=<MmBackward0>)\n",
      "obj:  tensor(-0.0454, grad_fn=<AddBackward0>)\n",
      "mle loss:  tensor(-5.4349, grad_fn=<AddBackward0>)\n",
      "h_val:  tensor(0.0061, grad_fn=<AddBackward0>)\n"
     ]
    },
    {
     "name": "stderr",
     "output_type": "stream",
     "text": [
      " 54%|█████▍    | 15655/29000 [00:41<00:34, 381.82it/s]"
     ]
    },
    {
     "name": "stdout",
     "output_type": "stream",
     "text": [
      "Sigma:  tensor([[ 4.2792e-01, -3.0138e-05],\n",
      "        [-3.0138e-05,  3.1205e-03]], grad_fn=<MmBackward0>)\n",
      "obj:  tensor(-0.0457, grad_fn=<AddBackward0>)\n",
      "mle loss:  tensor(-5.4524, grad_fn=<AddBackward0>)\n",
      "h_val:  tensor(0.0061, grad_fn=<AddBackward0>)\n"
     ]
    },
    {
     "name": "stderr",
     "output_type": "stream",
     "text": [
      " 54%|█████▍    | 15776/29000 [00:41<00:33, 389.94it/s]"
     ]
    },
    {
     "name": "stdout",
     "output_type": "stream",
     "text": [
      "Sigma:  tensor([[ 4.3418e-01, -3.1102e-05],\n",
      "        [-3.1102e-05,  3.0582e-03]], grad_fn=<MmBackward0>)\n",
      "obj:  tensor(-0.0460, grad_fn=<AddBackward0>)\n",
      "mle loss:  tensor(-5.4701, grad_fn=<AddBackward0>)\n",
      "h_val:  tensor(0.0060, grad_fn=<AddBackward0>)\n"
     ]
    },
    {
     "name": "stderr",
     "output_type": "stream",
     "text": [
      " 55%|█████▍    | 15856/29000 [00:41<00:34, 385.87it/s]"
     ]
    },
    {
     "name": "stdout",
     "output_type": "stream",
     "text": [
      "Sigma:  tensor([[ 4.3958e-01, -3.1910e-05],\n",
      "        [-3.1910e-05,  2.9945e-03]], grad_fn=<MmBackward0>)\n",
      "obj:  tensor(-0.0462, grad_fn=<AddBackward0>)\n",
      "mle loss:  tensor(-5.4888, grad_fn=<AddBackward0>)\n",
      "h_val:  tensor(0.0059, grad_fn=<AddBackward0>)\n"
     ]
    },
    {
     "name": "stderr",
     "output_type": "stream",
     "text": [
      " 55%|█████▌    | 15978/29000 [00:41<00:33, 393.19it/s]"
     ]
    },
    {
     "name": "stdout",
     "output_type": "stream",
     "text": [
      "Sigma:  tensor([[ 4.4417e-01, -3.2642e-05],\n",
      "        [-3.2642e-05,  2.9297e-03]], grad_fn=<MmBackward0>)\n",
      "obj:  tensor(-0.0465, grad_fn=<AddBackward0>)\n",
      "mle loss:  tensor(-5.5086, grad_fn=<AddBackward0>)\n",
      "h_val:  tensor(0.0058, grad_fn=<AddBackward0>)\n"
     ]
    },
    {
     "name": "stderr",
     "output_type": "stream",
     "text": [
      " 55%|█████▌    | 16057/29000 [00:42<00:34, 379.22it/s]"
     ]
    },
    {
     "name": "stdout",
     "output_type": "stream",
     "text": [
      "Sigma:  tensor([[ 4.4804e-01, -3.3205e-05],\n",
      "        [-3.3205e-05,  2.8637e-03]], grad_fn=<MmBackward0>)\n",
      "obj:  tensor(-0.0468, grad_fn=<AddBackward0>)\n",
      "mle loss:  tensor(-5.5296, grad_fn=<AddBackward0>)\n",
      "h_val:  tensor(0.0057, grad_fn=<AddBackward0>)\n"
     ]
    },
    {
     "name": "stderr",
     "output_type": "stream",
     "text": [
      " 56%|█████▌    | 16178/29000 [00:42<00:32, 394.00it/s]"
     ]
    },
    {
     "name": "stdout",
     "output_type": "stream",
     "text": [
      "Sigma:  tensor([[ 4.5123e-01, -3.3556e-05],\n",
      "        [-3.3556e-05,  2.7969e-03]], grad_fn=<MmBackward0>)\n",
      "obj:  tensor(-0.0471, grad_fn=<AddBackward0>)\n",
      "mle loss:  tensor(-5.5518, grad_fn=<AddBackward0>)\n",
      "h_val:  tensor(0.0057, grad_fn=<AddBackward0>)\n"
     ]
    },
    {
     "name": "stderr",
     "output_type": "stream",
     "text": [
      " 56%|█████▌    | 16257/29000 [00:42<00:34, 374.09it/s]"
     ]
    },
    {
     "name": "stdout",
     "output_type": "stream",
     "text": [
      "Sigma:  tensor([[ 4.5383e-01, -3.3864e-05],\n",
      "        [-3.3864e-05,  2.7292e-03]], grad_fn=<MmBackward0>)\n",
      "obj:  tensor(-0.0473, grad_fn=<AddBackward0>)\n",
      "mle loss:  tensor(-5.5754, grad_fn=<AddBackward0>)\n",
      "h_val:  tensor(0.0056, grad_fn=<AddBackward0>)\n"
     ]
    },
    {
     "name": "stderr",
     "output_type": "stream",
     "text": [
      " 56%|█████▋    | 16376/29000 [00:43<00:32, 388.15it/s]"
     ]
    },
    {
     "name": "stdout",
     "output_type": "stream",
     "text": [
      "Sigma:  tensor([[ 4.5590e-01, -3.4055e-05],\n",
      "        [-3.4055e-05,  2.6610e-03]], grad_fn=<MmBackward0>)\n",
      "obj:  tensor(-0.0476, grad_fn=<AddBackward0>)\n",
      "mle loss:  tensor(-5.6003, grad_fn=<AddBackward0>)\n",
      "h_val:  tensor(0.0056, grad_fn=<AddBackward0>)\n"
     ]
    },
    {
     "name": "stderr",
     "output_type": "stream",
     "text": [
      " 57%|█████▋    | 16454/29000 [00:43<00:32, 382.81it/s]"
     ]
    },
    {
     "name": "stdout",
     "output_type": "stream",
     "text": [
      "Sigma:  tensor([[ 4.5752e-01, -3.4135e-05],\n",
      "        [-3.4135e-05,  2.5924e-03]], grad_fn=<MmBackward0>)\n",
      "obj:  tensor(-0.0479, grad_fn=<AddBackward0>)\n",
      "mle loss:  tensor(-5.6265, grad_fn=<AddBackward0>)\n",
      "h_val:  tensor(0.0056, grad_fn=<AddBackward0>)\n"
     ]
    },
    {
     "name": "stderr",
     "output_type": "stream",
     "text": [
      " 57%|█████▋    | 16577/29000 [00:43<00:31, 394.70it/s]"
     ]
    },
    {
     "name": "stdout",
     "output_type": "stream",
     "text": [
      "Sigma:  tensor([[ 4.5876e-01, -3.4125e-05],\n",
      "        [-3.4125e-05,  2.5234e-03]], grad_fn=<MmBackward0>)\n",
      "obj:  tensor(-0.0482, grad_fn=<AddBackward0>)\n",
      "mle loss:  tensor(-5.6539, grad_fn=<AddBackward0>)\n",
      "h_val:  tensor(0.0056, grad_fn=<AddBackward0>)\n"
     ]
    },
    {
     "name": "stderr",
     "output_type": "stream",
     "text": [
      " 57%|█████▋    | 16657/29000 [00:43<00:31, 388.68it/s]"
     ]
    },
    {
     "name": "stdout",
     "output_type": "stream",
     "text": [
      "Sigma:  tensor([[ 4.5969e-01, -3.4055e-05],\n",
      "        [-3.4055e-05,  2.4543e-03]], grad_fn=<MmBackward0>)\n",
      "obj:  tensor(-0.0485, grad_fn=<AddBackward0>)\n",
      "mle loss:  tensor(-5.6824, grad_fn=<AddBackward0>)\n",
      "h_val:  tensor(0.0055, grad_fn=<AddBackward0>)\n"
     ]
    },
    {
     "name": "stderr",
     "output_type": "stream",
     "text": [
      " 58%|█████▊    | 16778/29000 [00:44<00:30, 396.37it/s]"
     ]
    },
    {
     "name": "stdout",
     "output_type": "stream",
     "text": [
      "Sigma:  tensor([[ 4.6037e-01, -3.3932e-05],\n",
      "        [-3.3932e-05,  2.3851e-03]], grad_fn=<MmBackward0>)\n",
      "obj:  tensor(-0.0488, grad_fn=<AddBackward0>)\n",
      "mle loss:  tensor(-5.7120, grad_fn=<AddBackward0>)\n",
      "h_val:  tensor(0.0055, grad_fn=<AddBackward0>)\n"
     ]
    },
    {
     "name": "stderr",
     "output_type": "stream",
     "text": [
      " 58%|█████▊    | 16857/29000 [00:44<00:31, 380.21it/s]"
     ]
    },
    {
     "name": "stdout",
     "output_type": "stream",
     "text": [
      "Sigma:  tensor([[ 4.6087e-01, -3.3782e-05],\n",
      "        [-3.3782e-05,  2.3162e-03]], grad_fn=<MmBackward0>)\n",
      "obj:  tensor(-0.0491, grad_fn=<AddBackward0>)\n",
      "mle loss:  tensor(-5.7425, grad_fn=<AddBackward0>)\n",
      "h_val:  tensor(0.0055, grad_fn=<AddBackward0>)\n"
     ]
    },
    {
     "name": "stderr",
     "output_type": "stream",
     "text": [
      " 59%|█████▊    | 16978/29000 [00:44<00:31, 387.18it/s]"
     ]
    },
    {
     "name": "stdout",
     "output_type": "stream",
     "text": [
      "Sigma:  tensor([[ 4.6122e-01, -3.3621e-05],\n",
      "        [-3.3621e-05,  2.2475e-03]], grad_fn=<MmBackward0>)\n",
      "obj:  tensor(-0.0494, grad_fn=<AddBackward0>)\n",
      "mle loss:  tensor(-5.7738, grad_fn=<AddBackward0>)\n",
      "h_val:  tensor(0.0055, grad_fn=<AddBackward0>)\n"
     ]
    },
    {
     "name": "stderr",
     "output_type": "stream",
     "text": [
      " 59%|█████▉    | 17057/29000 [00:44<00:31, 381.47it/s]"
     ]
    },
    {
     "name": "stdout",
     "output_type": "stream",
     "text": [
      "Sigma:  tensor([[ 4.6147e-01, -3.3465e-05],\n",
      "        [-3.3465e-05,  2.1793e-03]], grad_fn=<MmBackward0>)\n",
      "obj:  tensor(-0.0497, grad_fn=<AddBackward0>)\n",
      "mle loss:  tensor(-5.8059, grad_fn=<AddBackward0>)\n",
      "h_val:  tensor(0.0055, grad_fn=<AddBackward0>)\n"
     ]
    },
    {
     "name": "stderr",
     "output_type": "stream",
     "text": [
      " 59%|█████▉    | 17178/29000 [00:45<00:29, 394.59it/s]"
     ]
    },
    {
     "name": "stdout",
     "output_type": "stream",
     "text": [
      "Sigma:  tensor([[ 4.6165e-01, -3.3322e-05],\n",
      "        [-3.3322e-05,  2.1117e-03]], grad_fn=<MmBackward0>)\n",
      "obj:  tensor(-0.0501, grad_fn=<AddBackward0>)\n",
      "mle loss:  tensor(-5.8388, grad_fn=<AddBackward0>)\n",
      "h_val:  tensor(0.0056, grad_fn=<AddBackward0>)\n"
     ]
    },
    {
     "name": "stderr",
     "output_type": "stream",
     "text": [
      " 60%|█████▉    | 17257/29000 [00:45<00:30, 381.45it/s]"
     ]
    },
    {
     "name": "stdout",
     "output_type": "stream",
     "text": [
      "Sigma:  tensor([[ 4.6179e-01, -3.3197e-05],\n",
      "        [-3.3197e-05,  2.0449e-03]], grad_fn=<MmBackward0>)\n",
      "obj:  tensor(-0.0504, grad_fn=<AddBackward0>)\n",
      "mle loss:  tensor(-5.8723, grad_fn=<AddBackward0>)\n",
      "h_val:  tensor(0.0056, grad_fn=<AddBackward0>)\n"
     ]
    },
    {
     "name": "stderr",
     "output_type": "stream",
     "text": [
      " 60%|█████▉    | 17377/29000 [00:45<00:29, 392.05it/s]"
     ]
    },
    {
     "name": "stdout",
     "output_type": "stream",
     "text": [
      "Sigma:  tensor([[ 4.6190e-01, -3.3098e-05],\n",
      "        [-3.3098e-05,  1.9789e-03]], grad_fn=<MmBackward0>)\n",
      "obj:  tensor(-0.0507, grad_fn=<AddBackward0>)\n",
      "mle loss:  tensor(-5.9065, grad_fn=<AddBackward0>)\n",
      "h_val:  tensor(0.0056, grad_fn=<AddBackward0>)\n"
     ]
    },
    {
     "name": "stderr",
     "output_type": "stream",
     "text": [
      " 60%|██████    | 17456/29000 [00:45<00:30, 383.24it/s]"
     ]
    },
    {
     "name": "stdout",
     "output_type": "stream",
     "text": [
      "Sigma:  tensor([[ 4.6198e-01, -3.3032e-05],\n",
      "        [-3.3032e-05,  1.9139e-03]], grad_fn=<MmBackward0>)\n",
      "obj:  tensor(-0.0511, grad_fn=<AddBackward0>)\n",
      "mle loss:  tensor(-5.9413, grad_fn=<AddBackward0>)\n",
      "h_val:  tensor(0.0056, grad_fn=<AddBackward0>)\n"
     ]
    },
    {
     "name": "stderr",
     "output_type": "stream",
     "text": [
      " 61%|██████    | 17574/29000 [00:46<00:29, 382.07it/s]"
     ]
    },
    {
     "name": "stdout",
     "output_type": "stream",
     "text": [
      "Sigma:  tensor([[ 4.6206e-01, -3.3005e-05],\n",
      "        [-3.3005e-05,  1.8501e-03]], grad_fn=<MmBackward0>)\n",
      "obj:  tensor(-0.0514, grad_fn=<AddBackward0>)\n",
      "mle loss:  tensor(-5.9767, grad_fn=<AddBackward0>)\n",
      "h_val:  tensor(0.0056, grad_fn=<AddBackward0>)\n"
     ]
    },
    {
     "name": "stderr",
     "output_type": "stream",
     "text": [
      " 61%|██████    | 17651/29000 [00:46<00:30, 375.97it/s]"
     ]
    },
    {
     "name": "stdout",
     "output_type": "stream",
     "text": [
      "Sigma:  tensor([[ 4.6213e-01, -3.3021e-05],\n",
      "        [-3.3021e-05,  1.7874e-03]], grad_fn=<MmBackward0>)\n",
      "obj:  tensor(-0.0518, grad_fn=<AddBackward0>)\n",
      "mle loss:  tensor(-6.0126, grad_fn=<AddBackward0>)\n",
      "h_val:  tensor(0.0056, grad_fn=<AddBackward0>)\n"
     ]
    },
    {
     "name": "stderr",
     "output_type": "stream",
     "text": [
      " 61%|██████▏   | 17771/29000 [00:46<00:28, 389.33it/s]"
     ]
    },
    {
     "name": "stdout",
     "output_type": "stream",
     "text": [
      "Sigma:  tensor([[ 4.6219e-01, -3.3079e-05],\n",
      "        [-3.3079e-05,  1.7259e-03]], grad_fn=<MmBackward0>)\n",
      "obj:  tensor(-0.0521, grad_fn=<AddBackward0>)\n",
      "mle loss:  tensor(-6.0490, grad_fn=<AddBackward0>)\n",
      "h_val:  tensor(0.0056, grad_fn=<AddBackward0>)\n"
     ]
    },
    {
     "name": "stderr",
     "output_type": "stream",
     "text": [
      " 62%|██████▏   | 17849/29000 [00:46<00:29, 382.93it/s]"
     ]
    },
    {
     "name": "stdout",
     "output_type": "stream",
     "text": [
      "Sigma:  tensor([[ 4.6225e-01, -3.3172e-05],\n",
      "        [-3.3172e-05,  1.6659e-03]], grad_fn=<MmBackward0>)\n",
      "obj:  tensor(-0.0525, grad_fn=<AddBackward0>)\n",
      "mle loss:  tensor(-6.0859, grad_fn=<AddBackward0>)\n",
      "h_val:  tensor(0.0056, grad_fn=<AddBackward0>)\n"
     ]
    },
    {
     "name": "stderr",
     "output_type": "stream",
     "text": [
      " 62%|██████▏   | 17969/29000 [00:47<00:28, 388.26it/s]"
     ]
    },
    {
     "name": "stdout",
     "output_type": "stream",
     "text": [
      "Sigma:  tensor([[ 4.6230e-01, -3.3289e-05],\n",
      "        [-3.3289e-05,  1.6072e-03]], grad_fn=<MmBackward0>)\n",
      "obj:  tensor(-0.0528, grad_fn=<AddBackward0>)\n",
      "mle loss:  tensor(-6.1232, grad_fn=<AddBackward0>)\n",
      "h_val:  tensor(0.0056, grad_fn=<AddBackward0>)\n"
     ]
    },
    {
     "name": "stderr",
     "output_type": "stream",
     "text": [
      " 62%|██████▏   | 18046/29000 [00:47<00:29, 370.27it/s]"
     ]
    },
    {
     "name": "stdout",
     "output_type": "stream",
     "text": [
      "Sigma:  tensor([[ 4.6235e-01, -3.3414e-05],\n",
      "        [-3.3414e-05,  1.5500e-03]], grad_fn=<MmBackward0>)\n",
      "obj:  tensor(-0.0532, grad_fn=<AddBackward0>)\n",
      "mle loss:  tensor(-6.1610, grad_fn=<AddBackward0>)\n",
      "h_val:  tensor(0.0056, grad_fn=<AddBackward0>)\n"
     ]
    },
    {
     "name": "stderr",
     "output_type": "stream",
     "text": [
      " 63%|██████▎   | 18166/29000 [00:47<00:28, 385.86it/s]"
     ]
    },
    {
     "name": "stdout",
     "output_type": "stream",
     "text": [
      "Sigma:  tensor([[ 4.6239e-01, -3.3532e-05],\n",
      "        [-3.3532e-05,  1.4942e-03]], grad_fn=<MmBackward0>)\n",
      "obj:  tensor(-0.0536, grad_fn=<AddBackward0>)\n",
      "mle loss:  tensor(-6.1992, grad_fn=<AddBackward0>)\n",
      "h_val:  tensor(0.0056, grad_fn=<AddBackward0>)\n"
     ]
    },
    {
     "name": "stderr",
     "output_type": "stream",
     "text": [
      " 63%|██████▎   | 18243/29000 [00:47<00:28, 378.17it/s]"
     ]
    },
    {
     "name": "stdout",
     "output_type": "stream",
     "text": [
      "Sigma:  tensor([[ 4.6242e-01, -3.3626e-05],\n",
      "        [-3.3626e-05,  1.4400e-03]], grad_fn=<MmBackward0>)\n",
      "obj:  tensor(-0.0540, grad_fn=<AddBackward0>)\n",
      "mle loss:  tensor(-6.2377, grad_fn=<AddBackward0>)\n",
      "h_val:  tensor(0.0056, grad_fn=<AddBackward0>)\n"
     ]
    },
    {
     "name": "stderr",
     "output_type": "stream",
     "text": [
      " 63%|██████▎   | 18369/29000 [00:48<00:27, 392.49it/s]"
     ]
    },
    {
     "name": "stdout",
     "output_type": "stream",
     "text": [
      "Sigma:  tensor([[ 4.6245e-01, -3.3687e-05],\n",
      "        [-3.3687e-05,  1.3873e-03]], grad_fn=<MmBackward0>)\n",
      "obj:  tensor(-0.0544, grad_fn=<AddBackward0>)\n",
      "mle loss:  tensor(-6.2766, grad_fn=<AddBackward0>)\n",
      "h_val:  tensor(0.0056, grad_fn=<AddBackward0>)\n"
     ]
    },
    {
     "name": "stderr",
     "output_type": "stream",
     "text": [
      " 64%|██████▎   | 18448/29000 [00:48<00:27, 381.95it/s]"
     ]
    },
    {
     "name": "stdout",
     "output_type": "stream",
     "text": [
      "Sigma:  tensor([[ 4.6248e-01, -3.3714e-05],\n",
      "        [-3.3714e-05,  1.3361e-03]], grad_fn=<MmBackward0>)\n",
      "obj:  tensor(-0.0547, grad_fn=<AddBackward0>)\n",
      "mle loss:  tensor(-6.3159, grad_fn=<AddBackward0>)\n",
      "h_val:  tensor(0.0056, grad_fn=<AddBackward0>)\n"
     ]
    },
    {
     "name": "stderr",
     "output_type": "stream",
     "text": [
      " 64%|██████▍   | 18569/29000 [00:48<00:26, 388.42it/s]"
     ]
    },
    {
     "name": "stdout",
     "output_type": "stream",
     "text": [
      "Sigma:  tensor([[ 4.6250e-01, -3.3706e-05],\n",
      "        [-3.3706e-05,  1.2865e-03]], grad_fn=<MmBackward0>)\n",
      "obj:  tensor(-0.0551, grad_fn=<AddBackward0>)\n",
      "mle loss:  tensor(-6.3555, grad_fn=<AddBackward0>)\n",
      "h_val:  tensor(0.0056, grad_fn=<AddBackward0>)\n"
     ]
    },
    {
     "name": "stderr",
     "output_type": "stream",
     "text": [
      " 64%|██████▍   | 18608/29000 [00:48<00:28, 368.21it/s]"
     ]
    },
    {
     "name": "stdout",
     "output_type": "stream",
     "text": [
      "Sigma:  tensor([[ 4.6252e-01, -3.3662e-05],\n",
      "        [-3.3662e-05,  1.2383e-03]], grad_fn=<MmBackward0>)\n",
      "obj:  tensor(-0.0556, grad_fn=<AddBackward0>)\n",
      "mle loss:  tensor(-6.3954, grad_fn=<AddBackward0>)\n",
      "h_val:  tensor(0.0056, grad_fn=<AddBackward0>)\n"
     ]
    },
    {
     "name": "stderr",
     "output_type": "stream",
     "text": [
      " 65%|██████▍   | 18769/29000 [00:49<00:30, 338.49it/s]"
     ]
    },
    {
     "name": "stdout",
     "output_type": "stream",
     "text": [
      "Sigma:  tensor([[ 4.6254e-01, -3.3514e-05],\n",
      "        [-3.3514e-05,  1.1918e-03]], grad_fn=<MmBackward0>)\n",
      "obj:  tensor(-0.0560, grad_fn=<AddBackward0>)\n",
      "mle loss:  tensor(-6.4355, grad_fn=<AddBackward0>)\n",
      "h_val:  tensor(0.0056, grad_fn=<AddBackward0>)\n"
     ]
    },
    {
     "name": "stderr",
     "output_type": "stream",
     "text": [
      " 65%|██████▍   | 18845/29000 [00:49<00:28, 355.89it/s]"
     ]
    },
    {
     "name": "stdout",
     "output_type": "stream",
     "text": [
      "Sigma:  tensor([[ 4.6256e-01, -3.3669e-05],\n",
      "        [-3.3669e-05,  1.1467e-03]], grad_fn=<MmBackward0>)\n",
      "obj:  tensor(-0.0564, grad_fn=<AddBackward0>)\n",
      "mle loss:  tensor(-6.4759, grad_fn=<AddBackward0>)\n",
      "h_val:  tensor(0.0056, grad_fn=<AddBackward0>)\n"
     ]
    },
    {
     "name": "stderr",
     "output_type": "stream",
     "text": [
      " 65%|██████▌   | 18967/29000 [00:49<00:26, 377.30it/s]"
     ]
    },
    {
     "name": "stdout",
     "output_type": "stream",
     "text": [
      "Sigma:  tensor([[ 4.6258e-01, -3.3555e-05],\n",
      "        [-3.3555e-05,  1.1031e-03]], grad_fn=<MmBackward0>)\n",
      "obj:  tensor(-0.0568, grad_fn=<AddBackward0>)\n",
      "mle loss:  tensor(-6.5165, grad_fn=<AddBackward0>)\n",
      "h_val:  tensor(0.0056, grad_fn=<AddBackward0>)\n"
     ]
    },
    {
     "name": "stderr",
     "output_type": "stream",
     "text": [
      " 66%|██████▌   | 19044/29000 [00:50<00:26, 372.54it/s]"
     ]
    },
    {
     "name": "stdout",
     "output_type": "stream",
     "text": [
      "Sigma:  tensor([[ 4.6259e-01, -3.3473e-05],\n",
      "        [-3.3473e-05,  1.0610e-03]], grad_fn=<MmBackward0>)\n",
      "obj:  tensor(-0.0572, grad_fn=<AddBackward0>)\n",
      "mle loss:  tensor(-6.5573, grad_fn=<AddBackward0>)\n",
      "h_val:  tensor(0.0056, grad_fn=<AddBackward0>)\n"
     ]
    },
    {
     "name": "stderr",
     "output_type": "stream",
     "text": [
      " 66%|██████▌   | 19169/29000 [00:50<00:25, 385.06it/s]"
     ]
    },
    {
     "name": "stdout",
     "output_type": "stream",
     "text": [
      "Sigma:  tensor([[ 4.6261e-01, -3.3262e-05],\n",
      "        [-3.3262e-05,  1.0203e-03]], grad_fn=<MmBackward0>)\n",
      "obj:  tensor(-0.0576, grad_fn=<AddBackward0>)\n",
      "mle loss:  tensor(-6.5983, grad_fn=<AddBackward0>)\n",
      "h_val:  tensor(0.0056, grad_fn=<AddBackward0>)\n"
     ]
    },
    {
     "name": "stderr",
     "output_type": "stream",
     "text": [
      " 66%|██████▋   | 19247/29000 [00:50<00:25, 376.03it/s]"
     ]
    },
    {
     "name": "stdout",
     "output_type": "stream",
     "text": [
      "Sigma:  tensor([[ 4.6262e-01, -3.3052e-05],\n",
      "        [-3.3052e-05,  9.8101e-04]], grad_fn=<MmBackward0>)\n",
      "obj:  tensor(-0.0581, grad_fn=<AddBackward0>)\n",
      "mle loss:  tensor(-6.6394, grad_fn=<AddBackward0>)\n",
      "h_val:  tensor(0.0056, grad_fn=<AddBackward0>)\n"
     ]
    },
    {
     "name": "stderr",
     "output_type": "stream",
     "text": [
      " 67%|██████▋   | 19368/29000 [00:51<00:24, 388.69it/s]"
     ]
    },
    {
     "name": "stdout",
     "output_type": "stream",
     "text": [
      "Sigma:  tensor([[ 4.6264e-01, -3.2819e-05],\n",
      "        [-3.2819e-05,  9.4312e-04]], grad_fn=<MmBackward0>)\n",
      "obj:  tensor(-0.0585, grad_fn=<AddBackward0>)\n",
      "mle loss:  tensor(-6.6806, grad_fn=<AddBackward0>)\n",
      "h_val:  tensor(0.0055, grad_fn=<AddBackward0>)\n"
     ]
    },
    {
     "name": "stderr",
     "output_type": "stream",
     "text": [
      " 67%|██████▋   | 19446/29000 [00:51<00:26, 364.26it/s]"
     ]
    },
    {
     "name": "stdout",
     "output_type": "stream",
     "text": [
      "Sigma:  tensor([[ 4.6265e-01, -3.2588e-05],\n",
      "        [-3.2588e-05,  9.0658e-04]], grad_fn=<MmBackward0>)\n",
      "obj:  tensor(-0.0589, grad_fn=<AddBackward0>)\n",
      "mle loss:  tensor(-6.7219, grad_fn=<AddBackward0>)\n",
      "h_val:  tensor(0.0055, grad_fn=<AddBackward0>)\n"
     ]
    },
    {
     "name": "stderr",
     "output_type": "stream",
     "text": [
      " 67%|██████▋   | 19567/29000 [00:51<00:24, 383.12it/s]"
     ]
    },
    {
     "name": "stdout",
     "output_type": "stream",
     "text": [
      "Sigma:  tensor([[ 4.6266e-01, -3.2316e-05],\n",
      "        [-3.2316e-05,  8.7136e-04]], grad_fn=<MmBackward0>)\n",
      "obj:  tensor(-0.0594, grad_fn=<AddBackward0>)\n",
      "mle loss:  tensor(-6.7633, grad_fn=<AddBackward0>)\n",
      "h_val:  tensor(0.0055, grad_fn=<AddBackward0>)\n"
     ]
    },
    {
     "name": "stderr",
     "output_type": "stream",
     "text": [
      " 68%|██████▊   | 19644/29000 [00:51<00:25, 369.19it/s]"
     ]
    },
    {
     "name": "stdout",
     "output_type": "stream",
     "text": [
      "Sigma:  tensor([[ 4.6268e-01, -3.2075e-05],\n",
      "        [-3.2075e-05,  8.3743e-04]], grad_fn=<MmBackward0>)\n",
      "obj:  tensor(-0.0598, grad_fn=<AddBackward0>)\n",
      "mle loss:  tensor(-6.8048, grad_fn=<AddBackward0>)\n",
      "h_val:  tensor(0.0054, grad_fn=<AddBackward0>)\n"
     ]
    },
    {
     "name": "stderr",
     "output_type": "stream",
     "text": [
      " 68%|██████▊   | 19766/29000 [00:52<00:23, 388.64it/s]"
     ]
    },
    {
     "name": "stdout",
     "output_type": "stream",
     "text": [
      "Sigma:  tensor([[ 4.6269e-01, -3.1838e-05],\n",
      "        [-3.1838e-05,  8.0474e-04]], grad_fn=<MmBackward0>)\n",
      "obj:  tensor(-0.0603, grad_fn=<AddBackward0>)\n",
      "mle loss:  tensor(-6.8462, grad_fn=<AddBackward0>)\n",
      "h_val:  tensor(0.0054, grad_fn=<AddBackward0>)\n"
     ]
    },
    {
     "name": "stderr",
     "output_type": "stream",
     "text": [
      " 68%|██████▊   | 19843/29000 [00:52<00:24, 375.09it/s]"
     ]
    },
    {
     "name": "stdout",
     "output_type": "stream",
     "text": [
      "Sigma:  tensor([[ 4.6270e-01, -3.1585e-05],\n",
      "        [-3.1585e-05,  7.7327e-04]], grad_fn=<MmBackward0>)\n",
      "obj:  tensor(-0.0607, grad_fn=<AddBackward0>)\n",
      "mle loss:  tensor(-6.8876, grad_fn=<AddBackward0>)\n",
      "h_val:  tensor(0.0054, grad_fn=<AddBackward0>)\n"
     ]
    },
    {
     "name": "stderr",
     "output_type": "stream",
     "text": [
      " 69%|██████▉   | 19966/29000 [00:52<00:23, 390.53it/s]"
     ]
    },
    {
     "name": "stdout",
     "output_type": "stream",
     "text": [
      "Sigma:  tensor([[ 4.6272e-01, -3.1337e-05],\n",
      "        [-3.1337e-05,  7.4298e-04]], grad_fn=<MmBackward0>)\n",
      "obj:  tensor(-0.0612, grad_fn=<AddBackward0>)\n",
      "mle loss:  tensor(-6.9290, grad_fn=<AddBackward0>)\n",
      "h_val:  tensor(0.0053, grad_fn=<AddBackward0>)\n"
     ]
    },
    {
     "name": "stderr",
     "output_type": "stream",
     "text": [
      " 69%|██████▉   | 20045/29000 [00:52<00:23, 379.69it/s]"
     ]
    },
    {
     "name": "stdout",
     "output_type": "stream",
     "text": [
      "Sigma:  tensor([[ 4.6273e-01, -3.1119e-05],\n",
      "        [-3.1119e-05,  7.1384e-04]], grad_fn=<MmBackward0>)\n",
      "obj:  tensor(-0.0616, grad_fn=<AddBackward0>)\n",
      "mle loss:  tensor(-6.9703, grad_fn=<AddBackward0>)\n",
      "h_val:  tensor(0.0053, grad_fn=<AddBackward0>)\n"
     ]
    },
    {
     "name": "stderr",
     "output_type": "stream",
     "text": [
      " 70%|██████▉   | 20169/29000 [00:53<00:22, 390.04it/s]"
     ]
    },
    {
     "name": "stdout",
     "output_type": "stream",
     "text": [
      "Sigma:  tensor([[ 4.6274e-01, -3.0919e-05],\n",
      "        [-3.0919e-05,  6.8581e-04]], grad_fn=<MmBackward0>)\n",
      "obj:  tensor(-0.0621, grad_fn=<AddBackward0>)\n",
      "mle loss:  tensor(-7.0116, grad_fn=<AddBackward0>)\n",
      "h_val:  tensor(0.0052, grad_fn=<AddBackward0>)\n"
     ]
    },
    {
     "name": "stderr",
     "output_type": "stream",
     "text": [
      " 70%|██████▉   | 20247/29000 [00:53<00:23, 373.09it/s]"
     ]
    },
    {
     "name": "stdout",
     "output_type": "stream",
     "text": [
      "Sigma:  tensor([[ 4.6275e-01, -3.0747e-05],\n",
      "        [-3.0747e-05,  6.5885e-04]], grad_fn=<MmBackward0>)\n",
      "obj:  tensor(-0.0626, grad_fn=<AddBackward0>)\n",
      "mle loss:  tensor(-7.0529, grad_fn=<AddBackward0>)\n",
      "h_val:  tensor(0.0052, grad_fn=<AddBackward0>)\n"
     ]
    },
    {
     "name": "stderr",
     "output_type": "stream",
     "text": [
      " 70%|███████   | 20369/29000 [00:53<00:22, 386.51it/s]"
     ]
    },
    {
     "name": "stdout",
     "output_type": "stream",
     "text": [
      "Sigma:  tensor([[ 4.6277e-01, -3.0367e-05],\n",
      "        [-3.0367e-05,  6.3293e-04]], grad_fn=<MmBackward0>)\n",
      "obj:  tensor(-0.0630, grad_fn=<AddBackward0>)\n",
      "mle loss:  tensor(-7.0941, grad_fn=<AddBackward0>)\n",
      "h_val:  tensor(0.0052, grad_fn=<AddBackward0>)\n"
     ]
    },
    {
     "name": "stderr",
     "output_type": "stream",
     "text": [
      " 71%|███████   | 20447/29000 [00:53<00:22, 378.08it/s]"
     ]
    },
    {
     "name": "stdout",
     "output_type": "stream",
     "text": [
      "Sigma:  tensor([[ 4.6278e-01, -3.0317e-05],\n",
      "        [-3.0317e-05,  6.0802e-04]], grad_fn=<MmBackward0>)\n",
      "obj:  tensor(-0.0635, grad_fn=<AddBackward0>)\n",
      "mle loss:  tensor(-7.1351, grad_fn=<AddBackward0>)\n",
      "h_val:  tensor(0.0051, grad_fn=<AddBackward0>)\n"
     ]
    },
    {
     "name": "stderr",
     "output_type": "stream",
     "text": [
      " 71%|███████   | 20569/29000 [00:54<00:21, 389.65it/s]"
     ]
    },
    {
     "name": "stdout",
     "output_type": "stream",
     "text": [
      "Sigma:  tensor([[ 4.6279e-01, -3.1251e-05],\n",
      "        [-3.1251e-05,  5.8407e-04]], grad_fn=<MmBackward0>)\n",
      "obj:  tensor(-0.0639, grad_fn=<AddBackward0>)\n",
      "mle loss:  tensor(-7.1763, grad_fn=<AddBackward0>)\n",
      "h_val:  tensor(0.0051, grad_fn=<AddBackward0>)\n"
     ]
    },
    {
     "name": "stderr",
     "output_type": "stream",
     "text": [
      " 71%|███████   | 20648/29000 [00:54<00:21, 382.18it/s]"
     ]
    },
    {
     "name": "stdout",
     "output_type": "stream",
     "text": [
      "Sigma:  tensor([[ 4.6280e-01, -2.9560e-05],\n",
      "        [-2.9560e-05,  5.6106e-04]], grad_fn=<MmBackward0>)\n",
      "obj:  tensor(-0.0644, grad_fn=<AddBackward0>)\n",
      "mle loss:  tensor(-7.2172, grad_fn=<AddBackward0>)\n",
      "h_val:  tensor(0.0050, grad_fn=<AddBackward0>)\n"
     ]
    },
    {
     "name": "stderr",
     "output_type": "stream",
     "text": [
      " 72%|███████▏  | 20770/29000 [00:54<00:21, 384.45it/s]"
     ]
    },
    {
     "name": "stdout",
     "output_type": "stream",
     "text": [
      "Sigma:  tensor([[ 4.6281e-01, -2.9819e-05],\n",
      "        [-2.9819e-05,  5.3895e-04]], grad_fn=<MmBackward0>)\n",
      "obj:  tensor(-0.0648, grad_fn=<AddBackward0>)\n",
      "mle loss:  tensor(-7.2580, grad_fn=<AddBackward0>)\n",
      "h_val:  tensor(0.0050, grad_fn=<AddBackward0>)\n"
     ]
    },
    {
     "name": "stderr",
     "output_type": "stream",
     "text": [
      " 72%|███████▏  | 20848/29000 [00:54<00:21, 375.68it/s]"
     ]
    },
    {
     "name": "stdout",
     "output_type": "stream",
     "text": [
      "Sigma:  tensor([[ 4.6283e-01, -2.8708e-05],\n",
      "        [-2.8708e-05,  5.1771e-04]], grad_fn=<MmBackward0>)\n",
      "obj:  tensor(-0.0653, grad_fn=<AddBackward0>)\n",
      "mle loss:  tensor(-7.2986, grad_fn=<AddBackward0>)\n",
      "h_val:  tensor(0.0049, grad_fn=<AddBackward0>)\n"
     ]
    },
    {
     "name": "stderr",
     "output_type": "stream",
     "text": [
      " 72%|███████▏  | 20971/29000 [00:55<00:20, 391.12it/s]"
     ]
    },
    {
     "name": "stdout",
     "output_type": "stream",
     "text": [
      "Sigma:  tensor([[ 4.6284e-01, -2.9400e-05],\n",
      "        [-2.9400e-05,  4.9731e-04]], grad_fn=<MmBackward0>)\n",
      "obj:  tensor(-0.0657, grad_fn=<AddBackward0>)\n",
      "mle loss:  tensor(-7.3391, grad_fn=<AddBackward0>)\n",
      "h_val:  tensor(0.0049, grad_fn=<AddBackward0>)\n"
     ]
    },
    {
     "name": "stderr",
     "output_type": "stream",
     "text": [
      " 73%|███████▎  | 21177/29000 [00:55<00:19, 403.29it/s]"
     ]
    },
    {
     "name": "stdout",
     "output_type": "stream",
     "text": [
      "Sigma:  tensor([[ 4.5646e-01, -1.2176e-04],\n",
      "        [-1.2176e-04,  4.7462e-04]], grad_fn=<MmBackward0>)\n",
      "obj:  tensor(-0.0020, grad_fn=<AddBackward0>)\n",
      "mle loss:  tensor(-7.4029, grad_fn=<AddBackward0>)\n",
      "h_val:  tensor(0.0052, grad_fn=<AddBackward0>)\n"
     ]
    },
    {
     "name": "stderr",
     "output_type": "stream",
     "text": [
      " 73%|███████▎  | 21258/29000 [00:56<00:19, 387.16it/s]"
     ]
    },
    {
     "name": "stdout",
     "output_type": "stream",
     "text": [
      "Sigma:  tensor([[4.5577e-01, 3.2405e-05],\n",
      "        [3.2405e-05, 4.7364e-04]], grad_fn=<MmBackward0>)\n",
      "obj:  tensor(-0.0022, grad_fn=<AddBackward0>)\n",
      "mle loss:  tensor(-7.3443, grad_fn=<AddBackward0>)\n",
      "h_val:  tensor(0.0048, grad_fn=<AddBackward0>)\n"
     ]
    },
    {
     "name": "stderr",
     "output_type": "stream",
     "text": [
      " 74%|███████▎  | 21336/29000 [00:56<00:20, 365.47it/s]"
     ]
    },
    {
     "name": "stdout",
     "output_type": "stream",
     "text": [
      "Sigma:  tensor([[4.6365e-01, 8.2817e-05],\n",
      "        [8.2817e-05, 4.7305e-04]], grad_fn=<MmBackward0>)\n",
      "obj:  tensor(-0.0025, grad_fn=<AddBackward0>)\n",
      "mle loss:  tensor(-7.3226, grad_fn=<AddBackward0>)\n",
      "h_val:  tensor(0.0045, grad_fn=<AddBackward0>)\n"
     ]
    },
    {
     "name": "stderr",
     "output_type": "stream",
     "text": [
      " 74%|███████▍  | 21458/29000 [00:56<00:19, 383.77it/s]"
     ]
    },
    {
     "name": "stdout",
     "output_type": "stream",
     "text": [
      "Sigma:  tensor([[4.7167e-01, 6.9265e-05],\n",
      "        [6.9265e-05, 4.7255e-04]], grad_fn=<MmBackward0>)\n",
      "obj:  tensor(-0.0027, grad_fn=<AddBackward0>)\n",
      "mle loss:  tensor(-7.2751, grad_fn=<AddBackward0>)\n",
      "h_val:  tensor(0.0043, grad_fn=<AddBackward0>)\n"
     ]
    },
    {
     "name": "stderr",
     "output_type": "stream",
     "text": [
      " 74%|███████▍  | 21577/29000 [00:56<00:19, 387.06it/s]"
     ]
    },
    {
     "name": "stdout",
     "output_type": "stream",
     "text": [
      "Sigma:  tensor([[ 4.7649e-01, -2.5235e-05],\n",
      "        [-2.5235e-05,  4.7208e-04]], grad_fn=<MmBackward0>)\n",
      "obj:  tensor(-0.0028, grad_fn=<AddBackward0>)\n",
      "mle loss:  tensor(-7.2005, grad_fn=<AddBackward0>)\n",
      "h_val:  tensor(0.0041, grad_fn=<AddBackward0>)\n"
     ]
    },
    {
     "name": "stderr",
     "output_type": "stream",
     "text": [
      " 75%|███████▍  | 21655/29000 [00:57<00:19, 377.07it/s]"
     ]
    },
    {
     "name": "stdout",
     "output_type": "stream",
     "text": [
      "Sigma:  tensor([[4.8019e-01, 2.2333e-05],\n",
      "        [2.2333e-05, 4.7162e-04]], grad_fn=<MmBackward0>)\n",
      "obj:  tensor(-0.0029, grad_fn=<AddBackward0>)\n",
      "mle loss:  tensor(-7.1407, grad_fn=<AddBackward0>)\n",
      "h_val:  tensor(0.0040, grad_fn=<AddBackward0>)\n"
     ]
    },
    {
     "name": "stderr",
     "output_type": "stream",
     "text": [
      " 75%|███████▌  | 21773/29000 [00:57<00:18, 387.27it/s]"
     ]
    },
    {
     "name": "stdout",
     "output_type": "stream",
     "text": [
      "Sigma:  tensor([[4.8110e-01, 1.0789e-05],\n",
      "        [1.0789e-05, 4.7116e-04]], grad_fn=<MmBackward0>)\n",
      "obj:  tensor(-0.0029, grad_fn=<AddBackward0>)\n",
      "mle loss:  tensor(-7.0958, grad_fn=<AddBackward0>)\n",
      "h_val:  tensor(0.0039, grad_fn=<AddBackward0>)\n"
     ]
    },
    {
     "name": "stderr",
     "output_type": "stream",
     "text": [
      " 75%|███████▌  | 21850/29000 [00:57<00:19, 366.10it/s]"
     ]
    },
    {
     "name": "stdout",
     "output_type": "stream",
     "text": [
      "Sigma:  tensor([[4.8048e-01, 6.5065e-06],\n",
      "        [6.5065e-06, 4.7069e-04]], grad_fn=<MmBackward0>)\n",
      "obj:  tensor(-0.0030, grad_fn=<AddBackward0>)\n",
      "mle loss:  tensor(-7.0574, grad_fn=<AddBackward0>)\n",
      "h_val:  tensor(0.0038, grad_fn=<AddBackward0>)\n"
     ]
    },
    {
     "name": "stderr",
     "output_type": "stream",
     "text": [
      " 76%|███████▌  | 21966/29000 [00:57<00:18, 380.13it/s]"
     ]
    },
    {
     "name": "stdout",
     "output_type": "stream",
     "text": [
      "Sigma:  tensor([[4.8013e-01, 2.9454e-06],\n",
      "        [2.9454e-06, 4.7020e-04]], grad_fn=<MmBackward0>)\n",
      "obj:  tensor(-0.0030, grad_fn=<AddBackward0>)\n",
      "mle loss:  tensor(-7.0290, grad_fn=<AddBackward0>)\n",
      "h_val:  tensor(0.0037, grad_fn=<AddBackward0>)\n"
     ]
    },
    {
     "name": "stderr",
     "output_type": "stream",
     "text": [
      " 76%|███████▌  | 22043/29000 [00:58<00:18, 371.86it/s]"
     ]
    },
    {
     "name": "stdout",
     "output_type": "stream",
     "text": [
      "Sigma:  tensor([[4.7990e-01, 8.0618e-06],\n",
      "        [8.0618e-06, 4.6971e-04]], grad_fn=<MmBackward0>)\n",
      "obj:  tensor(-0.0031, grad_fn=<AddBackward0>)\n",
      "mle loss:  tensor(-7.0027, grad_fn=<AddBackward0>)\n",
      "h_val:  tensor(0.0037, grad_fn=<AddBackward0>)\n"
     ]
    },
    {
     "name": "stderr",
     "output_type": "stream",
     "text": [
      " 76%|███████▋  | 22166/29000 [00:58<00:17, 384.63it/s]"
     ]
    },
    {
     "name": "stdout",
     "output_type": "stream",
     "text": [
      "Sigma:  tensor([[4.8002e-01, 2.6583e-06],\n",
      "        [2.6583e-06, 4.6919e-04]], grad_fn=<MmBackward0>)\n",
      "obj:  tensor(-0.0031, grad_fn=<AddBackward0>)\n",
      "mle loss:  tensor(-6.9834, grad_fn=<AddBackward0>)\n",
      "h_val:  tensor(0.0036, grad_fn=<AddBackward0>)\n"
     ]
    },
    {
     "name": "stderr",
     "output_type": "stream",
     "text": [
      " 77%|███████▋  | 22243/29000 [00:58<00:18, 374.90it/s]"
     ]
    },
    {
     "name": "stdout",
     "output_type": "stream",
     "text": [
      "Sigma:  tensor([[ 4.7995e-01, -4.1018e-07],\n",
      "        [-4.1018e-07,  4.6866e-04]], grad_fn=<MmBackward0>)\n",
      "obj:  tensor(-0.0032, grad_fn=<AddBackward0>)\n",
      "mle loss:  tensor(-6.9678, grad_fn=<AddBackward0>)\n",
      "h_val:  tensor(0.0035, grad_fn=<AddBackward0>)\n"
     ]
    },
    {
     "name": "stderr",
     "output_type": "stream",
     "text": [
      " 77%|███████▋  | 22365/29000 [00:58<00:17, 388.09it/s]"
     ]
    },
    {
     "name": "stdout",
     "output_type": "stream",
     "text": [
      "Sigma:  tensor([[ 4.7987e-01, -1.1138e-06],\n",
      "        [-1.1138e-06,  4.6811e-04]], grad_fn=<MmBackward0>)\n",
      "obj:  tensor(-0.0032, grad_fn=<AddBackward0>)\n",
      "mle loss:  tensor(-6.9551, grad_fn=<AddBackward0>)\n",
      "h_val:  tensor(0.0035, grad_fn=<AddBackward0>)\n"
     ]
    },
    {
     "name": "stderr",
     "output_type": "stream",
     "text": [
      " 77%|███████▋  | 22443/29000 [00:59<00:17, 370.61it/s]"
     ]
    },
    {
     "name": "stdout",
     "output_type": "stream",
     "text": [
      "Sigma:  tensor([[ 4.7984e-01, -1.5410e-06],\n",
      "        [-1.5410e-06,  4.6754e-04]], grad_fn=<MmBackward0>)\n",
      "obj:  tensor(-0.0032, grad_fn=<AddBackward0>)\n",
      "mle loss:  tensor(-6.9423, grad_fn=<AddBackward0>)\n",
      "h_val:  tensor(0.0034, grad_fn=<AddBackward0>)\n"
     ]
    },
    {
     "name": "stderr",
     "output_type": "stream",
     "text": [
      " 78%|███████▊  | 22566/29000 [00:59<00:16, 386.23it/s]"
     ]
    },
    {
     "name": "stdout",
     "output_type": "stream",
     "text": [
      "Sigma:  tensor([[ 4.7992e-01, -2.8695e-06],\n",
      "        [-2.8695e-06,  4.6694e-04]], grad_fn=<MmBackward0>)\n",
      "obj:  tensor(-0.0033, grad_fn=<AddBackward0>)\n",
      "mle loss:  tensor(-6.9292, grad_fn=<AddBackward0>)\n",
      "h_val:  tensor(0.0034, grad_fn=<AddBackward0>)\n"
     ]
    },
    {
     "name": "stderr",
     "output_type": "stream",
     "text": [
      " 78%|███████▊  | 22644/29000 [00:59<00:16, 379.97it/s]"
     ]
    },
    {
     "name": "stdout",
     "output_type": "stream",
     "text": [
      "Sigma:  tensor([[ 4.7998e-01, -4.0553e-06],\n",
      "        [-4.0553e-06,  4.6632e-04]], grad_fn=<MmBackward0>)\n",
      "obj:  tensor(-0.0033, grad_fn=<AddBackward0>)\n",
      "mle loss:  tensor(-6.9156, grad_fn=<AddBackward0>)\n",
      "h_val:  tensor(0.0033, grad_fn=<AddBackward0>)\n"
     ]
    },
    {
     "name": "stderr",
     "output_type": "stream",
     "text": [
      " 79%|███████▊  | 22768/29000 [01:00<00:16, 387.98it/s]"
     ]
    },
    {
     "name": "stdout",
     "output_type": "stream",
     "text": [
      "Sigma:  tensor([[ 4.7999e-01, -5.2406e-06],\n",
      "        [-5.2406e-06,  4.6569e-04]], grad_fn=<MmBackward0>)\n",
      "obj:  tensor(-0.0034, grad_fn=<AddBackward0>)\n",
      "mle loss:  tensor(-6.9026, grad_fn=<AddBackward0>)\n",
      "h_val:  tensor(0.0033, grad_fn=<AddBackward0>)\n"
     ]
    },
    {
     "name": "stderr",
     "output_type": "stream",
     "text": [
      " 79%|███████▉  | 22845/29000 [01:00<00:16, 377.36it/s]"
     ]
    },
    {
     "name": "stdout",
     "output_type": "stream",
     "text": [
      "Sigma:  tensor([[ 4.7999e-01, -6.2687e-06],\n",
      "        [-6.2687e-06,  4.6503e-04]], grad_fn=<MmBackward0>)\n",
      "obj:  tensor(-0.0034, grad_fn=<AddBackward0>)\n",
      "mle loss:  tensor(-6.8903, grad_fn=<AddBackward0>)\n",
      "h_val:  tensor(0.0032, grad_fn=<AddBackward0>)\n"
     ]
    },
    {
     "name": "stderr",
     "output_type": "stream",
     "text": [
      " 79%|███████▉  | 22968/29000 [01:00<00:15, 386.89it/s]"
     ]
    },
    {
     "name": "stdout",
     "output_type": "stream",
     "text": [
      "Sigma:  tensor([[ 4.8000e-01, -7.2071e-06],\n",
      "        [-7.2071e-06,  4.6435e-04]], grad_fn=<MmBackward0>)\n",
      "obj:  tensor(-0.0034, grad_fn=<AddBackward0>)\n",
      "mle loss:  tensor(-6.8785, grad_fn=<AddBackward0>)\n",
      "h_val:  tensor(0.0032, grad_fn=<AddBackward0>)\n"
     ]
    },
    {
     "name": "stderr",
     "output_type": "stream",
     "text": [
      " 79%|███████▉  | 23046/29000 [01:00<00:16, 370.37it/s]"
     ]
    },
    {
     "name": "stdout",
     "output_type": "stream",
     "text": [
      "Sigma:  tensor([[ 4.8002e-01, -8.2359e-06],\n",
      "        [-8.2359e-06,  4.6365e-04]], grad_fn=<MmBackward0>)\n",
      "obj:  tensor(-0.0035, grad_fn=<AddBackward0>)\n",
      "mle loss:  tensor(-6.8671, grad_fn=<AddBackward0>)\n",
      "h_val:  tensor(0.0031, grad_fn=<AddBackward0>)\n"
     ]
    },
    {
     "name": "stderr",
     "output_type": "stream",
     "text": [
      " 80%|███████▉  | 23168/29000 [01:01<00:15, 381.92it/s]"
     ]
    },
    {
     "name": "stdout",
     "output_type": "stream",
     "text": [
      "Sigma:  tensor([[ 4.8003e-01, -9.2268e-06],\n",
      "        [-9.2268e-06,  4.6293e-04]], grad_fn=<MmBackward0>)\n",
      "obj:  tensor(-0.0035, grad_fn=<AddBackward0>)\n",
      "mle loss:  tensor(-6.8559, grad_fn=<AddBackward0>)\n",
      "h_val:  tensor(0.0031, grad_fn=<AddBackward0>)\n"
     ]
    },
    {
     "name": "stderr",
     "output_type": "stream",
     "text": [
      " 80%|████████  | 23245/29000 [01:01<00:15, 370.15it/s]"
     ]
    },
    {
     "name": "stdout",
     "output_type": "stream",
     "text": [
      "Sigma:  tensor([[ 4.8005e-01, -1.0152e-05],\n",
      "        [-1.0152e-05,  4.6220e-04]], grad_fn=<MmBackward0>)\n",
      "obj:  tensor(-0.0036, grad_fn=<AddBackward0>)\n",
      "mle loss:  tensor(-6.8448, grad_fn=<AddBackward0>)\n",
      "h_val:  tensor(0.0030, grad_fn=<AddBackward0>)\n"
     ]
    },
    {
     "name": "stderr",
     "output_type": "stream",
     "text": [
      " 81%|████████  | 23365/29000 [01:01<00:14, 381.61it/s]"
     ]
    },
    {
     "name": "stdout",
     "output_type": "stream",
     "text": [
      "Sigma:  tensor([[ 4.8006e-01, -1.1096e-05],\n",
      "        [-1.1096e-05,  4.6144e-04]], grad_fn=<MmBackward0>)\n",
      "obj:  tensor(-0.0036, grad_fn=<AddBackward0>)\n",
      "mle loss:  tensor(-6.8336, grad_fn=<AddBackward0>)\n",
      "h_val:  tensor(0.0030, grad_fn=<AddBackward0>)\n"
     ]
    },
    {
     "name": "stderr",
     "output_type": "stream",
     "text": [
      " 81%|████████  | 23442/29000 [01:01<00:14, 370.81it/s]"
     ]
    },
    {
     "name": "stdout",
     "output_type": "stream",
     "text": [
      "Sigma:  tensor([[ 4.8007e-01, -1.1997e-05],\n",
      "        [-1.1997e-05,  4.6067e-04]], grad_fn=<MmBackward0>)\n",
      "obj:  tensor(-0.0036, grad_fn=<AddBackward0>)\n",
      "mle loss:  tensor(-6.8224, grad_fn=<AddBackward0>)\n",
      "h_val:  tensor(0.0029, grad_fn=<AddBackward0>)\n"
     ]
    },
    {
     "name": "stderr",
     "output_type": "stream",
     "text": [
      " 81%|████████▏ | 23563/29000 [01:02<00:19, 282.43it/s]"
     ]
    },
    {
     "name": "stdout",
     "output_type": "stream",
     "text": [
      "Sigma:  tensor([[ 4.8009e-01, -1.2886e-05],\n",
      "        [-1.2886e-05,  4.5988e-04]], grad_fn=<MmBackward0>)\n",
      "obj:  tensor(-0.0037, grad_fn=<AddBackward0>)\n",
      "mle loss:  tensor(-6.8113, grad_fn=<AddBackward0>)\n",
      "h_val:  tensor(0.0029, grad_fn=<AddBackward0>)\n"
     ]
    },
    {
     "name": "stderr",
     "output_type": "stream",
     "text": [
      " 82%|████████▏ | 23638/29000 [01:02<00:16, 319.22it/s]"
     ]
    },
    {
     "name": "stdout",
     "output_type": "stream",
     "text": [
      "Sigma:  tensor([[ 4.8010e-01, -1.3761e-05],\n",
      "        [-1.3761e-05,  4.5907e-04]], grad_fn=<MmBackward0>)\n",
      "obj:  tensor(-0.0037, grad_fn=<AddBackward0>)\n",
      "mle loss:  tensor(-6.8002, grad_fn=<AddBackward0>)\n",
      "h_val:  tensor(0.0028, grad_fn=<AddBackward0>)\n"
     ]
    },
    {
     "name": "stderr",
     "output_type": "stream",
     "text": [
      " 82%|████████▏ | 23760/29000 [01:02<00:14, 366.49it/s]"
     ]
    },
    {
     "name": "stdout",
     "output_type": "stream",
     "text": [
      "Sigma:  tensor([[ 4.8011e-01, -1.4611e-05],\n",
      "        [-1.4611e-05,  4.5825e-04]], grad_fn=<MmBackward0>)\n",
      "obj:  tensor(-0.0037, grad_fn=<AddBackward0>)\n",
      "mle loss:  tensor(-6.7892, grad_fn=<AddBackward0>)\n",
      "h_val:  tensor(0.0028, grad_fn=<AddBackward0>)\n"
     ]
    },
    {
     "name": "stderr",
     "output_type": "stream",
     "text": [
      " 82%|████████▏ | 23880/29000 [01:03<00:13, 383.63it/s]"
     ]
    },
    {
     "name": "stdout",
     "output_type": "stream",
     "text": [
      "Sigma:  tensor([[ 4.8012e-01, -1.5439e-05],\n",
      "        [-1.5439e-05,  4.5742e-04]], grad_fn=<MmBackward0>)\n",
      "obj:  tensor(-0.0038, grad_fn=<AddBackward0>)\n",
      "mle loss:  tensor(-6.7784, grad_fn=<AddBackward0>)\n",
      "h_val:  tensor(0.0027, grad_fn=<AddBackward0>)\n"
     ]
    },
    {
     "name": "stderr",
     "output_type": "stream",
     "text": [
      " 83%|████████▎ | 23958/29000 [01:03<00:13, 376.12it/s]"
     ]
    },
    {
     "name": "stdout",
     "output_type": "stream",
     "text": [
      "Sigma:  tensor([[ 4.8013e-01, -1.6244e-05],\n",
      "        [-1.6244e-05,  4.5657e-04]], grad_fn=<MmBackward0>)\n",
      "obj:  tensor(-0.0038, grad_fn=<AddBackward0>)\n",
      "mle loss:  tensor(-6.7679, grad_fn=<AddBackward0>)\n",
      "h_val:  tensor(0.0027, grad_fn=<AddBackward0>)\n"
     ]
    },
    {
     "name": "stderr",
     "output_type": "stream",
     "text": [
      " 83%|████████▎ | 24077/29000 [01:03<00:12, 386.19it/s]"
     ]
    },
    {
     "name": "stdout",
     "output_type": "stream",
     "text": [
      "Sigma:  tensor([[ 4.8014e-01, -1.7022e-05],\n",
      "        [-1.7022e-05,  4.5571e-04]], grad_fn=<MmBackward0>)\n",
      "obj:  tensor(-0.0038, grad_fn=<AddBackward0>)\n",
      "mle loss:  tensor(-6.7576, grad_fn=<AddBackward0>)\n",
      "h_val:  tensor(0.0026, grad_fn=<AddBackward0>)\n"
     ]
    },
    {
     "name": "stderr",
     "output_type": "stream",
     "text": [
      " 83%|████████▎ | 24154/29000 [01:03<00:13, 364.58it/s]"
     ]
    },
    {
     "name": "stdout",
     "output_type": "stream",
     "text": [
      "Sigma:  tensor([[ 4.8015e-01, -1.7773e-05],\n",
      "        [-1.7773e-05,  4.5483e-04]], grad_fn=<MmBackward0>)\n",
      "obj:  tensor(-0.0039, grad_fn=<AddBackward0>)\n",
      "mle loss:  tensor(-6.7477, grad_fn=<AddBackward0>)\n",
      "h_val:  tensor(0.0026, grad_fn=<AddBackward0>)\n"
     ]
    },
    {
     "name": "stderr",
     "output_type": "stream",
     "text": [
      " 84%|████████▎ | 24272/29000 [01:04<00:12, 383.23it/s]"
     ]
    },
    {
     "name": "stdout",
     "output_type": "stream",
     "text": [
      "Sigma:  tensor([[ 4.8016e-01, -1.8496e-05],\n",
      "        [-1.8496e-05,  4.5395e-04]], grad_fn=<MmBackward0>)\n",
      "obj:  tensor(-0.0039, grad_fn=<AddBackward0>)\n",
      "mle loss:  tensor(-6.7380, grad_fn=<AddBackward0>)\n",
      "h_val:  tensor(0.0026, grad_fn=<AddBackward0>)\n"
     ]
    },
    {
     "name": "stderr",
     "output_type": "stream",
     "text": [
      " 84%|████████▍ | 24349/29000 [01:04<00:12, 373.12it/s]"
     ]
    },
    {
     "name": "stdout",
     "output_type": "stream",
     "text": [
      "Sigma:  tensor([[ 4.8017e-01, -1.9191e-05],\n",
      "        [-1.9191e-05,  4.5305e-04]], grad_fn=<MmBackward0>)\n",
      "obj:  tensor(-0.0039, grad_fn=<AddBackward0>)\n",
      "mle loss:  tensor(-6.7286, grad_fn=<AddBackward0>)\n",
      "h_val:  tensor(0.0025, grad_fn=<AddBackward0>)\n"
     ]
    },
    {
     "name": "stderr",
     "output_type": "stream",
     "text": [
      " 84%|████████▍ | 24470/29000 [01:04<00:11, 390.70it/s]"
     ]
    },
    {
     "name": "stdout",
     "output_type": "stream",
     "text": [
      "Sigma:  tensor([[ 4.8018e-01, -1.9858e-05],\n",
      "        [-1.9858e-05,  4.5215e-04]], grad_fn=<MmBackward0>)\n",
      "obj:  tensor(-0.0040, grad_fn=<AddBackward0>)\n",
      "mle loss:  tensor(-6.7196, grad_fn=<AddBackward0>)\n",
      "h_val:  tensor(0.0025, grad_fn=<AddBackward0>)\n"
     ]
    },
    {
     "name": "stderr",
     "output_type": "stream",
     "text": [
      " 85%|████████▍ | 24548/29000 [01:04<00:11, 375.60it/s]"
     ]
    },
    {
     "name": "stdout",
     "output_type": "stream",
     "text": [
      "Sigma:  tensor([[ 4.8018e-01, -2.0499e-05],\n",
      "        [-2.0499e-05,  4.5123e-04]], grad_fn=<MmBackward0>)\n",
      "obj:  tensor(-0.0040, grad_fn=<AddBackward0>)\n",
      "mle loss:  tensor(-6.7108, grad_fn=<AddBackward0>)\n",
      "h_val:  tensor(0.0024, grad_fn=<AddBackward0>)\n"
     ]
    },
    {
     "name": "stderr",
     "output_type": "stream",
     "text": [
      " 85%|████████▌ | 24667/29000 [01:05<00:11, 381.79it/s]"
     ]
    },
    {
     "name": "stdout",
     "output_type": "stream",
     "text": [
      "Sigma:  tensor([[ 4.8019e-01, -2.1112e-05],\n",
      "        [-2.1112e-05,  4.5031e-04]], grad_fn=<MmBackward0>)\n",
      "obj:  tensor(-0.0040, grad_fn=<AddBackward0>)\n",
      "mle loss:  tensor(-6.7024, grad_fn=<AddBackward0>)\n",
      "h_val:  tensor(0.0024, grad_fn=<AddBackward0>)\n"
     ]
    },
    {
     "name": "stderr",
     "output_type": "stream",
     "text": [
      " 85%|████████▌ | 24744/29000 [01:05<00:11, 373.09it/s]"
     ]
    },
    {
     "name": "stdout",
     "output_type": "stream",
     "text": [
      "Sigma:  tensor([[ 4.8020e-01, -2.1696e-05],\n",
      "        [-2.1696e-05,  4.4937e-04]], grad_fn=<MmBackward0>)\n",
      "obj:  tensor(-0.0041, grad_fn=<AddBackward0>)\n",
      "mle loss:  tensor(-6.6944, grad_fn=<AddBackward0>)\n",
      "h_val:  tensor(0.0023, grad_fn=<AddBackward0>)\n"
     ]
    },
    {
     "name": "stderr",
     "output_type": "stream",
     "text": [
      " 86%|████████▌ | 24866/29000 [01:05<00:10, 378.20it/s]"
     ]
    },
    {
     "name": "stdout",
     "output_type": "stream",
     "text": [
      "Sigma:  tensor([[ 4.8020e-01, -2.2249e-05],\n",
      "        [-2.2249e-05,  4.4843e-04]], grad_fn=<MmBackward0>)\n",
      "obj:  tensor(-0.0041, grad_fn=<AddBackward0>)\n",
      "mle loss:  tensor(-6.6869, grad_fn=<AddBackward0>)\n",
      "h_val:  tensor(0.0023, grad_fn=<AddBackward0>)\n"
     ]
    },
    {
     "name": "stderr",
     "output_type": "stream",
     "text": [
      " 86%|████████▌ | 24943/29000 [01:05<00:10, 371.66it/s]"
     ]
    },
    {
     "name": "stdout",
     "output_type": "stream",
     "text": [
      "Sigma:  tensor([[ 4.8021e-01, -2.2765e-05],\n",
      "        [-2.2765e-05,  4.4749e-04]], grad_fn=<MmBackward0>)\n",
      "obj:  tensor(-0.0041, grad_fn=<AddBackward0>)\n",
      "mle loss:  tensor(-6.6801, grad_fn=<AddBackward0>)\n",
      "h_val:  tensor(0.0023, grad_fn=<AddBackward0>)\n"
     ]
    },
    {
     "name": "stderr",
     "output_type": "stream",
     "text": [
      " 86%|████████▋ | 25067/29000 [01:06<00:10, 384.50it/s]"
     ]
    },
    {
     "name": "stdout",
     "output_type": "stream",
     "text": [
      "Sigma:  tensor([[ 4.8022e-01, -2.3238e-05],\n",
      "        [-2.3238e-05,  4.4653e-04]], grad_fn=<MmBackward0>)\n",
      "obj:  tensor(-0.0042, grad_fn=<AddBackward0>)\n",
      "mle loss:  tensor(-6.6740, grad_fn=<AddBackward0>)\n",
      "h_val:  tensor(0.0022, grad_fn=<AddBackward0>)\n"
     ]
    },
    {
     "name": "stderr",
     "output_type": "stream",
     "text": [
      " 87%|████████▋ | 25144/29000 [01:06<00:10, 375.25it/s]"
     ]
    },
    {
     "name": "stdout",
     "output_type": "stream",
     "text": [
      "Sigma:  tensor([[ 4.8023e-01, -2.3663e-05],\n",
      "        [-2.3663e-05,  4.4556e-04]], grad_fn=<MmBackward0>)\n",
      "obj:  tensor(-0.0042, grad_fn=<AddBackward0>)\n",
      "mle loss:  tensor(-6.6690, grad_fn=<AddBackward0>)\n",
      "h_val:  tensor(0.0022, grad_fn=<AddBackward0>)\n"
     ]
    },
    {
     "name": "stderr",
     "output_type": "stream",
     "text": [
      " 87%|████████▋ | 25268/29000 [01:06<00:09, 387.03it/s]"
     ]
    },
    {
     "name": "stdout",
     "output_type": "stream",
     "text": [
      "Sigma:  tensor([[ 4.8023e-01, -2.4031e-05],\n",
      "        [-2.4031e-05,  4.4458e-04]], grad_fn=<MmBackward0>)\n",
      "obj:  tensor(-0.0042, grad_fn=<AddBackward0>)\n",
      "mle loss:  tensor(-6.6650, grad_fn=<AddBackward0>)\n",
      "h_val:  tensor(0.0022, grad_fn=<AddBackward0>)\n"
     ]
    },
    {
     "name": "stderr",
     "output_type": "stream",
     "text": [
      " 87%|████████▋ | 25345/29000 [01:07<00:09, 374.02it/s]"
     ]
    },
    {
     "name": "stdout",
     "output_type": "stream",
     "text": [
      "Sigma:  tensor([[ 4.8024e-01, -2.4339e-05],\n",
      "        [-2.4339e-05,  4.4358e-04]], grad_fn=<MmBackward0>)\n",
      "obj:  tensor(-0.0042, grad_fn=<AddBackward0>)\n",
      "mle loss:  tensor(-6.6622, grad_fn=<AddBackward0>)\n",
      "h_val:  tensor(0.0021, grad_fn=<AddBackward0>)\n"
     ]
    },
    {
     "name": "stderr",
     "output_type": "stream",
     "text": [
      " 88%|████████▊ | 25469/29000 [01:07<00:08, 395.12it/s]"
     ]
    },
    {
     "name": "stdout",
     "output_type": "stream",
     "text": [
      "Sigma:  tensor([[ 4.8025e-01, -2.4583e-05],\n",
      "        [-2.4583e-05,  4.4256e-04]], grad_fn=<MmBackward0>)\n",
      "obj:  tensor(-0.0043, grad_fn=<AddBackward0>)\n",
      "mle loss:  tensor(-6.6608, grad_fn=<AddBackward0>)\n",
      "h_val:  tensor(0.0021, grad_fn=<AddBackward0>)\n"
     ]
    },
    {
     "name": "stderr",
     "output_type": "stream",
     "text": [
      " 88%|████████▊ | 25552/29000 [01:07<00:08, 404.26it/s]"
     ]
    },
    {
     "name": "stdout",
     "output_type": "stream",
     "text": [
      "Sigma:  tensor([[ 4.8025e-01, -2.4763e-05],\n",
      "        [-2.4763e-05,  4.4151e-04]], grad_fn=<MmBackward0>)\n",
      "obj:  tensor(-0.0043, grad_fn=<AddBackward0>)\n",
      "mle loss:  tensor(-6.6608, grad_fn=<AddBackward0>)\n",
      "h_val:  tensor(0.0021, grad_fn=<AddBackward0>)\n"
     ]
    },
    {
     "name": "stderr",
     "output_type": "stream",
     "text": [
      " 89%|████████▊ | 25682/29000 [01:07<00:07, 419.53it/s]"
     ]
    },
    {
     "name": "stdout",
     "output_type": "stream",
     "text": [
      "Sigma:  tensor([[ 4.8026e-01, -2.4879e-05],\n",
      "        [-2.4879e-05,  4.4043e-04]], grad_fn=<MmBackward0>)\n",
      "obj:  tensor(-0.0043, grad_fn=<AddBackward0>)\n",
      "mle loss:  tensor(-6.6621, grad_fn=<AddBackward0>)\n",
      "h_val:  tensor(0.0021, grad_fn=<AddBackward0>)\n"
     ]
    },
    {
     "name": "stderr",
     "output_type": "stream",
     "text": [
      " 89%|████████▉ | 25767/29000 [01:08<00:07, 416.69it/s]"
     ]
    },
    {
     "name": "stdout",
     "output_type": "stream",
     "text": [
      "Sigma:  tensor([[ 4.8027e-01, -2.4937e-05],\n",
      "        [-2.4937e-05,  4.3931e-04]], grad_fn=<MmBackward0>)\n",
      "obj:  tensor(-0.0044, grad_fn=<AddBackward0>)\n",
      "mle loss:  tensor(-6.6648, grad_fn=<AddBackward0>)\n",
      "h_val:  tensor(0.0020, grad_fn=<AddBackward0>)\n"
     ]
    },
    {
     "name": "stderr",
     "output_type": "stream",
     "text": [
      " 89%|████████▉ | 25853/29000 [01:08<00:07, 421.67it/s]"
     ]
    },
    {
     "name": "stdout",
     "output_type": "stream",
     "text": [
      "Sigma:  tensor([[ 4.8028e-01, -2.4941e-05],\n",
      "        [-2.4941e-05,  4.3813e-04]], grad_fn=<MmBackward0>)\n",
      "obj:  tensor(-0.0044, grad_fn=<AddBackward0>)\n",
      "mle loss:  tensor(-6.6686, grad_fn=<AddBackward0>)\n",
      "h_val:  tensor(0.0020, grad_fn=<AddBackward0>)\n"
     ]
    },
    {
     "name": "stderr",
     "output_type": "stream",
     "text": [
      " 90%|████████▉ | 25983/29000 [01:08<00:07, 423.34it/s]"
     ]
    },
    {
     "name": "stdout",
     "output_type": "stream",
     "text": [
      "Sigma:  tensor([[ 4.8029e-01, -2.4898e-05],\n",
      "        [-2.4898e-05,  4.3690e-04]], grad_fn=<MmBackward0>)\n",
      "obj:  tensor(-0.0044, grad_fn=<AddBackward0>)\n",
      "mle loss:  tensor(-6.6736, grad_fn=<AddBackward0>)\n",
      "h_val:  tensor(0.0020, grad_fn=<AddBackward0>)\n"
     ]
    },
    {
     "name": "stderr",
     "output_type": "stream",
     "text": [
      " 90%|████████▉ | 26069/29000 [01:08<00:06, 423.48it/s]"
     ]
    },
    {
     "name": "stdout",
     "output_type": "stream",
     "text": [
      "Sigma:  tensor([[ 4.8029e-01, -2.4814e-05],\n",
      "        [-2.4814e-05,  4.3559e-04]], grad_fn=<MmBackward0>)\n",
      "obj:  tensor(-0.0044, grad_fn=<AddBackward0>)\n",
      "mle loss:  tensor(-6.6796, grad_fn=<AddBackward0>)\n",
      "h_val:  tensor(0.0020, grad_fn=<AddBackward0>)\n"
     ]
    },
    {
     "name": "stderr",
     "output_type": "stream",
     "text": [
      " 90%|█████████ | 26155/29000 [01:08<00:06, 425.75it/s]"
     ]
    },
    {
     "name": "stdout",
     "output_type": "stream",
     "text": [
      "Sigma:  tensor([[ 4.8030e-01, -2.4696e-05],\n",
      "        [-2.4696e-05,  4.3420e-04]], grad_fn=<MmBackward0>)\n",
      "obj:  tensor(-0.0045, grad_fn=<AddBackward0>)\n",
      "mle loss:  tensor(-6.6865, grad_fn=<AddBackward0>)\n",
      "h_val:  tensor(0.0019, grad_fn=<AddBackward0>)\n"
     ]
    },
    {
     "name": "stderr",
     "output_type": "stream",
     "text": [
      " 91%|█████████ | 26286/29000 [01:09<00:06, 428.67it/s]"
     ]
    },
    {
     "name": "stdout",
     "output_type": "stream",
     "text": [
      "Sigma:  tensor([[ 4.8031e-01, -2.4550e-05],\n",
      "        [-2.4550e-05,  4.3272e-04]], grad_fn=<MmBackward0>)\n",
      "obj:  tensor(-0.0045, grad_fn=<AddBackward0>)\n",
      "mle loss:  tensor(-6.6941, grad_fn=<AddBackward0>)\n",
      "h_val:  tensor(0.0019, grad_fn=<AddBackward0>)\n"
     ]
    },
    {
     "name": "stderr",
     "output_type": "stream",
     "text": [
      " 91%|█████████ | 26372/29000 [01:09<00:06, 425.43it/s]"
     ]
    },
    {
     "name": "stdout",
     "output_type": "stream",
     "text": [
      "Sigma:  tensor([[ 4.8032e-01, -2.4383e-05],\n",
      "        [-2.4383e-05,  4.3114e-04]], grad_fn=<MmBackward0>)\n",
      "obj:  tensor(-0.0045, grad_fn=<AddBackward0>)\n",
      "mle loss:  tensor(-6.7023, grad_fn=<AddBackward0>)\n",
      "h_val:  tensor(0.0019, grad_fn=<AddBackward0>)\n"
     ]
    },
    {
     "name": "stderr",
     "output_type": "stream",
     "text": [
      " 91%|█████████ | 26457/29000 [01:09<00:06, 390.49it/s]"
     ]
    },
    {
     "name": "stdout",
     "output_type": "stream",
     "text": [
      "Sigma:  tensor([[ 4.8033e-01, -2.4199e-05],\n",
      "        [-2.4199e-05,  4.2945e-04]], grad_fn=<MmBackward0>)\n",
      "obj:  tensor(-0.0046, grad_fn=<AddBackward0>)\n",
      "mle loss:  tensor(-6.7111, grad_fn=<AddBackward0>)\n",
      "h_val:  tensor(0.0019, grad_fn=<AddBackward0>)\n"
     ]
    },
    {
     "name": "stderr",
     "output_type": "stream",
     "text": [
      " 92%|█████████▏| 26540/29000 [01:09<00:06, 380.58it/s]"
     ]
    },
    {
     "name": "stdout",
     "output_type": "stream",
     "text": [
      "Sigma:  tensor([[ 4.8034e-01, -2.4003e-05],\n",
      "        [-2.4003e-05,  4.2764e-04]], grad_fn=<MmBackward0>)\n",
      "obj:  tensor(-0.0046, grad_fn=<AddBackward0>)\n",
      "mle loss:  tensor(-6.7203, grad_fn=<AddBackward0>)\n",
      "h_val:  tensor(0.0019, grad_fn=<AddBackward0>)\n"
     ]
    },
    {
     "name": "stderr",
     "output_type": "stream",
     "text": [
      " 92%|█████████▏| 26665/29000 [01:10<00:05, 399.79it/s]"
     ]
    },
    {
     "name": "stdout",
     "output_type": "stream",
     "text": [
      "Sigma:  tensor([[ 4.8035e-01, -2.3800e-05],\n",
      "        [-2.3800e-05,  4.2571e-04]], grad_fn=<MmBackward0>)\n",
      "obj:  tensor(-0.0046, grad_fn=<AddBackward0>)\n",
      "mle loss:  tensor(-6.7298, grad_fn=<AddBackward0>)\n",
      "h_val:  tensor(0.0018, grad_fn=<AddBackward0>)\n"
     ]
    },
    {
     "name": "stderr",
     "output_type": "stream",
     "text": [
      " 92%|█████████▏| 26747/29000 [01:10<00:05, 401.29it/s]"
     ]
    },
    {
     "name": "stdout",
     "output_type": "stream",
     "text": [
      "Sigma:  tensor([[ 4.8036e-01, -2.3594e-05],\n",
      "        [-2.3594e-05,  4.2364e-04]], grad_fn=<MmBackward0>)\n",
      "obj:  tensor(-0.0046, grad_fn=<AddBackward0>)\n",
      "mle loss:  tensor(-6.7396, grad_fn=<AddBackward0>)\n",
      "h_val:  tensor(0.0018, grad_fn=<AddBackward0>)\n"
     ]
    },
    {
     "name": "stderr",
     "output_type": "stream",
     "text": [
      " 93%|█████████▎| 26874/29000 [01:10<00:05, 413.71it/s]"
     ]
    },
    {
     "name": "stdout",
     "output_type": "stream",
     "text": [
      "Sigma:  tensor([[ 4.8036e-01, -2.3387e-05],\n",
      "        [-2.3387e-05,  4.2143e-04]], grad_fn=<MmBackward0>)\n",
      "obj:  tensor(-0.0047, grad_fn=<AddBackward0>)\n",
      "mle loss:  tensor(-6.7495, grad_fn=<AddBackward0>)\n",
      "h_val:  tensor(0.0018, grad_fn=<AddBackward0>)\n"
     ]
    },
    {
     "name": "stderr",
     "output_type": "stream",
     "text": [
      " 93%|█████████▎| 26958/29000 [01:10<00:04, 410.43it/s]"
     ]
    },
    {
     "name": "stdout",
     "output_type": "stream",
     "text": [
      "Sigma:  tensor([[ 4.8037e-01, -2.3181e-05],\n",
      "        [-2.3181e-05,  4.1907e-04]], grad_fn=<MmBackward0>)\n",
      "obj:  tensor(-0.0047, grad_fn=<AddBackward0>)\n",
      "mle loss:  tensor(-6.7595, grad_fn=<AddBackward0>)\n",
      "h_val:  tensor(0.0018, grad_fn=<AddBackward0>)\n"
     ]
    },
    {
     "name": "stderr",
     "output_type": "stream",
     "text": [
      " 93%|█████████▎| 27042/29000 [01:11<00:04, 410.17it/s]"
     ]
    },
    {
     "name": "stdout",
     "output_type": "stream",
     "text": [
      "Sigma:  tensor([[ 4.8038e-01, -2.2980e-05],\n",
      "        [-2.2980e-05,  4.1656e-04]], grad_fn=<MmBackward0>)\n",
      "obj:  tensor(-0.0047, grad_fn=<AddBackward0>)\n",
      "mle loss:  tensor(-6.7696, grad_fn=<AddBackward0>)\n",
      "h_val:  tensor(0.0018, grad_fn=<AddBackward0>)\n"
     ]
    },
    {
     "name": "stderr",
     "output_type": "stream",
     "text": [
      " 94%|█████████▎| 27174/29000 [01:11<00:04, 425.06it/s]"
     ]
    },
    {
     "name": "stdout",
     "output_type": "stream",
     "text": [
      "Sigma:  tensor([[ 4.8039e-01, -2.2783e-05],\n",
      "        [-2.2783e-05,  4.1389e-04]], grad_fn=<MmBackward0>)\n",
      "obj:  tensor(-0.0048, grad_fn=<AddBackward0>)\n",
      "mle loss:  tensor(-6.7797, grad_fn=<AddBackward0>)\n",
      "h_val:  tensor(0.0018, grad_fn=<AddBackward0>)\n"
     ]
    },
    {
     "name": "stderr",
     "output_type": "stream",
     "text": [
      " 94%|█████████▍| 27260/29000 [01:11<00:04, 422.06it/s]"
     ]
    },
    {
     "name": "stdout",
     "output_type": "stream",
     "text": [
      "Sigma:  tensor([[ 4.8040e-01, -2.2593e-05],\n",
      "        [-2.2593e-05,  4.1106e-04]], grad_fn=<MmBackward0>)\n",
      "obj:  tensor(-0.0048, grad_fn=<AddBackward0>)\n",
      "mle loss:  tensor(-6.7899, grad_fn=<AddBackward0>)\n",
      "h_val:  tensor(0.0017, grad_fn=<AddBackward0>)\n"
     ]
    },
    {
     "name": "stderr",
     "output_type": "stream",
     "text": [
      " 94%|█████████▍| 27347/29000 [01:11<00:03, 418.92it/s]"
     ]
    },
    {
     "name": "stdout",
     "output_type": "stream",
     "text": [
      "Sigma:  tensor([[ 4.8040e-01, -2.2410e-05],\n",
      "        [-2.2410e-05,  4.0807e-04]], grad_fn=<MmBackward0>)\n",
      "obj:  tensor(-0.0048, grad_fn=<AddBackward0>)\n",
      "mle loss:  tensor(-6.8003, grad_fn=<AddBackward0>)\n",
      "h_val:  tensor(0.0017, grad_fn=<AddBackward0>)\n"
     ]
    },
    {
     "name": "stderr",
     "output_type": "stream",
     "text": [
      " 95%|█████████▍| 27475/29000 [01:12<00:03, 417.31it/s]"
     ]
    },
    {
     "name": "stdout",
     "output_type": "stream",
     "text": [
      "Sigma:  tensor([[ 4.8041e-01, -2.2233e-05],\n",
      "        [-2.2233e-05,  4.0492e-04]], grad_fn=<MmBackward0>)\n",
      "obj:  tensor(-0.0048, grad_fn=<AddBackward0>)\n",
      "mle loss:  tensor(-6.8107, grad_fn=<AddBackward0>)\n",
      "h_val:  tensor(0.0017, grad_fn=<AddBackward0>)\n"
     ]
    },
    {
     "name": "stderr",
     "output_type": "stream",
     "text": [
      " 95%|█████████▌| 27557/29000 [01:12<00:03, 383.19it/s]"
     ]
    },
    {
     "name": "stdout",
     "output_type": "stream",
     "text": [
      "Sigma:  tensor([[ 4.8041e-01, -2.2065e-05],\n",
      "        [-2.2065e-05,  4.0160e-04]], grad_fn=<MmBackward0>)\n",
      "obj:  tensor(-0.0049, grad_fn=<AddBackward0>)\n",
      "mle loss:  tensor(-6.8215, grad_fn=<AddBackward0>)\n",
      "h_val:  tensor(0.0017, grad_fn=<AddBackward0>)\n"
     ]
    },
    {
     "name": "stderr",
     "output_type": "stream",
     "text": [
      " 95%|█████████▌| 27675/29000 [01:12<00:03, 382.54it/s]"
     ]
    },
    {
     "name": "stdout",
     "output_type": "stream",
     "text": [
      "Sigma:  tensor([[ 4.8042e-01, -2.1904e-05],\n",
      "        [-2.1904e-05,  3.9811e-04]], grad_fn=<MmBackward0>)\n",
      "obj:  tensor(-0.0049, grad_fn=<AddBackward0>)\n",
      "mle loss:  tensor(-6.8327, grad_fn=<AddBackward0>)\n",
      "h_val:  tensor(0.0017, grad_fn=<AddBackward0>)\n"
     ]
    },
    {
     "name": "stderr",
     "output_type": "stream",
     "text": [
      " 96%|█████████▌| 27754/29000 [01:12<00:03, 383.37it/s]"
     ]
    },
    {
     "name": "stdout",
     "output_type": "stream",
     "text": [
      "Sigma:  tensor([[ 4.8042e-01, -2.1753e-05],\n",
      "        [-2.1753e-05,  3.9444e-04]], grad_fn=<MmBackward0>)\n",
      "obj:  tensor(-0.0049, grad_fn=<AddBackward0>)\n",
      "mle loss:  tensor(-6.8444, grad_fn=<AddBackward0>)\n",
      "h_val:  tensor(0.0017, grad_fn=<AddBackward0>)\n"
     ]
    },
    {
     "name": "stderr",
     "output_type": "stream",
     "text": [
      " 96%|█████████▌| 27881/29000 [01:13<00:02, 408.89it/s]"
     ]
    },
    {
     "name": "stdout",
     "output_type": "stream",
     "text": [
      "Sigma:  tensor([[ 4.8043e-01, -2.1612e-05],\n",
      "        [-2.1612e-05,  3.9060e-04]], grad_fn=<MmBackward0>)\n",
      "obj:  tensor(-0.0049, grad_fn=<AddBackward0>)\n",
      "mle loss:  tensor(-6.8568, grad_fn=<AddBackward0>)\n",
      "h_val:  tensor(0.0016, grad_fn=<AddBackward0>)\n"
     ]
    },
    {
     "name": "stderr",
     "output_type": "stream",
     "text": [
      " 96%|█████████▋| 27964/29000 [01:13<00:02, 410.60it/s]"
     ]
    },
    {
     "name": "stdout",
     "output_type": "stream",
     "text": [
      "Sigma:  tensor([[ 4.8043e-01, -2.1483e-05],\n",
      "        [-2.1483e-05,  3.8658e-04]], grad_fn=<MmBackward0>)\n",
      "obj:  tensor(-0.0050, grad_fn=<AddBackward0>)\n",
      "mle loss:  tensor(-6.8700, grad_fn=<AddBackward0>)\n",
      "h_val:  tensor(0.0016, grad_fn=<AddBackward0>)\n"
     ]
    },
    {
     "name": "stderr",
     "output_type": "stream",
     "text": [
      " 97%|█████████▋| 28048/29000 [01:13<00:02, 413.67it/s]"
     ]
    },
    {
     "name": "stdout",
     "output_type": "stream",
     "text": [
      "Sigma:  tensor([[ 4.8044e-01, -2.1367e-05],\n",
      "        [-2.1367e-05,  3.8236e-04]], grad_fn=<MmBackward0>)\n",
      "obj:  tensor(-0.0050, grad_fn=<AddBackward0>)\n",
      "mle loss:  tensor(-6.8842, grad_fn=<AddBackward0>)\n",
      "h_val:  tensor(0.0016, grad_fn=<AddBackward0>)\n"
     ]
    },
    {
     "name": "stderr",
     "output_type": "stream",
     "text": [
      " 97%|█████████▋| 28177/29000 [01:13<00:01, 422.61it/s]"
     ]
    },
    {
     "name": "stdout",
     "output_type": "stream",
     "text": [
      "Sigma:  tensor([[ 4.8044e-01, -2.1264e-05],\n",
      "        [-2.1264e-05,  3.7795e-04]], grad_fn=<MmBackward0>)\n",
      "obj:  tensor(-0.0050, grad_fn=<AddBackward0>)\n",
      "mle loss:  tensor(-6.8996, grad_fn=<AddBackward0>)\n",
      "h_val:  tensor(0.0016, grad_fn=<AddBackward0>)\n"
     ]
    },
    {
     "name": "stderr",
     "output_type": "stream",
     "text": [
      " 97%|█████████▋| 28262/29000 [01:14<00:01, 407.42it/s]"
     ]
    },
    {
     "name": "stdout",
     "output_type": "stream",
     "text": [
      "Sigma:  tensor([[ 4.8044e-01, -2.1175e-05],\n",
      "        [-2.1175e-05,  3.7333e-04]], grad_fn=<MmBackward0>)\n",
      "obj:  tensor(-0.0050, grad_fn=<AddBackward0>)\n",
      "mle loss:  tensor(-6.9163, grad_fn=<AddBackward0>)\n",
      "h_val:  tensor(0.0016, grad_fn=<AddBackward0>)\n"
     ]
    },
    {
     "name": "stderr",
     "output_type": "stream",
     "text": [
      " 98%|█████████▊| 28345/29000 [01:14<00:01, 410.08it/s]"
     ]
    },
    {
     "name": "stdout",
     "output_type": "stream",
     "text": [
      "Sigma:  tensor([[ 4.8044e-01, -2.1099e-05],\n",
      "        [-2.1099e-05,  3.6848e-04]], grad_fn=<MmBackward0>)\n",
      "obj:  tensor(-0.0051, grad_fn=<AddBackward0>)\n",
      "mle loss:  tensor(-6.9346, grad_fn=<AddBackward0>)\n",
      "h_val:  tensor(0.0016, grad_fn=<AddBackward0>)\n"
     ]
    },
    {
     "name": "stderr",
     "output_type": "stream",
     "text": [
      " 98%|█████████▊| 28473/29000 [01:14<00:01, 409.92it/s]"
     ]
    },
    {
     "name": "stdout",
     "output_type": "stream",
     "text": [
      "Sigma:  tensor([[ 4.8045e-01, -2.1035e-05],\n",
      "        [-2.1035e-05,  3.6339e-04]], grad_fn=<MmBackward0>)\n",
      "obj:  tensor(-0.0051, grad_fn=<AddBackward0>)\n",
      "mle loss:  tensor(-6.9546, grad_fn=<AddBackward0>)\n",
      "h_val:  tensor(0.0016, grad_fn=<AddBackward0>)\n"
     ]
    },
    {
     "name": "stderr",
     "output_type": "stream",
     "text": [
      " 98%|█████████▊| 28556/29000 [01:14<00:01, 406.84it/s]"
     ]
    },
    {
     "name": "stdout",
     "output_type": "stream",
     "text": [
      "Sigma:  tensor([[ 4.8045e-01, -2.0984e-05],\n",
      "        [-2.0984e-05,  3.5805e-04]], grad_fn=<MmBackward0>)\n",
      "obj:  tensor(-0.0051, grad_fn=<AddBackward0>)\n",
      "mle loss:  tensor(-6.9764, grad_fn=<AddBackward0>)\n",
      "h_val:  tensor(0.0016, grad_fn=<AddBackward0>)\n"
     ]
    },
    {
     "name": "stderr",
     "output_type": "stream",
     "text": [
      " 99%|█████████▉| 28683/29000 [01:15<00:00, 414.60it/s]"
     ]
    },
    {
     "name": "stdout",
     "output_type": "stream",
     "text": [
      "Sigma:  tensor([[ 4.8045e-01, -2.0946e-05],\n",
      "        [-2.0946e-05,  3.5244e-04]], grad_fn=<MmBackward0>)\n",
      "obj:  tensor(-0.0052, grad_fn=<AddBackward0>)\n",
      "mle loss:  tensor(-7.0001, grad_fn=<AddBackward0>)\n",
      "h_val:  tensor(0.0016, grad_fn=<AddBackward0>)\n"
     ]
    },
    {
     "name": "stderr",
     "output_type": "stream",
     "text": [
      " 99%|█████████▉| 28769/29000 [01:15<00:00, 419.31it/s]"
     ]
    },
    {
     "name": "stdout",
     "output_type": "stream",
     "text": [
      "Sigma:  tensor([[ 4.8045e-01, -2.0919e-05],\n",
      "        [-2.0919e-05,  3.4654e-04]], grad_fn=<MmBackward0>)\n",
      "obj:  tensor(-0.0052, grad_fn=<AddBackward0>)\n",
      "mle loss:  tensor(-7.0259, grad_fn=<AddBackward0>)\n",
      "h_val:  tensor(0.0016, grad_fn=<AddBackward0>)\n"
     ]
    },
    {
     "name": "stderr",
     "output_type": "stream",
     "text": [
      " 99%|█████████▉| 28853/29000 [01:15<00:00, 414.26it/s]"
     ]
    },
    {
     "name": "stdout",
     "output_type": "stream",
     "text": [
      "Sigma:  tensor([[ 4.8045e-01, -2.0903e-05],\n",
      "        [-2.0903e-05,  3.4033e-04]], grad_fn=<MmBackward0>)\n",
      "obj:  tensor(-0.0052, grad_fn=<AddBackward0>)\n",
      "mle loss:  tensor(-7.0538, grad_fn=<AddBackward0>)\n",
      "h_val:  tensor(0.0016, grad_fn=<AddBackward0>)\n"
     ]
    },
    {
     "name": "stderr",
     "output_type": "stream",
     "text": [
      "100%|█████████▉| 28983/29000 [01:15<00:00, 425.99it/s]"
     ]
    },
    {
     "name": "stdout",
     "output_type": "stream",
     "text": [
      "Sigma:  tensor([[ 4.8045e-01, -2.0899e-05],\n",
      "        [-2.0899e-05,  3.3382e-04]], grad_fn=<MmBackward0>)\n",
      "obj:  tensor(-0.0053, grad_fn=<AddBackward0>)\n",
      "mle loss:  tensor(-7.0839, grad_fn=<AddBackward0>)\n",
      "h_val:  tensor(0.0015, grad_fn=<AddBackward0>)\n"
     ]
    },
    {
     "name": "stderr",
     "output_type": "stream",
     "text": [
      "100%|██████████| 29000/29000 [01:15<00:00, 381.80it/s]\n"
     ]
    }
   ],
   "source": [
    "eq_model = nonlinear.DagmaMLP(\n",
    "    dims=[d, 10, 1], bias=True, dtype=torch.double)\n",
    "model = nonlinear.DagmaNonlinear(\n",
    "    eq_model, dtype=torch.double, use_mse_loss=True)\n",
    "\n",
    "W_est_dagma = model.fit(X, lambda1=2e-2, lambda2=0.005,\n",
    "                        T=1, lr=2e-4, w_threshold=0.3, mu_init=0.1, warm_iter=70000, max_iter=80000)\n",
    "\n",
    "# Use DAGMA weights as initial weights for DAGMA-DCE\n",
    "fc1_weight = eq_model.fc1.weight\n",
    "fc1_bias = eq_model.fc1.bias\n",
    "fc2_weight = eq_model.fc2[0].weight\n",
    "fc2_bias = eq_model.fc2[0].bias\n",
    "\n",
    "eq_model = nonlinear_dce.DagmaMLP_DCE(\n",
    "    dims=[d, 10, 1], bias=True)\n",
    "model = nonlinear_dce.DagmaDCE(eq_model, use_mle_loss=True)\n",
    "eq_model.fc1.weight = fc1_weight\n",
    "eq_model.fc1.bias = fc1_bias\n",
    "eq_model.fc2[0].weight = fc2_weight\n",
    "eq_model.fc2[0].bias = fc2_bias\n",
    "\n",
    "W_est_dce_no_thresh, W2, x_est = model.fit(X, lambda1=3.5e-2, lambda2=5e-3,\n",
    "                                lr=2e-4, mu_factor=0.1, mu_init=1, T=4, warm_iter=7000, max_iter=8000)"
   ]
  },
  {
   "cell_type": "code",
   "execution_count": 19,
   "metadata": {},
   "outputs": [
    {
     "data": {
      "image/png": "[encoded data removed]",
      "text/plain": [
       "<Figure size 1000x600 with 1 Axes>"
      ]
     },
     "metadata": {},
     "output_type": "display_data"
    },
    {
     "name": "stdout",
     "output_type": "stream",
     "text": [
      "The programm is closed\n"
     ]
    }
   ],
   "source": [
    "plt.figure(figsize=(10, 6))  # Optional: specifies the figure size\n",
    "plt.scatter(X.detach().numpy()[:, 0], X.detach().numpy()[:, 1], label='y', color='blue', marker='o')  # Plot x vs. y1\n",
    "plt.scatter(X.detach().numpy()[:, 0], x_est.detach().numpy()[:, 1], label='y_est', color='red', marker='s') \n",
    "plt.scatter(X.detach().numpy()[:, 0], X_true.detach().numpy()[:, 1], label='y_noise', color='green', marker='s') \n",
    "plt.xlabel('x')\n",
    "plt.ylabel('y')\n",
    "plt.legend()\n",
    "plt.show()\n",
    "print(\"The programm is closed\")"
   ]
  },
  {
   "cell_type": "code",
   "execution_count": 20,
   "metadata": {},
   "outputs": [
    {
     "data": {
      "image/png": "[encoded data removed]",
      "text/plain": [
       "<Figure size 1000x600 with 1 Axes>"
      ]
     },
     "metadata": {},
     "output_type": "display_data"
    },
    {
     "name": "stdout",
     "output_type": "stream",
     "text": [
      "The programm is closed\n"
     ]
    }
   ],
   "source": [
    "plt.figure(figsize=(10, 6))  # Optional: specifies the figure size\n",
    "plt.scatter(X.detach().numpy()[:, 1], x_est.detach().numpy()[:, 0], label='x_est', color='red', marker='s') \n",
    "plt.scatter(X.detach().numpy()[:, 1], X.detach().numpy()[:, 0], label='x', color='green', marker='o')\n",
    "plt.xlabel('x')\n",
    "plt.ylabel('y')\n",
    "plt.legend()\n",
    "plt.show()\n",
    "print(\"The programm is closed\")"
   ]
  },
  {
   "cell_type": "markdown",
   "metadata": {},
   "source": [
    "## no causal"
   ]
  },
  {
   "cell_type": "code",
   "execution_count": 4,
   "metadata": {},
   "outputs": [],
   "source": [
    "np.random.seed(0)\n",
    "n_samples = 1000  # Number of samples\n",
    "dim = 2  # Dimension of the normal vectors\n",
    "d = 2\n",
    "# Random data for X and X_hat\n",
    "True_Sigma = np.array([[1, 0.6],    # Variance of X is 1, covariance between X and Y is 0.8\n",
    "                [0.6, 1.5]])   # Variance of Y is 1, covariance between Y and X is 0.8\n",
    "epsilon = np.random.multivariate_normal([0] * dim, True_Sigma, size=n_samples) #[n, d]\n",
    "epsilon = torch.tensor(epsilon, dtype=torch.float64)\n",
    "x1 = epsilon[:, 0]\n",
    "# x1 = torch.randn(n_samples)\n",
    "x1_true = epsilon[:, 0]\n",
    "x2 = epsilon[:, 1]\n",
    "# Step 4: Combine these results into a new tensor of shape [n, 2]\n",
    "X = torch.stack((x1, x2), dim=1)\n",
    "x2_true = epsilon[:, 1]\n",
    "X_true = torch.stack((x1_true, x2_true), dim=1)"
   ]
  },
  {
   "cell_type": "markdown",
   "metadata": {},
   "source": [
    "### update all parameters together"
   ]
  },
  {
   "cell_type": "code",
   "execution_count": 5,
   "metadata": {},
   "outputs": [
    {
     "name": "stderr",
     "output_type": "stream",
     "text": [
      "  1%|          | 159/29000 [00:00<01:34, 304.65it/s]"
     ]
    },
    {
     "name": "stdout",
     "output_type": "stream",
     "text": [
      "Sigma:  tensor([[0.9605, 0.0195],\n",
      "        [0.0195, 1.0408]], grad_fn=<MmBackward0>)\n",
      "obj:  tensor(2.2931, grad_fn=<AddBackward0>)\n",
      "mle loss:  tensor(2.2918, grad_fn=<AddBackward0>)\n",
      "h_val:  tensor(0.0002, grad_fn=<AddBackward0>)\n"
     ]
    },
    {
     "name": "stderr",
     "output_type": "stream",
     "text": [
      "  1%|          | 277/29000 [00:01<01:19, 362.83it/s]"
     ]
    },
    {
     "name": "stdout",
     "output_type": "stream",
     "text": [
      "Sigma:  tensor([[0.9212, 0.0380],\n",
      "        [0.0380, 1.0816]], grad_fn=<MmBackward0>)\n",
      "obj:  tensor(2.1928, grad_fn=<AddBackward0>)\n",
      "mle loss:  tensor(2.1896, grad_fn=<AddBackward0>)\n",
      "h_val:  tensor(0.0007, grad_fn=<AddBackward0>)\n"
     ]
    },
    {
     "name": "stderr",
     "output_type": "stream",
     "text": [
      "  1%|          | 354/29000 [00:01<01:18, 366.86it/s]"
     ]
    },
    {
     "name": "stdout",
     "output_type": "stream",
     "text": [
      "Sigma:  tensor([[0.8853, 0.0550],\n",
      "        [0.0550, 1.1188]], grad_fn=<MmBackward0>)\n",
      "obj:  tensor(2.1041, grad_fn=<AddBackward0>)\n",
      "mle loss:  tensor(2.0982, grad_fn=<AddBackward0>)\n",
      "h_val:  tensor(0.0018, grad_fn=<AddBackward0>)\n"
     ]
    },
    {
     "name": "stderr",
     "output_type": "stream",
     "text": [
      "  2%|▏         | 470/29000 [00:01<01:15, 378.38it/s]"
     ]
    },
    {
     "name": "stdout",
     "output_type": "stream",
     "text": [
      "Sigma:  tensor([[0.8557, 0.0708],\n",
      "        [0.0708, 1.1478]], grad_fn=<MmBackward0>)\n",
      "obj:  tensor(2.0134, grad_fn=<AddBackward0>)\n",
      "mle loss:  tensor(2.0038, grad_fn=<AddBackward0>)\n",
      "h_val:  tensor(0.0039, grad_fn=<AddBackward0>)\n"
     ]
    },
    {
     "name": "stderr",
     "output_type": "stream",
     "text": [
      "  2%|▏         | 547/29000 [00:01<01:16, 370.47it/s]"
     ]
    },
    {
     "name": "stdout",
     "output_type": "stream",
     "text": [
      "Sigma:  tensor([[0.8298, 0.0850],\n",
      "        [0.0850, 1.1638]], grad_fn=<MmBackward0>)\n",
      "obj:  tensor(1.9217, grad_fn=<AddBackward0>)\n",
      "mle loss:  tensor(1.9067, grad_fn=<AddBackward0>)\n",
      "h_val:  tensor(0.0072, grad_fn=<AddBackward0>)\n"
     ]
    },
    {
     "name": "stderr",
     "output_type": "stream",
     "text": [
      "  2%|▏         | 665/29000 [00:02<01:14, 378.83it/s]"
     ]
    },
    {
     "name": "stdout",
     "output_type": "stream",
     "text": [
      "Sigma:  tensor([[0.8036, 0.0974],\n",
      "        [0.0974, 1.1633]], grad_fn=<MmBackward0>)\n",
      "obj:  tensor(1.8247, grad_fn=<AddBackward0>)\n",
      "mle loss:  tensor(1.8023, grad_fn=<AddBackward0>)\n",
      "h_val:  tensor(0.0122, grad_fn=<AddBackward0>)\n"
     ]
    },
    {
     "name": "stderr",
     "output_type": "stream",
     "text": [
      "  3%|▎         | 741/29000 [00:02<01:16, 370.35it/s]"
     ]
    },
    {
     "name": "stdout",
     "output_type": "stream",
     "text": [
      "Sigma:  tensor([[0.7741, 0.1076],\n",
      "        [0.1076, 1.1461]], grad_fn=<MmBackward0>)\n",
      "obj:  tensor(1.7199, grad_fn=<AddBackward0>)\n",
      "mle loss:  tensor(1.6875, grad_fn=<AddBackward0>)\n",
      "h_val:  tensor(0.0196, grad_fn=<AddBackward0>)\n"
     ]
    },
    {
     "name": "stderr",
     "output_type": "stream",
     "text": [
      "  3%|▎         | 865/29000 [00:02<01:12, 389.42it/s]"
     ]
    },
    {
     "name": "stdout",
     "output_type": "stream",
     "text": [
      "Sigma:  tensor([[0.7406, 0.1152],\n",
      "        [0.1152, 1.1155]], grad_fn=<MmBackward0>)\n",
      "obj:  tensor(1.6065, grad_fn=<AddBackward0>)\n",
      "mle loss:  tensor(1.5606, grad_fn=<AddBackward0>)\n",
      "h_val:  tensor(0.0301, grad_fn=<AddBackward0>)\n"
     ]
    },
    {
     "name": "stderr",
     "output_type": "stream",
     "text": [
      "  3%|▎         | 944/29000 [00:02<01:12, 384.84it/s]"
     ]
    },
    {
     "name": "stdout",
     "output_type": "stream",
     "text": [
      "Sigma:  tensor([[0.7042, 0.1199],\n",
      "        [0.1199, 1.0761]], grad_fn=<MmBackward0>)\n",
      "obj:  tensor(1.4849, grad_fn=<AddBackward0>)\n",
      "mle loss:  tensor(1.4216, grad_fn=<AddBackward0>)\n",
      "h_val:  tensor(0.0443, grad_fn=<AddBackward0>)\n"
     ]
    },
    {
     "name": "stderr",
     "output_type": "stream",
     "text": [
      "  4%|▎         | 1068/29000 [00:03<01:11, 389.41it/s]"
     ]
    },
    {
     "name": "stdout",
     "output_type": "stream",
     "text": [
      "Sigma:  tensor([[0.6663, 0.1214],\n",
      "        [0.1214, 1.0319]], grad_fn=<MmBackward0>)\n",
      "obj:  tensor(1.3571, grad_fn=<AddBackward0>)\n",
      "mle loss:  tensor(1.2713, grad_fn=<AddBackward0>)\n",
      "h_val:  tensor(0.0633, grad_fn=<AddBackward0>)\n"
     ]
    },
    {
     "name": "stderr",
     "output_type": "stream",
     "text": [
      "  4%|▍         | 1147/29000 [00:03<01:13, 379.35it/s]"
     ]
    },
    {
     "name": "stdout",
     "output_type": "stream",
     "text": [
      "Sigma:  tensor([[0.6278, 0.1191],\n",
      "        [0.1191, 0.9853]], grad_fn=<MmBackward0>)\n",
      "obj:  tensor(1.2251, grad_fn=<AddBackward0>)\n",
      "mle loss:  tensor(1.1112, grad_fn=<AddBackward0>)\n",
      "h_val:  tensor(0.0877, grad_fn=<AddBackward0>)\n"
     ]
    },
    {
     "name": "stderr",
     "output_type": "stream",
     "text": [
      "  4%|▍         | 1271/29000 [00:03<01:09, 397.84it/s]"
     ]
    },
    {
     "name": "stdout",
     "output_type": "stream",
     "text": [
      "Sigma:  tensor([[0.5897, 0.1129],\n",
      "        [0.1129, 0.9378]], grad_fn=<MmBackward0>)\n",
      "obj:  tensor(1.0905, grad_fn=<AddBackward0>)\n",
      "mle loss:  tensor(0.9423, grad_fn=<AddBackward0>)\n",
      "h_val:  tensor(0.1184, grad_fn=<AddBackward0>)\n"
     ]
    },
    {
     "name": "stderr",
     "output_type": "stream",
     "text": [
      "  5%|▍         | 1350/29000 [00:03<01:12, 383.70it/s]"
     ]
    },
    {
     "name": "stdout",
     "output_type": "stream",
     "text": [
      "Sigma:  tensor([[0.5529, 0.1030],\n",
      "        [0.1030, 0.8899]], grad_fn=<MmBackward0>)\n",
      "obj:  tensor(0.9546, grad_fn=<AddBackward0>)\n",
      "mle loss:  tensor(0.7652, grad_fn=<AddBackward0>)\n",
      "h_val:  tensor(0.1559, grad_fn=<AddBackward0>)\n"
     ]
    },
    {
     "name": "stderr",
     "output_type": "stream",
     "text": [
      "  5%|▌         | 1471/29000 [00:04<01:09, 394.33it/s]"
     ]
    },
    {
     "name": "stdout",
     "output_type": "stream",
     "text": [
      "Sigma:  tensor([[0.5177, 0.0899],\n",
      "        [0.0899, 0.8424]], grad_fn=<MmBackward0>)\n",
      "obj:  tensor(0.8178, grad_fn=<AddBackward0>)\n",
      "mle loss:  tensor(0.5801, grad_fn=<AddBackward0>)\n",
      "h_val:  tensor(0.2009, grad_fn=<AddBackward0>)\n"
     ]
    },
    {
     "name": "stderr",
     "output_type": "stream",
     "text": [
      "  5%|▌         | 1550/29000 [00:04<01:10, 387.62it/s]"
     ]
    },
    {
     "name": "stdout",
     "output_type": "stream",
     "text": [
      "Sigma:  tensor([[0.4844, 0.0747],\n",
      "        [0.0747, 0.7958]], grad_fn=<MmBackward0>)\n",
      "obj:  tensor(0.6807, grad_fn=<AddBackward0>)\n",
      "mle loss:  tensor(0.3873, grad_fn=<AddBackward0>)\n",
      "h_val:  tensor(0.2534, grad_fn=<AddBackward0>)\n"
     ]
    },
    {
     "name": "stderr",
     "output_type": "stream",
     "text": [
      "  6%|▌         | 1673/29000 [00:04<01:08, 397.39it/s]"
     ]
    },
    {
     "name": "stdout",
     "output_type": "stream",
     "text": [
      "Sigma:  tensor([[0.4532, 0.0585],\n",
      "        [0.0585, 0.7507]], grad_fn=<MmBackward0>)\n",
      "obj:  tensor(0.5441, grad_fn=<AddBackward0>)\n",
      "mle loss:  tensor(0.1878, grad_fn=<AddBackward0>)\n",
      "h_val:  tensor(0.3135, grad_fn=<AddBackward0>)\n"
     ]
    },
    {
     "name": "stderr",
     "output_type": "stream",
     "text": [
      "  6%|▌         | 1753/29000 [00:04<01:09, 390.28it/s]"
     ]
    },
    {
     "name": "stdout",
     "output_type": "stream",
     "text": [
      "Sigma:  tensor([[0.4239, 0.0425],\n",
      "        [0.0425, 0.7076]], grad_fn=<MmBackward0>)\n",
      "obj:  tensor(0.4098, grad_fn=<AddBackward0>)\n",
      "mle loss:  tensor(-0.0162, grad_fn=<AddBackward0>)\n",
      "h_val:  tensor(0.3808, grad_fn=<AddBackward0>)\n"
     ]
    },
    {
     "name": "stderr",
     "output_type": "stream",
     "text": [
      "  6%|▋         | 1877/29000 [00:05<01:07, 399.42it/s]"
     ]
    },
    {
     "name": "stdout",
     "output_type": "stream",
     "text": [
      "Sigma:  tensor([[0.3966, 0.0272],\n",
      "        [0.0272, 0.6672]], grad_fn=<MmBackward0>)\n",
      "obj:  tensor(0.2805, grad_fn=<AddBackward0>)\n",
      "mle loss:  tensor(-0.2210, grad_fn=<AddBackward0>)\n",
      "h_val:  tensor(0.4541, grad_fn=<AddBackward0>)\n"
     ]
    },
    {
     "name": "stderr",
     "output_type": "stream",
     "text": [
      "  7%|▋         | 1957/29000 [00:05<01:08, 392.76it/s]"
     ]
    },
    {
     "name": "stdout",
     "output_type": "stream",
     "text": [
      "Sigma:  tensor([[0.3713, 0.0132],\n",
      "        [0.0132, 0.6296]], grad_fn=<MmBackward0>)\n",
      "obj:  tensor(0.1586, grad_fn=<AddBackward0>)\n",
      "mle loss:  tensor(-0.4220, grad_fn=<AddBackward0>)\n",
      "h_val:  tensor(0.5315, grad_fn=<AddBackward0>)\n"
     ]
    },
    {
     "name": "stderr",
     "output_type": "stream",
     "text": [
      "  7%|▋         | 2080/29000 [00:05<01:07, 400.62it/s]"
     ]
    },
    {
     "name": "stdout",
     "output_type": "stream",
     "text": [
      "Sigma:  tensor([[3.4771e-01, 5.6164e-04],\n",
      "        [5.6164e-04, 5.9499e-01]], grad_fn=<MmBackward0>)\n",
      "obj:  tensor(0.0460, grad_fn=<AddBackward0>)\n",
      "mle loss:  tensor(-0.6146, grad_fn=<AddBackward0>)\n",
      "h_val:  tensor(0.6098, grad_fn=<AddBackward0>)\n"
     ]
    },
    {
     "name": "stderr",
     "output_type": "stream",
     "text": [
      "  7%|▋         | 2161/29000 [00:05<01:08, 390.04it/s]"
     ]
    },
    {
     "name": "stdout",
     "output_type": "stream",
     "text": [
      "Sigma:  tensor([[ 0.3260, -0.0109],\n",
      "        [-0.0109,  0.5634]], grad_fn=<MmBackward0>)\n",
      "obj:  tensor(-0.0567, grad_fn=<AddBackward0>)\n",
      "mle loss:  tensor(-0.7945, grad_fn=<AddBackward0>)\n",
      "h_val:  tensor(0.6854, grad_fn=<AddBackward0>)\n"
     ]
    },
    {
     "name": "stderr",
     "output_type": "stream",
     "text": [
      "  8%|▊         | 2240/29000 [00:06<01:09, 384.77it/s]"
     ]
    },
    {
     "name": "stdout",
     "output_type": "stream",
     "text": [
      "Sigma:  tensor([[ 0.3059, -0.0213],\n",
      "        [-0.0213,  0.5349]], grad_fn=<MmBackward0>)\n",
      "obj:  tensor(-0.1504, grad_fn=<AddBackward0>)\n",
      "mle loss:  tensor(-0.9584, grad_fn=<AddBackward0>)\n",
      "h_val:  tensor(0.7543, grad_fn=<AddBackward0>)\n"
     ]
    },
    {
     "name": "stderr",
     "output_type": "stream",
     "text": [
      "  8%|▊         | 2366/29000 [00:06<01:06, 400.49it/s]"
     ]
    },
    {
     "name": "stdout",
     "output_type": "stream",
     "text": [
      "Sigma:  tensor([[ 0.2876, -0.0309],\n",
      "        [-0.0309,  0.5092]], grad_fn=<MmBackward0>)\n",
      "obj:  tensor(-0.2369, grad_fn=<AddBackward0>)\n",
      "mle loss:  tensor(-1.1049, grad_fn=<AddBackward0>)\n",
      "h_val:  tensor(0.8131, grad_fn=<AddBackward0>)\n"
     ]
    },
    {
     "name": "stderr",
     "output_type": "stream",
     "text": [
      "  8%|▊         | 2447/29000 [00:06<01:08, 385.67it/s]"
     ]
    },
    {
     "name": "stdout",
     "output_type": "stream",
     "text": [
      "Sigma:  tensor([[ 0.2708, -0.0400],\n",
      "        [-0.0400,  0.4864]], grad_fn=<MmBackward0>)\n",
      "obj:  tensor(-0.3185, grad_fn=<AddBackward0>)\n",
      "mle loss:  tensor(-1.2345, grad_fn=<AddBackward0>)\n",
      "h_val:  tensor(0.8600, grad_fn=<AddBackward0>)\n"
     ]
    },
    {
     "name": "stderr",
     "output_type": "stream",
     "text": [
      "  9%|▉         | 2573/29000 [00:06<01:06, 399.06it/s]"
     ]
    },
    {
     "name": "stdout",
     "output_type": "stream",
     "text": [
      "Sigma:  tensor([[ 0.2555, -0.0489],\n",
      "        [-0.0489,  0.4662]], grad_fn=<MmBackward0>)\n",
      "obj:  tensor(-0.3973, grad_fn=<AddBackward0>)\n",
      "mle loss:  tensor(-1.3500, grad_fn=<AddBackward0>)\n",
      "h_val:  tensor(0.8957, grad_fn=<AddBackward0>)\n"
     ]
    },
    {
     "name": "stderr",
     "output_type": "stream",
     "text": [
      "  9%|▉         | 2653/29000 [00:07<01:07, 390.01it/s]"
     ]
    },
    {
     "name": "stdout",
     "output_type": "stream",
     "text": [
      "Sigma:  tensor([[ 0.2416, -0.0577],\n",
      "        [-0.0577,  0.4487]], grad_fn=<MmBackward0>)\n",
      "obj:  tensor(-0.4748, grad_fn=<AddBackward0>)\n",
      "mle loss:  tensor(-1.4555, grad_fn=<AddBackward0>)\n",
      "h_val:  tensor(0.9230, grad_fn=<AddBackward0>)\n"
     ]
    },
    {
     "name": "stderr",
     "output_type": "stream",
     "text": [
      " 10%|▉         | 2773/29000 [00:07<01:07, 389.28it/s]"
     ]
    },
    {
     "name": "stdout",
     "output_type": "stream",
     "text": [
      "Sigma:  tensor([[ 0.2290, -0.0664],\n",
      "        [-0.0664,  0.4336]], grad_fn=<MmBackward0>)\n",
      "obj:  tensor(-0.5515, grad_fn=<AddBackward0>)\n",
      "mle loss:  tensor(-1.5558, grad_fn=<AddBackward0>)\n",
      "h_val:  tensor(0.9456, grad_fn=<AddBackward0>)\n"
     ]
    },
    {
     "name": "stderr",
     "output_type": "stream",
     "text": [
      " 10%|▉         | 2852/29000 [00:07<01:08, 384.39it/s]"
     ]
    },
    {
     "name": "stdout",
     "output_type": "stream",
     "text": [
      "Sigma:  tensor([[ 0.2175, -0.0750],\n",
      "        [-0.0750,  0.4209]], grad_fn=<MmBackward0>)\n",
      "obj:  tensor(-0.6280, grad_fn=<AddBackward0>)\n",
      "mle loss:  tensor(-1.6537, grad_fn=<AddBackward0>)\n",
      "h_val:  tensor(0.9663, grad_fn=<AddBackward0>)\n"
     ]
    },
    {
     "name": "stderr",
     "output_type": "stream",
     "text": [
      " 10%|█         | 2975/29000 [00:07<01:05, 396.38it/s]"
     ]
    },
    {
     "name": "stdout",
     "output_type": "stream",
     "text": [
      "Sigma:  tensor([[ 0.2069, -0.0836],\n",
      "        [-0.0836,  0.4104]], grad_fn=<MmBackward0>)\n",
      "obj:  tensor(-0.7047, grad_fn=<AddBackward0>)\n",
      "mle loss:  tensor(-1.7508, grad_fn=<AddBackward0>)\n",
      "h_val:  tensor(0.9859, grad_fn=<AddBackward0>)\n"
     ]
    },
    {
     "name": "stderr",
     "output_type": "stream",
     "text": [
      " 11%|█         | 3054/29000 [00:08<01:06, 388.14it/s]"
     ]
    },
    {
     "name": "stdout",
     "output_type": "stream",
     "text": [
      "Sigma:  tensor([[ 0.1972, -0.0919],\n",
      "        [-0.0919,  0.4022]], grad_fn=<MmBackward0>)\n",
      "obj:  tensor(-0.7816, grad_fn=<AddBackward0>)\n",
      "mle loss:  tensor(-1.8469, grad_fn=<AddBackward0>)\n",
      "h_val:  tensor(1.0043, grad_fn=<AddBackward0>)\n"
     ]
    },
    {
     "name": "stderr",
     "output_type": "stream",
     "text": [
      " 11%|█         | 3175/29000 [00:08<01:05, 397.20it/s]"
     ]
    },
    {
     "name": "stdout",
     "output_type": "stream",
     "text": [
      "Sigma:  tensor([[ 0.1881, -0.1000],\n",
      "        [-0.1000,  0.3962]], grad_fn=<MmBackward0>)\n",
      "obj:  tensor(-0.8589, grad_fn=<AddBackward0>)\n",
      "mle loss:  tensor(-1.9416, grad_fn=<AddBackward0>)\n",
      "h_val:  tensor(1.0210, grad_fn=<AddBackward0>)\n"
     ]
    },
    {
     "name": "stderr",
     "output_type": "stream",
     "text": [
      " 11%|█         | 3255/29000 [00:08<01:05, 390.95it/s]"
     ]
    },
    {
     "name": "stdout",
     "output_type": "stream",
     "text": [
      "Sigma:  tensor([[ 0.1796, -0.1078],\n",
      "        [-0.1078,  0.3921]], grad_fn=<MmBackward0>)\n",
      "obj:  tensor(-0.9367, grad_fn=<AddBackward0>)\n",
      "mle loss:  tensor(-2.0348, grad_fn=<AddBackward0>)\n",
      "h_val:  tensor(1.0357, grad_fn=<AddBackward0>)\n"
     ]
    },
    {
     "name": "stderr",
     "output_type": "stream",
     "text": [
      " 12%|█▏        | 3377/29000 [00:09<01:04, 398.71it/s]"
     ]
    },
    {
     "name": "stdout",
     "output_type": "stream",
     "text": [
      "Sigma:  tensor([[ 0.1716, -0.1153],\n",
      "        [-0.1153,  0.3899]], grad_fn=<MmBackward0>)\n",
      "obj:  tensor(-1.0148, grad_fn=<AddBackward0>)\n",
      "mle loss:  tensor(-2.1266, grad_fn=<AddBackward0>)\n",
      "h_val:  tensor(1.0488, grad_fn=<AddBackward0>)\n"
     ]
    },
    {
     "name": "stderr",
     "output_type": "stream",
     "text": [
      " 12%|█▏        | 3457/29000 [00:09<01:04, 394.35it/s]"
     ]
    },
    {
     "name": "stdout",
     "output_type": "stream",
     "text": [
      "Sigma:  tensor([[ 0.1641, -0.1224],\n",
      "        [-0.1224,  0.3896]], grad_fn=<MmBackward0>)\n",
      "obj:  tensor(-1.0932, grad_fn=<AddBackward0>)\n",
      "mle loss:  tensor(-2.2175, grad_fn=<AddBackward0>)\n",
      "h_val:  tensor(1.0607, grad_fn=<AddBackward0>)\n"
     ]
    },
    {
     "name": "stderr",
     "output_type": "stream",
     "text": [
      " 12%|█▏        | 3579/29000 [00:09<01:03, 399.82it/s]"
     ]
    },
    {
     "name": "stdout",
     "output_type": "stream",
     "text": [
      "Sigma:  tensor([[ 0.1570, -0.1291],\n",
      "        [-0.1291,  0.3909]], grad_fn=<MmBackward0>)\n",
      "obj:  tensor(-1.1718, grad_fn=<AddBackward0>)\n",
      "mle loss:  tensor(-2.3077, grad_fn=<AddBackward0>)\n",
      "h_val:  tensor(1.0716, grad_fn=<AddBackward0>)\n"
     ]
    },
    {
     "name": "stderr",
     "output_type": "stream",
     "text": [
      " 13%|█▎        | 3660/29000 [00:09<01:04, 393.26it/s]"
     ]
    },
    {
     "name": "stdout",
     "output_type": "stream",
     "text": [
      "Sigma:  tensor([[ 0.1503, -0.1353],\n",
      "        [-0.1353,  0.3938]], grad_fn=<MmBackward0>)\n",
      "obj:  tensor(-1.2504, grad_fn=<AddBackward0>)\n",
      "mle loss:  tensor(-2.3970, grad_fn=<AddBackward0>)\n",
      "h_val:  tensor(1.0818, grad_fn=<AddBackward0>)\n"
     ]
    },
    {
     "name": "stderr",
     "output_type": "stream",
     "text": [
      " 13%|█▎        | 3740/29000 [00:09<01:06, 378.69it/s]"
     ]
    },
    {
     "name": "stdout",
     "output_type": "stream",
     "text": [
      "Sigma:  tensor([[ 0.1440, -0.1412],\n",
      "        [-0.1412,  0.3982]], grad_fn=<MmBackward0>)\n",
      "obj:  tensor(-1.3290, grad_fn=<AddBackward0>)\n",
      "mle loss:  tensor(-2.4856, grad_fn=<AddBackward0>)\n",
      "h_val:  tensor(1.0913, grad_fn=<AddBackward0>)\n"
     ]
    },
    {
     "name": "stderr",
     "output_type": "stream",
     "text": [
      " 13%|█▎        | 3866/29000 [00:10<01:03, 397.12it/s]"
     ]
    },
    {
     "name": "stdout",
     "output_type": "stream",
     "text": [
      "Sigma:  tensor([[ 0.1380, -0.1466],\n",
      "        [-0.1466,  0.4039]], grad_fn=<MmBackward0>)\n",
      "obj:  tensor(-1.4073, grad_fn=<AddBackward0>)\n",
      "mle loss:  tensor(-2.5734, grad_fn=<AddBackward0>)\n",
      "h_val:  tensor(1.1003, grad_fn=<AddBackward0>)\n"
     ]
    },
    {
     "name": "stderr",
     "output_type": "stream",
     "text": [
      " 14%|█▎        | 3945/29000 [00:10<01:04, 386.75it/s]"
     ]
    },
    {
     "name": "stdout",
     "output_type": "stream",
     "text": [
      "Sigma:  tensor([[ 0.1323, -0.1516],\n",
      "        [-0.1516,  0.4107]], grad_fn=<MmBackward0>)\n",
      "obj:  tensor(-1.4854, grad_fn=<AddBackward0>)\n",
      "mle loss:  tensor(-2.6605, grad_fn=<AddBackward0>)\n",
      "h_val:  tensor(1.1088, grad_fn=<AddBackward0>)\n"
     ]
    },
    {
     "name": "stderr",
     "output_type": "stream",
     "text": [
      " 14%|█▍        | 4071/29000 [00:10<01:02, 398.70it/s]"
     ]
    },
    {
     "name": "stdout",
     "output_type": "stream",
     "text": [
      "Sigma:  tensor([[ 0.1269, -0.1561],\n",
      "        [-0.1561,  0.4187]], grad_fn=<MmBackward0>)\n",
      "obj:  tensor(-1.5631, grad_fn=<AddBackward0>)\n",
      "mle loss:  tensor(-2.7469, grad_fn=<AddBackward0>)\n",
      "h_val:  tensor(1.1170, grad_fn=<AddBackward0>)\n"
     ]
    },
    {
     "name": "stderr",
     "output_type": "stream",
     "text": [
      " 14%|█▍        | 4111/29000 [00:10<01:04, 388.57it/s]"
     ]
    },
    {
     "name": "stdout",
     "output_type": "stream",
     "text": [
      "Sigma:  tensor([[ 0.1218, -0.1603],\n",
      "        [-0.1603,  0.4277]], grad_fn=<MmBackward0>)\n",
      "obj:  tensor(-1.6404, grad_fn=<AddBackward0>)\n",
      "mle loss:  tensor(-2.8326, grad_fn=<AddBackward0>)\n",
      "h_val:  tensor(1.1250, grad_fn=<AddBackward0>)\n"
     ]
    },
    {
     "name": "stderr",
     "output_type": "stream",
     "text": [
      " 15%|█▍        | 4278/29000 [00:11<01:11, 346.88it/s]"
     ]
    },
    {
     "name": "stdout",
     "output_type": "stream",
     "text": [
      "Sigma:  tensor([[ 0.1169, -0.1641],\n",
      "        [-0.1641,  0.4375]], grad_fn=<MmBackward0>)\n",
      "obj:  tensor(-1.7173, grad_fn=<AddBackward0>)\n",
      "mle loss:  tensor(-2.9176, grad_fn=<AddBackward0>)\n",
      "h_val:  tensor(1.1327, grad_fn=<AddBackward0>)\n"
     ]
    },
    {
     "name": "stderr",
     "output_type": "stream",
     "text": [
      " 15%|█▌        | 4356/29000 [00:11<01:08, 359.58it/s]"
     ]
    },
    {
     "name": "stdout",
     "output_type": "stream",
     "text": [
      "Sigma:  tensor([[ 0.1122, -0.1676],\n",
      "        [-0.1676,  0.4482]], grad_fn=<MmBackward0>)\n",
      "obj:  tensor(-1.7937, grad_fn=<AddBackward0>)\n",
      "mle loss:  tensor(-3.0020, grad_fn=<AddBackward0>)\n",
      "h_val:  tensor(1.1403, grad_fn=<AddBackward0>)\n"
     ]
    },
    {
     "name": "stderr",
     "output_type": "stream",
     "text": [
      " 15%|█▌        | 4478/29000 [00:12<01:03, 386.47it/s]"
     ]
    },
    {
     "name": "stdout",
     "output_type": "stream",
     "text": [
      "Sigma:  tensor([[ 0.1078, -0.1707],\n",
      "        [-0.1707,  0.4596]], grad_fn=<MmBackward0>)\n",
      "obj:  tensor(-1.8698, grad_fn=<AddBackward0>)\n",
      "mle loss:  tensor(-3.0859, grad_fn=<AddBackward0>)\n",
      "h_val:  tensor(1.1478, grad_fn=<AddBackward0>)\n"
     ]
    },
    {
     "name": "stderr",
     "output_type": "stream",
     "text": [
      " 16%|█▌        | 4557/29000 [00:12<01:03, 383.92it/s]"
     ]
    },
    {
     "name": "stdout",
     "output_type": "stream",
     "text": [
      "Sigma:  tensor([[ 0.1035, -0.1734],\n",
      "        [-0.1734,  0.4717]], grad_fn=<MmBackward0>)\n",
      "obj:  tensor(-1.9454, grad_fn=<AddBackward0>)\n",
      "mle loss:  tensor(-3.1693, grad_fn=<AddBackward0>)\n",
      "h_val:  tensor(1.1552, grad_fn=<AddBackward0>)\n"
     ]
    },
    {
     "name": "stderr",
     "output_type": "stream",
     "text": [
      " 16%|█▌        | 4679/29000 [00:12<01:00, 399.05it/s]"
     ]
    },
    {
     "name": "stdout",
     "output_type": "stream",
     "text": [
      "Sigma:  tensor([[ 0.0995, -0.1759],\n",
      "        [-0.1759,  0.4843]], grad_fn=<MmBackward0>)\n",
      "obj:  tensor(-2.0206, grad_fn=<AddBackward0>)\n",
      "mle loss:  tensor(-3.2523, grad_fn=<AddBackward0>)\n",
      "h_val:  tensor(1.1627, grad_fn=<AddBackward0>)\n"
     ]
    },
    {
     "name": "stderr",
     "output_type": "stream",
     "text": [
      " 16%|█▋        | 4760/29000 [00:12<01:02, 387.64it/s]"
     ]
    },
    {
     "name": "stdout",
     "output_type": "stream",
     "text": [
      "Sigma:  tensor([[ 0.0956, -0.1781],\n",
      "        [-0.1781,  0.4975]], grad_fn=<MmBackward0>)\n",
      "obj:  tensor(-2.0955, grad_fn=<AddBackward0>)\n",
      "mle loss:  tensor(-3.3349, grad_fn=<AddBackward0>)\n",
      "h_val:  tensor(1.1701, grad_fn=<AddBackward0>)\n"
     ]
    },
    {
     "name": "stderr",
     "output_type": "stream",
     "text": [
      " 17%|█▋        | 4838/29000 [00:12<01:04, 374.21it/s]"
     ]
    },
    {
     "name": "stdout",
     "output_type": "stream",
     "text": [
      "Sigma:  tensor([[ 0.0919, -0.1800],\n",
      "        [-0.1800,  0.5112]], grad_fn=<MmBackward0>)\n",
      "obj:  tensor(-2.1701, grad_fn=<AddBackward0>)\n",
      "mle loss:  tensor(-3.4173, grad_fn=<AddBackward0>)\n",
      "h_val:  tensor(1.1776, grad_fn=<AddBackward0>)\n"
     ]
    },
    {
     "name": "stderr",
     "output_type": "stream",
     "text": [
      " 17%|█▋        | 4963/29000 [00:13<01:00, 394.78it/s]"
     ]
    },
    {
     "name": "stdout",
     "output_type": "stream",
     "text": [
      "Sigma:  tensor([[ 0.0884, -0.1816],\n",
      "        [-0.1816,  0.5254]], grad_fn=<MmBackward0>)\n",
      "obj:  tensor(-2.2442, grad_fn=<AddBackward0>)\n",
      "mle loss:  tensor(-3.4994, grad_fn=<AddBackward0>)\n",
      "h_val:  tensor(1.1852, grad_fn=<AddBackward0>)\n"
     ]
    },
    {
     "name": "stderr",
     "output_type": "stream",
     "text": [
      " 17%|█▋        | 5043/29000 [00:13<01:01, 391.11it/s]"
     ]
    },
    {
     "name": "stdout",
     "output_type": "stream",
     "text": [
      "Sigma:  tensor([[ 0.0850, -0.1831],\n",
      "        [-0.1831,  0.5401]], grad_fn=<MmBackward0>)\n",
      "obj:  tensor(-2.3181, grad_fn=<AddBackward0>)\n",
      "mle loss:  tensor(-3.5813, grad_fn=<AddBackward0>)\n",
      "h_val:  tensor(1.1930, grad_fn=<AddBackward0>)\n"
     ]
    },
    {
     "name": "stderr",
     "output_type": "stream",
     "text": [
      " 18%|█▊        | 5171/29000 [00:13<00:59, 402.79it/s]"
     ]
    },
    {
     "name": "stdout",
     "output_type": "stream",
     "text": [
      "Sigma:  tensor([[ 0.0818, -0.1843],\n",
      "        [-0.1843,  0.5551]], grad_fn=<MmBackward0>)\n",
      "obj:  tensor(-2.3915, grad_fn=<AddBackward0>)\n",
      "mle loss:  tensor(-3.6630, grad_fn=<AddBackward0>)\n",
      "h_val:  tensor(1.2010, grad_fn=<AddBackward0>)\n"
     ]
    },
    {
     "name": "stderr",
     "output_type": "stream",
     "text": [
      " 18%|█▊        | 5252/29000 [00:14<01:01, 389.19it/s]"
     ]
    },
    {
     "name": "stdout",
     "output_type": "stream",
     "text": [
      "Sigma:  tensor([[ 0.0787, -0.1853],\n",
      "        [-0.1853,  0.5705]], grad_fn=<MmBackward0>)\n",
      "obj:  tensor(-2.4644, grad_fn=<AddBackward0>)\n",
      "mle loss:  tensor(-3.7445, grad_fn=<AddBackward0>)\n",
      "h_val:  tensor(1.2093, grad_fn=<AddBackward0>)\n"
     ]
    },
    {
     "name": "stderr",
     "output_type": "stream",
     "text": [
      " 19%|█▊        | 5375/29000 [00:14<00:59, 398.35it/s]"
     ]
    },
    {
     "name": "stdout",
     "output_type": "stream",
     "text": [
      "Sigma:  tensor([[ 0.0757, -0.1862],\n",
      "        [-0.1862,  0.5862]], grad_fn=<MmBackward0>)\n",
      "obj:  tensor(-2.5370, grad_fn=<AddBackward0>)\n",
      "mle loss:  tensor(-3.8258, grad_fn=<AddBackward0>)\n",
      "h_val:  tensor(1.2178, grad_fn=<AddBackward0>)\n"
     ]
    },
    {
     "name": "stderr",
     "output_type": "stream",
     "text": [
      " 19%|█▉        | 5455/29000 [00:14<01:00, 389.83it/s]"
     ]
    },
    {
     "name": "stdout",
     "output_type": "stream",
     "text": [
      "Sigma:  tensor([[ 0.0728, -0.1868],\n",
      "        [-0.1868,  0.6023]], grad_fn=<MmBackward0>)\n",
      "obj:  tensor(-2.6090, grad_fn=<AddBackward0>)\n",
      "mle loss:  tensor(-3.9069, grad_fn=<AddBackward0>)\n",
      "h_val:  tensor(1.2266, grad_fn=<AddBackward0>)\n"
     ]
    },
    {
     "name": "stderr",
     "output_type": "stream",
     "text": [
      " 19%|█▉        | 5577/29000 [00:14<00:59, 395.84it/s]"
     ]
    },
    {
     "name": "stdout",
     "output_type": "stream",
     "text": [
      "Sigma:  tensor([[ 0.0701, -0.1873],\n",
      "        [-0.1873,  0.6187]], grad_fn=<MmBackward0>)\n",
      "obj:  tensor(-2.6805, grad_fn=<AddBackward0>)\n",
      "mle loss:  tensor(-3.9878, grad_fn=<AddBackward0>)\n",
      "h_val:  tensor(1.2358, grad_fn=<AddBackward0>)\n"
     ]
    },
    {
     "name": "stderr",
     "output_type": "stream",
     "text": [
      " 20%|█▉        | 5656/29000 [00:15<01:00, 388.64it/s]"
     ]
    },
    {
     "name": "stdout",
     "output_type": "stream",
     "text": [
      "Sigma:  tensor([[ 0.0674, -0.1877],\n",
      "        [-0.1877,  0.6353]], grad_fn=<MmBackward0>)\n",
      "obj:  tensor(-2.7515, grad_fn=<AddBackward0>)\n",
      "mle loss:  tensor(-4.0684, grad_fn=<AddBackward0>)\n",
      "h_val:  tensor(1.2452, grad_fn=<AddBackward0>)\n"
     ]
    },
    {
     "name": "stderr",
     "output_type": "stream",
     "text": [
      " 20%|█▉        | 5777/29000 [00:15<00:58, 395.21it/s]"
     ]
    },
    {
     "name": "stdout",
     "output_type": "stream",
     "text": [
      "Sigma:  tensor([[ 0.0649, -0.1879],\n",
      "        [-0.1879,  0.6521]], grad_fn=<MmBackward0>)\n",
      "obj:  tensor(-2.8220, grad_fn=<AddBackward0>)\n",
      "mle loss:  tensor(-4.1488, grad_fn=<AddBackward0>)\n",
      "h_val:  tensor(1.2549, grad_fn=<AddBackward0>)\n"
     ]
    },
    {
     "name": "stderr",
     "output_type": "stream",
     "text": [
      " 20%|██        | 5857/29000 [00:15<01:00, 381.51it/s]"
     ]
    },
    {
     "name": "stdout",
     "output_type": "stream",
     "text": [
      "Sigma:  tensor([[ 0.0625, -0.1879],\n",
      "        [-0.1879,  0.6691]], grad_fn=<MmBackward0>)\n",
      "obj:  tensor(-2.8919, grad_fn=<AddBackward0>)\n",
      "mle loss:  tensor(-4.2290, grad_fn=<AddBackward0>)\n",
      "h_val:  tensor(1.2649, grad_fn=<AddBackward0>)\n"
     ]
    },
    {
     "name": "stderr",
     "output_type": "stream",
     "text": [
      " 21%|██        | 5978/29000 [00:15<00:59, 387.96it/s]"
     ]
    },
    {
     "name": "stdout",
     "output_type": "stream",
     "text": [
      "Sigma:  tensor([[ 0.0601, -0.1878],\n",
      "        [-0.1878,  0.6863]], grad_fn=<MmBackward0>)\n",
      "obj:  tensor(-2.9613, grad_fn=<AddBackward0>)\n",
      "mle loss:  tensor(-4.3088, grad_fn=<AddBackward0>)\n",
      "h_val:  tensor(1.2752, grad_fn=<AddBackward0>)\n"
     ]
    },
    {
     "name": "stderr",
     "output_type": "stream",
     "text": [
      " 21%|██        | 6056/29000 [00:16<00:59, 382.85it/s]"
     ]
    },
    {
     "name": "stdout",
     "output_type": "stream",
     "text": [
      "Sigma:  tensor([[ 0.0579, -0.1876],\n",
      "        [-0.1876,  0.7035]], grad_fn=<MmBackward0>)\n",
      "obj:  tensor(-3.0301, grad_fn=<AddBackward0>)\n",
      "mle loss:  tensor(-4.3884, grad_fn=<AddBackward0>)\n",
      "h_val:  tensor(1.2857, grad_fn=<AddBackward0>)\n"
     ]
    },
    {
     "name": "stderr",
     "output_type": "stream",
     "text": [
      " 21%|██▏       | 6177/29000 [00:16<00:57, 394.53it/s]"
     ]
    },
    {
     "name": "stdout",
     "output_type": "stream",
     "text": [
      "Sigma:  tensor([[ 0.0557, -0.1872],\n",
      "        [-0.1872,  0.7209]], grad_fn=<MmBackward0>)\n",
      "obj:  tensor(-3.0983, grad_fn=<AddBackward0>)\n",
      "mle loss:  tensor(-4.4677, grad_fn=<AddBackward0>)\n",
      "h_val:  tensor(1.2966, grad_fn=<AddBackward0>)\n"
     ]
    },
    {
     "name": "stderr",
     "output_type": "stream",
     "text": [
      " 22%|██▏       | 6256/29000 [00:16<00:58, 387.99it/s]"
     ]
    },
    {
     "name": "stdout",
     "output_type": "stream",
     "text": [
      "Sigma:  tensor([[ 0.0536, -0.1867],\n",
      "        [-0.1867,  0.7382]], grad_fn=<MmBackward0>)\n",
      "obj:  tensor(-3.1661, grad_fn=<AddBackward0>)\n",
      "mle loss:  tensor(-4.5468, grad_fn=<AddBackward0>)\n",
      "h_val:  tensor(1.3077, grad_fn=<AddBackward0>)\n"
     ]
    },
    {
     "name": "stderr",
     "output_type": "stream",
     "text": [
      " 22%|██▏       | 6376/29000 [00:16<00:57, 392.96it/s]"
     ]
    },
    {
     "name": "stdout",
     "output_type": "stream",
     "text": [
      "Sigma:  tensor([[ 0.0516, -0.1861],\n",
      "        [-0.1861,  0.7555]], grad_fn=<MmBackward0>)\n",
      "obj:  tensor(-3.2334, grad_fn=<AddBackward0>)\n",
      "mle loss:  tensor(-4.6256, grad_fn=<AddBackward0>)\n",
      "h_val:  tensor(1.3191, grad_fn=<AddBackward0>)\n"
     ]
    },
    {
     "name": "stderr",
     "output_type": "stream",
     "text": [
      " 22%|██▏       | 6455/29000 [00:17<00:58, 386.95it/s]"
     ]
    },
    {
     "name": "stdout",
     "output_type": "stream",
     "text": [
      "Sigma:  tensor([[ 0.0497, -0.1854],\n",
      "        [-0.1854,  0.7728]], grad_fn=<MmBackward0>)\n",
      "obj:  tensor(-3.3002, grad_fn=<AddBackward0>)\n",
      "mle loss:  tensor(-4.7043, grad_fn=<AddBackward0>)\n",
      "h_val:  tensor(1.3307, grad_fn=<AddBackward0>)\n"
     ]
    },
    {
     "name": "stderr",
     "output_type": "stream",
     "text": [
      " 23%|██▎       | 6577/29000 [00:17<00:56, 398.59it/s]"
     ]
    },
    {
     "name": "stdout",
     "output_type": "stream",
     "text": [
      "Sigma:  tensor([[ 0.0479, -0.1846],\n",
      "        [-0.1846,  0.7901]], grad_fn=<MmBackward0>)\n",
      "obj:  tensor(-3.3667, grad_fn=<AddBackward0>)\n",
      "mle loss:  tensor(-4.7828, grad_fn=<AddBackward0>)\n",
      "h_val:  tensor(1.3426, grad_fn=<AddBackward0>)\n"
     ]
    },
    {
     "name": "stderr",
     "output_type": "stream",
     "text": [
      " 23%|██▎       | 6657/29000 [00:17<00:57, 389.88it/s]"
     ]
    },
    {
     "name": "stdout",
     "output_type": "stream",
     "text": [
      "Sigma:  tensor([[ 0.0461, -0.1837],\n",
      "        [-0.1837,  0.8072]], grad_fn=<MmBackward0>)\n",
      "obj:  tensor(-3.4327, grad_fn=<AddBackward0>)\n",
      "mle loss:  tensor(-4.8611, grad_fn=<AddBackward0>)\n",
      "h_val:  tensor(1.3547, grad_fn=<AddBackward0>)\n"
     ]
    },
    {
     "name": "stderr",
     "output_type": "stream",
     "text": [
      " 23%|██▎       | 6779/29000 [00:17<00:56, 391.80it/s]"
     ]
    },
    {
     "name": "stdout",
     "output_type": "stream",
     "text": [
      "Sigma:  tensor([[ 0.0444, -0.1827],\n",
      "        [-0.1827,  0.8242]], grad_fn=<MmBackward0>)\n",
      "obj:  tensor(-3.4985, grad_fn=<AddBackward0>)\n",
      "mle loss:  tensor(-4.9393, grad_fn=<AddBackward0>)\n",
      "h_val:  tensor(1.3670, grad_fn=<AddBackward0>)\n"
     ]
    },
    {
     "name": "stderr",
     "output_type": "stream",
     "text": [
      " 24%|██▎       | 6858/29000 [00:18<00:57, 384.50it/s]"
     ]
    },
    {
     "name": "stdout",
     "output_type": "stream",
     "text": [
      "Sigma:  tensor([[ 0.0427, -0.1817],\n",
      "        [-0.1817,  0.8410]], grad_fn=<MmBackward0>)\n",
      "obj:  tensor(-3.5639, grad_fn=<AddBackward0>)\n",
      "mle loss:  tensor(-5.0174, grad_fn=<AddBackward0>)\n",
      "h_val:  tensor(1.3794, grad_fn=<AddBackward0>)\n"
     ]
    },
    {
     "name": "stderr",
     "output_type": "stream",
     "text": [
      " 24%|██▍       | 6980/29000 [00:18<00:55, 396.53it/s]"
     ]
    },
    {
     "name": "stdout",
     "output_type": "stream",
     "text": [
      "Sigma:  tensor([[ 0.0412, -0.1805],\n",
      "        [-0.1805,  0.8577]], grad_fn=<MmBackward0>)\n",
      "obj:  tensor(-3.6291, grad_fn=<AddBackward0>)\n",
      "mle loss:  tensor(-5.0953, grad_fn=<AddBackward0>)\n",
      "h_val:  tensor(1.3921, grad_fn=<AddBackward0>)\n"
     ]
    },
    {
     "name": "stderr",
     "output_type": "stream",
     "text": [
      " 25%|██▍       | 7147/29000 [00:18<00:53, 409.32it/s]"
     ]
    },
    {
     "name": "stdout",
     "output_type": "stream",
     "text": [
      "Sigma:  tensor([[ 0.0394, -0.1761],\n",
      "        [-0.1761,  0.8489]], grad_fn=<MmBackward0>)\n",
      "obj:  tensor(0.7011, grad_fn=<AddBackward0>)\n",
      "mle loss:  tensor(-4.2118, grad_fn=<AddBackward0>)\n",
      "h_val:  tensor(1.1151, grad_fn=<AddBackward0>)\n"
     ]
    },
    {
     "name": "stderr",
     "output_type": "stream",
     "text": [
      " 25%|██▌       | 7275/29000 [00:19<00:53, 402.92it/s]"
     ]
    },
    {
     "name": "stdout",
     "output_type": "stream",
     "text": [
      "Sigma:  tensor([[ 0.0409, -0.1752],\n",
      "        [-0.1752,  0.8113]], grad_fn=<MmBackward0>)\n",
      "obj:  tensor(0.6137, grad_fn=<AddBackward0>)\n",
      "mle loss:  tensor(-3.6351, grad_fn=<AddBackward0>)\n",
      "h_val:  tensor(0.9700, grad_fn=<AddBackward0>)\n"
     ]
    },
    {
     "name": "stderr",
     "output_type": "stream",
     "text": [
      " 25%|██▌       | 7356/29000 [00:19<00:55, 392.79it/s]"
     ]
    },
    {
     "name": "stdout",
     "output_type": "stream",
     "text": [
      "Sigma:  tensor([[ 0.0427, -0.1745],\n",
      "        [-0.1745,  0.7735]], grad_fn=<MmBackward0>)\n",
      "obj:  tensor(0.5404, grad_fn=<AddBackward0>)\n",
      "mle loss:  tensor(-3.9389, grad_fn=<AddBackward0>)\n",
      "h_val:  tensor(0.9269, grad_fn=<AddBackward0>)\n"
     ]
    },
    {
     "name": "stderr",
     "output_type": "stream",
     "text": [
      " 26%|██▌       | 7479/29000 [00:19<00:54, 397.09it/s]"
     ]
    },
    {
     "name": "stdout",
     "output_type": "stream",
     "text": [
      "Sigma:  tensor([[ 0.0444, -0.1738],\n",
      "        [-0.1738,  0.7400]], grad_fn=<MmBackward0>)\n",
      "obj:  tensor(0.4884, grad_fn=<AddBackward0>)\n",
      "mle loss:  tensor(-3.9493, grad_fn=<AddBackward0>)\n",
      "h_val:  tensor(0.8760, grad_fn=<AddBackward0>)\n"
     ]
    },
    {
     "name": "stderr",
     "output_type": "stream",
     "text": [
      " 26%|██▌       | 7559/29000 [00:19<00:54, 392.80it/s]"
     ]
    },
    {
     "name": "stdout",
     "output_type": "stream",
     "text": [
      "Sigma:  tensor([[ 0.0458, -0.1731],\n",
      "        [-0.1731,  0.7106]], grad_fn=<MmBackward0>)\n",
      "obj:  tensor(0.4469, grad_fn=<AddBackward0>)\n",
      "mle loss:  tensor(-3.7312, grad_fn=<AddBackward0>)\n",
      "h_val:  tensor(0.8126, grad_fn=<AddBackward0>)\n"
     ]
    },
    {
     "name": "stderr",
     "output_type": "stream",
     "text": [
      " 26%|██▋       | 7638/29000 [00:20<00:56, 377.28it/s]"
     ]
    },
    {
     "name": "stdout",
     "output_type": "stream",
     "text": [
      "Sigma:  tensor([[ 0.0474, -0.1724],\n",
      "        [-0.1724,  0.6823]], grad_fn=<MmBackward0>)\n",
      "obj:  tensor(0.4160, grad_fn=<AddBackward0>)\n",
      "mle loss:  tensor(-3.5986, grad_fn=<AddBackward0>)\n",
      "h_val:  tensor(0.7683, grad_fn=<AddBackward0>)\n"
     ]
    },
    {
     "name": "stderr",
     "output_type": "stream",
     "text": [
      " 27%|██▋       | 7764/29000 [00:20<00:54, 391.87it/s]"
     ]
    },
    {
     "name": "stdout",
     "output_type": "stream",
     "text": [
      "Sigma:  tensor([[ 0.0490, -0.1717],\n",
      "        [-0.1717,  0.6554]], grad_fn=<MmBackward0>)\n",
      "obj:  tensor(0.3925, grad_fn=<AddBackward0>)\n",
      "mle loss:  tensor(-3.5324, grad_fn=<AddBackward0>)\n",
      "h_val:  tensor(0.7381, grad_fn=<AddBackward0>)\n"
     ]
    },
    {
     "name": "stderr",
     "output_type": "stream",
     "text": [
      " 27%|██▋       | 7844/29000 [00:20<00:54, 388.31it/s]"
     ]
    },
    {
     "name": "stdout",
     "output_type": "stream",
     "text": [
      "Sigma:  tensor([[ 0.0505, -0.1712],\n",
      "        [-0.1712,  0.6315]], grad_fn=<MmBackward0>)\n",
      "obj:  tensor(0.3741, grad_fn=<AddBackward0>)\n",
      "mle loss:  tensor(-3.4355, grad_fn=<AddBackward0>)\n",
      "h_val:  tensor(0.7099, grad_fn=<AddBackward0>)\n"
     ]
    },
    {
     "name": "stderr",
     "output_type": "stream",
     "text": [
      " 27%|██▋       | 7968/29000 [00:20<00:53, 392.93it/s]"
     ]
    },
    {
     "name": "stdout",
     "output_type": "stream",
     "text": [
      "Sigma:  tensor([[ 0.0520, -0.1708],\n",
      "        [-0.1708,  0.6099]], grad_fn=<MmBackward0>)\n",
      "obj:  tensor(0.3594, grad_fn=<AddBackward0>)\n",
      "mle loss:  tensor(-3.3462, grad_fn=<AddBackward0>)\n",
      "h_val:  tensor(0.6862, grad_fn=<AddBackward0>)\n"
     ]
    },
    {
     "name": "stderr",
     "output_type": "stream",
     "text": [
      " 28%|██▊       | 8048/29000 [00:21<00:53, 388.10it/s]"
     ]
    },
    {
     "name": "stdout",
     "output_type": "stream",
     "text": [
      "Sigma:  tensor([[ 0.0535, -0.1705],\n",
      "        [-0.1705,  0.5897]], grad_fn=<MmBackward0>)\n",
      "obj:  tensor(0.3475, grad_fn=<AddBackward0>)\n",
      "mle loss:  tensor(-3.2880, grad_fn=<AddBackward0>)\n",
      "h_val:  tensor(0.6684, grad_fn=<AddBackward0>)\n"
     ]
    },
    {
     "name": "stderr",
     "output_type": "stream",
     "text": [
      " 28%|██▊       | 8173/29000 [00:21<00:52, 396.48it/s]"
     ]
    },
    {
     "name": "stdout",
     "output_type": "stream",
     "text": [
      "Sigma:  tensor([[ 0.0551, -0.1703],\n",
      "        [-0.1703,  0.5712]], grad_fn=<MmBackward0>)\n",
      "obj:  tensor(0.3376, grad_fn=<AddBackward0>)\n",
      "mle loss:  tensor(-3.2388, grad_fn=<AddBackward0>)\n",
      "h_val:  tensor(0.6535, grad_fn=<AddBackward0>)\n"
     ]
    },
    {
     "name": "stderr",
     "output_type": "stream",
     "text": [
      " 28%|██▊       | 8253/29000 [00:21<00:53, 389.18it/s]"
     ]
    },
    {
     "name": "stdout",
     "output_type": "stream",
     "text": [
      "Sigma:  tensor([[ 0.0567, -0.1702],\n",
      "        [-0.1702,  0.5541]], grad_fn=<MmBackward0>)\n",
      "obj:  tensor(0.3288, grad_fn=<AddBackward0>)\n",
      "mle loss:  tensor(-3.2006, grad_fn=<AddBackward0>)\n",
      "h_val:  tensor(0.6410, grad_fn=<AddBackward0>)\n"
     ]
    },
    {
     "name": "stderr",
     "output_type": "stream",
     "text": [
      " 29%|██▉       | 8376/29000 [00:22<00:52, 395.83it/s]"
     ]
    },
    {
     "name": "stdout",
     "output_type": "stream",
     "text": [
      "Sigma:  tensor([[ 0.0583, -0.1702],\n",
      "        [-0.1702,  0.5380]], grad_fn=<MmBackward0>)\n",
      "obj:  tensor(0.3207, grad_fn=<AddBackward0>)\n",
      "mle loss:  tensor(-3.1802, grad_fn=<AddBackward0>)\n",
      "h_val:  tensor(0.6309, grad_fn=<AddBackward0>)\n"
     ]
    },
    {
     "name": "stderr",
     "output_type": "stream",
     "text": [
      " 29%|██▉       | 8455/29000 [00:22<00:56, 365.78it/s]"
     ]
    },
    {
     "name": "stdout",
     "output_type": "stream",
     "text": [
      "Sigma:  tensor([[ 0.0601, -0.1704],\n",
      "        [-0.1704,  0.5231]], grad_fn=<MmBackward0>)\n",
      "obj:  tensor(0.3130, grad_fn=<AddBackward0>)\n",
      "mle loss:  tensor(-3.1728, grad_fn=<AddBackward0>)\n",
      "h_val:  tensor(0.6224, grad_fn=<AddBackward0>)\n"
     ]
    },
    {
     "name": "stderr",
     "output_type": "stream",
     "text": [
      " 30%|██▉       | 8574/29000 [00:22<00:52, 387.44it/s]"
     ]
    },
    {
     "name": "stdout",
     "output_type": "stream",
     "text": [
      "Sigma:  tensor([[ 0.0619, -0.1707],\n",
      "        [-0.1707,  0.5090]], grad_fn=<MmBackward0>)\n",
      "obj:  tensor(0.3054, grad_fn=<AddBackward0>)\n",
      "mle loss:  tensor(-3.1776, grad_fn=<AddBackward0>)\n",
      "h_val:  tensor(0.6154, grad_fn=<AddBackward0>)\n"
     ]
    },
    {
     "name": "stderr",
     "output_type": "stream",
     "text": [
      " 30%|██▉       | 8654/29000 [00:22<00:52, 387.06it/s]"
     ]
    },
    {
     "name": "stdout",
     "output_type": "stream",
     "text": [
      "Sigma:  tensor([[ 0.0637, -0.1710],\n",
      "        [-0.1710,  0.4956]], grad_fn=<MmBackward0>)\n",
      "obj:  tensor(0.2981, grad_fn=<AddBackward0>)\n",
      "mle loss:  tensor(-3.1920, grad_fn=<AddBackward0>)\n",
      "h_val:  tensor(0.6095, grad_fn=<AddBackward0>)\n"
     ]
    },
    {
     "name": "stderr",
     "output_type": "stream",
     "text": [
      " 30%|███       | 8776/29000 [00:23<00:50, 396.64it/s]"
     ]
    },
    {
     "name": "stdout",
     "output_type": "stream",
     "text": [
      "Sigma:  tensor([[ 0.0656, -0.1715],\n",
      "        [-0.1715,  0.4829]], grad_fn=<MmBackward0>)\n",
      "obj:  tensor(0.2908, grad_fn=<AddBackward0>)\n",
      "mle loss:  tensor(-3.2114, grad_fn=<AddBackward0>)\n",
      "h_val:  tensor(0.6042, grad_fn=<AddBackward0>)\n"
     ]
    },
    {
     "name": "stderr",
     "output_type": "stream",
     "text": [
      " 31%|███       | 8855/29000 [00:23<00:54, 372.13it/s]"
     ]
    },
    {
     "name": "stdout",
     "output_type": "stream",
     "text": [
      "Sigma:  tensor([[ 0.0677, -0.1719],\n",
      "        [-0.1719,  0.4707]], grad_fn=<MmBackward0>)\n",
      "obj:  tensor(0.2838, grad_fn=<AddBackward0>)\n",
      "mle loss:  tensor(-3.2336, grad_fn=<AddBackward0>)\n",
      "h_val:  tensor(0.5995, grad_fn=<AddBackward0>)\n"
     ]
    },
    {
     "name": "stderr",
     "output_type": "stream",
     "text": [
      " 31%|███       | 8973/29000 [00:23<00:52, 380.32it/s]"
     ]
    },
    {
     "name": "stdout",
     "output_type": "stream",
     "text": [
      "Sigma:  tensor([[ 0.0697, -0.1725],\n",
      "        [-0.1725,  0.4590]], grad_fn=<MmBackward0>)\n",
      "obj:  tensor(0.2770, grad_fn=<AddBackward0>)\n",
      "mle loss:  tensor(-3.2565, grad_fn=<AddBackward0>)\n",
      "h_val:  tensor(0.5949, grad_fn=<AddBackward0>)\n"
     ]
    },
    {
     "name": "stderr",
     "output_type": "stream",
     "text": [
      " 31%|███       | 9051/29000 [00:23<00:52, 381.22it/s]"
     ]
    },
    {
     "name": "stdout",
     "output_type": "stream",
     "text": [
      "Sigma:  tensor([[ 0.0719, -0.1731],\n",
      "        [-0.1731,  0.4478]], grad_fn=<MmBackward0>)\n",
      "obj:  tensor(0.2703, grad_fn=<AddBackward0>)\n",
      "mle loss:  tensor(-3.2795, grad_fn=<AddBackward0>)\n",
      "h_val:  tensor(0.5906, grad_fn=<AddBackward0>)\n"
     ]
    },
    {
     "name": "stderr",
     "output_type": "stream",
     "text": [
      " 32%|███▏      | 9174/29000 [00:24<00:49, 396.89it/s]"
     ]
    },
    {
     "name": "stdout",
     "output_type": "stream",
     "text": [
      "Sigma:  tensor([[ 0.0741, -0.1738],\n",
      "        [-0.1738,  0.4373]], grad_fn=<MmBackward0>)\n",
      "obj:  tensor(0.2639, grad_fn=<AddBackward0>)\n",
      "mle loss:  tensor(-3.3027, grad_fn=<AddBackward0>)\n",
      "h_val:  tensor(0.5866, grad_fn=<AddBackward0>)\n"
     ]
    },
    {
     "name": "stderr",
     "output_type": "stream",
     "text": [
      " 32%|███▏      | 9253/29000 [00:24<00:52, 377.09it/s]"
     ]
    },
    {
     "name": "stdout",
     "output_type": "stream",
     "text": [
      "Sigma:  tensor([[ 0.0764, -0.1746],\n",
      "        [-0.1746,  0.4273]], grad_fn=<MmBackward0>)\n",
      "obj:  tensor(0.2576, grad_fn=<AddBackward0>)\n",
      "mle loss:  tensor(-3.3262, grad_fn=<AddBackward0>)\n",
      "h_val:  tensor(0.5827, grad_fn=<AddBackward0>)\n"
     ]
    },
    {
     "name": "stderr",
     "output_type": "stream",
     "text": [
      " 32%|███▏      | 9371/29000 [00:24<00:50, 385.27it/s]"
     ]
    },
    {
     "name": "stdout",
     "output_type": "stream",
     "text": [
      "Sigma:  tensor([[ 0.0788, -0.1754],\n",
      "        [-0.1754,  0.4180]], grad_fn=<MmBackward0>)\n",
      "obj:  tensor(0.2516, grad_fn=<AddBackward0>)\n",
      "mle loss:  tensor(-3.3501, grad_fn=<AddBackward0>)\n",
      "h_val:  tensor(0.5791, grad_fn=<AddBackward0>)\n"
     ]
    },
    {
     "name": "stderr",
     "output_type": "stream",
     "text": [
      " 33%|███▎      | 9447/29000 [00:24<00:53, 366.12it/s]"
     ]
    },
    {
     "name": "stdout",
     "output_type": "stream",
     "text": [
      "Sigma:  tensor([[ 0.0812, -0.1764],\n",
      "        [-0.1764,  0.4094]], grad_fn=<MmBackward0>)\n",
      "obj:  tensor(0.2457, grad_fn=<AddBackward0>)\n",
      "mle loss:  tensor(-3.3749, grad_fn=<AddBackward0>)\n",
      "h_val:  tensor(0.5758, grad_fn=<AddBackward0>)\n"
     ]
    },
    {
     "name": "stderr",
     "output_type": "stream",
     "text": [
      " 33%|███▎      | 9568/29000 [00:25<00:50, 387.68it/s]"
     ]
    },
    {
     "name": "stdout",
     "output_type": "stream",
     "text": [
      "Sigma:  tensor([[ 0.0837, -0.1774],\n",
      "        [-0.1774,  0.4015]], grad_fn=<MmBackward0>)\n",
      "obj:  tensor(0.2401, grad_fn=<AddBackward0>)\n",
      "mle loss:  tensor(-3.4007, grad_fn=<AddBackward0>)\n",
      "h_val:  tensor(0.5727, grad_fn=<AddBackward0>)\n"
     ]
    },
    {
     "name": "stderr",
     "output_type": "stream",
     "text": [
      " 33%|███▎      | 9646/29000 [00:25<00:50, 380.86it/s]"
     ]
    },
    {
     "name": "stdout",
     "output_type": "stream",
     "text": [
      "Sigma:  tensor([[ 0.0863, -0.1786],\n",
      "        [-0.1786,  0.3942]], grad_fn=<MmBackward0>)\n",
      "obj:  tensor(0.2346, grad_fn=<AddBackward0>)\n",
      "mle loss:  tensor(-3.4278, grad_fn=<AddBackward0>)\n",
      "h_val:  tensor(0.5700, grad_fn=<AddBackward0>)\n"
     ]
    },
    {
     "name": "stderr",
     "output_type": "stream",
     "text": [
      " 34%|███▎      | 9770/29000 [00:25<00:49, 390.77it/s]"
     ]
    },
    {
     "name": "stdout",
     "output_type": "stream",
     "text": [
      "Sigma:  tensor([[ 0.0889, -0.1799],\n",
      "        [-0.1799,  0.3877]], grad_fn=<MmBackward0>)\n",
      "obj:  tensor(0.2293, grad_fn=<AddBackward0>)\n",
      "mle loss:  tensor(-3.4561, grad_fn=<AddBackward0>)\n",
      "h_val:  tensor(0.5676, grad_fn=<AddBackward0>)\n"
     ]
    },
    {
     "name": "stderr",
     "output_type": "stream",
     "text": [
      " 34%|███▍      | 9849/29000 [00:25<00:50, 379.23it/s]"
     ]
    },
    {
     "name": "stdout",
     "output_type": "stream",
     "text": [
      "Sigma:  tensor([[ 0.0915, -0.1814],\n",
      "        [-0.1814,  0.3818]], grad_fn=<MmBackward0>)\n",
      "obj:  tensor(0.2242, grad_fn=<AddBackward0>)\n",
      "mle loss:  tensor(-3.4859, grad_fn=<AddBackward0>)\n",
      "h_val:  tensor(0.5655, grad_fn=<AddBackward0>)\n"
     ]
    },
    {
     "name": "stderr",
     "output_type": "stream",
     "text": [
      " 34%|███▍      | 9972/29000 [00:26<00:47, 396.75it/s]"
     ]
    },
    {
     "name": "stdout",
     "output_type": "stream",
     "text": [
      "Sigma:  tensor([[ 0.0942, -0.1829],\n",
      "        [-0.1829,  0.3765]], grad_fn=<MmBackward0>)\n",
      "obj:  tensor(0.2192, grad_fn=<AddBackward0>)\n",
      "mle loss:  tensor(-3.5169, grad_fn=<AddBackward0>)\n",
      "h_val:  tensor(0.5636, grad_fn=<AddBackward0>)\n"
     ]
    },
    {
     "name": "stderr",
     "output_type": "stream",
     "text": [
      " 35%|███▍      | 10051/29000 [00:26<00:49, 379.00it/s]"
     ]
    },
    {
     "name": "stdout",
     "output_type": "stream",
     "text": [
      "Sigma:  tensor([[ 0.0970, -0.1846],\n",
      "        [-0.1846,  0.3719]], grad_fn=<MmBackward0>)\n",
      "obj:  tensor(0.2144, grad_fn=<AddBackward0>)\n",
      "mle loss:  tensor(-3.5493, grad_fn=<AddBackward0>)\n",
      "h_val:  tensor(0.5621, grad_fn=<AddBackward0>)\n"
     ]
    },
    {
     "name": "stderr",
     "output_type": "stream",
     "text": [
      " 35%|███▌      | 10173/29000 [00:26<00:48, 391.44it/s]"
     ]
    },
    {
     "name": "stdout",
     "output_type": "stream",
     "text": [
      "Sigma:  tensor([[ 0.0998, -0.1863],\n",
      "        [-0.1863,  0.3679]], grad_fn=<MmBackward0>)\n",
      "obj:  tensor(0.2097, grad_fn=<AddBackward0>)\n",
      "mle loss:  tensor(-3.5831, grad_fn=<AddBackward0>)\n",
      "h_val:  tensor(0.5608, grad_fn=<AddBackward0>)\n"
     ]
    },
    {
     "name": "stderr",
     "output_type": "stream",
     "text": [
      " 35%|███▌      | 10252/29000 [00:26<00:49, 381.44it/s]"
     ]
    },
    {
     "name": "stdout",
     "output_type": "stream",
     "text": [
      "Sigma:  tensor([[ 0.1026, -0.1882],\n",
      "        [-0.1882,  0.3644]], grad_fn=<MmBackward0>)\n",
      "obj:  tensor(0.2052, grad_fn=<AddBackward0>)\n",
      "mle loss:  tensor(-3.6181, grad_fn=<AddBackward0>)\n",
      "h_val:  tensor(0.5597, grad_fn=<AddBackward0>)\n"
     ]
    },
    {
     "name": "stderr",
     "output_type": "stream",
     "text": [
      " 36%|███▌      | 10375/29000 [00:27<00:47, 393.73it/s]"
     ]
    },
    {
     "name": "stdout",
     "output_type": "stream",
     "text": [
      "Sigma:  tensor([[ 0.1054, -0.1902],\n",
      "        [-0.1902,  0.3613]], grad_fn=<MmBackward0>)\n",
      "obj:  tensor(0.2007, grad_fn=<AddBackward0>)\n",
      "mle loss:  tensor(-3.6543, grad_fn=<AddBackward0>)\n",
      "h_val:  tensor(0.5589, grad_fn=<AddBackward0>)\n"
     ]
    },
    {
     "name": "stderr",
     "output_type": "stream",
     "text": [
      " 36%|███▌      | 10454/29000 [00:27<00:48, 382.96it/s]"
     ]
    },
    {
     "name": "stdout",
     "output_type": "stream",
     "text": [
      "Sigma:  tensor([[ 0.1082, -0.1922],\n",
      "        [-0.1922,  0.3587]], grad_fn=<MmBackward0>)\n",
      "obj:  tensor(0.1964, grad_fn=<AddBackward0>)\n",
      "mle loss:  tensor(-3.6915, grad_fn=<AddBackward0>)\n",
      "h_val:  tensor(0.5583, grad_fn=<AddBackward0>)\n"
     ]
    },
    {
     "name": "stderr",
     "output_type": "stream",
     "text": [
      " 36%|███▋      | 10575/29000 [00:27<00:47, 391.85it/s]"
     ]
    },
    {
     "name": "stdout",
     "output_type": "stream",
     "text": [
      "Sigma:  tensor([[ 0.1111, -0.1942],\n",
      "        [-0.1942,  0.3565]], grad_fn=<MmBackward0>)\n",
      "obj:  tensor(0.1921, grad_fn=<AddBackward0>)\n",
      "mle loss:  tensor(-3.7298, grad_fn=<AddBackward0>)\n",
      "h_val:  tensor(0.5579, grad_fn=<AddBackward0>)\n"
     ]
    },
    {
     "name": "stderr",
     "output_type": "stream",
     "text": [
      " 37%|███▋      | 10615/29000 [00:27<00:48, 382.00it/s]"
     ]
    },
    {
     "name": "stdout",
     "output_type": "stream",
     "text": [
      "Sigma:  tensor([[ 0.1139, -0.1964],\n",
      "        [-0.1964,  0.3545]], grad_fn=<MmBackward0>)\n",
      "obj:  tensor(0.1880, grad_fn=<AddBackward0>)\n",
      "mle loss:  tensor(-3.7689, grad_fn=<AddBackward0>)\n",
      "h_val:  tensor(0.5577, grad_fn=<AddBackward0>)\n"
     ]
    },
    {
     "name": "stderr",
     "output_type": "stream",
     "text": [
      " 37%|███▋      | 10773/29000 [00:28<00:56, 325.00it/s]"
     ]
    },
    {
     "name": "stdout",
     "output_type": "stream",
     "text": [
      "Sigma:  tensor([[ 0.1168, -0.1985],\n",
      "        [-0.1985,  0.3528]], grad_fn=<MmBackward0>)\n",
      "obj:  tensor(0.1839, grad_fn=<AddBackward0>)\n",
      "mle loss:  tensor(-3.8088, grad_fn=<AddBackward0>)\n",
      "h_val:  tensor(0.5576, grad_fn=<AddBackward0>)\n"
     ]
    },
    {
     "name": "stderr",
     "output_type": "stream",
     "text": [
      " 37%|███▋      | 10848/29000 [00:28<00:52, 344.68it/s]"
     ]
    },
    {
     "name": "stdout",
     "output_type": "stream",
     "text": [
      "Sigma:  tensor([[ 0.1196, -0.2006],\n",
      "        [-0.2006,  0.3513]], grad_fn=<MmBackward0>)\n",
      "obj:  tensor(0.1799, grad_fn=<AddBackward0>)\n",
      "mle loss:  tensor(-3.8493, grad_fn=<AddBackward0>)\n",
      "h_val:  tensor(0.5577, grad_fn=<AddBackward0>)\n"
     ]
    },
    {
     "name": "stderr",
     "output_type": "stream",
     "text": [
      " 38%|███▊      | 10967/29000 [00:29<00:48, 373.51it/s]"
     ]
    },
    {
     "name": "stdout",
     "output_type": "stream",
     "text": [
      "Sigma:  tensor([[ 0.1224, -0.2027],\n",
      "        [-0.2027,  0.3500]], grad_fn=<MmBackward0>)\n",
      "obj:  tensor(0.1760, grad_fn=<AddBackward0>)\n",
      "mle loss:  tensor(-3.8903, grad_fn=<AddBackward0>)\n",
      "h_val:  tensor(0.5579, grad_fn=<AddBackward0>)\n"
     ]
    },
    {
     "name": "stderr",
     "output_type": "stream",
     "text": [
      " 38%|███▊      | 11044/29000 [00:29<00:48, 370.36it/s]"
     ]
    },
    {
     "name": "stdout",
     "output_type": "stream",
     "text": [
      "Sigma:  tensor([[ 0.1251, -0.2048],\n",
      "        [-0.2048,  0.3489]], grad_fn=<MmBackward0>)\n",
      "obj:  tensor(0.1722, grad_fn=<AddBackward0>)\n",
      "mle loss:  tensor(-3.9319, grad_fn=<AddBackward0>)\n",
      "h_val:  tensor(0.5582, grad_fn=<AddBackward0>)\n"
     ]
    },
    {
     "name": "stderr",
     "output_type": "stream",
     "text": [
      " 39%|███▊      | 11168/29000 [00:29<00:46, 386.15it/s]"
     ]
    },
    {
     "name": "stdout",
     "output_type": "stream",
     "text": [
      "Sigma:  tensor([[ 0.1278, -0.2068],\n",
      "        [-0.2068,  0.3478]], grad_fn=<MmBackward0>)\n",
      "obj:  tensor(0.1684, grad_fn=<AddBackward0>)\n",
      "mle loss:  tensor(-3.9738, grad_fn=<AddBackward0>)\n",
      "h_val:  tensor(0.5586, grad_fn=<AddBackward0>)\n"
     ]
    },
    {
     "name": "stderr",
     "output_type": "stream",
     "text": [
      " 39%|███▉      | 11246/29000 [00:29<00:46, 379.99it/s]"
     ]
    },
    {
     "name": "stdout",
     "output_type": "stream",
     "text": [
      "Sigma:  tensor([[ 0.1304, -0.2088],\n",
      "        [-0.2088,  0.3468]], grad_fn=<MmBackward0>)\n",
      "obj:  tensor(0.1646, grad_fn=<AddBackward0>)\n",
      "mle loss:  tensor(-4.0162, grad_fn=<AddBackward0>)\n",
      "h_val:  tensor(0.5591, grad_fn=<AddBackward0>)\n"
     ]
    },
    {
     "name": "stderr",
     "output_type": "stream",
     "text": [
      " 39%|███▉      | 11371/29000 [00:30<00:44, 395.27it/s]"
     ]
    },
    {
     "name": "stdout",
     "output_type": "stream",
     "text": [
      "Sigma:  tensor([[ 0.1330, -0.2107],\n",
      "        [-0.2107,  0.3460]], grad_fn=<MmBackward0>)\n",
      "obj:  tensor(0.1609, grad_fn=<AddBackward0>)\n",
      "mle loss:  tensor(-4.0590, grad_fn=<AddBackward0>)\n",
      "h_val:  tensor(0.5597, grad_fn=<AddBackward0>)\n"
     ]
    },
    {
     "name": "stderr",
     "output_type": "stream",
     "text": [
      " 39%|███▉      | 11450/29000 [00:30<00:45, 385.04it/s]"
     ]
    },
    {
     "name": "stdout",
     "output_type": "stream",
     "text": [
      "Sigma:  tensor([[ 0.1354, -0.2126],\n",
      "        [-0.2126,  0.3452]], grad_fn=<MmBackward0>)\n",
      "obj:  tensor(0.1573, grad_fn=<AddBackward0>)\n",
      "mle loss:  tensor(-4.1022, grad_fn=<AddBackward0>)\n",
      "h_val:  tensor(0.5604, grad_fn=<AddBackward0>)\n"
     ]
    },
    {
     "name": "stderr",
     "output_type": "stream",
     "text": [
      " 40%|███▉      | 11572/29000 [00:30<00:45, 381.23it/s]"
     ]
    },
    {
     "name": "stdout",
     "output_type": "stream",
     "text": [
      "Sigma:  tensor([[ 0.1378, -0.2143],\n",
      "        [-0.2143,  0.3445]], grad_fn=<MmBackward0>)\n",
      "obj:  tensor(0.1536, grad_fn=<AddBackward0>)\n",
      "mle loss:  tensor(-4.1458, grad_fn=<AddBackward0>)\n",
      "h_val:  tensor(0.5611, grad_fn=<AddBackward0>)\n"
     ]
    },
    {
     "name": "stderr",
     "output_type": "stream",
     "text": [
      " 40%|████      | 11650/29000 [00:30<00:45, 378.25it/s]"
     ]
    },
    {
     "name": "stdout",
     "output_type": "stream",
     "text": [
      "Sigma:  tensor([[ 0.1401, -0.2161],\n",
      "        [-0.2161,  0.3439]], grad_fn=<MmBackward0>)\n",
      "obj:  tensor(0.1500, grad_fn=<AddBackward0>)\n",
      "mle loss:  tensor(-4.1898, grad_fn=<AddBackward0>)\n",
      "h_val:  tensor(0.5619, grad_fn=<AddBackward0>)\n"
     ]
    },
    {
     "name": "stderr",
     "output_type": "stream",
     "text": [
      " 41%|████      | 11773/29000 [00:31<00:43, 393.44it/s]"
     ]
    },
    {
     "name": "stdout",
     "output_type": "stream",
     "text": [
      "Sigma:  tensor([[ 0.1422, -0.2177],\n",
      "        [-0.2177,  0.3433]], grad_fn=<MmBackward0>)\n",
      "obj:  tensor(0.1464, grad_fn=<AddBackward0>)\n",
      "mle loss:  tensor(-4.2343, grad_fn=<AddBackward0>)\n",
      "h_val:  tensor(0.5627, grad_fn=<AddBackward0>)\n"
     ]
    },
    {
     "name": "stderr",
     "output_type": "stream",
     "text": [
      " 41%|████      | 11852/29000 [00:31<00:44, 384.05it/s]"
     ]
    },
    {
     "name": "stdout",
     "output_type": "stream",
     "text": [
      "Sigma:  tensor([[ 0.1442, -0.2192],\n",
      "        [-0.2192,  0.3429]], grad_fn=<MmBackward0>)\n",
      "obj:  tensor(0.1428, grad_fn=<AddBackward0>)\n",
      "mle loss:  tensor(-4.2792, grad_fn=<AddBackward0>)\n",
      "h_val:  tensor(0.5636, grad_fn=<AddBackward0>)\n"
     ]
    },
    {
     "name": "stderr",
     "output_type": "stream",
     "text": [
      " 41%|████▏     | 11975/29000 [00:31<00:42, 398.07it/s]"
     ]
    },
    {
     "name": "stdout",
     "output_type": "stream",
     "text": [
      "Sigma:  tensor([[ 0.1461, -0.2206],\n",
      "        [-0.2206,  0.3425]], grad_fn=<MmBackward0>)\n",
      "obj:  tensor(0.1392, grad_fn=<AddBackward0>)\n",
      "mle loss:  tensor(-4.3245, grad_fn=<AddBackward0>)\n",
      "h_val:  tensor(0.5645, grad_fn=<AddBackward0>)\n"
     ]
    },
    {
     "name": "stderr",
     "output_type": "stream",
     "text": [
      " 42%|████▏     | 12054/29000 [00:31<00:44, 384.81it/s]"
     ]
    },
    {
     "name": "stdout",
     "output_type": "stream",
     "text": [
      "Sigma:  tensor([[ 0.1479, -0.2219],\n",
      "        [-0.2219,  0.3421]], grad_fn=<MmBackward0>)\n",
      "obj:  tensor(0.1356, grad_fn=<AddBackward0>)\n",
      "mle loss:  tensor(-4.3704, grad_fn=<AddBackward0>)\n",
      "h_val:  tensor(0.5655, grad_fn=<AddBackward0>)\n"
     ]
    },
    {
     "name": "stderr",
     "output_type": "stream",
     "text": [
      " 42%|████▏     | 12170/29000 [00:32<00:45, 369.73it/s]"
     ]
    },
    {
     "name": "stdout",
     "output_type": "stream",
     "text": [
      "Sigma:  tensor([[ 0.1494, -0.2232],\n",
      "        [-0.2232,  0.3419]], grad_fn=<MmBackward0>)\n",
      "obj:  tensor(0.1320, grad_fn=<AddBackward0>)\n",
      "mle loss:  tensor(-4.4167, grad_fn=<AddBackward0>)\n",
      "h_val:  tensor(0.5665, grad_fn=<AddBackward0>)\n"
     ]
    },
    {
     "name": "stderr",
     "output_type": "stream",
     "text": [
      " 42%|████▏     | 12244/29000 [00:32<00:48, 344.99it/s]"
     ]
    },
    {
     "name": "stdout",
     "output_type": "stream",
     "text": [
      "Sigma:  tensor([[ 0.1509, -0.2243],\n",
      "        [-0.2243,  0.3417]], grad_fn=<MmBackward0>)\n",
      "obj:  tensor(0.1283, grad_fn=<AddBackward0>)\n",
      "mle loss:  tensor(-4.4636, grad_fn=<AddBackward0>)\n",
      "h_val:  tensor(0.5675, grad_fn=<AddBackward0>)\n"
     ]
    },
    {
     "name": "stderr",
     "output_type": "stream",
     "text": [
      " 43%|████▎     | 12357/29000 [00:32<00:46, 360.70it/s]"
     ]
    },
    {
     "name": "stdout",
     "output_type": "stream",
     "text": [
      "Sigma:  tensor([[ 0.1521, -0.2253],\n",
      "        [-0.2253,  0.3416]], grad_fn=<MmBackward0>)\n",
      "obj:  tensor(0.1246, grad_fn=<AddBackward0>)\n",
      "mle loss:  tensor(-4.5110, grad_fn=<AddBackward0>)\n",
      "h_val:  tensor(0.5686, grad_fn=<AddBackward0>)\n"
     ]
    },
    {
     "name": "stderr",
     "output_type": "stream",
     "text": [
      " 43%|████▎     | 12474/29000 [00:33<00:44, 374.25it/s]"
     ]
    },
    {
     "name": "stdout",
     "output_type": "stream",
     "text": [
      "Sigma:  tensor([[ 0.1532, -0.2262],\n",
      "        [-0.2262,  0.3415]], grad_fn=<MmBackward0>)\n",
      "obj:  tensor(0.1209, grad_fn=<AddBackward0>)\n",
      "mle loss:  tensor(-4.5589, grad_fn=<AddBackward0>)\n",
      "h_val:  tensor(0.5696, grad_fn=<AddBackward0>)\n"
     ]
    },
    {
     "name": "stderr",
     "output_type": "stream",
     "text": [
      " 43%|████▎     | 12548/29000 [00:33<00:47, 346.30it/s]"
     ]
    },
    {
     "name": "stdout",
     "output_type": "stream",
     "text": [
      "Sigma:  tensor([[ 0.1541, -0.2269],\n",
      "        [-0.2269,  0.3415]], grad_fn=<MmBackward0>)\n",
      "obj:  tensor(0.1171, grad_fn=<AddBackward0>)\n",
      "mle loss:  tensor(-4.6074, grad_fn=<AddBackward0>)\n",
      "h_val:  tensor(0.5707, grad_fn=<AddBackward0>)\n"
     ]
    },
    {
     "name": "stderr",
     "output_type": "stream",
     "text": [
      " 44%|████▎     | 12666/29000 [00:33<00:43, 373.95it/s]"
     ]
    },
    {
     "name": "stdout",
     "output_type": "stream",
     "text": [
      "Sigma:  tensor([[ 0.1548, -0.2276],\n",
      "        [-0.2276,  0.3416]], grad_fn=<MmBackward0>)\n",
      "obj:  tensor(0.1133, grad_fn=<AddBackward0>)\n",
      "mle loss:  tensor(-4.6564, grad_fn=<AddBackward0>)\n",
      "h_val:  tensor(0.5718, grad_fn=<AddBackward0>)\n"
     ]
    },
    {
     "name": "stderr",
     "output_type": "stream",
     "text": [
      " 44%|████▍     | 12748/29000 [00:33<00:41, 391.38it/s]"
     ]
    },
    {
     "name": "stdout",
     "output_type": "stream",
     "text": [
      "Sigma:  tensor([[ 0.1554, -0.2282],\n",
      "        [-0.2282,  0.3418]], grad_fn=<MmBackward0>)\n",
      "obj:  tensor(0.1094, grad_fn=<AddBackward0>)\n",
      "mle loss:  tensor(-4.7060, grad_fn=<AddBackward0>)\n",
      "h_val:  tensor(0.5729, grad_fn=<AddBackward0>)\n"
     ]
    },
    {
     "name": "stderr",
     "output_type": "stream",
     "text": [
      " 44%|████▍     | 12875/29000 [00:34<00:39, 407.54it/s]"
     ]
    },
    {
     "name": "stdout",
     "output_type": "stream",
     "text": [
      "Sigma:  tensor([[ 0.1558, -0.2286],\n",
      "        [-0.2286,  0.3420]], grad_fn=<MmBackward0>)\n",
      "obj:  tensor(0.1055, grad_fn=<AddBackward0>)\n",
      "mle loss:  tensor(-4.7562, grad_fn=<AddBackward0>)\n",
      "h_val:  tensor(0.5740, grad_fn=<AddBackward0>)\n"
     ]
    },
    {
     "name": "stderr",
     "output_type": "stream",
     "text": [
      " 45%|████▍     | 12958/29000 [00:34<00:39, 409.75it/s]"
     ]
    },
    {
     "name": "stdout",
     "output_type": "stream",
     "text": [
      "Sigma:  tensor([[ 0.1560, -0.2290],\n",
      "        [-0.2290,  0.3423]], grad_fn=<MmBackward0>)\n",
      "obj:  tensor(0.1015, grad_fn=<AddBackward0>)\n",
      "mle loss:  tensor(-4.8070, grad_fn=<AddBackward0>)\n",
      "h_val:  tensor(0.5750, grad_fn=<AddBackward0>)\n"
     ]
    },
    {
     "name": "stderr",
     "output_type": "stream",
     "text": [
      " 45%|████▌     | 13087/29000 [00:34<00:37, 422.27it/s]"
     ]
    },
    {
     "name": "stdout",
     "output_type": "stream",
     "text": [
      "Sigma:  tensor([[ 0.1561, -0.2293],\n",
      "        [-0.2293,  0.3426]], grad_fn=<MmBackward0>)\n",
      "obj:  tensor(0.0974, grad_fn=<AddBackward0>)\n",
      "mle loss:  tensor(-4.8583, grad_fn=<AddBackward0>)\n",
      "h_val:  tensor(0.5761, grad_fn=<AddBackward0>)\n"
     ]
    },
    {
     "name": "stderr",
     "output_type": "stream",
     "text": [
      " 45%|████▌     | 13172/29000 [00:34<00:37, 416.65it/s]"
     ]
    },
    {
     "name": "stdout",
     "output_type": "stream",
     "text": [
      "Sigma:  tensor([[ 0.1561, -0.2295],\n",
      "        [-0.2295,  0.3430]], grad_fn=<MmBackward0>)\n",
      "obj:  tensor(0.0933, grad_fn=<AddBackward0>)\n",
      "mle loss:  tensor(-4.9101, grad_fn=<AddBackward0>)\n",
      "h_val:  tensor(0.5772, grad_fn=<AddBackward0>)\n"
     ]
    },
    {
     "name": "stderr",
     "output_type": "stream",
     "text": [
      " 46%|████▌     | 13256/29000 [00:35<00:38, 410.83it/s]"
     ]
    },
    {
     "name": "stdout",
     "output_type": "stream",
     "text": [
      "Sigma:  tensor([[ 0.1559, -0.2296],\n",
      "        [-0.2296,  0.3435]], grad_fn=<MmBackward0>)\n",
      "obj:  tensor(0.0891, grad_fn=<AddBackward0>)\n",
      "mle loss:  tensor(-4.9625, grad_fn=<AddBackward0>)\n",
      "h_val:  tensor(0.5782, grad_fn=<AddBackward0>)\n"
     ]
    },
    {
     "name": "stderr",
     "output_type": "stream",
     "text": [
      " 46%|████▌     | 13387/29000 [00:35<00:36, 426.24it/s]"
     ]
    },
    {
     "name": "stdout",
     "output_type": "stream",
     "text": [
      "Sigma:  tensor([[ 0.1556, -0.2296],\n",
      "        [-0.2296,  0.3440]], grad_fn=<MmBackward0>)\n",
      "obj:  tensor(0.0849, grad_fn=<AddBackward0>)\n",
      "mle loss:  tensor(-5.0155, grad_fn=<AddBackward0>)\n",
      "h_val:  tensor(0.5793, grad_fn=<AddBackward0>)\n"
     ]
    },
    {
     "name": "stderr",
     "output_type": "stream",
     "text": [
      " 46%|████▋     | 13474/29000 [00:35<00:36, 425.17it/s]"
     ]
    },
    {
     "name": "stdout",
     "output_type": "stream",
     "text": [
      "Sigma:  tensor([[ 0.1552, -0.2296],\n",
      "        [-0.2296,  0.3446]], grad_fn=<MmBackward0>)\n",
      "obj:  tensor(0.0806, grad_fn=<AddBackward0>)\n",
      "mle loss:  tensor(-5.0690, grad_fn=<AddBackward0>)\n",
      "h_val:  tensor(0.5803, grad_fn=<AddBackward0>)\n"
     ]
    },
    {
     "name": "stderr",
     "output_type": "stream",
     "text": [
      " 47%|████▋     | 13561/29000 [00:35<00:36, 419.39it/s]"
     ]
    },
    {
     "name": "stdout",
     "output_type": "stream",
     "text": [
      "Sigma:  tensor([[ 0.1547, -0.2295],\n",
      "        [-0.2295,  0.3453]], grad_fn=<MmBackward0>)\n",
      "obj:  tensor(0.0762, grad_fn=<AddBackward0>)\n",
      "mle loss:  tensor(-5.1230, grad_fn=<AddBackward0>)\n",
      "h_val:  tensor(0.5814, grad_fn=<AddBackward0>)\n"
     ]
    },
    {
     "name": "stderr",
     "output_type": "stream",
     "text": [
      " 47%|████▋     | 13649/29000 [00:35<00:35, 427.85it/s]"
     ]
    },
    {
     "name": "stdout",
     "output_type": "stream",
     "text": [
      "Sigma:  tensor([[ 0.1541, -0.2294],\n",
      "        [-0.2294,  0.3460]], grad_fn=<MmBackward0>)\n",
      "obj:  tensor(0.0718, grad_fn=<AddBackward0>)\n",
      "mle loss:  tensor(-5.1774, grad_fn=<AddBackward0>)\n",
      "h_val:  tensor(0.5824, grad_fn=<AddBackward0>)\n"
     ]
    },
    {
     "name": "stderr",
     "output_type": "stream",
     "text": [
      " 48%|████▊     | 13783/29000 [00:36<00:34, 437.20it/s]"
     ]
    },
    {
     "name": "stdout",
     "output_type": "stream",
     "text": [
      "Sigma:  tensor([[ 0.1535, -0.2292],\n",
      "        [-0.2292,  0.3467]], grad_fn=<MmBackward0>)\n",
      "obj:  tensor(0.0673, grad_fn=<AddBackward0>)\n",
      "mle loss:  tensor(-5.2323, grad_fn=<AddBackward0>)\n",
      "h_val:  tensor(0.5834, grad_fn=<AddBackward0>)\n"
     ]
    },
    {
     "name": "stderr",
     "output_type": "stream",
     "text": [
      " 48%|████▊     | 13872/29000 [00:36<00:34, 439.12it/s]"
     ]
    },
    {
     "name": "stdout",
     "output_type": "stream",
     "text": [
      "Sigma:  tensor([[ 0.1528, -0.2290],\n",
      "        [-0.2290,  0.3475]], grad_fn=<MmBackward0>)\n",
      "obj:  tensor(0.0628, grad_fn=<AddBackward0>)\n",
      "mle loss:  tensor(-5.2876, grad_fn=<AddBackward0>)\n",
      "h_val:  tensor(0.5844, grad_fn=<AddBackward0>)\n"
     ]
    },
    {
     "name": "stderr",
     "output_type": "stream",
     "text": [
      " 48%|████▊     | 13961/29000 [00:36<00:34, 440.19it/s]"
     ]
    },
    {
     "name": "stdout",
     "output_type": "stream",
     "text": [
      "Sigma:  tensor([[ 0.1521, -0.2288],\n",
      "        [-0.2288,  0.3483]], grad_fn=<MmBackward0>)\n",
      "obj:  tensor(0.0582, grad_fn=<AddBackward0>)\n",
      "mle loss:  tensor(-5.3432, grad_fn=<AddBackward0>)\n",
      "h_val:  tensor(0.5854, grad_fn=<AddBackward0>)\n"
     ]
    },
    {
     "name": "stderr",
     "output_type": "stream",
     "text": [
      " 49%|████▉     | 14164/29000 [00:37<00:40, 366.70it/s]"
     ]
    },
    {
     "name": "stdout",
     "output_type": "stream",
     "text": [
      "Sigma:  tensor([[ 0.1492, -0.2242],\n",
      "        [-0.2242,  0.3408]], grad_fn=<MmBackward0>)\n",
      "obj:  tensor(0.4884, grad_fn=<AddBackward0>)\n",
      "mle loss:  tensor(-2.3440, grad_fn=<AddBackward0>)\n",
      "h_val:  tensor(0.5111, grad_fn=<AddBackward0>)\n"
     ]
    },
    {
     "name": "stderr",
     "output_type": "stream",
     "text": [
      " 49%|████▉     | 14238/29000 [00:37<00:41, 351.99it/s]"
     ]
    },
    {
     "name": "stdout",
     "output_type": "stream",
     "text": [
      "Sigma:  tensor([[ 0.1464, -0.2159],\n",
      "        [-0.2159,  0.3223]], grad_fn=<MmBackward0>)\n",
      "obj:  tensor(0.4822, grad_fn=<AddBackward0>)\n",
      "mle loss:  tensor(2.6774, grad_fn=<AddBackward0>)\n",
      "h_val:  tensor(0.4548, grad_fn=<AddBackward0>)\n"
     ]
    },
    {
     "name": "stderr",
     "output_type": "stream",
     "text": [
      " 50%|████▉     | 14355/29000 [00:37<00:38, 375.92it/s]"
     ]
    },
    {
     "name": "stdout",
     "output_type": "stream",
     "text": [
      "Sigma:  tensor([[ 0.1445, -0.2075],\n",
      "        [-0.2075,  0.3019]], grad_fn=<MmBackward0>)\n",
      "obj:  tensor(0.4658, grad_fn=<AddBackward0>)\n",
      "mle loss:  tensor(-0.1701, grad_fn=<AddBackward0>)\n",
      "h_val:  tensor(0.4669, grad_fn=<AddBackward0>)\n"
     ]
    },
    {
     "name": "stderr",
     "output_type": "stream",
     "text": [
      " 50%|████▉     | 14475/29000 [00:38<00:37, 387.20it/s]"
     ]
    },
    {
     "name": "stdout",
     "output_type": "stream",
     "text": [
      "Sigma:  tensor([[ 0.1412, -0.1989],\n",
      "        [-0.1989,  0.2844]], grad_fn=<MmBackward0>)\n",
      "obj:  tensor(0.4568, grad_fn=<AddBackward0>)\n",
      "mle loss:  tensor(-1.0495, grad_fn=<AddBackward0>)\n",
      "h_val:  tensor(0.4666, grad_fn=<AddBackward0>)\n"
     ]
    },
    {
     "name": "stderr",
     "output_type": "stream",
     "text": [
      " 50%|█████     | 14553/29000 [00:38<00:38, 379.13it/s]"
     ]
    },
    {
     "name": "stdout",
     "output_type": "stream",
     "text": [
      "Sigma:  tensor([[ 0.1378, -0.1905],\n",
      "        [-0.1905,  0.2673]], grad_fn=<MmBackward0>)\n",
      "obj:  tensor(0.4478, grad_fn=<AddBackward0>)\n",
      "mle loss:  tensor(0.6777, grad_fn=<AddBackward0>)\n",
      "h_val:  tensor(0.4404, grad_fn=<AddBackward0>)\n"
     ]
    },
    {
     "name": "stderr",
     "output_type": "stream",
     "text": [
      " 51%|█████     | 14674/29000 [00:38<00:36, 388.67it/s]"
     ]
    },
    {
     "name": "stdout",
     "output_type": "stream",
     "text": [
      "Sigma:  tensor([[ 0.1357, -0.1825],\n",
      "        [-0.1825,  0.2497]], grad_fn=<MmBackward0>)\n",
      "obj:  tensor(0.4410, grad_fn=<AddBackward0>)\n",
      "mle loss:  tensor(1.1876, grad_fn=<AddBackward0>)\n",
      "h_val:  tensor(0.4285, grad_fn=<AddBackward0>)\n"
     ]
    },
    {
     "name": "stderr",
     "output_type": "stream",
     "text": [
      " 51%|█████     | 14752/29000 [00:38<00:38, 371.74it/s]"
     ]
    },
    {
     "name": "stdout",
     "output_type": "stream",
     "text": [
      "Sigma:  tensor([[ 0.1332, -0.1750],\n",
      "        [-0.1750,  0.2344]], grad_fn=<MmBackward0>)\n",
      "obj:  tensor(0.4353, grad_fn=<AddBackward0>)\n",
      "mle loss:  tensor(1.0922, grad_fn=<AddBackward0>)\n",
      "h_val:  tensor(0.4237, grad_fn=<AddBackward0>)\n"
     ]
    },
    {
     "name": "stderr",
     "output_type": "stream",
     "text": [
      " 51%|█████▏    | 14872/29000 [00:39<00:36, 387.39it/s]"
     ]
    },
    {
     "name": "stdout",
     "output_type": "stream",
     "text": [
      "Sigma:  tensor([[ 0.1306, -0.1682],\n",
      "        [-0.1682,  0.2212]], grad_fn=<MmBackward0>)\n",
      "obj:  tensor(0.4302, grad_fn=<AddBackward0>)\n",
      "mle loss:  tensor(1.7341, grad_fn=<AddBackward0>)\n",
      "h_val:  tensor(0.4122, grad_fn=<AddBackward0>)\n"
     ]
    },
    {
     "name": "stderr",
     "output_type": "stream",
     "text": [
      " 52%|█████▏    | 14950/29000 [00:39<00:36, 382.45it/s]"
     ]
    },
    {
     "name": "stdout",
     "output_type": "stream",
     "text": [
      "Sigma:  tensor([[ 0.1288, -0.1619],\n",
      "        [-0.1619,  0.2085]], grad_fn=<MmBackward0>)\n",
      "obj:  tensor(0.4257, grad_fn=<AddBackward0>)\n",
      "mle loss:  tensor(2.2018, grad_fn=<AddBackward0>)\n",
      "h_val:  tensor(0.4030, grad_fn=<AddBackward0>)\n"
     ]
    },
    {
     "name": "stderr",
     "output_type": "stream",
     "text": [
      " 52%|█████▏    | 15071/29000 [00:39<00:35, 391.08it/s]"
     ]
    },
    {
     "name": "stdout",
     "output_type": "stream",
     "text": [
      "Sigma:  tensor([[ 0.1272, -0.1564],\n",
      "        [-0.1564,  0.1972]], grad_fn=<MmBackward0>)\n",
      "obj:  tensor(0.4213, grad_fn=<AddBackward0>)\n",
      "mle loss:  tensor(2.4810, grad_fn=<AddBackward0>)\n",
      "h_val:  tensor(0.3959, grad_fn=<AddBackward0>)\n"
     ]
    },
    {
     "name": "stderr",
     "output_type": "stream",
     "text": [
      " 52%|█████▏    | 15150/29000 [00:39<00:36, 382.90it/s]"
     ]
    },
    {
     "name": "stdout",
     "output_type": "stream",
     "text": [
      "Sigma:  tensor([[ 0.1259, -0.1516],\n",
      "        [-0.1516,  0.1876]], grad_fn=<MmBackward0>)\n",
      "obj:  tensor(0.4172, grad_fn=<AddBackward0>)\n",
      "mle loss:  tensor(2.8976, grad_fn=<AddBackward0>)\n",
      "h_val:  tensor(0.3875, grad_fn=<AddBackward0>)\n"
     ]
    },
    {
     "name": "stderr",
     "output_type": "stream",
     "text": [
      " 53%|█████▎    | 15272/29000 [00:40<00:34, 392.35it/s]"
     ]
    },
    {
     "name": "stdout",
     "output_type": "stream",
     "text": [
      "Sigma:  tensor([[ 0.1252, -0.1474],\n",
      "        [-0.1474,  0.1789]], grad_fn=<MmBackward0>)\n",
      "obj:  tensor(0.4131, grad_fn=<AddBackward0>)\n",
      "mle loss:  tensor(3.2611, grad_fn=<AddBackward0>)\n",
      "h_val:  tensor(0.3798, grad_fn=<AddBackward0>)\n"
     ]
    },
    {
     "name": "stderr",
     "output_type": "stream",
     "text": [
      " 53%|█████▎    | 15351/29000 [00:40<00:36, 369.68it/s]"
     ]
    },
    {
     "name": "stdout",
     "output_type": "stream",
     "text": [
      "Sigma:  tensor([[ 0.1249, -0.1438],\n",
      "        [-0.1438,  0.1713]], grad_fn=<MmBackward0>)\n",
      "obj:  tensor(0.4089, grad_fn=<AddBackward0>)\n",
      "mle loss:  tensor(3.5977, grad_fn=<AddBackward0>)\n",
      "h_val:  tensor(0.3723, grad_fn=<AddBackward0>)\n"
     ]
    },
    {
     "name": "stderr",
     "output_type": "stream",
     "text": [
      " 53%|█████▎    | 15470/29000 [00:40<00:35, 384.98it/s]"
     ]
    },
    {
     "name": "stdout",
     "output_type": "stream",
     "text": [
      "Sigma:  tensor([[ 0.1249, -0.1409],\n",
      "        [-0.1409,  0.1648]], grad_fn=<MmBackward0>)\n",
      "obj:  tensor(0.4047, grad_fn=<AddBackward0>)\n",
      "mle loss:  tensor(3.9514, grad_fn=<AddBackward0>)\n",
      "h_val:  tensor(0.3645, grad_fn=<AddBackward0>)\n"
     ]
    },
    {
     "name": "stderr",
     "output_type": "stream",
     "text": [
      " 54%|█████▎    | 15548/29000 [00:40<00:35, 380.46it/s]"
     ]
    },
    {
     "name": "stdout",
     "output_type": "stream",
     "text": [
      "Sigma:  tensor([[ 0.1255, -0.1385],\n",
      "        [-0.1385,  0.1591]], grad_fn=<MmBackward0>)\n",
      "obj:  tensor(0.4003, grad_fn=<AddBackward0>)\n",
      "mle loss:  tensor(4.2858, grad_fn=<AddBackward0>)\n",
      "h_val:  tensor(0.3568, grad_fn=<AddBackward0>)\n"
     ]
    },
    {
     "name": "stderr",
     "output_type": "stream",
     "text": [
      " 54%|█████▍    | 15671/29000 [00:41<00:46, 284.64it/s]"
     ]
    },
    {
     "name": "stdout",
     "output_type": "stream",
     "text": [
      "Sigma:  tensor([[ 0.1266, -0.1367],\n",
      "        [-0.1367,  0.1542]], grad_fn=<MmBackward0>)\n",
      "obj:  tensor(0.3958, grad_fn=<AddBackward0>)\n",
      "mle loss:  tensor(4.6176, grad_fn=<AddBackward0>)\n",
      "h_val:  tensor(0.3490, grad_fn=<AddBackward0>)\n"
     ]
    },
    {
     "name": "stderr",
     "output_type": "stream",
     "text": [
      " 54%|█████▍    | 15746/29000 [00:41<00:41, 322.09it/s]"
     ]
    },
    {
     "name": "stdout",
     "output_type": "stream",
     "text": [
      "Sigma:  tensor([[ 0.1281, -0.1354],\n",
      "        [-0.1354,  0.1498]], grad_fn=<MmBackward0>)\n",
      "obj:  tensor(0.3910, grad_fn=<AddBackward0>)\n",
      "mle loss:  tensor(4.9456, grad_fn=<AddBackward0>)\n",
      "h_val:  tensor(0.3410, grad_fn=<AddBackward0>)\n"
     ]
    },
    {
     "name": "stderr",
     "output_type": "stream",
     "text": [
      " 55%|█████▍    | 15869/29000 [00:41<00:35, 368.82it/s]"
     ]
    },
    {
     "name": "stdout",
     "output_type": "stream",
     "text": [
      "Sigma:  tensor([[ 0.1301, -0.1344],\n",
      "        [-0.1344,  0.1460]], grad_fn=<MmBackward0>)\n",
      "obj:  tensor(0.3860, grad_fn=<AddBackward0>)\n",
      "mle loss:  tensor(5.2670, grad_fn=<AddBackward0>)\n",
      "h_val:  tensor(0.3328, grad_fn=<AddBackward0>)\n"
     ]
    },
    {
     "name": "stderr",
     "output_type": "stream",
     "text": [
      " 55%|█████▍    | 15946/29000 [00:42<00:36, 359.13it/s]"
     ]
    },
    {
     "name": "stdout",
     "output_type": "stream",
     "text": [
      "Sigma:  tensor([[ 0.1326, -0.1339],\n",
      "        [-0.1339,  0.1426]], grad_fn=<MmBackward0>)\n",
      "obj:  tensor(0.3808, grad_fn=<AddBackward0>)\n",
      "mle loss:  tensor(5.5880, grad_fn=<AddBackward0>)\n",
      "h_val:  tensor(0.3243, grad_fn=<AddBackward0>)\n"
     ]
    },
    {
     "name": "stderr",
     "output_type": "stream",
     "text": [
      " 55%|█████▌    | 16066/29000 [00:42<00:33, 381.54it/s]"
     ]
    },
    {
     "name": "stdout",
     "output_type": "stream",
     "text": [
      "Sigma:  tensor([[ 0.1356, -0.1336],\n",
      "        [-0.1336,  0.1395]], grad_fn=<MmBackward0>)\n",
      "obj:  tensor(0.3752, grad_fn=<AddBackward0>)\n",
      "mle loss:  tensor(5.9073, grad_fn=<AddBackward0>)\n",
      "h_val:  tensor(0.3155, grad_fn=<AddBackward0>)\n"
     ]
    },
    {
     "name": "stderr",
     "output_type": "stream",
     "text": [
      " 56%|█████▌    | 16144/29000 [00:42<00:34, 376.62it/s]"
     ]
    },
    {
     "name": "stdout",
     "output_type": "stream",
     "text": [
      "Sigma:  tensor([[ 0.1389, -0.1336],\n",
      "        [-0.1336,  0.1366]], grad_fn=<MmBackward0>)\n",
      "obj:  tensor(0.3693, grad_fn=<AddBackward0>)\n",
      "mle loss:  tensor(6.2276, grad_fn=<AddBackward0>)\n",
      "h_val:  tensor(0.3064, grad_fn=<AddBackward0>)\n"
     ]
    },
    {
     "name": "stderr",
     "output_type": "stream",
     "text": [
      " 56%|█████▌    | 16270/29000 [00:42<00:32, 392.44it/s]"
     ]
    },
    {
     "name": "stdout",
     "output_type": "stream",
     "text": [
      "Sigma:  tensor([[ 0.1427, -0.1337],\n",
      "        [-0.1337,  0.1339]], grad_fn=<MmBackward0>)\n",
      "obj:  tensor(0.3630, grad_fn=<AddBackward0>)\n",
      "mle loss:  tensor(6.5513, grad_fn=<AddBackward0>)\n",
      "h_val:  tensor(0.2969, grad_fn=<AddBackward0>)\n"
     ]
    },
    {
     "name": "stderr",
     "output_type": "stream",
     "text": [
      " 56%|█████▋    | 16349/29000 [00:43<00:32, 383.53it/s]"
     ]
    },
    {
     "name": "stdout",
     "output_type": "stream",
     "text": [
      "Sigma:  tensor([[ 0.1469, -0.1341],\n",
      "        [-0.1341,  0.1314]], grad_fn=<MmBackward0>)\n",
      "obj:  tensor(0.3564, grad_fn=<AddBackward0>)\n",
      "mle loss:  tensor(6.8793, grad_fn=<AddBackward0>)\n",
      "h_val:  tensor(0.2870, grad_fn=<AddBackward0>)\n"
     ]
    },
    {
     "name": "stderr",
     "output_type": "stream",
     "text": [
      " 57%|█████▋    | 16472/29000 [00:43<00:31, 394.03it/s]"
     ]
    },
    {
     "name": "stdout",
     "output_type": "stream",
     "text": [
      "Sigma:  tensor([[ 0.1514, -0.1345],\n",
      "        [-0.1345,  0.1289]], grad_fn=<MmBackward0>)\n",
      "obj:  tensor(0.3493, grad_fn=<AddBackward0>)\n",
      "mle loss:  tensor(7.2137, grad_fn=<AddBackward0>)\n",
      "h_val:  tensor(0.2766, grad_fn=<AddBackward0>)\n"
     ]
    },
    {
     "name": "stderr",
     "output_type": "stream",
     "text": [
      " 57%|█████▋    | 16551/29000 [00:43<00:33, 375.41it/s]"
     ]
    },
    {
     "name": "stdout",
     "output_type": "stream",
     "text": [
      "Sigma:  tensor([[ 0.1563, -0.1351],\n",
      "        [-0.1351,  0.1266]], grad_fn=<MmBackward0>)\n",
      "obj:  tensor(0.3418, grad_fn=<AddBackward0>)\n",
      "mle loss:  tensor(7.5562, grad_fn=<AddBackward0>)\n",
      "h_val:  tensor(0.2657, grad_fn=<AddBackward0>)\n"
     ]
    },
    {
     "name": "stderr",
     "output_type": "stream",
     "text": [
      " 57%|█████▋    | 16673/29000 [00:44<00:31, 391.09it/s]"
     ]
    },
    {
     "name": "stdout",
     "output_type": "stream",
     "text": [
      "Sigma:  tensor([[ 0.1616, -0.1357],\n",
      "        [-0.1357,  0.1243]], grad_fn=<MmBackward0>)\n",
      "obj:  tensor(0.3338, grad_fn=<AddBackward0>)\n",
      "mle loss:  tensor(7.9080, grad_fn=<AddBackward0>)\n",
      "h_val:  tensor(0.2542, grad_fn=<AddBackward0>)\n"
     ]
    },
    {
     "name": "stderr",
     "output_type": "stream",
     "text": [
      " 58%|█████▊    | 16752/29000 [00:44<00:32, 381.15it/s]"
     ]
    },
    {
     "name": "stdout",
     "output_type": "stream",
     "text": [
      "Sigma:  tensor([[ 0.1672, -0.1363],\n",
      "        [-0.1363,  0.1220]], grad_fn=<MmBackward0>)\n",
      "obj:  tensor(0.3254, grad_fn=<AddBackward0>)\n",
      "mle loss:  tensor(8.2702, grad_fn=<AddBackward0>)\n",
      "h_val:  tensor(0.2421, grad_fn=<AddBackward0>)\n"
     ]
    },
    {
     "name": "stderr",
     "output_type": "stream",
     "text": [
      " 58%|█████▊    | 16874/29000 [00:44<00:30, 393.34it/s]"
     ]
    },
    {
     "name": "stdout",
     "output_type": "stream",
     "text": [
      "Sigma:  tensor([[ 0.1730, -0.1369],\n",
      "        [-0.1369,  0.1198]], grad_fn=<MmBackward0>)\n",
      "obj:  tensor(0.3165, grad_fn=<AddBackward0>)\n",
      "mle loss:  tensor(8.6426, grad_fn=<AddBackward0>)\n",
      "h_val:  tensor(0.2295, grad_fn=<AddBackward0>)\n"
     ]
    },
    {
     "name": "stderr",
     "output_type": "stream",
     "text": [
      " 58%|█████▊    | 16953/29000 [00:44<00:32, 376.01it/s]"
     ]
    },
    {
     "name": "stdout",
     "output_type": "stream",
     "text": [
      "Sigma:  tensor([[ 0.1792, -0.1376],\n",
      "        [-0.1376,  0.1176]], grad_fn=<MmBackward0>)\n",
      "obj:  tensor(0.3072, grad_fn=<AddBackward0>)\n",
      "mle loss:  tensor(9.0237, grad_fn=<AddBackward0>)\n",
      "h_val:  tensor(0.2164, grad_fn=<AddBackward0>)\n"
     ]
    },
    {
     "name": "stderr",
     "output_type": "stream",
     "text": [
      " 59%|█████▉    | 17073/29000 [00:45<00:30, 390.86it/s]"
     ]
    },
    {
     "name": "stdout",
     "output_type": "stream",
     "text": [
      "Sigma:  tensor([[ 0.1856, -0.1381],\n",
      "        [-0.1381,  0.1153]], grad_fn=<MmBackward0>)\n",
      "obj:  tensor(0.2976, grad_fn=<AddBackward0>)\n",
      "mle loss:  tensor(9.4094, grad_fn=<AddBackward0>)\n",
      "h_val:  tensor(0.2029, grad_fn=<AddBackward0>)\n"
     ]
    },
    {
     "name": "stderr",
     "output_type": "stream",
     "text": [
      " 59%|█████▉    | 17151/29000 [00:45<00:31, 371.84it/s]"
     ]
    },
    {
     "name": "stdout",
     "output_type": "stream",
     "text": [
      "Sigma:  tensor([[ 0.1922, -0.1386],\n",
      "        [-0.1386,  0.1131]], grad_fn=<MmBackward0>)\n",
      "obj:  tensor(0.2879, grad_fn=<AddBackward0>)\n",
      "mle loss:  tensor(9.7932, grad_fn=<AddBackward0>)\n",
      "h_val:  tensor(0.1894, grad_fn=<AddBackward0>)\n"
     ]
    },
    {
     "name": "stderr",
     "output_type": "stream",
     "text": [
      " 60%|█████▉    | 17274/29000 [00:45<00:30, 389.78it/s]"
     ]
    },
    {
     "name": "stdout",
     "output_type": "stream",
     "text": [
      "Sigma:  tensor([[ 0.1989, -0.1389],\n",
      "        [-0.1389,  0.1108]], grad_fn=<MmBackward0>)\n",
      "obj:  tensor(0.2784, grad_fn=<AddBackward0>)\n",
      "mle loss:  tensor(10.1658, grad_fn=<AddBackward0>)\n",
      "h_val:  tensor(0.1761, grad_fn=<AddBackward0>)\n"
     ]
    },
    {
     "name": "stderr",
     "output_type": "stream",
     "text": [
      " 60%|█████▉    | 17352/29000 [00:45<00:31, 370.76it/s]"
     ]
    },
    {
     "name": "stdout",
     "output_type": "stream",
     "text": [
      "Sigma:  tensor([[ 0.2057, -0.1391],\n",
      "        [-0.1391,  0.1085]], grad_fn=<MmBackward0>)\n",
      "obj:  tensor(0.2691, grad_fn=<AddBackward0>)\n",
      "mle loss:  tensor(10.5161, grad_fn=<AddBackward0>)\n",
      "h_val:  tensor(0.1634, grad_fn=<AddBackward0>)\n"
     ]
    },
    {
     "name": "stderr",
     "output_type": "stream",
     "text": [
      " 60%|██████    | 17471/29000 [00:46<00:30, 383.90it/s]"
     ]
    },
    {
     "name": "stdout",
     "output_type": "stream",
     "text": [
      "Sigma:  tensor([[ 0.2123, -0.1392],\n",
      "        [-0.1392,  0.1063]], grad_fn=<MmBackward0>)\n",
      "obj:  tensor(0.2605, grad_fn=<AddBackward0>)\n",
      "mle loss:  tensor(10.8336, grad_fn=<AddBackward0>)\n",
      "h_val:  tensor(0.1516, grad_fn=<AddBackward0>)\n"
     ]
    },
    {
     "name": "stderr",
     "output_type": "stream",
     "text": [
      " 61%|██████    | 17548/29000 [00:46<00:30, 374.62it/s]"
     ]
    },
    {
     "name": "stdout",
     "output_type": "stream",
     "text": [
      "Sigma:  tensor([[ 0.2188, -0.1391],\n",
      "        [-0.1391,  0.1041]], grad_fn=<MmBackward0>)\n",
      "obj:  tensor(0.2525, grad_fn=<AddBackward0>)\n",
      "mle loss:  tensor(11.1099, grad_fn=<AddBackward0>)\n",
      "h_val:  tensor(0.1408, grad_fn=<AddBackward0>)\n"
     ]
    },
    {
     "name": "stderr",
     "output_type": "stream",
     "text": [
      " 61%|██████    | 17670/29000 [00:46<00:29, 388.60it/s]"
     ]
    },
    {
     "name": "stdout",
     "output_type": "stream",
     "text": [
      "Sigma:  tensor([[ 0.2249, -0.1389],\n",
      "        [-0.1389,  0.1022]], grad_fn=<MmBackward0>)\n",
      "obj:  tensor(0.2453, grad_fn=<AddBackward0>)\n",
      "mle loss:  tensor(11.3404, grad_fn=<AddBackward0>)\n",
      "h_val:  tensor(0.1314, grad_fn=<AddBackward0>)\n"
     ]
    },
    {
     "name": "stderr",
     "output_type": "stream",
     "text": [
      " 61%|██████    | 17746/29000 [00:46<00:30, 366.08it/s]"
     ]
    },
    {
     "name": "stdout",
     "output_type": "stream",
     "text": [
      "Sigma:  tensor([[ 0.2306, -0.1386],\n",
      "        [-0.1386,  0.1004]], grad_fn=<MmBackward0>)\n",
      "obj:  tensor(0.2390, grad_fn=<AddBackward0>)\n",
      "mle loss:  tensor(11.5243, grad_fn=<AddBackward0>)\n",
      "h_val:  tensor(0.1232, grad_fn=<AddBackward0>)\n"
     ]
    },
    {
     "name": "stderr",
     "output_type": "stream",
     "text": [
      " 62%|██████▏   | 17868/29000 [00:47<00:28, 385.99it/s]"
     ]
    },
    {
     "name": "stdout",
     "output_type": "stream",
     "text": [
      "Sigma:  tensor([[ 0.2358, -0.1383],\n",
      "        [-0.1383,  0.0990]], grad_fn=<MmBackward0>)\n",
      "obj:  tensor(0.2334, grad_fn=<AddBackward0>)\n",
      "mle loss:  tensor(11.6634, grad_fn=<AddBackward0>)\n",
      "h_val:  tensor(0.1162, grad_fn=<AddBackward0>)\n"
     ]
    },
    {
     "name": "stderr",
     "output_type": "stream",
     "text": [
      " 62%|██████▏   | 17945/29000 [00:47<00:29, 375.77it/s]"
     ]
    },
    {
     "name": "stdout",
     "output_type": "stream",
     "text": [
      "Sigma:  tensor([[ 0.2404, -0.1379],\n",
      "        [-0.1379,  0.0978]], grad_fn=<MmBackward0>)\n",
      "obj:  tensor(0.2284, grad_fn=<AddBackward0>)\n",
      "mle loss:  tensor(11.7611, grad_fn=<AddBackward0>)\n",
      "h_val:  tensor(0.1103, grad_fn=<AddBackward0>)\n"
     ]
    },
    {
     "name": "stderr",
     "output_type": "stream",
     "text": [
      " 62%|██████▏   | 18067/29000 [00:47<00:28, 387.96it/s]"
     ]
    },
    {
     "name": "stdout",
     "output_type": "stream",
     "text": [
      "Sigma:  tensor([[ 0.2443, -0.1376],\n",
      "        [-0.1376,  0.0969]], grad_fn=<MmBackward0>)\n",
      "obj:  tensor(0.2241, grad_fn=<AddBackward0>)\n",
      "mle loss:  tensor(11.8216, grad_fn=<AddBackward0>)\n",
      "h_val:  tensor(0.1052, grad_fn=<AddBackward0>)\n"
     ]
    },
    {
     "name": "stderr",
     "output_type": "stream",
     "text": [
      " 63%|██████▎   | 18144/29000 [00:47<00:28, 377.63it/s]"
     ]
    },
    {
     "name": "stdout",
     "output_type": "stream",
     "text": [
      "Sigma:  tensor([[ 0.2476, -0.1373],\n",
      "        [-0.1373,  0.0963]], grad_fn=<MmBackward0>)\n",
      "obj:  tensor(0.2201, grad_fn=<AddBackward0>)\n",
      "mle loss:  tensor(11.8492, grad_fn=<AddBackward0>)\n",
      "h_val:  tensor(0.1010, grad_fn=<AddBackward0>)\n"
     ]
    },
    {
     "name": "stderr",
     "output_type": "stream",
     "text": [
      " 63%|██████▎   | 18271/29000 [00:48<00:28, 382.48it/s]"
     ]
    },
    {
     "name": "stdout",
     "output_type": "stream",
     "text": [
      "Sigma:  tensor([[ 0.2503, -0.1371],\n",
      "        [-0.1371,  0.0961]], grad_fn=<MmBackward0>)\n",
      "obj:  tensor(0.2164, grad_fn=<AddBackward0>)\n",
      "mle loss:  tensor(11.8479, grad_fn=<AddBackward0>)\n",
      "h_val:  tensor(0.0973, grad_fn=<AddBackward0>)\n"
     ]
    },
    {
     "name": "stderr",
     "output_type": "stream",
     "text": [
      " 63%|██████▎   | 18348/29000 [00:48<00:28, 374.24it/s]"
     ]
    },
    {
     "name": "stdout",
     "output_type": "stream",
     "text": [
      "Sigma:  tensor([[ 0.2524, -0.1368],\n",
      "        [-0.1368,  0.0960]], grad_fn=<MmBackward0>)\n",
      "obj:  tensor(0.2129, grad_fn=<AddBackward0>)\n",
      "mle loss:  tensor(11.8216, grad_fn=<AddBackward0>)\n",
      "h_val:  tensor(0.0941, grad_fn=<AddBackward0>)\n"
     ]
    },
    {
     "name": "stderr",
     "output_type": "stream",
     "text": [
      " 64%|██████▎   | 18470/29000 [00:48<00:27, 383.98it/s]"
     ]
    },
    {
     "name": "stdout",
     "output_type": "stream",
     "text": [
      "Sigma:  tensor([[ 0.2540, -0.1367],\n",
      "        [-0.1367,  0.0962]], grad_fn=<MmBackward0>)\n",
      "obj:  tensor(0.2096, grad_fn=<AddBackward0>)\n",
      "mle loss:  tensor(11.7741, grad_fn=<AddBackward0>)\n",
      "h_val:  tensor(0.0913, grad_fn=<AddBackward0>)\n"
     ]
    },
    {
     "name": "stderr",
     "output_type": "stream",
     "text": [
      " 64%|██████▍   | 18547/29000 [00:49<00:28, 372.71it/s]"
     ]
    },
    {
     "name": "stdout",
     "output_type": "stream",
     "text": [
      "Sigma:  tensor([[ 0.2551, -0.1366],\n",
      "        [-0.1366,  0.0967]], grad_fn=<MmBackward0>)\n",
      "obj:  tensor(0.2064, grad_fn=<AddBackward0>)\n",
      "mle loss:  tensor(11.7089, grad_fn=<AddBackward0>)\n",
      "h_val:  tensor(0.0887, grad_fn=<AddBackward0>)\n"
     ]
    },
    {
     "name": "stderr",
     "output_type": "stream",
     "text": [
      " 64%|██████▍   | 18668/29000 [00:49<00:26, 386.12it/s]"
     ]
    },
    {
     "name": "stdout",
     "output_type": "stream",
     "text": [
      "Sigma:  tensor([[ 0.2558, -0.1365],\n",
      "        [-0.1365,  0.0973]], grad_fn=<MmBackward0>)\n",
      "obj:  tensor(0.2032, grad_fn=<AddBackward0>)\n",
      "mle loss:  tensor(11.6293, grad_fn=<AddBackward0>)\n",
      "h_val:  tensor(0.0863, grad_fn=<AddBackward0>)\n"
     ]
    },
    {
     "name": "stderr",
     "output_type": "stream",
     "text": [
      " 65%|██████▍   | 18745/29000 [00:49<00:27, 376.84it/s]"
     ]
    },
    {
     "name": "stdout",
     "output_type": "stream",
     "text": [
      "Sigma:  tensor([[ 0.2562, -0.1364],\n",
      "        [-0.1364,  0.0980]], grad_fn=<MmBackward0>)\n",
      "obj:  tensor(0.2001, grad_fn=<AddBackward0>)\n",
      "mle loss:  tensor(11.5384, grad_fn=<AddBackward0>)\n",
      "h_val:  tensor(0.0841, grad_fn=<AddBackward0>)\n"
     ]
    },
    {
     "name": "stderr",
     "output_type": "stream",
     "text": [
      " 65%|██████▌   | 18868/29000 [00:49<00:26, 381.23it/s]"
     ]
    },
    {
     "name": "stdout",
     "output_type": "stream",
     "text": [
      "Sigma:  tensor([[ 0.2564, -0.1364],\n",
      "        [-0.1364,  0.0989]], grad_fn=<MmBackward0>)\n",
      "obj:  tensor(0.1970, grad_fn=<AddBackward0>)\n",
      "mle loss:  tensor(11.4387, grad_fn=<AddBackward0>)\n",
      "h_val:  tensor(0.0820, grad_fn=<AddBackward0>)\n"
     ]
    },
    {
     "name": "stderr",
     "output_type": "stream",
     "text": [
      " 65%|██████▌   | 18946/29000 [00:50<00:26, 376.26it/s]"
     ]
    },
    {
     "name": "stdout",
     "output_type": "stream",
     "text": [
      "Sigma:  tensor([[ 0.2564, -0.1364],\n",
      "        [-0.1364,  0.0999]], grad_fn=<MmBackward0>)\n",
      "obj:  tensor(0.1939, grad_fn=<AddBackward0>)\n",
      "mle loss:  tensor(11.3324, grad_fn=<AddBackward0>)\n",
      "h_val:  tensor(0.0800, grad_fn=<AddBackward0>)\n"
     ]
    },
    {
     "name": "stderr",
     "output_type": "stream",
     "text": [
      " 66%|██████▌   | 19070/29000 [00:50<00:25, 388.47it/s]"
     ]
    },
    {
     "name": "stdout",
     "output_type": "stream",
     "text": [
      "Sigma:  tensor([[ 0.2563, -0.1364],\n",
      "        [-0.1364,  0.1010]], grad_fn=<MmBackward0>)\n",
      "obj:  tensor(0.1908, grad_fn=<AddBackward0>)\n",
      "mle loss:  tensor(11.2213, grad_fn=<AddBackward0>)\n",
      "h_val:  tensor(0.0780, grad_fn=<AddBackward0>)\n"
     ]
    },
    {
     "name": "stderr",
     "output_type": "stream",
     "text": [
      " 66%|██████▌   | 19149/29000 [00:50<00:26, 378.34it/s]"
     ]
    },
    {
     "name": "stdout",
     "output_type": "stream",
     "text": [
      "Sigma:  tensor([[ 0.2561, -0.1364],\n",
      "        [-0.1364,  0.1021]], grad_fn=<MmBackward0>)\n",
      "obj:  tensor(0.1878, grad_fn=<AddBackward0>)\n",
      "mle loss:  tensor(11.1068, grad_fn=<AddBackward0>)\n",
      "h_val:  tensor(0.0761, grad_fn=<AddBackward0>)\n"
     ]
    },
    {
     "name": "stderr",
     "output_type": "stream",
     "text": [
      " 66%|██████▋   | 19273/29000 [00:50<00:24, 393.54it/s]"
     ]
    },
    {
     "name": "stdout",
     "output_type": "stream",
     "text": [
      "Sigma:  tensor([[ 0.2559, -0.1364],\n",
      "        [-0.1364,  0.1033]], grad_fn=<MmBackward0>)\n",
      "obj:  tensor(0.1847, grad_fn=<AddBackward0>)\n",
      "mle loss:  tensor(10.9899, grad_fn=<AddBackward0>)\n",
      "h_val:  tensor(0.0743, grad_fn=<AddBackward0>)\n"
     ]
    },
    {
     "name": "stderr",
     "output_type": "stream",
     "text": [
      " 67%|██████▋   | 19353/29000 [00:51<00:25, 385.74it/s]"
     ]
    },
    {
     "name": "stdout",
     "output_type": "stream",
     "text": [
      "Sigma:  tensor([[ 0.2558, -0.1363],\n",
      "        [-0.1363,  0.1045]], grad_fn=<MmBackward0>)\n",
      "obj:  tensor(0.1817, grad_fn=<AddBackward0>)\n",
      "mle loss:  tensor(10.8714, grad_fn=<AddBackward0>)\n",
      "h_val:  tensor(0.0724, grad_fn=<AddBackward0>)\n"
     ]
    },
    {
     "name": "stderr",
     "output_type": "stream",
     "text": [
      " 67%|██████▋   | 19473/29000 [00:51<00:24, 390.49it/s]"
     ]
    },
    {
     "name": "stdout",
     "output_type": "stream",
     "text": [
      "Sigma:  tensor([[ 0.2556, -0.1363],\n",
      "        [-0.1363,  0.1057]], grad_fn=<MmBackward0>)\n",
      "obj:  tensor(0.1787, grad_fn=<AddBackward0>)\n",
      "mle loss:  tensor(10.7519, grad_fn=<AddBackward0>)\n",
      "h_val:  tensor(0.0706, grad_fn=<AddBackward0>)\n"
     ]
    },
    {
     "name": "stderr",
     "output_type": "stream",
     "text": [
      " 67%|██████▋   | 19551/29000 [00:51<00:25, 371.15it/s]"
     ]
    },
    {
     "name": "stdout",
     "output_type": "stream",
     "text": [
      "Sigma:  tensor([[ 0.2555, -0.1363],\n",
      "        [-0.1363,  0.1069]], grad_fn=<MmBackward0>)\n",
      "obj:  tensor(0.1757, grad_fn=<AddBackward0>)\n",
      "mle loss:  tensor(10.6318, grad_fn=<AddBackward0>)\n",
      "h_val:  tensor(0.0689, grad_fn=<AddBackward0>)\n"
     ]
    },
    {
     "name": "stderr",
     "output_type": "stream",
     "text": [
      " 68%|██████▊   | 19672/29000 [00:51<00:24, 388.53it/s]"
     ]
    },
    {
     "name": "stdout",
     "output_type": "stream",
     "text": [
      "Sigma:  tensor([[ 0.2555, -0.1362],\n",
      "        [-0.1362,  0.1082]], grad_fn=<MmBackward0>)\n",
      "obj:  tensor(0.1728, grad_fn=<AddBackward0>)\n",
      "mle loss:  tensor(10.5111, grad_fn=<AddBackward0>)\n",
      "h_val:  tensor(0.0671, grad_fn=<AddBackward0>)\n"
     ]
    },
    {
     "name": "stderr",
     "output_type": "stream",
     "text": [
      " 68%|██████▊   | 19749/29000 [00:52<00:24, 376.71it/s]"
     ]
    },
    {
     "name": "stdout",
     "output_type": "stream",
     "text": [
      "Sigma:  tensor([[ 0.2556, -0.1361],\n",
      "        [-0.1361,  0.1095]], grad_fn=<MmBackward0>)\n",
      "obj:  tensor(0.1698, grad_fn=<AddBackward0>)\n",
      "mle loss:  tensor(10.3900, grad_fn=<AddBackward0>)\n",
      "h_val:  tensor(0.0654, grad_fn=<AddBackward0>)\n"
     ]
    },
    {
     "name": "stderr",
     "output_type": "stream",
     "text": [
      " 69%|██████▊   | 19871/29000 [00:52<00:23, 390.71it/s]"
     ]
    },
    {
     "name": "stdout",
     "output_type": "stream",
     "text": [
      "Sigma:  tensor([[ 0.2557, -0.1360],\n",
      "        [-0.1360,  0.1107]], grad_fn=<MmBackward0>)\n",
      "obj:  tensor(0.1669, grad_fn=<AddBackward0>)\n",
      "mle loss:  tensor(10.2687, grad_fn=<AddBackward0>)\n",
      "h_val:  tensor(0.0637, grad_fn=<AddBackward0>)\n"
     ]
    },
    {
     "name": "stderr",
     "output_type": "stream",
     "text": [
      " 69%|██████▉   | 19950/29000 [00:52<00:23, 377.73it/s]"
     ]
    },
    {
     "name": "stdout",
     "output_type": "stream",
     "text": [
      "Sigma:  tensor([[ 0.2559, -0.1359],\n",
      "        [-0.1359,  0.1120]], grad_fn=<MmBackward0>)\n",
      "obj:  tensor(0.1640, grad_fn=<AddBackward0>)\n",
      "mle loss:  tensor(10.1471, grad_fn=<AddBackward0>)\n",
      "h_val:  tensor(0.0620, grad_fn=<AddBackward0>)\n"
     ]
    },
    {
     "name": "stderr",
     "output_type": "stream",
     "text": [
      " 69%|██████▉   | 20070/29000 [00:53<00:23, 386.12it/s]"
     ]
    },
    {
     "name": "stdout",
     "output_type": "stream",
     "text": [
      "Sigma:  tensor([[ 0.2562, -0.1358],\n",
      "        [-0.1358,  0.1133]], grad_fn=<MmBackward0>)\n",
      "obj:  tensor(0.1611, grad_fn=<AddBackward0>)\n",
      "mle loss:  tensor(10.0254, grad_fn=<AddBackward0>)\n",
      "h_val:  tensor(0.0604, grad_fn=<AddBackward0>)\n"
     ]
    },
    {
     "name": "stderr",
     "output_type": "stream",
     "text": [
      " 69%|██████▉   | 20146/29000 [00:53<00:24, 361.43it/s]"
     ]
    },
    {
     "name": "stdout",
     "output_type": "stream",
     "text": [
      "Sigma:  tensor([[ 0.2566, -0.1356],\n",
      "        [-0.1356,  0.1146]], grad_fn=<MmBackward0>)\n",
      "obj:  tensor(0.1583, grad_fn=<AddBackward0>)\n",
      "mle loss:  tensor(9.9034, grad_fn=<AddBackward0>)\n",
      "h_val:  tensor(0.0587, grad_fn=<AddBackward0>)\n"
     ]
    },
    {
     "name": "stderr",
     "output_type": "stream",
     "text": [
      " 70%|██████▉   | 20266/29000 [00:53<00:23, 379.58it/s]"
     ]
    },
    {
     "name": "stdout",
     "output_type": "stream",
     "text": [
      "Sigma:  tensor([[ 0.2571, -0.1355],\n",
      "        [-0.1355,  0.1159]], grad_fn=<MmBackward0>)\n",
      "obj:  tensor(0.1554, grad_fn=<AddBackward0>)\n",
      "mle loss:  tensor(9.7813, grad_fn=<AddBackward0>)\n",
      "h_val:  tensor(0.0571, grad_fn=<AddBackward0>)\n"
     ]
    },
    {
     "name": "stderr",
     "output_type": "stream",
     "text": [
      " 70%|███████   | 20343/29000 [00:53<00:23, 370.07it/s]"
     ]
    },
    {
     "name": "stdout",
     "output_type": "stream",
     "text": [
      "Sigma:  tensor([[ 0.2577, -0.1353],\n",
      "        [-0.1353,  0.1172]], grad_fn=<MmBackward0>)\n",
      "obj:  tensor(0.1526, grad_fn=<AddBackward0>)\n",
      "mle loss:  tensor(9.6591, grad_fn=<AddBackward0>)\n",
      "h_val:  tensor(0.0555, grad_fn=<AddBackward0>)\n"
     ]
    },
    {
     "name": "stderr",
     "output_type": "stream",
     "text": [
      " 71%|███████   | 20467/29000 [00:54<00:22, 383.29it/s]"
     ]
    },
    {
     "name": "stdout",
     "output_type": "stream",
     "text": [
      "Sigma:  tensor([[ 0.2585, -0.1350],\n",
      "        [-0.1350,  0.1185]], grad_fn=<MmBackward0>)\n",
      "obj:  tensor(0.1498, grad_fn=<AddBackward0>)\n",
      "mle loss:  tensor(9.5368, grad_fn=<AddBackward0>)\n",
      "h_val:  tensor(0.0539, grad_fn=<AddBackward0>)\n"
     ]
    },
    {
     "name": "stderr",
     "output_type": "stream",
     "text": [
      " 71%|███████   | 20545/29000 [00:54<00:22, 376.24it/s]"
     ]
    },
    {
     "name": "stdout",
     "output_type": "stream",
     "text": [
      "Sigma:  tensor([[ 0.2593, -0.1348],\n",
      "        [-0.1348,  0.1199]], grad_fn=<MmBackward0>)\n",
      "obj:  tensor(0.1470, grad_fn=<AddBackward0>)\n",
      "mle loss:  tensor(9.4144, grad_fn=<AddBackward0>)\n",
      "h_val:  tensor(0.0524, grad_fn=<AddBackward0>)\n"
     ]
    },
    {
     "name": "stderr",
     "output_type": "stream",
     "text": [
      " 71%|███████▏  | 20668/29000 [00:54<00:21, 385.26it/s]"
     ]
    },
    {
     "name": "stdout",
     "output_type": "stream",
     "text": [
      "Sigma:  tensor([[ 0.2603, -0.1345],\n",
      "        [-0.1345,  0.1212]], grad_fn=<MmBackward0>)\n",
      "obj:  tensor(0.1442, grad_fn=<AddBackward0>)\n",
      "mle loss:  tensor(9.2920, grad_fn=<AddBackward0>)\n",
      "h_val:  tensor(0.0508, grad_fn=<AddBackward0>)\n"
     ]
    },
    {
     "name": "stderr",
     "output_type": "stream",
     "text": [
      " 72%|███████▏  | 20745/29000 [00:54<00:22, 374.77it/s]"
     ]
    },
    {
     "name": "stdout",
     "output_type": "stream",
     "text": [
      "Sigma:  tensor([[ 0.2614, -0.1341],\n",
      "        [-0.1341,  0.1226]], grad_fn=<MmBackward0>)\n",
      "obj:  tensor(0.1414, grad_fn=<AddBackward0>)\n",
      "mle loss:  tensor(9.1696, grad_fn=<AddBackward0>)\n",
      "h_val:  tensor(0.0493, grad_fn=<AddBackward0>)\n"
     ]
    },
    {
     "name": "stderr",
     "output_type": "stream",
     "text": [
      " 72%|███████▏  | 20868/29000 [00:55<00:21, 379.12it/s]"
     ]
    },
    {
     "name": "stdout",
     "output_type": "stream",
     "text": [
      "Sigma:  tensor([[ 0.2627, -0.1338],\n",
      "        [-0.1338,  0.1239]], grad_fn=<MmBackward0>)\n",
      "obj:  tensor(0.1387, grad_fn=<AddBackward0>)\n",
      "mle loss:  tensor(9.0473, grad_fn=<AddBackward0>)\n",
      "h_val:  tensor(0.0478, grad_fn=<AddBackward0>)\n"
     ]
    },
    {
     "name": "stderr",
     "output_type": "stream",
     "text": [
      " 72%|███████▏  | 20945/29000 [00:55<00:21, 372.87it/s]"
     ]
    },
    {
     "name": "stdout",
     "output_type": "stream",
     "text": [
      "Sigma:  tensor([[ 0.2641, -0.1334],\n",
      "        [-0.1334,  0.1253]], grad_fn=<MmBackward0>)\n",
      "obj:  tensor(0.1360, grad_fn=<AddBackward0>)\n",
      "mle loss:  tensor(8.9251, grad_fn=<AddBackward0>)\n",
      "h_val:  tensor(0.0463, grad_fn=<AddBackward0>)\n"
     ]
    },
    {
     "name": "stderr",
     "output_type": "stream",
     "text": [
      " 73%|███████▎  | 21150/29000 [00:55<00:19, 396.01it/s]"
     ]
    },
    {
     "name": "stdout",
     "output_type": "stream",
     "text": [
      "Sigma:  tensor([[ 0.2668, -0.1342],\n",
      "        [-0.1342,  0.1280]], grad_fn=<MmBackward0>)\n",
      "obj:  tensor(0.0567, grad_fn=<AddBackward0>)\n",
      "mle loss:  tensor(8.4315, grad_fn=<AddBackward0>)\n",
      "h_val:  tensor(0.0482, grad_fn=<AddBackward0>)\n"
     ]
    },
    {
     "name": "stderr",
     "output_type": "stream",
     "text": [
      " 73%|███████▎  | 21275/29000 [00:56<00:19, 395.96it/s]"
     ]
    },
    {
     "name": "stdout",
     "output_type": "stream",
     "text": [
      "Sigma:  tensor([[ 0.2660, -0.1332],\n",
      "        [-0.1332,  0.1273]], grad_fn=<MmBackward0>)\n",
      "obj:  tensor(0.0539, grad_fn=<AddBackward0>)\n",
      "mle loss:  tensor(8.7050, grad_fn=<AddBackward0>)\n",
      "h_val:  tensor(0.0452, grad_fn=<AddBackward0>)\n"
     ]
    },
    {
     "name": "stderr",
     "output_type": "stream",
     "text": [
      " 74%|███████▎  | 21354/29000 [00:56<00:20, 377.73it/s]"
     ]
    },
    {
     "name": "stdout",
     "output_type": "stream",
     "text": [
      "Sigma:  tensor([[ 0.2645, -0.1314],\n",
      "        [-0.1314,  0.1260]], grad_fn=<MmBackward0>)\n",
      "obj:  tensor(0.0497, grad_fn=<AddBackward0>)\n",
      "mle loss:  tensor(9.1829, grad_fn=<AddBackward0>)\n",
      "h_val:  tensor(0.0405, grad_fn=<AddBackward0>)\n"
     ]
    },
    {
     "name": "stderr",
     "output_type": "stream",
     "text": [
      " 74%|███████▍  | 21473/29000 [00:56<00:19, 388.07it/s]"
     ]
    },
    {
     "name": "stdout",
     "output_type": "stream",
     "text": [
      "Sigma:  tensor([[ 0.2628, -0.1292],\n",
      "        [-0.1292,  0.1243]], grad_fn=<MmBackward0>)\n",
      "obj:  tensor(0.0453, grad_fn=<AddBackward0>)\n",
      "mle loss:  tensor(9.7723, grad_fn=<AddBackward0>)\n",
      "h_val:  tensor(0.0354, grad_fn=<AddBackward0>)\n"
     ]
    },
    {
     "name": "stderr",
     "output_type": "stream",
     "text": [
      " 74%|███████▍  | 21550/29000 [00:57<00:27, 268.62it/s]"
     ]
    },
    {
     "name": "stdout",
     "output_type": "stream",
     "text": [
      "Sigma:  tensor([[ 0.2608, -0.1268],\n",
      "        [-0.1268,  0.1225]], grad_fn=<MmBackward0>)\n",
      "obj:  tensor(0.0411, grad_fn=<AddBackward0>)\n",
      "mle loss:  tensor(10.4171, grad_fn=<AddBackward0>)\n",
      "h_val:  tensor(0.0307, grad_fn=<AddBackward0>)\n"
     ]
    },
    {
     "name": "stderr",
     "output_type": "stream",
     "text": [
      " 75%|███████▍  | 21667/29000 [00:57<00:21, 337.75it/s]"
     ]
    },
    {
     "name": "stdout",
     "output_type": "stream",
     "text": [
      "Sigma:  tensor([[ 0.2587, -0.1241],\n",
      "        [-0.1241,  0.1205]], grad_fn=<MmBackward0>)\n",
      "obj:  tensor(0.0376, grad_fn=<AddBackward0>)\n",
      "mle loss:  tensor(11.0777, grad_fn=<AddBackward0>)\n",
      "h_val:  tensor(0.0265, grad_fn=<AddBackward0>)\n"
     ]
    },
    {
     "name": "stderr",
     "output_type": "stream",
     "text": [
      " 75%|███████▍  | 21741/29000 [00:57<00:20, 347.65it/s]"
     ]
    },
    {
     "name": "stdout",
     "output_type": "stream",
     "text": [
      "Sigma:  tensor([[ 0.2566, -0.1214],\n",
      "        [-0.1214,  0.1184]], grad_fn=<MmBackward0>)\n",
      "obj:  tensor(0.0346, grad_fn=<AddBackward0>)\n",
      "mle loss:  tensor(11.7265, grad_fn=<AddBackward0>)\n",
      "h_val:  tensor(0.0229, grad_fn=<AddBackward0>)\n"
     ]
    },
    {
     "name": "stderr",
     "output_type": "stream",
     "text": [
      " 75%|███████▌  | 21865/29000 [00:57<00:18, 377.89it/s]"
     ]
    },
    {
     "name": "stdout",
     "output_type": "stream",
     "text": [
      "Sigma:  tensor([[ 0.2545, -0.1186],\n",
      "        [-0.1186,  0.1164]], grad_fn=<MmBackward0>)\n",
      "obj:  tensor(0.0322, grad_fn=<AddBackward0>)\n",
      "mle loss:  tensor(12.3448, grad_fn=<AddBackward0>)\n",
      "h_val:  tensor(0.0198, grad_fn=<AddBackward0>)\n"
     ]
    },
    {
     "name": "stderr",
     "output_type": "stream",
     "text": [
      " 76%|███████▌  | 21943/29000 [00:58<00:18, 373.86it/s]"
     ]
    },
    {
     "name": "stdout",
     "output_type": "stream",
     "text": [
      "Sigma:  tensor([[ 0.2523, -0.1157],\n",
      "        [-0.1157,  0.1144]], grad_fn=<MmBackward0>)\n",
      "obj:  tensor(0.0302, grad_fn=<AddBackward0>)\n",
      "mle loss:  tensor(12.9208, grad_fn=<AddBackward0>)\n",
      "h_val:  tensor(0.0173, grad_fn=<AddBackward0>)\n"
     ]
    },
    {
     "name": "stderr",
     "output_type": "stream",
     "text": [
      " 76%|███████▌  | 22066/29000 [00:58<00:18, 378.91it/s]"
     ]
    },
    {
     "name": "stdout",
     "output_type": "stream",
     "text": [
      "Sigma:  tensor([[ 0.2502, -0.1129],\n",
      "        [-0.1129,  0.1124]], grad_fn=<MmBackward0>)\n",
      "obj:  tensor(0.0286, grad_fn=<AddBackward0>)\n",
      "mle loss:  tensor(13.4485, grad_fn=<AddBackward0>)\n",
      "h_val:  tensor(0.0151, grad_fn=<AddBackward0>)\n"
     ]
    },
    {
     "name": "stderr",
     "output_type": "stream",
     "text": [
      " 76%|███████▋  | 22143/29000 [00:58<00:18, 370.13it/s]"
     ]
    },
    {
     "name": "stdout",
     "output_type": "stream",
     "text": [
      "Sigma:  tensor([[ 0.2481, -0.1100],\n",
      "        [-0.1100,  0.1104]], grad_fn=<MmBackward0>)\n",
      "obj:  tensor(0.0273, grad_fn=<AddBackward0>)\n",
      "mle loss:  tensor(13.9248, grad_fn=<AddBackward0>)\n",
      "h_val:  tensor(0.0134, grad_fn=<AddBackward0>)\n"
     ]
    },
    {
     "name": "stderr",
     "output_type": "stream",
     "text": [
      " 77%|███████▋  | 22266/29000 [00:59<00:17, 383.90it/s]"
     ]
    },
    {
     "name": "stdout",
     "output_type": "stream",
     "text": [
      "Sigma:  tensor([[ 0.2461, -0.1072],\n",
      "        [-0.1072,  0.1085]], grad_fn=<MmBackward0>)\n",
      "obj:  tensor(0.0263, grad_fn=<AddBackward0>)\n",
      "mle loss:  tensor(14.3494, grad_fn=<AddBackward0>)\n",
      "h_val:  tensor(0.0119, grad_fn=<AddBackward0>)\n"
     ]
    },
    {
     "name": "stderr",
     "output_type": "stream",
     "text": [
      " 77%|███████▋  | 22343/29000 [00:59<00:17, 372.79it/s]"
     ]
    },
    {
     "name": "stdout",
     "output_type": "stream",
     "text": [
      "Sigma:  tensor([[ 0.2441, -0.1044],\n",
      "        [-0.1044,  0.1067]], grad_fn=<MmBackward0>)\n",
      "obj:  tensor(0.0254, grad_fn=<AddBackward0>)\n",
      "mle loss:  tensor(14.7228, grad_fn=<AddBackward0>)\n",
      "h_val:  tensor(0.0107, grad_fn=<AddBackward0>)\n"
     ]
    },
    {
     "name": "stderr",
     "output_type": "stream",
     "text": [
      " 77%|███████▋  | 22466/29000 [00:59<00:17, 382.12it/s]"
     ]
    },
    {
     "name": "stdout",
     "output_type": "stream",
     "text": [
      "Sigma:  tensor([[ 0.2422, -0.1017],\n",
      "        [-0.1017,  0.1050]], grad_fn=<MmBackward0>)\n",
      "obj:  tensor(0.0247, grad_fn=<AddBackward0>)\n",
      "mle loss:  tensor(15.0463, grad_fn=<AddBackward0>)\n",
      "h_val:  tensor(0.0096, grad_fn=<AddBackward0>)\n"
     ]
    },
    {
     "name": "stderr",
     "output_type": "stream",
     "text": [
      " 78%|███████▊  | 22543/29000 [00:59<00:17, 373.06it/s]"
     ]
    },
    {
     "name": "stdout",
     "output_type": "stream",
     "text": [
      "Sigma:  tensor([[ 0.2404, -0.0990],\n",
      "        [-0.0990,  0.1033]], grad_fn=<MmBackward0>)\n",
      "obj:  tensor(0.0241, grad_fn=<AddBackward0>)\n",
      "mle loss:  tensor(15.3217, grad_fn=<AddBackward0>)\n",
      "h_val:  tensor(0.0088, grad_fn=<AddBackward0>)\n"
     ]
    },
    {
     "name": "stderr",
     "output_type": "stream",
     "text": [
      " 78%|███████▊  | 22667/29000 [01:00<00:16, 375.83it/s]"
     ]
    },
    {
     "name": "stdout",
     "output_type": "stream",
     "text": [
      "Sigma:  tensor([[ 0.2386, -0.0963],\n",
      "        [-0.0963,  0.1017]], grad_fn=<MmBackward0>)\n",
      "obj:  tensor(0.0236, grad_fn=<AddBackward0>)\n",
      "mle loss:  tensor(15.5515, grad_fn=<AddBackward0>)\n",
      "h_val:  tensor(0.0080, grad_fn=<AddBackward0>)\n"
     ]
    },
    {
     "name": "stderr",
     "output_type": "stream",
     "text": [
      " 78%|███████▊  | 22743/29000 [01:00<00:16, 370.07it/s]"
     ]
    },
    {
     "name": "stdout",
     "output_type": "stream",
     "text": [
      "Sigma:  tensor([[ 0.2369, -0.0937],\n",
      "        [-0.0937,  0.1002]], grad_fn=<MmBackward0>)\n",
      "obj:  tensor(0.0231, grad_fn=<AddBackward0>)\n",
      "mle loss:  tensor(15.7386, grad_fn=<AddBackward0>)\n",
      "h_val:  tensor(0.0074, grad_fn=<AddBackward0>)\n"
     ]
    },
    {
     "name": "stderr",
     "output_type": "stream",
     "text": [
      " 79%|███████▉  | 22869/29000 [01:00<00:15, 387.30it/s]"
     ]
    },
    {
     "name": "stdout",
     "output_type": "stream",
     "text": [
      "Sigma:  tensor([[ 0.2353, -0.0911],\n",
      "        [-0.0911,  0.0988]], grad_fn=<MmBackward0>)\n",
      "obj:  tensor(0.0227, grad_fn=<AddBackward0>)\n",
      "mle loss:  tensor(15.8866, grad_fn=<AddBackward0>)\n",
      "h_val:  tensor(0.0068, grad_fn=<AddBackward0>)\n"
     ]
    },
    {
     "name": "stderr",
     "output_type": "stream",
     "text": [
      " 79%|███████▉  | 22947/29000 [01:00<00:15, 378.51it/s]"
     ]
    },
    {
     "name": "stdout",
     "output_type": "stream",
     "text": [
      "Sigma:  tensor([[ 0.2337, -0.0886],\n",
      "        [-0.0886,  0.0975]], grad_fn=<MmBackward0>)\n",
      "obj:  tensor(0.0224, grad_fn=<AddBackward0>)\n",
      "mle loss:  tensor(15.9999, grad_fn=<AddBackward0>)\n",
      "h_val:  tensor(0.0063, grad_fn=<AddBackward0>)\n"
     ]
    },
    {
     "name": "stderr",
     "output_type": "stream",
     "text": [
      " 80%|███████▉  | 23066/29000 [01:01<00:15, 378.91it/s]"
     ]
    },
    {
     "name": "stdout",
     "output_type": "stream",
     "text": [
      "Sigma:  tensor([[ 0.2323, -0.0862],\n",
      "        [-0.0862,  0.0963]], grad_fn=<MmBackward0>)\n",
      "obj:  tensor(0.0220, grad_fn=<AddBackward0>)\n",
      "mle loss:  tensor(16.0828, grad_fn=<AddBackward0>)\n",
      "h_val:  tensor(0.0059, grad_fn=<AddBackward0>)\n"
     ]
    },
    {
     "name": "stderr",
     "output_type": "stream",
     "text": [
      " 80%|███████▉  | 23142/29000 [01:01<00:16, 360.12it/s]"
     ]
    },
    {
     "name": "stdout",
     "output_type": "stream",
     "text": [
      "Sigma:  tensor([[ 0.2309, -0.0838],\n",
      "        [-0.0838,  0.0952]], grad_fn=<MmBackward0>)\n",
      "obj:  tensor(0.0217, grad_fn=<AddBackward0>)\n",
      "mle loss:  tensor(16.1400, grad_fn=<AddBackward0>)\n",
      "h_val:  tensor(0.0055, grad_fn=<AddBackward0>)\n"
     ]
    },
    {
     "name": "stderr",
     "output_type": "stream",
     "text": [
      " 80%|████████  | 23266/29000 [01:01<00:15, 378.24it/s]"
     ]
    },
    {
     "name": "stdout",
     "output_type": "stream",
     "text": [
      "Sigma:  tensor([[ 0.2296, -0.0815],\n",
      "        [-0.0815,  0.0942]], grad_fn=<MmBackward0>)\n",
      "obj:  tensor(0.0214, grad_fn=<AddBackward0>)\n",
      "mle loss:  tensor(16.1756, grad_fn=<AddBackward0>)\n",
      "h_val:  tensor(0.0051, grad_fn=<AddBackward0>)\n"
     ]
    },
    {
     "name": "stderr",
     "output_type": "stream",
     "text": [
      " 80%|████████  | 23342/29000 [01:01<00:15, 368.21it/s]"
     ]
    },
    {
     "name": "stdout",
     "output_type": "stream",
     "text": [
      "Sigma:  tensor([[ 0.2284, -0.0792],\n",
      "        [-0.0792,  0.0932]], grad_fn=<MmBackward0>)\n",
      "obj:  tensor(0.0211, grad_fn=<AddBackward0>)\n",
      "mle loss:  tensor(16.1933, grad_fn=<AddBackward0>)\n",
      "h_val:  tensor(0.0048, grad_fn=<AddBackward0>)\n"
     ]
    },
    {
     "name": "stderr",
     "output_type": "stream",
     "text": [
      " 81%|████████  | 23465/29000 [01:02<00:14, 383.06it/s]"
     ]
    },
    {
     "name": "stdout",
     "output_type": "stream",
     "text": [
      "Sigma:  tensor([[ 0.2272, -0.0770],\n",
      "        [-0.0770,  0.0924]], grad_fn=<MmBackward0>)\n",
      "obj:  tensor(0.0208, grad_fn=<AddBackward0>)\n",
      "mle loss:  tensor(16.1958, grad_fn=<AddBackward0>)\n",
      "h_val:  tensor(0.0045, grad_fn=<AddBackward0>)\n"
     ]
    },
    {
     "name": "stderr",
     "output_type": "stream",
     "text": [
      " 81%|████████  | 23542/29000 [01:02<00:14, 372.70it/s]"
     ]
    },
    {
     "name": "stdout",
     "output_type": "stream",
     "text": [
      "Sigma:  tensor([[ 0.2262, -0.0749],\n",
      "        [-0.0749,  0.0916]], grad_fn=<MmBackward0>)\n",
      "obj:  tensor(0.0205, grad_fn=<AddBackward0>)\n",
      "mle loss:  tensor(16.1855, grad_fn=<AddBackward0>)\n",
      "h_val:  tensor(0.0043, grad_fn=<AddBackward0>)\n"
     ]
    },
    {
     "name": "stderr",
     "output_type": "stream",
     "text": [
      " 82%|████████▏ | 23667/29000 [01:02<00:13, 388.19it/s]"
     ]
    },
    {
     "name": "stdout",
     "output_type": "stream",
     "text": [
      "Sigma:  tensor([[ 0.2253, -0.0728],\n",
      "        [-0.0728,  0.0910]], grad_fn=<MmBackward0>)\n",
      "obj:  tensor(0.0202, grad_fn=<AddBackward0>)\n",
      "mle loss:  tensor(16.1637, grad_fn=<AddBackward0>)\n",
      "h_val:  tensor(0.0040, grad_fn=<AddBackward0>)\n"
     ]
    },
    {
     "name": "stderr",
     "output_type": "stream",
     "text": [
      " 82%|████████▏ | 23745/29000 [01:03<00:14, 366.19it/s]"
     ]
    },
    {
     "name": "stdout",
     "output_type": "stream",
     "text": [
      "Sigma:  tensor([[ 0.2244, -0.0707],\n",
      "        [-0.0707,  0.0904]], grad_fn=<MmBackward0>)\n",
      "obj:  tensor(0.0199, grad_fn=<AddBackward0>)\n",
      "mle loss:  tensor(16.1313, grad_fn=<AddBackward0>)\n",
      "h_val:  tensor(0.0038, grad_fn=<AddBackward0>)\n"
     ]
    },
    {
     "name": "stderr",
     "output_type": "stream",
     "text": [
      " 82%|████████▏ | 23866/29000 [01:03<00:13, 384.08it/s]"
     ]
    },
    {
     "name": "stdout",
     "output_type": "stream",
     "text": [
      "Sigma:  tensor([[ 0.2236, -0.0688],\n",
      "        [-0.0688,  0.0899]], grad_fn=<MmBackward0>)\n",
      "obj:  tensor(0.0197, grad_fn=<AddBackward0>)\n",
      "mle loss:  tensor(16.0888, grad_fn=<AddBackward0>)\n",
      "h_val:  tensor(0.0036, grad_fn=<AddBackward0>)\n"
     ]
    },
    {
     "name": "stderr",
     "output_type": "stream",
     "text": [
      " 83%|████████▎ | 23943/29000 [01:03<00:13, 368.04it/s]"
     ]
    },
    {
     "name": "stdout",
     "output_type": "stream",
     "text": [
      "Sigma:  tensor([[ 0.2230, -0.0668],\n",
      "        [-0.0668,  0.0895]], grad_fn=<MmBackward0>)\n",
      "obj:  tensor(0.0194, grad_fn=<AddBackward0>)\n",
      "mle loss:  tensor(16.0364, grad_fn=<AddBackward0>)\n",
      "h_val:  tensor(0.0034, grad_fn=<AddBackward0>)\n"
     ]
    },
    {
     "name": "stderr",
     "output_type": "stream",
     "text": [
      " 83%|████████▎ | 24067/29000 [01:03<00:12, 386.61it/s]"
     ]
    },
    {
     "name": "stdout",
     "output_type": "stream",
     "text": [
      "Sigma:  tensor([[ 0.2224, -0.0650],\n",
      "        [-0.0650,  0.0893]], grad_fn=<MmBackward0>)\n",
      "obj:  tensor(0.0192, grad_fn=<AddBackward0>)\n",
      "mle loss:  tensor(15.9742, grad_fn=<AddBackward0>)\n",
      "h_val:  tensor(0.0032, grad_fn=<AddBackward0>)\n"
     ]
    },
    {
     "name": "stderr",
     "output_type": "stream",
     "text": [
      " 83%|████████▎ | 24144/29000 [01:04<00:12, 374.22it/s]"
     ]
    },
    {
     "name": "stdout",
     "output_type": "stream",
     "text": [
      "Sigma:  tensor([[ 0.2220, -0.0632],\n",
      "        [-0.0632,  0.0891]], grad_fn=<MmBackward0>)\n",
      "obj:  tensor(0.0189, grad_fn=<AddBackward0>)\n",
      "mle loss:  tensor(15.9020, grad_fn=<AddBackward0>)\n",
      "h_val:  tensor(0.0030, grad_fn=<AddBackward0>)\n"
     ]
    },
    {
     "name": "stderr",
     "output_type": "stream",
     "text": [
      " 84%|████████▎ | 24269/29000 [01:04<00:12, 385.29it/s]"
     ]
    },
    {
     "name": "stdout",
     "output_type": "stream",
     "text": [
      "Sigma:  tensor([[ 0.2216, -0.0614],\n",
      "        [-0.0614,  0.0890]], grad_fn=<MmBackward0>)\n",
      "obj:  tensor(0.0187, grad_fn=<AddBackward0>)\n",
      "mle loss:  tensor(15.8199, grad_fn=<AddBackward0>)\n",
      "h_val:  tensor(0.0028, grad_fn=<AddBackward0>)\n"
     ]
    },
    {
     "name": "stderr",
     "output_type": "stream",
     "text": [
      " 84%|████████▍ | 24346/29000 [01:04<00:13, 357.38it/s]"
     ]
    },
    {
     "name": "stdout",
     "output_type": "stream",
     "text": [
      "Sigma:  tensor([[ 0.2214, -0.0598],\n",
      "        [-0.0598,  0.0890]], grad_fn=<MmBackward0>)\n",
      "obj:  tensor(0.0184, grad_fn=<AddBackward0>)\n",
      "mle loss:  tensor(15.7277, grad_fn=<AddBackward0>)\n",
      "h_val:  tensor(0.0027, grad_fn=<AddBackward0>)\n"
     ]
    },
    {
     "name": "stderr",
     "output_type": "stream",
     "text": [
      " 84%|████████▍ | 24465/29000 [01:04<00:11, 383.13it/s]"
     ]
    },
    {
     "name": "stdout",
     "output_type": "stream",
     "text": [
      "Sigma:  tensor([[ 0.2212, -0.0581],\n",
      "        [-0.0581,  0.0891]], grad_fn=<MmBackward0>)\n",
      "obj:  tensor(0.0182, grad_fn=<AddBackward0>)\n",
      "mle loss:  tensor(15.6256, grad_fn=<AddBackward0>)\n",
      "h_val:  tensor(0.0025, grad_fn=<AddBackward0>)\n"
     ]
    },
    {
     "name": "stderr",
     "output_type": "stream",
     "text": [
      " 85%|████████▍ | 24542/29000 [01:05<00:11, 373.62it/s]"
     ]
    },
    {
     "name": "stdout",
     "output_type": "stream",
     "text": [
      "Sigma:  tensor([[ 0.2212, -0.0566],\n",
      "        [-0.0566,  0.0893]], grad_fn=<MmBackward0>)\n",
      "obj:  tensor(0.0179, grad_fn=<AddBackward0>)\n",
      "mle loss:  tensor(15.5136, grad_fn=<AddBackward0>)\n",
      "h_val:  tensor(0.0024, grad_fn=<AddBackward0>)\n"
     ]
    },
    {
     "name": "stderr",
     "output_type": "stream",
     "text": [
      " 85%|████████▌ | 24667/29000 [01:05<00:11, 385.64it/s]"
     ]
    },
    {
     "name": "stdout",
     "output_type": "stream",
     "text": [
      "Sigma:  tensor([[ 0.2213, -0.0551],\n",
      "        [-0.0551,  0.0896]], grad_fn=<MmBackward0>)\n",
      "obj:  tensor(0.0177, grad_fn=<AddBackward0>)\n",
      "mle loss:  tensor(15.3918, grad_fn=<AddBackward0>)\n",
      "h_val:  tensor(0.0022, grad_fn=<AddBackward0>)\n"
     ]
    },
    {
     "name": "stderr",
     "output_type": "stream",
     "text": [
      " 85%|████████▌ | 24744/29000 [01:05<00:11, 373.65it/s]"
     ]
    },
    {
     "name": "stdout",
     "output_type": "stream",
     "text": [
      "Sigma:  tensor([[ 0.2216, -0.0536],\n",
      "        [-0.0536,  0.0899]], grad_fn=<MmBackward0>)\n",
      "obj:  tensor(0.0174, grad_fn=<AddBackward0>)\n",
      "mle loss:  tensor(15.2604, grad_fn=<AddBackward0>)\n",
      "h_val:  tensor(0.0021, grad_fn=<AddBackward0>)\n"
     ]
    },
    {
     "name": "stderr",
     "output_type": "stream",
     "text": [
      " 86%|████████▌ | 24870/29000 [01:05<00:10, 391.76it/s]"
     ]
    },
    {
     "name": "stdout",
     "output_type": "stream",
     "text": [
      "Sigma:  tensor([[ 0.2219, -0.0522],\n",
      "        [-0.0522,  0.0904]], grad_fn=<MmBackward0>)\n",
      "obj:  tensor(0.0171, grad_fn=<AddBackward0>)\n",
      "mle loss:  tensor(15.1194, grad_fn=<AddBackward0>)\n",
      "h_val:  tensor(0.0020, grad_fn=<AddBackward0>)\n"
     ]
    },
    {
     "name": "stderr",
     "output_type": "stream",
     "text": [
      " 86%|████████▌ | 24948/29000 [01:06<00:10, 371.03it/s]"
     ]
    },
    {
     "name": "stdout",
     "output_type": "stream",
     "text": [
      "Sigma:  tensor([[ 0.2224, -0.0508],\n",
      "        [-0.0508,  0.0910]], grad_fn=<MmBackward0>)\n",
      "obj:  tensor(0.0169, grad_fn=<AddBackward0>)\n",
      "mle loss:  tensor(14.9692, grad_fn=<AddBackward0>)\n",
      "h_val:  tensor(0.0019, grad_fn=<AddBackward0>)\n"
     ]
    },
    {
     "name": "stderr",
     "output_type": "stream",
     "text": [
      " 86%|████████▋ | 25068/29000 [01:06<00:10, 376.49it/s]"
     ]
    },
    {
     "name": "stdout",
     "output_type": "stream",
     "text": [
      "Sigma:  tensor([[ 0.2230, -0.0495],\n",
      "        [-0.0495,  0.0917]], grad_fn=<MmBackward0>)\n",
      "obj:  tensor(0.0166, grad_fn=<AddBackward0>)\n",
      "mle loss:  tensor(14.8100, grad_fn=<AddBackward0>)\n",
      "h_val:  tensor(0.0018, grad_fn=<AddBackward0>)\n"
     ]
    },
    {
     "name": "stderr",
     "output_type": "stream",
     "text": [
      " 87%|████████▋ | 25143/29000 [01:06<00:10, 363.49it/s]"
     ]
    },
    {
     "name": "stdout",
     "output_type": "stream",
     "text": [
      "Sigma:  tensor([[ 0.2238, -0.0483],\n",
      "        [-0.0483,  0.0924]], grad_fn=<MmBackward0>)\n",
      "obj:  tensor(0.0164, grad_fn=<AddBackward0>)\n",
      "mle loss:  tensor(14.6420, grad_fn=<AddBackward0>)\n",
      "h_val:  tensor(0.0017, grad_fn=<AddBackward0>)\n"
     ]
    },
    {
     "name": "stderr",
     "output_type": "stream",
     "text": [
      " 87%|████████▋ | 25265/29000 [01:07<00:09, 378.10it/s]"
     ]
    },
    {
     "name": "stdout",
     "output_type": "stream",
     "text": [
      "Sigma:  tensor([[ 0.2247, -0.0470],\n",
      "        [-0.0470,  0.0933]], grad_fn=<MmBackward0>)\n",
      "obj:  tensor(0.0161, grad_fn=<AddBackward0>)\n",
      "mle loss:  tensor(14.4655, grad_fn=<AddBackward0>)\n",
      "h_val:  tensor(0.0016, grad_fn=<AddBackward0>)\n"
     ]
    },
    {
     "name": "stderr",
     "output_type": "stream",
     "text": [
      " 87%|████████▋ | 25341/29000 [01:07<00:09, 369.84it/s]"
     ]
    },
    {
     "name": "stdout",
     "output_type": "stream",
     "text": [
      "Sigma:  tensor([[ 0.2258, -0.0458],\n",
      "        [-0.0458,  0.0943]], grad_fn=<MmBackward0>)\n",
      "obj:  tensor(0.0158, grad_fn=<AddBackward0>)\n",
      "mle loss:  tensor(14.2809, grad_fn=<AddBackward0>)\n",
      "h_val:  tensor(0.0015, grad_fn=<AddBackward0>)\n"
     ]
    },
    {
     "name": "stderr",
     "output_type": "stream",
     "text": [
      " 88%|████████▊ | 25464/29000 [01:07<00:09, 384.94it/s]"
     ]
    },
    {
     "name": "stdout",
     "output_type": "stream",
     "text": [
      "Sigma:  tensor([[ 0.2270, -0.0447],\n",
      "        [-0.0447,  0.0953]], grad_fn=<MmBackward0>)\n",
      "obj:  tensor(0.0155, grad_fn=<AddBackward0>)\n",
      "mle loss:  tensor(14.0885, grad_fn=<AddBackward0>)\n",
      "h_val:  tensor(0.0014, grad_fn=<AddBackward0>)\n"
     ]
    },
    {
     "name": "stderr",
     "output_type": "stream",
     "text": [
      " 88%|████████▊ | 25549/29000 [01:07<00:08, 402.77it/s]"
     ]
    },
    {
     "name": "stdout",
     "output_type": "stream",
     "text": [
      "Sigma:  tensor([[ 0.2284, -0.0435],\n",
      "        [-0.0435,  0.0965]], grad_fn=<MmBackward0>)\n",
      "obj:  tensor(0.0153, grad_fn=<AddBackward0>)\n",
      "mle loss:  tensor(13.8888, grad_fn=<AddBackward0>)\n",
      "h_val:  tensor(0.0013, grad_fn=<AddBackward0>)\n"
     ]
    },
    {
     "name": "stderr",
     "output_type": "stream",
     "text": [
      " 89%|████████▊ | 25680/29000 [01:08<00:07, 420.53it/s]"
     ]
    },
    {
     "name": "stdout",
     "output_type": "stream",
     "text": [
      "Sigma:  tensor([[ 0.2299, -0.0424],\n",
      "        [-0.0424,  0.0977]], grad_fn=<MmBackward0>)\n",
      "obj:  tensor(0.0150, grad_fn=<AddBackward0>)\n",
      "mle loss:  tensor(13.6822, grad_fn=<AddBackward0>)\n",
      "h_val:  tensor(0.0013, grad_fn=<AddBackward0>)\n"
     ]
    },
    {
     "name": "stderr",
     "output_type": "stream",
     "text": [
      " 89%|████████▉ | 25767/29000 [01:08<00:07, 424.46it/s]"
     ]
    },
    {
     "name": "stdout",
     "output_type": "stream",
     "text": [
      "Sigma:  tensor([[ 0.2316, -0.0414],\n",
      "        [-0.0414,  0.0991]], grad_fn=<MmBackward0>)\n",
      "obj:  tensor(0.0147, grad_fn=<AddBackward0>)\n",
      "mle loss:  tensor(13.4692, grad_fn=<AddBackward0>)\n",
      "h_val:  tensor(0.0012, grad_fn=<AddBackward0>)\n"
     ]
    },
    {
     "name": "stderr",
     "output_type": "stream",
     "text": [
      " 89%|████████▉ | 25856/29000 [01:08<00:07, 432.13it/s]"
     ]
    },
    {
     "name": "stdout",
     "output_type": "stream",
     "text": [
      "Sigma:  tensor([[ 0.2335, -0.0403],\n",
      "        [-0.0403,  0.1005]], grad_fn=<MmBackward0>)\n",
      "obj:  tensor(0.0144, grad_fn=<AddBackward0>)\n",
      "mle loss:  tensor(13.2502, grad_fn=<AddBackward0>)\n",
      "h_val:  tensor(0.0011, grad_fn=<AddBackward0>)\n"
     ]
    },
    {
     "name": "stderr",
     "output_type": "stream",
     "text": [
      " 89%|████████▉ | 25943/29000 [01:08<00:07, 427.84it/s]"
     ]
    },
    {
     "name": "stdout",
     "output_type": "stream",
     "text": [
      "Sigma:  tensor([[ 0.2356, -0.0393],\n",
      "        [-0.0393,  0.1021]], grad_fn=<MmBackward0>)\n",
      "obj:  tensor(0.0141, grad_fn=<AddBackward0>)\n",
      "mle loss:  tensor(13.0259, grad_fn=<AddBackward0>)\n",
      "h_val:  tensor(0.0011, grad_fn=<AddBackward0>)\n"
     ]
    },
    {
     "name": "stderr",
     "output_type": "stream",
     "text": [
      " 90%|████████▉ | 26077/29000 [01:09<00:06, 432.80it/s]"
     ]
    },
    {
     "name": "stdout",
     "output_type": "stream",
     "text": [
      "Sigma:  tensor([[ 0.2378, -0.0382],\n",
      "        [-0.0382,  0.1037]], grad_fn=<MmBackward0>)\n",
      "obj:  tensor(0.0138, grad_fn=<AddBackward0>)\n",
      "mle loss:  tensor(12.7966, grad_fn=<AddBackward0>)\n",
      "h_val:  tensor(0.0010, grad_fn=<AddBackward0>)\n"
     ]
    },
    {
     "name": "stderr",
     "output_type": "stream",
     "text": [
      " 90%|█████████ | 26165/29000 [01:09<00:06, 433.40it/s]"
     ]
    },
    {
     "name": "stdout",
     "output_type": "stream",
     "text": [
      "Sigma:  tensor([[ 0.2403, -0.0372],\n",
      "        [-0.0372,  0.1055]], grad_fn=<MmBackward0>)\n",
      "obj:  tensor(0.0135, grad_fn=<AddBackward0>)\n",
      "mle loss:  tensor(12.5630, grad_fn=<AddBackward0>)\n",
      "h_val:  tensor(0.0009, grad_fn=<AddBackward0>)\n"
     ]
    },
    {
     "name": "stderr",
     "output_type": "stream",
     "text": [
      " 91%|█████████ | 26253/29000 [01:09<00:06, 430.83it/s]"
     ]
    },
    {
     "name": "stdout",
     "output_type": "stream",
     "text": [
      "Sigma:  tensor([[ 0.2429, -0.0362],\n",
      "        [-0.0362,  0.1073]], grad_fn=<MmBackward0>)\n",
      "obj:  tensor(0.0132, grad_fn=<AddBackward0>)\n",
      "mle loss:  tensor(12.3256, grad_fn=<AddBackward0>)\n",
      "h_val:  tensor(0.0009, grad_fn=<AddBackward0>)\n"
     ]
    },
    {
     "name": "stderr",
     "output_type": "stream",
     "text": [
      " 91%|█████████ | 26386/29000 [01:09<00:06, 433.16it/s]"
     ]
    },
    {
     "name": "stdout",
     "output_type": "stream",
     "text": [
      "Sigma:  tensor([[ 0.2457, -0.0351],\n",
      "        [-0.0351,  0.1093]], grad_fn=<MmBackward0>)\n",
      "obj:  tensor(0.0129, grad_fn=<AddBackward0>)\n",
      "mle loss:  tensor(12.0849, grad_fn=<AddBackward0>)\n",
      "h_val:  tensor(0.0008, grad_fn=<AddBackward0>)\n"
     ]
    },
    {
     "name": "stderr",
     "output_type": "stream",
     "text": [
      " 91%|█████████▏| 26474/29000 [01:09<00:05, 433.86it/s]"
     ]
    },
    {
     "name": "stdout",
     "output_type": "stream",
     "text": [
      "Sigma:  tensor([[ 0.2488, -0.0341],\n",
      "        [-0.0341,  0.1113]], grad_fn=<MmBackward0>)\n",
      "obj:  tensor(0.0126, grad_fn=<AddBackward0>)\n",
      "mle loss:  tensor(11.8416, grad_fn=<AddBackward0>)\n",
      "h_val:  tensor(0.0008, grad_fn=<AddBackward0>)\n"
     ]
    },
    {
     "name": "stderr",
     "output_type": "stream",
     "text": [
      " 92%|█████████▏| 26562/29000 [01:10<00:05, 431.29it/s]"
     ]
    },
    {
     "name": "stdout",
     "output_type": "stream",
     "text": [
      "Sigma:  tensor([[ 0.2520, -0.0331],\n",
      "        [-0.0331,  0.1135]], grad_fn=<MmBackward0>)\n",
      "obj:  tensor(0.0123, grad_fn=<AddBackward0>)\n",
      "mle loss:  tensor(11.5961, grad_fn=<AddBackward0>)\n",
      "h_val:  tensor(0.0007, grad_fn=<AddBackward0>)\n"
     ]
    },
    {
     "name": "stderr",
     "output_type": "stream",
     "text": [
      " 92%|█████████▏| 26650/29000 [01:10<00:05, 431.45it/s]"
     ]
    },
    {
     "name": "stdout",
     "output_type": "stream",
     "text": [
      "Sigma:  tensor([[ 0.2555, -0.0320],\n",
      "        [-0.0320,  0.1158]], grad_fn=<MmBackward0>)\n",
      "obj:  tensor(0.0120, grad_fn=<AddBackward0>)\n",
      "mle loss:  tensor(11.3490, grad_fn=<AddBackward0>)\n",
      "h_val:  tensor(0.0007, grad_fn=<AddBackward0>)\n"
     ]
    },
    {
     "name": "stderr",
     "output_type": "stream",
     "text": [
      " 92%|█████████▏| 26784/29000 [01:10<00:05, 436.43it/s]"
     ]
    },
    {
     "name": "stdout",
     "output_type": "stream",
     "text": [
      "Sigma:  tensor([[ 0.2592, -0.0309],\n",
      "        [-0.0309,  0.1182]], grad_fn=<MmBackward0>)\n",
      "obj:  tensor(0.0117, grad_fn=<AddBackward0>)\n",
      "mle loss:  tensor(11.1008, grad_fn=<AddBackward0>)\n",
      "h_val:  tensor(0.0006, grad_fn=<AddBackward0>)\n"
     ]
    },
    {
     "name": "stderr",
     "output_type": "stream",
     "text": [
      " 93%|█████████▎| 26872/29000 [01:10<00:05, 423.87it/s]"
     ]
    },
    {
     "name": "stdout",
     "output_type": "stream",
     "text": [
      "Sigma:  tensor([[ 0.2631, -0.0299],\n",
      "        [-0.0299,  0.1206]], grad_fn=<MmBackward0>)\n",
      "obj:  tensor(0.0114, grad_fn=<AddBackward0>)\n",
      "mle loss:  tensor(10.8521, grad_fn=<AddBackward0>)\n",
      "h_val:  tensor(0.0006, grad_fn=<AddBackward0>)\n"
     ]
    },
    {
     "name": "stderr",
     "output_type": "stream",
     "text": [
      " 93%|█████████▎| 26956/29000 [01:11<00:05, 396.96it/s]"
     ]
    },
    {
     "name": "stdout",
     "output_type": "stream",
     "text": [
      "Sigma:  tensor([[ 0.2672, -0.0288],\n",
      "        [-0.0288,  0.1233]], grad_fn=<MmBackward0>)\n",
      "obj:  tensor(0.0111, grad_fn=<AddBackward0>)\n",
      "mle loss:  tensor(10.6034, grad_fn=<AddBackward0>)\n",
      "h_val:  tensor(0.0005, grad_fn=<AddBackward0>)\n"
     ]
    },
    {
     "name": "stderr",
     "output_type": "stream",
     "text": [
      " 93%|█████████▎| 27074/29000 [01:11<00:05, 382.06it/s]"
     ]
    },
    {
     "name": "stdout",
     "output_type": "stream",
     "text": [
      "Sigma:  tensor([[ 0.2715, -0.0277],\n",
      "        [-0.0277,  0.1260]], grad_fn=<MmBackward0>)\n",
      "obj:  tensor(0.0109, grad_fn=<AddBackward0>)\n",
      "mle loss:  tensor(10.3553, grad_fn=<AddBackward0>)\n",
      "h_val:  tensor(0.0005, grad_fn=<AddBackward0>)\n"
     ]
    },
    {
     "name": "stderr",
     "output_type": "stream",
     "text": [
      " 94%|█████████▎| 27152/29000 [01:11<00:04, 381.35it/s]"
     ]
    },
    {
     "name": "stdout",
     "output_type": "stream",
     "text": [
      "Sigma:  tensor([[ 0.2761, -0.0266],\n",
      "        [-0.0266,  0.1288]], grad_fn=<MmBackward0>)\n",
      "obj:  tensor(0.0106, grad_fn=<AddBackward0>)\n",
      "mle loss:  tensor(10.1080, grad_fn=<AddBackward0>)\n",
      "h_val:  tensor(0.0004, grad_fn=<AddBackward0>)\n"
     ]
    },
    {
     "name": "stderr",
     "output_type": "stream",
     "text": [
      " 94%|█████████▍| 27268/29000 [01:11<00:04, 375.75it/s]"
     ]
    },
    {
     "name": "stdout",
     "output_type": "stream",
     "text": [
      "Sigma:  tensor([[ 0.2808, -0.0255],\n",
      "        [-0.0255,  0.1318]], grad_fn=<MmBackward0>)\n",
      "obj:  tensor(0.0103, grad_fn=<AddBackward0>)\n",
      "mle loss:  tensor(9.8623, grad_fn=<AddBackward0>)\n",
      "h_val:  tensor(0.0004, grad_fn=<AddBackward0>)\n"
     ]
    },
    {
     "name": "stderr",
     "output_type": "stream",
     "text": [
      " 94%|█████████▍| 27352/29000 [01:12<00:04, 396.63it/s]"
     ]
    },
    {
     "name": "stdout",
     "output_type": "stream",
     "text": [
      "Sigma:  tensor([[ 0.2858, -0.0244],\n",
      "        [-0.0244,  0.1349]], grad_fn=<MmBackward0>)\n",
      "obj:  tensor(0.0100, grad_fn=<AddBackward0>)\n",
      "mle loss:  tensor(9.6184, grad_fn=<AddBackward0>)\n",
      "h_val:  tensor(0.0004, grad_fn=<AddBackward0>)\n"
     ]
    },
    {
     "name": "stderr",
     "output_type": "stream",
     "text": [
      " 95%|█████████▍| 27484/29000 [01:12<00:03, 422.12it/s]"
     ]
    },
    {
     "name": "stdout",
     "output_type": "stream",
     "text": [
      "Sigma:  tensor([[ 0.2911, -0.0232],\n",
      "        [-0.0232,  0.1381]], grad_fn=<MmBackward0>)\n",
      "obj:  tensor(0.0097, grad_fn=<AddBackward0>)\n",
      "mle loss:  tensor(9.3769, grad_fn=<AddBackward0>)\n",
      "h_val:  tensor(0.0003, grad_fn=<AddBackward0>)\n"
     ]
    },
    {
     "name": "stderr",
     "output_type": "stream",
     "text": [
      " 95%|█████████▌| 27571/29000 [01:12<00:03, 426.93it/s]"
     ]
    },
    {
     "name": "stdout",
     "output_type": "stream",
     "text": [
      "Sigma:  tensor([[ 0.2965, -0.0221],\n",
      "        [-0.0221,  0.1415]], grad_fn=<MmBackward0>)\n",
      "obj:  tensor(0.0095, grad_fn=<AddBackward0>)\n",
      "mle loss:  tensor(9.1382, grad_fn=<AddBackward0>)\n",
      "h_val:  tensor(0.0003, grad_fn=<AddBackward0>)\n"
     ]
    },
    {
     "name": "stderr",
     "output_type": "stream",
     "text": [
      " 95%|█████████▌| 27657/29000 [01:12<00:03, 420.97it/s]"
     ]
    },
    {
     "name": "stdout",
     "output_type": "stream",
     "text": [
      "Sigma:  tensor([[ 0.3022, -0.0210],\n",
      "        [-0.0210,  0.1449]], grad_fn=<MmBackward0>)\n",
      "obj:  tensor(0.0092, grad_fn=<AddBackward0>)\n",
      "mle loss:  tensor(8.9025, grad_fn=<AddBackward0>)\n",
      "h_val:  tensor(0.0003, grad_fn=<AddBackward0>)\n"
     ]
    },
    {
     "name": "stderr",
     "output_type": "stream",
     "text": [
      " 96%|█████████▌| 27743/29000 [01:13<00:02, 422.27it/s]"
     ]
    },
    {
     "name": "stdout",
     "output_type": "stream",
     "text": [
      "Sigma:  tensor([[ 0.3080, -0.0198],\n",
      "        [-0.0198,  0.1485]], grad_fn=<MmBackward0>)\n",
      "obj:  tensor(0.0090, grad_fn=<AddBackward0>)\n",
      "mle loss:  tensor(8.6703, grad_fn=<AddBackward0>)\n",
      "h_val:  tensor(0.0003, grad_fn=<AddBackward0>)\n"
     ]
    },
    {
     "name": "stderr",
     "output_type": "stream",
     "text": [
      " 96%|█████████▌| 27875/29000 [01:13<00:02, 431.05it/s]"
     ]
    },
    {
     "name": "stdout",
     "output_type": "stream",
     "text": [
      "Sigma:  tensor([[ 0.3141, -0.0187],\n",
      "        [-0.0187,  0.1523]], grad_fn=<MmBackward0>)\n",
      "obj:  tensor(0.0087, grad_fn=<AddBackward0>)\n",
      "mle loss:  tensor(8.4419, grad_fn=<AddBackward0>)\n",
      "h_val:  tensor(0.0002, grad_fn=<AddBackward0>)\n"
     ]
    },
    {
     "name": "stderr",
     "output_type": "stream",
     "text": [
      " 96%|█████████▋| 27963/29000 [01:13<00:02, 427.35it/s]"
     ]
    },
    {
     "name": "stdout",
     "output_type": "stream",
     "text": [
      "Sigma:  tensor([[ 0.3204, -0.0176],\n",
      "        [-0.0176,  0.1561]], grad_fn=<MmBackward0>)\n",
      "obj:  tensor(0.0085, grad_fn=<AddBackward0>)\n",
      "mle loss:  tensor(8.2176, grad_fn=<AddBackward0>)\n",
      "h_val:  tensor(0.0002, grad_fn=<AddBackward0>)\n"
     ]
    },
    {
     "name": "stderr",
     "output_type": "stream",
     "text": [
      " 97%|█████████▋| 28049/29000 [01:13<00:02, 422.72it/s]"
     ]
    },
    {
     "name": "stdout",
     "output_type": "stream",
     "text": [
      "Sigma:  tensor([[ 0.3269, -0.0165],\n",
      "        [-0.0165,  0.1601]], grad_fn=<MmBackward0>)\n",
      "obj:  tensor(0.0082, grad_fn=<AddBackward0>)\n",
      "mle loss:  tensor(7.9976, grad_fn=<AddBackward0>)\n",
      "h_val:  tensor(0.0002, grad_fn=<AddBackward0>)\n"
     ]
    },
    {
     "name": "stderr",
     "output_type": "stream",
     "text": [
      " 97%|█████████▋| 28179/29000 [01:14<00:01, 423.41it/s]"
     ]
    },
    {
     "name": "stdout",
     "output_type": "stream",
     "text": [
      "Sigma:  tensor([[ 0.3336, -0.0154],\n",
      "        [-0.0154,  0.1643]], grad_fn=<MmBackward0>)\n",
      "obj:  tensor(0.0080, grad_fn=<AddBackward0>)\n",
      "mle loss:  tensor(7.7822, grad_fn=<AddBackward0>)\n",
      "h_val:  tensor(0.0002, grad_fn=<AddBackward0>)\n"
     ]
    },
    {
     "name": "stderr",
     "output_type": "stream",
     "text": [
      " 97%|█████████▋| 28266/29000 [01:14<00:01, 425.35it/s]"
     ]
    },
    {
     "name": "stdout",
     "output_type": "stream",
     "text": [
      "Sigma:  tensor([[ 0.3404, -0.0143],\n",
      "        [-0.0143,  0.1686]], grad_fn=<MmBackward0>)\n",
      "obj:  tensor(0.0078, grad_fn=<AddBackward0>)\n",
      "mle loss:  tensor(7.5716, grad_fn=<AddBackward0>)\n",
      "h_val:  tensor(0.0002, grad_fn=<AddBackward0>)\n"
     ]
    },
    {
     "name": "stderr",
     "output_type": "stream",
     "text": [
      " 98%|█████████▊| 28352/29000 [01:14<00:01, 414.86it/s]"
     ]
    },
    {
     "name": "stdout",
     "output_type": "stream",
     "text": [
      "Sigma:  tensor([[ 0.3475, -0.0132],\n",
      "        [-0.0132,  0.1730]], grad_fn=<MmBackward0>)\n",
      "obj:  tensor(0.0075, grad_fn=<AddBackward0>)\n",
      "mle loss:  tensor(7.3659, grad_fn=<AddBackward0>)\n",
      "h_val:  tensor(0.0002, grad_fn=<AddBackward0>)\n"
     ]
    },
    {
     "name": "stderr",
     "output_type": "stream",
     "text": [
      " 98%|█████████▊| 28395/29000 [01:14<00:01, 418.38it/s]"
     ]
    },
    {
     "name": "stdout",
     "output_type": "stream",
     "text": [
      "Sigma:  tensor([[ 0.3547, -0.0122],\n",
      "        [-0.0122,  0.1775]], grad_fn=<MmBackward0>)\n",
      "obj:  tensor(0.0073, grad_fn=<AddBackward0>)\n",
      "mle loss:  tensor(7.1653, grad_fn=<AddBackward0>)\n",
      "h_val:  tensor(0.0001, grad_fn=<AddBackward0>)\n"
     ]
    },
    {
     "name": "stderr",
     "output_type": "stream",
     "text": [
      " 99%|█████████▊| 28569/29000 [01:15<00:01, 355.71it/s]"
     ]
    },
    {
     "name": "stdout",
     "output_type": "stream",
     "text": [
      "Sigma:  tensor([[ 0.3621, -0.0112],\n",
      "        [-0.0112,  0.1822]], grad_fn=<MmBackward0>)\n",
      "obj:  tensor(0.0071, grad_fn=<AddBackward0>)\n",
      "mle loss:  tensor(6.9699, grad_fn=<AddBackward0>)\n",
      "h_val:  tensor(0.0001, grad_fn=<AddBackward0>)\n"
     ]
    },
    {
     "name": "stderr",
     "output_type": "stream",
     "text": [
      " 99%|█████████▉| 28655/29000 [01:15<00:00, 388.18it/s]"
     ]
    },
    {
     "name": "stdout",
     "output_type": "stream",
     "text": [
      "Sigma:  tensor([[ 0.3697, -0.0102],\n",
      "        [-0.0102,  0.1870]], grad_fn=<MmBackward0>)\n",
      "obj:  tensor(0.0069, grad_fn=<AddBackward0>)\n",
      "mle loss:  tensor(6.7798, grad_fn=<AddBackward0>)\n",
      "h_val:  tensor(0.0001, grad_fn=<AddBackward0>)\n"
     ]
    },
    {
     "name": "stderr",
     "output_type": "stream",
     "text": [
      " 99%|█████████▉| 28745/29000 [01:15<00:00, 413.68it/s]"
     ]
    },
    {
     "name": "stdout",
     "output_type": "stream",
     "text": [
      "Sigma:  tensor([[ 0.3774, -0.0093],\n",
      "        [-0.0093,  0.1920]], grad_fn=<MmBackward0>)\n",
      "obj:  tensor(0.0067, grad_fn=<AddBackward0>)\n",
      "mle loss:  tensor(6.5950, grad_fn=<AddBackward0>)\n",
      "h_val:  tensor(0.0001, grad_fn=<AddBackward0>)\n"
     ]
    },
    {
     "name": "stderr",
     "output_type": "stream",
     "text": [
      "100%|█████████▉| 28876/29000 [01:15<00:00, 414.42it/s]"
     ]
    },
    {
     "name": "stdout",
     "output_type": "stream",
     "text": [
      "Sigma:  tensor([[ 0.3853, -0.0084],\n",
      "        [-0.0084,  0.1971]], grad_fn=<MmBackward0>)\n",
      "obj:  tensor(0.0065, grad_fn=<AddBackward0>)\n",
      "mle loss:  tensor(6.4155, grad_fn=<AddBackward0>)\n",
      "h_val:  tensor(0.0001, grad_fn=<AddBackward0>)\n"
     ]
    },
    {
     "name": "stderr",
     "output_type": "stream",
     "text": [
      "100%|█████████▉| 28960/29000 [01:16<00:00, 412.03it/s]"
     ]
    },
    {
     "name": "stdout",
     "output_type": "stream",
     "text": [
      "Sigma:  tensor([[ 0.3933, -0.0075],\n",
      "        [-0.0075,  0.2024]], grad_fn=<MmBackward0>)\n",
      "obj:  tensor(0.0064, grad_fn=<AddBackward0>)\n",
      "mle loss:  tensor(6.2415, grad_fn=<AddBackward0>)\n",
      "h_val:  tensor(0.0001, grad_fn=<AddBackward0>)\n"
     ]
    },
    {
     "name": "stderr",
     "output_type": "stream",
     "text": [
      "100%|██████████| 29000/29000 [01:16<00:00, 380.58it/s]\n"
     ]
    }
   ],
   "source": [
    "eq_model = nonlinear_dce.DagmaMLP_DCE(\n",
    "    dims=[d, 10, 1], bias=True)\n",
    "model = nonlinear_dce.DagmaDCE(eq_model, use_mle_loss=True)\n",
    "W_est_dce_no_thresh, W2, x_est = model.fit(X, lambda1=3.5e-2, lambda2=5e-3,\n",
    "                                lr=2e-4, mu_factor=0.1, mu_init=1, T=4, warm_iter=7000, max_iter=8000)"
   ]
  },
  {
   "cell_type": "code",
   "execution_count": 6,
   "metadata": {},
   "outputs": [
    {
     "name": "stdout",
     "output_type": "stream",
     "text": [
      "W_est_dce_no_thresh tensor([[0.0018, 0.0140],\n",
      "        [0.4353, 0.0069]], grad_fn=<SqrtBackward0>)\n"
     ]
    }
   ],
   "source": [
    "print(\"W_est_dce_no_thresh\", W_est_dce_no_thresh)"
   ]
  },
  {
   "cell_type": "code",
   "execution_count": 7,
   "metadata": {},
   "outputs": [
    {
     "data": {
      "image/png": "[encoded data removed]",
      "text/plain": [
       "<Figure size 1000x600 with 1 Axes>"
      ]
     },
     "metadata": {},
     "output_type": "display_data"
    },
    {
     "name": "stdout",
     "output_type": "stream",
     "text": [
      "The programm is closed\n"
     ]
    }
   ],
   "source": [
    "plt.figure(figsize=(10, 6))  # Optional: specifies the figure size\n",
    "plt.scatter(X.detach().numpy()[:, 0], X.detach().numpy()[:, 1], label='y', color='blue', marker='o')  # Plot x vs. y1\n",
    "plt.scatter(X.detach().numpy()[:, 0], x_est.detach().numpy()[:, 1], label='y_est', color='red', marker='s') \n",
    "plt.scatter(X.detach().numpy()[:, 0], X_true.detach().numpy()[:, 1], label='y_noise', color='green', marker='s') \n",
    "plt.xlabel('x')\n",
    "plt.ylabel('y')\n",
    "plt.legend()\n",
    "plt.show()\n",
    "print(\"The programm is closed\")"
   ]
  },
  {
   "cell_type": "code",
   "execution_count": 8,
   "metadata": {},
   "outputs": [
    {
     "data": {
      "image/png": "[encoded data removed]",
      "text/plain": [
       "<Figure size 1000x600 with 1 Axes>"
      ]
     },
     "metadata": {},
     "output_type": "display_data"
    },
    {
     "name": "stdout",
     "output_type": "stream",
     "text": [
      "The programm is closed\n"
     ]
    }
   ],
   "source": [
    "plt.figure(figsize=(10, 6))  # Optional: specifies the figure size\n",
    "plt.scatter(X.detach().numpy()[:, 1], x_est.detach().numpy()[:, 0], label='x_est', color='red', marker='s') \n",
    "plt.scatter(X.detach().numpy()[:, 1], X.detach().numpy()[:, 0], label='x', color='green', marker='o')\n",
    "plt.xlabel('x')\n",
    "plt.ylabel('y')\n",
    "plt.legend()\n",
    "plt.show()\n",
    "print(\"The programm is closed\")"
   ]
  },
  {
   "cell_type": "markdown",
   "metadata": {},
   "source": [
    "### free MLP parameters"
   ]
  },
  {
   "cell_type": "code",
   "execution_count": 7,
   "metadata": {},
   "outputs": [
    {
     "name": "stderr",
     "output_type": "stream",
     "text": [
      "  1%|          | 164/29000 [00:00<01:08, 421.90it/s]"
     ]
    },
    {
     "name": "stdout",
     "output_type": "stream",
     "text": [
      "Sigma:  tensor([[0.9609, 0.0195],\n",
      "        [0.0195, 1.0409]], grad_fn=<MmBackward0>)\n",
      "obj:  tensor(2.4352, grad_fn=<AddBackward0>)\n",
      "mle loss:  tensor(2.4338, grad_fn=<AddBackward0>)\n",
      "h_val:  tensor(0.0002, grad_fn=<AddBackward0>)\n"
     ]
    },
    {
     "name": "stderr",
     "output_type": "stream",
     "text": [
      "  1%|          | 252/29000 [00:00<01:07, 427.09it/s]"
     ]
    },
    {
     "name": "stdout",
     "output_type": "stream",
     "text": [
      "Sigma:  tensor([[0.9239, 0.0380],\n",
      "        [0.0380, 1.0825]], grad_fn=<MmBackward0>)\n",
      "obj:  tensor(2.3343, grad_fn=<AddBackward0>)\n",
      "mle loss:  tensor(2.3312, grad_fn=<AddBackward0>)\n",
      "h_val:  tensor(0.0006, grad_fn=<AddBackward0>)\n"
     ]
    },
    {
     "name": "stderr",
     "output_type": "stream",
     "text": [
      "  1%|▏         | 385/29000 [00:00<01:06, 430.92it/s]"
     ]
    },
    {
     "name": "stdout",
     "output_type": "stream",
     "text": [
      "Sigma:  tensor([[0.8899, 0.0552],\n",
      "        [0.0552, 1.1226]], grad_fn=<MmBackward0>)\n",
      "obj:  tensor(2.2458, grad_fn=<AddBackward0>)\n",
      "mle loss:  tensor(2.2407, grad_fn=<AddBackward0>)\n",
      "h_val:  tensor(0.0014, grad_fn=<AddBackward0>)\n"
     ]
    },
    {
     "name": "stderr",
     "output_type": "stream",
     "text": [
      "  1%|▏         | 429/29000 [00:01<01:06, 426.56it/s]"
     ]
    },
    {
     "name": "stdout",
     "output_type": "stream",
     "text": [
      "Sigma:  tensor([[0.8594, 0.0711],\n",
      "        [0.0711, 1.1592]], grad_fn=<MmBackward0>)\n",
      "obj:  tensor(2.1687, grad_fn=<AddBackward0>)\n",
      "mle loss:  tensor(2.1614, grad_fn=<AddBackward0>)\n",
      "h_val:  tensor(0.0025, grad_fn=<AddBackward0>)\n"
     ]
    },
    {
     "name": "stderr",
     "output_type": "stream",
     "text": [
      "  2%|▏         | 561/29000 [00:01<01:22, 344.89it/s]"
     ]
    },
    {
     "name": "stdout",
     "output_type": "stream",
     "text": [
      "Sigma:  tensor([[0.8326, 0.0858],\n",
      "        [0.0858, 1.1904]], grad_fn=<MmBackward0>)\n",
      "obj:  tensor(2.1012, grad_fn=<AddBackward0>)\n",
      "mle loss:  tensor(2.0913, grad_fn=<AddBackward0>)\n",
      "h_val:  tensor(0.0039, grad_fn=<AddBackward0>)\n"
     ]
    },
    {
     "name": "stderr",
     "output_type": "stream",
     "text": [
      "  2%|▏         | 646/29000 [00:01<01:14, 382.50it/s]"
     ]
    },
    {
     "name": "stdout",
     "output_type": "stream",
     "text": [
      "Sigma:  tensor([[0.8093, 0.0992],\n",
      "        [0.0992, 1.2150]], grad_fn=<MmBackward0>)\n",
      "obj:  tensor(2.0413, grad_fn=<AddBackward0>)\n",
      "mle loss:  tensor(2.0288, grad_fn=<AddBackward0>)\n",
      "h_val:  tensor(0.0054, grad_fn=<AddBackward0>)\n"
     ]
    },
    {
     "name": "stderr",
     "output_type": "stream",
     "text": [
      "  3%|▎         | 783/29000 [00:02<01:07, 420.90it/s]"
     ]
    },
    {
     "name": "stdout",
     "output_type": "stream",
     "text": [
      "Sigma:  tensor([[0.7887, 0.1116],\n",
      "        [0.1116, 1.2319]], grad_fn=<MmBackward0>)\n",
      "obj:  tensor(1.9873, grad_fn=<AddBackward0>)\n",
      "mle loss:  tensor(1.9720, grad_fn=<AddBackward0>)\n",
      "h_val:  tensor(0.0073, grad_fn=<AddBackward0>)\n"
     ]
    },
    {
     "name": "stderr",
     "output_type": "stream",
     "text": [
      "  3%|▎         | 870/29000 [00:02<01:08, 412.16it/s]"
     ]
    },
    {
     "name": "stdout",
     "output_type": "stream",
     "text": [
      "Sigma:  tensor([[0.7700, 0.1229],\n",
      "        [0.1229, 1.2410]], grad_fn=<MmBackward0>)\n",
      "obj:  tensor(1.9378, grad_fn=<AddBackward0>)\n",
      "mle loss:  tensor(1.9194, grad_fn=<AddBackward0>)\n",
      "h_val:  tensor(0.0093, grad_fn=<AddBackward0>)\n"
     ]
    },
    {
     "name": "stderr",
     "output_type": "stream",
     "text": [
      "  3%|▎         | 961/29000 [00:02<01:04, 431.47it/s]"
     ]
    },
    {
     "name": "stdout",
     "output_type": "stream",
     "text": [
      "Sigma:  tensor([[0.7526, 0.1332],\n",
      "        [0.1332, 1.2425]], grad_fn=<MmBackward0>)\n",
      "obj:  tensor(1.8916, grad_fn=<AddBackward0>)\n",
      "mle loss:  tensor(1.8701, grad_fn=<AddBackward0>)\n",
      "h_val:  tensor(0.0115, grad_fn=<AddBackward0>)\n"
     ]
    },
    {
     "name": "stderr",
     "output_type": "stream",
     "text": [
      "  4%|▎         | 1050/29000 [00:02<01:04, 430.36it/s]"
     ]
    },
    {
     "name": "stdout",
     "output_type": "stream",
     "text": [
      "Sigma:  tensor([[0.7363, 0.1426],\n",
      "        [0.1426, 1.2372]], grad_fn=<MmBackward0>)\n",
      "obj:  tensor(1.8480, grad_fn=<AddBackward0>)\n",
      "mle loss:  tensor(1.8232, grad_fn=<AddBackward0>)\n",
      "h_val:  tensor(0.0139, grad_fn=<AddBackward0>)\n"
     ]
    },
    {
     "name": "stderr",
     "output_type": "stream",
     "text": [
      "  4%|▍         | 1183/29000 [00:02<01:04, 430.97it/s]"
     ]
    },
    {
     "name": "stdout",
     "output_type": "stream",
     "text": [
      "Sigma:  tensor([[0.7211, 0.1511],\n",
      "        [0.1511, 1.2261]], grad_fn=<MmBackward0>)\n",
      "obj:  tensor(1.8065, grad_fn=<AddBackward0>)\n",
      "mle loss:  tensor(1.7782, grad_fn=<AddBackward0>)\n",
      "h_val:  tensor(0.0165, grad_fn=<AddBackward0>)\n"
     ]
    },
    {
     "name": "stderr",
     "output_type": "stream",
     "text": [
      "  4%|▍         | 1270/29000 [00:03<01:04, 426.99it/s]"
     ]
    },
    {
     "name": "stdout",
     "output_type": "stream",
     "text": [
      "Sigma:  tensor([[0.7069, 0.1589],\n",
      "        [0.1589, 1.2106]], grad_fn=<MmBackward0>)\n",
      "obj:  tensor(1.7668, grad_fn=<AddBackward0>)\n",
      "mle loss:  tensor(1.7348, grad_fn=<AddBackward0>)\n",
      "h_val:  tensor(0.0193, grad_fn=<AddBackward0>)\n"
     ]
    },
    {
     "name": "stderr",
     "output_type": "stream",
     "text": [
      "  5%|▍         | 1359/29000 [00:03<01:03, 436.92it/s]"
     ]
    },
    {
     "name": "stdout",
     "output_type": "stream",
     "text": [
      "Sigma:  tensor([[0.6938, 0.1658],\n",
      "        [0.1658, 1.1919]], grad_fn=<MmBackward0>)\n",
      "obj:  tensor(1.7286, grad_fn=<AddBackward0>)\n",
      "mle loss:  tensor(1.6929, grad_fn=<AddBackward0>)\n",
      "h_val:  tensor(0.0222, grad_fn=<AddBackward0>)\n"
     ]
    },
    {
     "name": "stderr",
     "output_type": "stream",
     "text": [
      "  5%|▍         | 1449/29000 [00:03<01:02, 438.90it/s]"
     ]
    },
    {
     "name": "stdout",
     "output_type": "stream",
     "text": [
      "Sigma:  tensor([[0.6815, 0.1719],\n",
      "        [0.1719, 1.1711]], grad_fn=<MmBackward0>)\n",
      "obj:  tensor(1.6920, grad_fn=<AddBackward0>)\n",
      "mle loss:  tensor(1.6524, grad_fn=<AddBackward0>)\n",
      "h_val:  tensor(0.0253, grad_fn=<AddBackward0>)\n"
     ]
    },
    {
     "name": "stderr",
     "output_type": "stream",
     "text": [
      "  5%|▌         | 1581/29000 [00:03<01:03, 428.48it/s]"
     ]
    },
    {
     "name": "stdout",
     "output_type": "stream",
     "text": [
      "Sigma:  tensor([[0.6701, 0.1772],\n",
      "        [0.1772, 1.1491]], grad_fn=<MmBackward0>)\n",
      "obj:  tensor(1.6567, grad_fn=<AddBackward0>)\n",
      "mle loss:  tensor(1.6132, grad_fn=<AddBackward0>)\n",
      "h_val:  tensor(0.0286, grad_fn=<AddBackward0>)\n"
     ]
    },
    {
     "name": "stderr",
     "output_type": "stream",
     "text": [
      "  6%|▌         | 1667/29000 [00:04<01:04, 424.62it/s]"
     ]
    },
    {
     "name": "stdout",
     "output_type": "stream",
     "text": [
      "Sigma:  tensor([[0.6594, 0.1818],\n",
      "        [0.1818, 1.1266]], grad_fn=<MmBackward0>)\n",
      "obj:  tensor(1.6228, grad_fn=<AddBackward0>)\n",
      "mle loss:  tensor(1.5752, grad_fn=<AddBackward0>)\n",
      "h_val:  tensor(0.0320, grad_fn=<AddBackward0>)\n"
     ]
    },
    {
     "name": "stderr",
     "output_type": "stream",
     "text": [
      "  6%|▌         | 1755/29000 [00:04<01:03, 431.38it/s]"
     ]
    },
    {
     "name": "stdout",
     "output_type": "stream",
     "text": [
      "Sigma:  tensor([[0.6493, 0.1855],\n",
      "        [0.1855, 1.1040]], grad_fn=<MmBackward0>)\n",
      "obj:  tensor(1.5902, grad_fn=<AddBackward0>)\n",
      "mle loss:  tensor(1.5383, grad_fn=<AddBackward0>)\n",
      "h_val:  tensor(0.0356, grad_fn=<AddBackward0>)\n"
     ]
    },
    {
     "name": "stderr",
     "output_type": "stream",
     "text": [
      "  6%|▋         | 1846/29000 [00:04<01:01, 440.73it/s]"
     ]
    },
    {
     "name": "stdout",
     "output_type": "stream",
     "text": [
      "Sigma:  tensor([[0.6397, 0.1883],\n",
      "        [0.1883, 1.0817]], grad_fn=<MmBackward0>)\n",
      "obj:  tensor(1.5586, grad_fn=<AddBackward0>)\n",
      "mle loss:  tensor(1.5025, grad_fn=<AddBackward0>)\n",
      "h_val:  tensor(0.0393, grad_fn=<AddBackward0>)\n"
     ]
    },
    {
     "name": "stderr",
     "output_type": "stream",
     "text": [
      "  7%|▋         | 1982/29000 [00:04<01:01, 442.52it/s]"
     ]
    },
    {
     "name": "stdout",
     "output_type": "stream",
     "text": [
      "Sigma:  tensor([[0.6306, 0.1903],\n",
      "        [0.1903, 1.0599]], grad_fn=<MmBackward0>)\n",
      "obj:  tensor(1.5281, grad_fn=<AddBackward0>)\n",
      "mle loss:  tensor(1.4675, grad_fn=<AddBackward0>)\n",
      "h_val:  tensor(0.0432, grad_fn=<AddBackward0>)\n"
     ]
    },
    {
     "name": "stderr",
     "output_type": "stream",
     "text": [
      "  7%|▋         | 2072/29000 [00:04<01:00, 442.25it/s]"
     ]
    },
    {
     "name": "stdout",
     "output_type": "stream",
     "text": [
      "Sigma:  tensor([[0.6218, 0.1915],\n",
      "        [0.1915, 1.0386]], grad_fn=<MmBackward0>)\n",
      "obj:  tensor(1.4985, grad_fn=<AddBackward0>)\n",
      "mle loss:  tensor(1.4333, grad_fn=<AddBackward0>)\n",
      "h_val:  tensor(0.0472, grad_fn=<AddBackward0>)\n"
     ]
    },
    {
     "name": "stderr",
     "output_type": "stream",
     "text": [
      "  7%|▋         | 2164/29000 [00:05<01:00, 445.52it/s]"
     ]
    },
    {
     "name": "stdout",
     "output_type": "stream",
     "text": [
      "Sigma:  tensor([[0.6132, 0.1920],\n",
      "        [0.1920, 1.0179]], grad_fn=<MmBackward0>)\n",
      "obj:  tensor(1.4697, grad_fn=<AddBackward0>)\n",
      "mle loss:  tensor(1.3999, grad_fn=<AddBackward0>)\n",
      "h_val:  tensor(0.0513, grad_fn=<AddBackward0>)\n"
     ]
    },
    {
     "name": "stderr",
     "output_type": "stream",
     "text": [
      "  8%|▊         | 2255/29000 [00:05<01:01, 434.10it/s]"
     ]
    },
    {
     "name": "stdout",
     "output_type": "stream",
     "text": [
      "Sigma:  tensor([[0.6049, 0.1917],\n",
      "        [0.1917, 0.9977]], grad_fn=<MmBackward0>)\n",
      "obj:  tensor(1.4415, grad_fn=<AddBackward0>)\n",
      "mle loss:  tensor(1.3670, grad_fn=<AddBackward0>)\n",
      "h_val:  tensor(0.0556, grad_fn=<AddBackward0>)\n"
     ]
    },
    {
     "name": "stderr",
     "output_type": "stream",
     "text": [
      "  8%|▊         | 2386/29000 [00:05<01:02, 426.98it/s]"
     ]
    },
    {
     "name": "stdout",
     "output_type": "stream",
     "text": [
      "Sigma:  tensor([[0.5967, 0.1907],\n",
      "        [0.1907, 0.9780]], grad_fn=<MmBackward0>)\n",
      "obj:  tensor(1.4140, grad_fn=<AddBackward0>)\n",
      "mle loss:  tensor(1.3346, grad_fn=<AddBackward0>)\n",
      "h_val:  tensor(0.0600, grad_fn=<AddBackward0>)\n"
     ]
    },
    {
     "name": "stderr",
     "output_type": "stream",
     "text": [
      "  8%|▊         | 2429/29000 [00:05<01:03, 415.31it/s]"
     ]
    },
    {
     "name": "stdout",
     "output_type": "stream",
     "text": [
      "Sigma:  tensor([[0.5886, 0.1892],\n",
      "        [0.1892, 0.9588]], grad_fn=<MmBackward0>)\n",
      "obj:  tensor(1.3870, grad_fn=<AddBackward0>)\n",
      "mle loss:  tensor(1.3026, grad_fn=<AddBackward0>)\n",
      "h_val:  tensor(0.0646, grad_fn=<AddBackward0>)\n"
     ]
    },
    {
     "name": "stderr",
     "output_type": "stream",
     "text": [
      "  9%|▉         | 2556/29000 [00:06<01:06, 395.38it/s]"
     ]
    },
    {
     "name": "stdout",
     "output_type": "stream",
     "text": [
      "Sigma:  tensor([[0.5806, 0.1873],\n",
      "        [0.1873, 0.9401]], grad_fn=<MmBackward0>)\n",
      "obj:  tensor(1.3605, grad_fn=<AddBackward0>)\n",
      "mle loss:  tensor(1.2711, grad_fn=<AddBackward0>)\n",
      "h_val:  tensor(0.0692, grad_fn=<AddBackward0>)\n"
     ]
    },
    {
     "name": "stderr",
     "output_type": "stream",
     "text": [
      "  9%|▉         | 2644/29000 [00:06<01:04, 411.35it/s]"
     ]
    },
    {
     "name": "stdout",
     "output_type": "stream",
     "text": [
      "Sigma:  tensor([[0.5728, 0.1850],\n",
      "        [0.1850, 0.9218]], grad_fn=<MmBackward0>)\n",
      "obj:  tensor(1.3344, grad_fn=<AddBackward0>)\n",
      "mle loss:  tensor(1.2399, grad_fn=<AddBackward0>)\n",
      "h_val:  tensor(0.0741, grad_fn=<AddBackward0>)\n"
     ]
    },
    {
     "name": "stderr",
     "output_type": "stream",
     "text": [
      " 10%|▉         | 2781/29000 [00:06<00:59, 439.56it/s]"
     ]
    },
    {
     "name": "stdout",
     "output_type": "stream",
     "text": [
      "Sigma:  tensor([[0.5651, 0.1826],\n",
      "        [0.1826, 0.9039]], grad_fn=<MmBackward0>)\n",
      "obj:  tensor(1.3088, grad_fn=<AddBackward0>)\n",
      "mle loss:  tensor(1.2090, grad_fn=<AddBackward0>)\n",
      "h_val:  tensor(0.0790, grad_fn=<AddBackward0>)\n"
     ]
    },
    {
     "name": "stderr",
     "output_type": "stream",
     "text": [
      " 10%|▉         | 2877/29000 [00:06<01:02, 417.45it/s]"
     ]
    },
    {
     "name": "stdout",
     "output_type": "stream",
     "text": [
      "Sigma:  tensor([[0.5575, 0.1800],\n",
      "        [0.1800, 0.8866]], grad_fn=<MmBackward0>)\n",
      "obj:  tensor(1.2837, grad_fn=<AddBackward0>)\n",
      "mle loss:  tensor(1.1784, grad_fn=<AddBackward0>)\n",
      "h_val:  tensor(0.0841, grad_fn=<AddBackward0>)\n"
     ]
    },
    {
     "name": "stderr",
     "output_type": "stream",
     "text": [
      " 10%|█         | 2960/29000 [00:07<01:07, 387.60it/s]"
     ]
    },
    {
     "name": "stdout",
     "output_type": "stream",
     "text": [
      "Sigma:  tensor([[0.5501, 0.1776],\n",
      "        [0.1776, 0.8697]], grad_fn=<MmBackward0>)\n",
      "obj:  tensor(1.2590, grad_fn=<AddBackward0>)\n",
      "mle loss:  tensor(1.1482, grad_fn=<AddBackward0>)\n",
      "h_val:  tensor(0.0893, grad_fn=<AddBackward0>)\n"
     ]
    },
    {
     "name": "stderr",
     "output_type": "stream",
     "text": [
      " 10%|█         | 3044/29000 [00:07<01:04, 400.95it/s]"
     ]
    },
    {
     "name": "stdout",
     "output_type": "stream",
     "text": [
      "Sigma:  tensor([[0.5428, 0.1753],\n",
      "        [0.1753, 0.8534]], grad_fn=<MmBackward0>)\n",
      "obj:  tensor(1.2347, grad_fn=<AddBackward0>)\n",
      "mle loss:  tensor(1.1183, grad_fn=<AddBackward0>)\n",
      "h_val:  tensor(0.0947, grad_fn=<AddBackward0>)\n"
     ]
    },
    {
     "name": "stderr",
     "output_type": "stream",
     "text": [
      " 11%|█         | 3183/29000 [00:07<01:00, 426.79it/s]"
     ]
    },
    {
     "name": "stdout",
     "output_type": "stream",
     "text": [
      "Sigma:  tensor([[0.5358, 0.1733],\n",
      "        [0.1733, 0.8377]], grad_fn=<MmBackward0>)\n",
      "obj:  tensor(1.2108, grad_fn=<AddBackward0>)\n",
      "mle loss:  tensor(1.0887, grad_fn=<AddBackward0>)\n",
      "h_val:  tensor(0.1002, grad_fn=<AddBackward0>)\n"
     ]
    },
    {
     "name": "stderr",
     "output_type": "stream",
     "text": [
      " 11%|█▏        | 3271/29000 [00:07<01:00, 427.83it/s]"
     ]
    },
    {
     "name": "stdout",
     "output_type": "stream",
     "text": [
      "Sigma:  tensor([[0.5289, 0.1717],\n",
      "        [0.1717, 0.8226]], grad_fn=<MmBackward0>)\n",
      "obj:  tensor(1.1873, grad_fn=<AddBackward0>)\n",
      "mle loss:  tensor(1.0593, grad_fn=<AddBackward0>)\n",
      "h_val:  tensor(0.1058, grad_fn=<AddBackward0>)\n"
     ]
    },
    {
     "name": "stderr",
     "output_type": "stream",
     "text": [
      " 12%|█▏        | 3357/29000 [00:08<01:00, 421.42it/s]"
     ]
    },
    {
     "name": "stdout",
     "output_type": "stream",
     "text": [
      "Sigma:  tensor([[0.5223, 0.1705],\n",
      "        [0.1705, 0.8082]], grad_fn=<MmBackward0>)\n",
      "obj:  tensor(1.1642, grad_fn=<AddBackward0>)\n",
      "mle loss:  tensor(1.0303, grad_fn=<AddBackward0>)\n",
      "h_val:  tensor(0.1115, grad_fn=<AddBackward0>)\n"
     ]
    },
    {
     "name": "stderr",
     "output_type": "stream",
     "text": [
      " 12%|█▏        | 3490/29000 [00:08<00:58, 435.68it/s]"
     ]
    },
    {
     "name": "stdout",
     "output_type": "stream",
     "text": [
      "Sigma:  tensor([[0.5159, 0.1697],\n",
      "        [0.1697, 0.7944]], grad_fn=<MmBackward0>)\n",
      "obj:  tensor(1.1415, grad_fn=<AddBackward0>)\n",
      "mle loss:  tensor(1.0015, grad_fn=<AddBackward0>)\n",
      "h_val:  tensor(0.1174, grad_fn=<AddBackward0>)\n"
     ]
    },
    {
     "name": "stderr",
     "output_type": "stream",
     "text": [
      " 12%|█▏        | 3581/29000 [00:08<00:57, 445.65it/s]"
     ]
    },
    {
     "name": "stdout",
     "output_type": "stream",
     "text": [
      "Sigma:  tensor([[0.5097, 0.1695],\n",
      "        [0.1695, 0.7814]], grad_fn=<MmBackward0>)\n",
      "obj:  tensor(1.1192, grad_fn=<AddBackward0>)\n",
      "mle loss:  tensor(0.9729, grad_fn=<AddBackward0>)\n",
      "h_val:  tensor(0.1234, grad_fn=<AddBackward0>)\n"
     ]
    },
    {
     "name": "stderr",
     "output_type": "stream",
     "text": [
      " 13%|█▎        | 3673/29000 [00:08<00:56, 451.74it/s]"
     ]
    },
    {
     "name": "stdout",
     "output_type": "stream",
     "text": [
      "Sigma:  tensor([[0.5037, 0.1698],\n",
      "        [0.1698, 0.7689]], grad_fn=<MmBackward0>)\n",
      "obj:  tensor(1.0971, grad_fn=<AddBackward0>)\n",
      "mle loss:  tensor(0.9446, grad_fn=<AddBackward0>)\n",
      "h_val:  tensor(0.1296, grad_fn=<AddBackward0>)\n"
     ]
    },
    {
     "name": "stderr",
     "output_type": "stream",
     "text": [
      " 13%|█▎        | 3765/29000 [00:09<00:55, 451.22it/s]"
     ]
    },
    {
     "name": "stdout",
     "output_type": "stream",
     "text": [
      "Sigma:  tensor([[0.4979, 0.1707],\n",
      "        [0.1707, 0.7572]], grad_fn=<MmBackward0>)\n",
      "obj:  tensor(1.0754, grad_fn=<AddBackward0>)\n",
      "mle loss:  tensor(0.9163, grad_fn=<AddBackward0>)\n",
      "h_val:  tensor(0.1359, grad_fn=<AddBackward0>)\n"
     ]
    },
    {
     "name": "stderr",
     "output_type": "stream",
     "text": [
      " 13%|█▎        | 3860/29000 [00:09<00:54, 459.58it/s]"
     ]
    },
    {
     "name": "stdout",
     "output_type": "stream",
     "text": [
      "Sigma:  tensor([[0.4924, 0.1722],\n",
      "        [0.1722, 0.7460]], grad_fn=<MmBackward0>)\n",
      "obj:  tensor(1.0539, grad_fn=<AddBackward0>)\n",
      "mle loss:  tensor(0.8883, grad_fn=<AddBackward0>)\n",
      "h_val:  tensor(0.1424, grad_fn=<AddBackward0>)\n"
     ]
    },
    {
     "name": "stderr",
     "output_type": "stream",
     "text": [
      " 14%|█▎        | 3953/29000 [00:09<00:54, 459.10it/s]"
     ]
    },
    {
     "name": "stdout",
     "output_type": "stream",
     "text": [
      "Sigma:  tensor([[0.4871, 0.1744],\n",
      "        [0.1744, 0.7356]], grad_fn=<MmBackward0>)\n",
      "obj:  tensor(1.0326, grad_fn=<AddBackward0>)\n",
      "mle loss:  tensor(0.8602, grad_fn=<AddBackward0>)\n",
      "h_val:  tensor(0.1490, grad_fn=<AddBackward0>)\n"
     ]
    },
    {
     "name": "stderr",
     "output_type": "stream",
     "text": [
      " 14%|█▍        | 4049/29000 [00:09<00:54, 459.03it/s]"
     ]
    },
    {
     "name": "stdout",
     "output_type": "stream",
     "text": [
      "Sigma:  tensor([[0.4820, 0.1772],\n",
      "        [0.1772, 0.7257]], grad_fn=<MmBackward0>)\n",
      "obj:  tensor(1.0114, grad_fn=<AddBackward0>)\n",
      "mle loss:  tensor(0.8322, grad_fn=<AddBackward0>)\n",
      "h_val:  tensor(0.1557, grad_fn=<AddBackward0>)\n"
     ]
    },
    {
     "name": "stderr",
     "output_type": "stream",
     "text": [
      " 14%|█▍        | 4192/29000 [00:09<00:53, 462.60it/s]"
     ]
    },
    {
     "name": "stdout",
     "output_type": "stream",
     "text": [
      "Sigma:  tensor([[0.4771, 0.1807],\n",
      "        [0.1807, 0.7165]], grad_fn=<MmBackward0>)\n",
      "obj:  tensor(0.9903, grad_fn=<AddBackward0>)\n",
      "mle loss:  tensor(0.8042, grad_fn=<AddBackward0>)\n",
      "h_val:  tensor(0.1627, grad_fn=<AddBackward0>)\n"
     ]
    },
    {
     "name": "stderr",
     "output_type": "stream",
     "text": [
      " 15%|█▍        | 4285/29000 [00:10<00:54, 456.22it/s]"
     ]
    },
    {
     "name": "stdout",
     "output_type": "stream",
     "text": [
      "Sigma:  tensor([[0.4726, 0.1849],\n",
      "        [0.1849, 0.7079]], grad_fn=<MmBackward0>)\n",
      "obj:  tensor(0.9692, grad_fn=<AddBackward0>)\n",
      "mle loss:  tensor(0.7760, grad_fn=<AddBackward0>)\n",
      "h_val:  tensor(0.1698, grad_fn=<AddBackward0>)\n"
     ]
    },
    {
     "name": "stderr",
     "output_type": "stream",
     "text": [
      " 15%|█▌        | 4377/29000 [00:10<00:54, 448.46it/s]"
     ]
    },
    {
     "name": "stdout",
     "output_type": "stream",
     "text": [
      "Sigma:  tensor([[0.4682, 0.1899],\n",
      "        [0.1899, 0.6999]], grad_fn=<MmBackward0>)\n",
      "obj:  tensor(0.9481, grad_fn=<AddBackward0>)\n",
      "mle loss:  tensor(0.7476, grad_fn=<AddBackward0>)\n",
      "h_val:  tensor(0.1771, grad_fn=<AddBackward0>)\n"
     ]
    },
    {
     "name": "stderr",
     "output_type": "stream",
     "text": [
      " 15%|█▌        | 4467/29000 [00:10<00:55, 440.98it/s]"
     ]
    },
    {
     "name": "stdout",
     "output_type": "stream",
     "text": [
      "Sigma:  tensor([[0.4642, 0.1956],\n",
      "        [0.1956, 0.6925]], grad_fn=<MmBackward0>)\n",
      "obj:  tensor(0.9269, grad_fn=<AddBackward0>)\n",
      "mle loss:  tensor(0.7189, grad_fn=<AddBackward0>)\n",
      "h_val:  tensor(0.1846, grad_fn=<AddBackward0>)\n"
     ]
    },
    {
     "name": "stderr",
     "output_type": "stream",
     "text": [
      " 16%|█▌        | 4561/29000 [00:10<00:54, 452.27it/s]"
     ]
    },
    {
     "name": "stdout",
     "output_type": "stream",
     "text": [
      "Sigma:  tensor([[0.4605, 0.2021],\n",
      "        [0.2021, 0.6858]], grad_fn=<MmBackward0>)\n",
      "obj:  tensor(0.9054, grad_fn=<AddBackward0>)\n",
      "mle loss:  tensor(0.6899, grad_fn=<AddBackward0>)\n",
      "h_val:  tensor(0.1923, grad_fn=<AddBackward0>)\n"
     ]
    },
    {
     "name": "stderr",
     "output_type": "stream",
     "text": [
      " 16%|█▌        | 4655/29000 [00:10<00:52, 459.38it/s]"
     ]
    },
    {
     "name": "stdout",
     "output_type": "stream",
     "text": [
      "Sigma:  tensor([[0.4571, 0.2093],\n",
      "        [0.2093, 0.6796]], grad_fn=<MmBackward0>)\n",
      "obj:  tensor(0.8837, grad_fn=<AddBackward0>)\n",
      "mle loss:  tensor(0.6604, grad_fn=<AddBackward0>)\n",
      "h_val:  tensor(0.2001, grad_fn=<AddBackward0>)\n"
     ]
    },
    {
     "name": "stderr",
     "output_type": "stream",
     "text": [
      " 16%|█▋        | 4749/29000 [00:11<00:53, 456.72it/s]"
     ]
    },
    {
     "name": "stdout",
     "output_type": "stream",
     "text": [
      "Sigma:  tensor([[0.4541, 0.2173],\n",
      "        [0.2173, 0.6741]], grad_fn=<MmBackward0>)\n",
      "obj:  tensor(0.8615, grad_fn=<AddBackward0>)\n",
      "mle loss:  tensor(0.6304, grad_fn=<AddBackward0>)\n",
      "h_val:  tensor(0.2082, grad_fn=<AddBackward0>)\n"
     ]
    },
    {
     "name": "stderr",
     "output_type": "stream",
     "text": [
      " 17%|█▋        | 4891/29000 [00:11<00:51, 465.77it/s]"
     ]
    },
    {
     "name": "stdout",
     "output_type": "stream",
     "text": [
      "Sigma:  tensor([[0.4514, 0.2260],\n",
      "        [0.2260, 0.6692]], grad_fn=<MmBackward0>)\n",
      "obj:  tensor(0.8390, grad_fn=<AddBackward0>)\n",
      "mle loss:  tensor(0.5998, grad_fn=<AddBackward0>)\n",
      "h_val:  tensor(0.2164, grad_fn=<AddBackward0>)\n"
     ]
    },
    {
     "name": "stderr",
     "output_type": "stream",
     "text": [
      " 17%|█▋        | 4985/29000 [00:11<00:52, 460.68it/s]"
     ]
    },
    {
     "name": "stdout",
     "output_type": "stream",
     "text": [
      "Sigma:  tensor([[0.4492, 0.2353],\n",
      "        [0.2353, 0.6650]], grad_fn=<MmBackward0>)\n",
      "obj:  tensor(0.8163, grad_fn=<AddBackward0>)\n",
      "mle loss:  tensor(0.5686, grad_fn=<AddBackward0>)\n",
      "h_val:  tensor(0.2248, grad_fn=<AddBackward0>)\n"
     ]
    },
    {
     "name": "stderr",
     "output_type": "stream",
     "text": [
      " 18%|█▊        | 5080/29000 [00:11<00:51, 462.93it/s]"
     ]
    },
    {
     "name": "stdout",
     "output_type": "stream",
     "text": [
      "Sigma:  tensor([[0.4476, 0.2452],\n",
      "        [0.2452, 0.6612]], grad_fn=<MmBackward0>)\n",
      "obj:  tensor(0.7938, grad_fn=<AddBackward0>)\n",
      "mle loss:  tensor(0.5371, grad_fn=<AddBackward0>)\n",
      "h_val:  tensor(0.2333, grad_fn=<AddBackward0>)\n"
     ]
    },
    {
     "name": "stderr",
     "output_type": "stream",
     "text": [
      " 18%|█▊        | 5173/29000 [00:12<00:53, 441.67it/s]"
     ]
    },
    {
     "name": "stdout",
     "output_type": "stream",
     "text": [
      "Sigma:  tensor([[0.4465, 0.2553],\n",
      "        [0.2553, 0.6578]], grad_fn=<MmBackward0>)\n",
      "obj:  tensor(0.7709, grad_fn=<AddBackward0>)\n",
      "mle loss:  tensor(0.5052, grad_fn=<AddBackward0>)\n",
      "h_val:  tensor(0.2420, grad_fn=<AddBackward0>)\n"
     ]
    },
    {
     "name": "stderr",
     "output_type": "stream",
     "text": [
      " 18%|█▊        | 5264/29000 [00:12<00:54, 437.74it/s]"
     ]
    },
    {
     "name": "stdout",
     "output_type": "stream",
     "text": [
      "Sigma:  tensor([[0.4455, 0.2653],\n",
      "        [0.2653, 0.6546]], grad_fn=<MmBackward0>)\n",
      "obj:  tensor(0.7478, grad_fn=<AddBackward0>)\n",
      "mle loss:  tensor(0.4726, grad_fn=<AddBackward0>)\n",
      "h_val:  tensor(0.2508, grad_fn=<AddBackward0>)\n"
     ]
    },
    {
     "name": "stderr",
     "output_type": "stream",
     "text": [
      " 18%|█▊        | 5354/29000 [00:12<00:54, 436.40it/s]"
     ]
    },
    {
     "name": "stdout",
     "output_type": "stream",
     "text": [
      "Sigma:  tensor([[0.4445, 0.2754],\n",
      "        [0.2754, 0.6519]], grad_fn=<MmBackward0>)\n",
      "obj:  tensor(0.7247, grad_fn=<AddBackward0>)\n",
      "mle loss:  tensor(0.4397, grad_fn=<AddBackward0>)\n",
      "h_val:  tensor(0.2597, grad_fn=<AddBackward0>)\n"
     ]
    },
    {
     "name": "stderr",
     "output_type": "stream",
     "text": [
      " 19%|█▉        | 5492/29000 [00:12<00:51, 452.11it/s]"
     ]
    },
    {
     "name": "stdout",
     "output_type": "stream",
     "text": [
      "Sigma:  tensor([[0.4437, 0.2854],\n",
      "        [0.2854, 0.6498]], grad_fn=<MmBackward0>)\n",
      "obj:  tensor(0.7012, grad_fn=<AddBackward0>)\n",
      "mle loss:  tensor(0.4061, grad_fn=<AddBackward0>)\n",
      "h_val:  tensor(0.2687, grad_fn=<AddBackward0>)\n"
     ]
    },
    {
     "name": "stderr",
     "output_type": "stream",
     "text": [
      " 19%|█▉        | 5584/29000 [00:13<00:52, 449.04it/s]"
     ]
    },
    {
     "name": "stdout",
     "output_type": "stream",
     "text": [
      "Sigma:  tensor([[0.4431, 0.2956],\n",
      "        [0.2956, 0.6484]], grad_fn=<MmBackward0>)\n",
      "obj:  tensor(0.6771, grad_fn=<AddBackward0>)\n",
      "mle loss:  tensor(0.3718, grad_fn=<AddBackward0>)\n",
      "h_val:  tensor(0.2779, grad_fn=<AddBackward0>)\n"
     ]
    },
    {
     "name": "stderr",
     "output_type": "stream",
     "text": [
      " 20%|█▉        | 5673/29000 [00:13<00:55, 419.97it/s]"
     ]
    },
    {
     "name": "stdout",
     "output_type": "stream",
     "text": [
      "Sigma:  tensor([[0.4429, 0.3061],\n",
      "        [0.3061, 0.6475]], grad_fn=<MmBackward0>)\n",
      "obj:  tensor(0.6525, grad_fn=<AddBackward0>)\n",
      "mle loss:  tensor(0.3368, grad_fn=<AddBackward0>)\n",
      "h_val:  tensor(0.2872, grad_fn=<AddBackward0>)\n"
     ]
    },
    {
     "name": "stderr",
     "output_type": "stream",
     "text": [
      " 20%|█▉        | 5757/29000 [00:13<00:57, 404.01it/s]"
     ]
    },
    {
     "name": "stdout",
     "output_type": "stream",
     "text": [
      "Sigma:  tensor([[0.4431, 0.3167],\n",
      "        [0.3167, 0.6471]], grad_fn=<MmBackward0>)\n",
      "obj:  tensor(0.6273, grad_fn=<AddBackward0>)\n",
      "mle loss:  tensor(0.3011, grad_fn=<AddBackward0>)\n",
      "h_val:  tensor(0.2967, grad_fn=<AddBackward0>)\n"
     ]
    },
    {
     "name": "stderr",
     "output_type": "stream",
     "text": [
      " 20%|██        | 5877/29000 [00:13<00:59, 387.56it/s]"
     ]
    },
    {
     "name": "stdout",
     "output_type": "stream",
     "text": [
      "Sigma:  tensor([[0.4437, 0.3275],\n",
      "        [0.3275, 0.6471]], grad_fn=<MmBackward0>)\n",
      "obj:  tensor(0.6016, grad_fn=<AddBackward0>)\n",
      "mle loss:  tensor(0.2648, grad_fn=<AddBackward0>)\n",
      "h_val:  tensor(0.3064, grad_fn=<AddBackward0>)\n"
     ]
    },
    {
     "name": "stderr",
     "output_type": "stream",
     "text": [
      " 21%|██        | 5949/29000 [00:14<01:30, 255.06it/s]"
     ]
    },
    {
     "name": "stdout",
     "output_type": "stream",
     "text": [
      "Sigma:  tensor([[0.4447, 0.3383],\n",
      "        [0.3383, 0.6474]], grad_fn=<MmBackward0>)\n",
      "obj:  tensor(0.5754, grad_fn=<AddBackward0>)\n",
      "mle loss:  tensor(0.2279, grad_fn=<AddBackward0>)\n",
      "h_val:  tensor(0.3161, grad_fn=<AddBackward0>)\n"
     ]
    },
    {
     "name": "stderr",
     "output_type": "stream",
     "text": [
      " 21%|██        | 6086/29000 [00:14<01:01, 370.20it/s]"
     ]
    },
    {
     "name": "stdout",
     "output_type": "stream",
     "text": [
      "Sigma:  tensor([[0.4459, 0.3491],\n",
      "        [0.3491, 0.6481]], grad_fn=<MmBackward0>)\n",
      "obj:  tensor(0.5489, grad_fn=<AddBackward0>)\n",
      "mle loss:  tensor(0.1905, grad_fn=<AddBackward0>)\n",
      "h_val:  tensor(0.3260, grad_fn=<AddBackward0>)\n"
     ]
    },
    {
     "name": "stderr",
     "output_type": "stream",
     "text": [
      " 21%|██▏       | 6177/29000 [00:14<00:55, 407.96it/s]"
     ]
    },
    {
     "name": "stdout",
     "output_type": "stream",
     "text": [
      "Sigma:  tensor([[0.4473, 0.3597],\n",
      "        [0.3597, 0.6490]], grad_fn=<MmBackward0>)\n",
      "obj:  tensor(0.5220, grad_fn=<AddBackward0>)\n",
      "mle loss:  tensor(0.1526, grad_fn=<AddBackward0>)\n",
      "h_val:  tensor(0.3359, grad_fn=<AddBackward0>)\n"
     ]
    },
    {
     "name": "stderr",
     "output_type": "stream",
     "text": [
      " 22%|██▏       | 6266/29000 [00:14<00:53, 423.93it/s]"
     ]
    },
    {
     "name": "stdout",
     "output_type": "stream",
     "text": [
      "Sigma:  tensor([[0.4488, 0.3700],\n",
      "        [0.3700, 0.6501]], grad_fn=<MmBackward0>)\n",
      "obj:  tensor(0.4948, grad_fn=<AddBackward0>)\n",
      "mle loss:  tensor(0.1144, grad_fn=<AddBackward0>)\n",
      "h_val:  tensor(0.3460, grad_fn=<AddBackward0>)\n"
     ]
    },
    {
     "name": "stderr",
     "output_type": "stream",
     "text": [
      " 22%|██▏       | 6357/29000 [00:15<00:51, 437.52it/s]"
     ]
    },
    {
     "name": "stdout",
     "output_type": "stream",
     "text": [
      "Sigma:  tensor([[0.4505, 0.3800],\n",
      "        [0.3800, 0.6513]], grad_fn=<MmBackward0>)\n",
      "obj:  tensor(0.4675, grad_fn=<AddBackward0>)\n",
      "mle loss:  tensor(0.0759, grad_fn=<AddBackward0>)\n",
      "h_val:  tensor(0.3562, grad_fn=<AddBackward0>)\n"
     ]
    },
    {
     "name": "stderr",
     "output_type": "stream",
     "text": [
      " 22%|██▏       | 6448/29000 [00:15<00:50, 442.91it/s]"
     ]
    },
    {
     "name": "stdout",
     "output_type": "stream",
     "text": [
      "Sigma:  tensor([[0.4522, 0.3897],\n",
      "        [0.3897, 0.6526]], grad_fn=<MmBackward0>)\n",
      "obj:  tensor(0.4400, grad_fn=<AddBackward0>)\n",
      "mle loss:  tensor(0.0372, grad_fn=<AddBackward0>)\n",
      "h_val:  tensor(0.3665, grad_fn=<AddBackward0>)\n"
     ]
    },
    {
     "name": "stderr",
     "output_type": "stream",
     "text": [
      " 23%|██▎       | 6589/29000 [00:15<00:49, 457.20it/s]"
     ]
    },
    {
     "name": "stdout",
     "output_type": "stream",
     "text": [
      "Sigma:  tensor([[0.4539, 0.3990],\n",
      "        [0.3990, 0.6540]], grad_fn=<MmBackward0>)\n",
      "obj:  tensor(0.4125, grad_fn=<AddBackward0>)\n",
      "mle loss:  tensor(-0.0015, grad_fn=<AddBackward0>)\n",
      "h_val:  tensor(0.3768, grad_fn=<AddBackward0>)\n"
     ]
    },
    {
     "name": "stderr",
     "output_type": "stream",
     "text": [
      " 23%|██▎       | 6681/29000 [00:15<00:49, 454.23it/s]"
     ]
    },
    {
     "name": "stdout",
     "output_type": "stream",
     "text": [
      "Sigma:  tensor([[0.4557, 0.4078],\n",
      "        [0.4078, 0.6554]], grad_fn=<MmBackward0>)\n",
      "obj:  tensor(0.3850, grad_fn=<AddBackward0>)\n",
      "mle loss:  tensor(-0.0403, grad_fn=<AddBackward0>)\n",
      "h_val:  tensor(0.3873, grad_fn=<AddBackward0>)\n"
     ]
    },
    {
     "name": "stderr",
     "output_type": "stream",
     "text": [
      " 23%|██▎       | 6772/29000 [00:16<00:51, 428.85it/s]"
     ]
    },
    {
     "name": "stdout",
     "output_type": "stream",
     "text": [
      "Sigma:  tensor([[0.4573, 0.4163],\n",
      "        [0.4163, 0.6568]], grad_fn=<MmBackward0>)\n",
      "obj:  tensor(0.3577, grad_fn=<AddBackward0>)\n",
      "mle loss:  tensor(-0.0790, grad_fn=<AddBackward0>)\n",
      "h_val:  tensor(0.3978, grad_fn=<AddBackward0>)\n"
     ]
    },
    {
     "name": "stderr",
     "output_type": "stream",
     "text": [
      " 24%|██▎       | 6862/29000 [00:16<00:51, 431.83it/s]"
     ]
    },
    {
     "name": "stdout",
     "output_type": "stream",
     "text": [
      "Sigma:  tensor([[0.4589, 0.4242],\n",
      "        [0.4242, 0.6582]], grad_fn=<MmBackward0>)\n",
      "obj:  tensor(0.3306, grad_fn=<AddBackward0>)\n",
      "mle loss:  tensor(-0.1175, grad_fn=<AddBackward0>)\n",
      "h_val:  tensor(0.4083, grad_fn=<AddBackward0>)\n"
     ]
    },
    {
     "name": "stderr",
     "output_type": "stream",
     "text": [
      " 24%|██▍       | 6955/29000 [00:16<00:49, 445.56it/s]"
     ]
    },
    {
     "name": "stdout",
     "output_type": "stream",
     "text": [
      "Sigma:  tensor([[0.4604, 0.4318],\n",
      "        [0.4318, 0.6595]], grad_fn=<MmBackward0>)\n",
      "obj:  tensor(0.3037, grad_fn=<AddBackward0>)\n",
      "mle loss:  tensor(-0.1557, grad_fn=<AddBackward0>)\n",
      "h_val:  tensor(0.4189, grad_fn=<AddBackward0>)\n"
     ]
    },
    {
     "name": "stderr",
     "output_type": "stream",
     "text": [
      " 25%|██▍       | 7132/29000 [00:16<01:00, 361.12it/s]"
     ]
    },
    {
     "name": "stdout",
     "output_type": "stream",
     "text": [
      "Sigma:  tensor([[0.4457, 0.4199],\n",
      "        [0.4199, 0.6339]], grad_fn=<MmBackward0>)\n",
      "obj:  tensor(0.4049, grad_fn=<AddBackward0>)\n",
      "mle loss:  tensor(-0.1694, grad_fn=<AddBackward0>)\n",
      "h_val:  tensor(0.4177, grad_fn=<AddBackward0>)\n"
     ]
    },
    {
     "name": "stderr",
     "output_type": "stream",
     "text": [
      " 25%|██▌       | 7260/29000 [00:17<00:53, 405.70it/s]"
     ]
    },
    {
     "name": "stdout",
     "output_type": "stream",
     "text": [
      "Sigma:  tensor([[0.4302, 0.4005],\n",
      "        [0.4005, 0.6085]], grad_fn=<MmBackward0>)\n",
      "obj:  tensor(0.3947, grad_fn=<AddBackward0>)\n",
      "mle loss:  tensor(-0.1303, grad_fn=<AddBackward0>)\n",
      "h_val:  tensor(0.4037, grad_fn=<AddBackward0>)\n"
     ]
    },
    {
     "name": "stderr",
     "output_type": "stream",
     "text": [
      " 25%|██▌       | 7345/29000 [00:17<00:53, 407.20it/s]"
     ]
    },
    {
     "name": "stdout",
     "output_type": "stream",
     "text": [
      "Sigma:  tensor([[0.4191, 0.3848],\n",
      "        [0.3848, 0.5926]], grad_fn=<MmBackward0>)\n",
      "obj:  tensor(0.3853, grad_fn=<AddBackward0>)\n",
      "mle loss:  tensor(-0.0873, grad_fn=<AddBackward0>)\n",
      "h_val:  tensor(0.3900, grad_fn=<AddBackward0>)\n"
     ]
    },
    {
     "name": "stderr",
     "output_type": "stream",
     "text": [
      " 26%|██▌       | 7484/29000 [00:17<00:49, 432.11it/s]"
     ]
    },
    {
     "name": "stdout",
     "output_type": "stream",
     "text": [
      "Sigma:  tensor([[0.4140, 0.3748],\n",
      "        [0.3748, 0.5861]], grad_fn=<MmBackward0>)\n",
      "obj:  tensor(0.3765, grad_fn=<AddBackward0>)\n",
      "mle loss:  tensor(-0.0447, grad_fn=<AddBackward0>)\n",
      "h_val:  tensor(0.3771, grad_fn=<AddBackward0>)\n"
     ]
    },
    {
     "name": "stderr",
     "output_type": "stream",
     "text": [
      " 26%|██▌       | 7575/29000 [00:17<00:48, 441.77it/s]"
     ]
    },
    {
     "name": "stdout",
     "output_type": "stream",
     "text": [
      "Sigma:  tensor([[0.4145, 0.3708],\n",
      "        [0.3708, 0.5875]], grad_fn=<MmBackward0>)\n",
      "obj:  tensor(0.3682, grad_fn=<AddBackward0>)\n",
      "mle loss:  tensor(-0.0045, grad_fn=<AddBackward0>)\n",
      "h_val:  tensor(0.3647, grad_fn=<AddBackward0>)\n"
     ]
    },
    {
     "name": "stderr",
     "output_type": "stream",
     "text": [
      " 26%|██▋       | 7665/29000 [00:18<00:49, 433.05it/s]"
     ]
    },
    {
     "name": "stdout",
     "output_type": "stream",
     "text": [
      "Sigma:  tensor([[0.4182, 0.3717],\n",
      "        [0.3717, 0.5953]], grad_fn=<MmBackward0>)\n",
      "obj:  tensor(0.3601, grad_fn=<AddBackward0>)\n",
      "mle loss:  tensor(0.0330, grad_fn=<AddBackward0>)\n",
      "h_val:  tensor(0.3529, grad_fn=<AddBackward0>)\n"
     ]
    },
    {
     "name": "stderr",
     "output_type": "stream",
     "text": [
      " 27%|██▋       | 7751/29000 [00:18<00:52, 406.75it/s]"
     ]
    },
    {
     "name": "stdout",
     "output_type": "stream",
     "text": [
      "Sigma:  tensor([[0.4234, 0.3750],\n",
      "        [0.3750, 0.6063]], grad_fn=<MmBackward0>)\n",
      "obj:  tensor(0.3522, grad_fn=<AddBackward0>)\n",
      "mle loss:  tensor(0.0688, grad_fn=<AddBackward0>)\n",
      "h_val:  tensor(0.3415, grad_fn=<AddBackward0>)\n"
     ]
    },
    {
     "name": "stderr",
     "output_type": "stream",
     "text": [
      " 27%|██▋       | 7889/29000 [00:18<00:47, 442.24it/s]"
     ]
    },
    {
     "name": "stdout",
     "output_type": "stream",
     "text": [
      "Sigma:  tensor([[0.4289, 0.3788],\n",
      "        [0.3788, 0.6180]], grad_fn=<MmBackward0>)\n",
      "obj:  tensor(0.3445, grad_fn=<AddBackward0>)\n",
      "mle loss:  tensor(0.1045, grad_fn=<AddBackward0>)\n",
      "h_val:  tensor(0.3304, grad_fn=<AddBackward0>)\n"
     ]
    },
    {
     "name": "stderr",
     "output_type": "stream",
     "text": [
      " 28%|██▊       | 7980/29000 [00:18<00:47, 445.83it/s]"
     ]
    },
    {
     "name": "stdout",
     "output_type": "stream",
     "text": [
      "Sigma:  tensor([[0.4341, 0.3816],\n",
      "        [0.3816, 0.6291]], grad_fn=<MmBackward0>)\n",
      "obj:  tensor(0.3371, grad_fn=<AddBackward0>)\n",
      "mle loss:  tensor(0.1405, grad_fn=<AddBackward0>)\n",
      "h_val:  tensor(0.3194, grad_fn=<AddBackward0>)\n"
     ]
    },
    {
     "name": "stderr",
     "output_type": "stream",
     "text": [
      " 28%|██▊       | 8072/29000 [00:19<00:46, 446.54it/s]"
     ]
    },
    {
     "name": "stdout",
     "output_type": "stream",
     "text": [
      "Sigma:  tensor([[0.4386, 0.3834],\n",
      "        [0.3834, 0.6394]], grad_fn=<MmBackward0>)\n",
      "obj:  tensor(0.3298, grad_fn=<AddBackward0>)\n",
      "mle loss:  tensor(0.1773, grad_fn=<AddBackward0>)\n",
      "h_val:  tensor(0.3085, grad_fn=<AddBackward0>)\n"
     ]
    },
    {
     "name": "stderr",
     "output_type": "stream",
     "text": [
      " 28%|██▊       | 8163/29000 [00:19<00:47, 438.96it/s]"
     ]
    },
    {
     "name": "stdout",
     "output_type": "stream",
     "text": [
      "Sigma:  tensor([[0.4426, 0.3844],\n",
      "        [0.3844, 0.6495]], grad_fn=<MmBackward0>)\n",
      "obj:  tensor(0.3227, grad_fn=<AddBackward0>)\n",
      "mle loss:  tensor(0.2145, grad_fn=<AddBackward0>)\n",
      "h_val:  tensor(0.2978, grad_fn=<AddBackward0>)\n"
     ]
    },
    {
     "name": "stderr",
     "output_type": "stream",
     "text": [
      " 28%|██▊       | 8253/29000 [00:19<00:47, 439.93it/s]"
     ]
    },
    {
     "name": "stdout",
     "output_type": "stream",
     "text": [
      "Sigma:  tensor([[0.4467, 0.3852],\n",
      "        [0.3852, 0.6599]], grad_fn=<MmBackward0>)\n",
      "obj:  tensor(0.3159, grad_fn=<AddBackward0>)\n",
      "mle loss:  tensor(0.2521, grad_fn=<AddBackward0>)\n",
      "h_val:  tensor(0.2872, grad_fn=<AddBackward0>)\n"
     ]
    },
    {
     "name": "stderr",
     "output_type": "stream",
     "text": [
      " 29%|██▉       | 8344/29000 [00:19<00:46, 440.47it/s]"
     ]
    },
    {
     "name": "stdout",
     "output_type": "stream",
     "text": [
      "Sigma:  tensor([[0.4509, 0.3860],\n",
      "        [0.3860, 0.6707]], grad_fn=<MmBackward0>)\n",
      "obj:  tensor(0.3092, grad_fn=<AddBackward0>)\n",
      "mle loss:  tensor(0.2899, grad_fn=<AddBackward0>)\n",
      "h_val:  tensor(0.2768, grad_fn=<AddBackward0>)\n"
     ]
    },
    {
     "name": "stderr",
     "output_type": "stream",
     "text": [
      " 29%|██▉       | 8481/29000 [00:20<00:45, 446.96it/s]"
     ]
    },
    {
     "name": "stdout",
     "output_type": "stream",
     "text": [
      "Sigma:  tensor([[0.4553, 0.3869],\n",
      "        [0.3869, 0.6822]], grad_fn=<MmBackward0>)\n",
      "obj:  tensor(0.3027, grad_fn=<AddBackward0>)\n",
      "mle loss:  tensor(0.3278, grad_fn=<AddBackward0>)\n",
      "h_val:  tensor(0.2666, grad_fn=<AddBackward0>)\n"
     ]
    },
    {
     "name": "stderr",
     "output_type": "stream",
     "text": [
      " 30%|██▉       | 8571/29000 [00:20<00:46, 442.23it/s]"
     ]
    },
    {
     "name": "stdout",
     "output_type": "stream",
     "text": [
      "Sigma:  tensor([[0.4597, 0.3878],\n",
      "        [0.3878, 0.6942]], grad_fn=<MmBackward0>)\n",
      "obj:  tensor(0.2964, grad_fn=<AddBackward0>)\n",
      "mle loss:  tensor(0.3659, grad_fn=<AddBackward0>)\n",
      "h_val:  tensor(0.2566, grad_fn=<AddBackward0>)\n"
     ]
    },
    {
     "name": "stderr",
     "output_type": "stream",
     "text": [
      " 30%|██▉       | 8661/29000 [00:20<00:46, 439.63it/s]"
     ]
    },
    {
     "name": "stdout",
     "output_type": "stream",
     "text": [
      "Sigma:  tensor([[0.4642, 0.3885],\n",
      "        [0.3885, 0.7065]], grad_fn=<MmBackward0>)\n",
      "obj:  tensor(0.2903, grad_fn=<AddBackward0>)\n",
      "mle loss:  tensor(0.4040, grad_fn=<AddBackward0>)\n",
      "h_val:  tensor(0.2467, grad_fn=<AddBackward0>)\n"
     ]
    },
    {
     "name": "stderr",
     "output_type": "stream",
     "text": [
      " 30%|███       | 8751/29000 [00:20<00:45, 440.63it/s]"
     ]
    },
    {
     "name": "stdout",
     "output_type": "stream",
     "text": [
      "Sigma:  tensor([[0.4688, 0.3890],\n",
      "        [0.3890, 0.7190]], grad_fn=<MmBackward0>)\n",
      "obj:  tensor(0.2844, grad_fn=<AddBackward0>)\n",
      "mle loss:  tensor(0.4421, grad_fn=<AddBackward0>)\n",
      "h_val:  tensor(0.2371, grad_fn=<AddBackward0>)\n"
     ]
    },
    {
     "name": "stderr",
     "output_type": "stream",
     "text": [
      " 31%|███       | 8846/29000 [00:20<00:44, 448.18it/s]"
     ]
    },
    {
     "name": "stdout",
     "output_type": "stream",
     "text": [
      "Sigma:  tensor([[0.4734, 0.3894],\n",
      "        [0.3894, 0.7318]], grad_fn=<MmBackward0>)\n",
      "obj:  tensor(0.2787, grad_fn=<AddBackward0>)\n",
      "mle loss:  tensor(0.4800, grad_fn=<AddBackward0>)\n",
      "h_val:  tensor(0.2277, grad_fn=<AddBackward0>)\n"
     ]
    },
    {
     "name": "stderr",
     "output_type": "stream",
     "text": [
      " 31%|███       | 8987/29000 [00:21<00:44, 453.71it/s]"
     ]
    },
    {
     "name": "stdout",
     "output_type": "stream",
     "text": [
      "Sigma:  tensor([[0.4780, 0.3895],\n",
      "        [0.3895, 0.7447]], grad_fn=<MmBackward0>)\n",
      "obj:  tensor(0.2732, grad_fn=<AddBackward0>)\n",
      "mle loss:  tensor(0.5179, grad_fn=<AddBackward0>)\n",
      "h_val:  tensor(0.2185, grad_fn=<AddBackward0>)\n"
     ]
    },
    {
     "name": "stderr",
     "output_type": "stream",
     "text": [
      " 31%|███▏      | 9079/29000 [00:21<00:44, 451.11it/s]"
     ]
    },
    {
     "name": "stdout",
     "output_type": "stream",
     "text": [
      "Sigma:  tensor([[0.4827, 0.3896],\n",
      "        [0.3896, 0.7578]], grad_fn=<MmBackward0>)\n",
      "obj:  tensor(0.2678, grad_fn=<AddBackward0>)\n",
      "mle loss:  tensor(0.5555, grad_fn=<AddBackward0>)\n",
      "h_val:  tensor(0.2094, grad_fn=<AddBackward0>)\n"
     ]
    },
    {
     "name": "stderr",
     "output_type": "stream",
     "text": [
      " 32%|███▏      | 9172/29000 [00:21<00:43, 454.08it/s]"
     ]
    },
    {
     "name": "stdout",
     "output_type": "stream",
     "text": [
      "Sigma:  tensor([[0.4875, 0.3895],\n",
      "        [0.3895, 0.7711]], grad_fn=<MmBackward0>)\n",
      "obj:  tensor(0.2627, grad_fn=<AddBackward0>)\n",
      "mle loss:  tensor(0.5928, grad_fn=<AddBackward0>)\n",
      "h_val:  tensor(0.2007, grad_fn=<AddBackward0>)\n"
     ]
    },
    {
     "name": "stderr",
     "output_type": "stream",
     "text": [
      " 32%|███▏      | 9264/29000 [00:21<00:43, 450.08it/s]"
     ]
    },
    {
     "name": "stdout",
     "output_type": "stream",
     "text": [
      "Sigma:  tensor([[0.4922, 0.3892],\n",
      "        [0.3892, 0.7843]], grad_fn=<MmBackward0>)\n",
      "obj:  tensor(0.2578, grad_fn=<AddBackward0>)\n",
      "mle loss:  tensor(0.6299, grad_fn=<AddBackward0>)\n",
      "h_val:  tensor(0.1921, grad_fn=<AddBackward0>)\n"
     ]
    },
    {
     "name": "stderr",
     "output_type": "stream",
     "text": [
      " 32%|███▏      | 9355/29000 [00:22<00:44, 437.15it/s]"
     ]
    },
    {
     "name": "stdout",
     "output_type": "stream",
     "text": [
      "Sigma:  tensor([[0.4971, 0.3888],\n",
      "        [0.3888, 0.7975]], grad_fn=<MmBackward0>)\n",
      "obj:  tensor(0.2530, grad_fn=<AddBackward0>)\n",
      "mle loss:  tensor(0.6665, grad_fn=<AddBackward0>)\n",
      "h_val:  tensor(0.1838, grad_fn=<AddBackward0>)\n"
     ]
    },
    {
     "name": "stderr",
     "output_type": "stream",
     "text": [
      " 33%|███▎      | 9445/29000 [00:22<00:44, 441.00it/s]"
     ]
    },
    {
     "name": "stdout",
     "output_type": "stream",
     "text": [
      "Sigma:  tensor([[0.5020, 0.3882],\n",
      "        [0.3882, 0.8107]], grad_fn=<MmBackward0>)\n",
      "obj:  tensor(0.2484, grad_fn=<AddBackward0>)\n",
      "mle loss:  tensor(0.7027, grad_fn=<AddBackward0>)\n",
      "h_val:  tensor(0.1757, grad_fn=<AddBackward0>)\n"
     ]
    },
    {
     "name": "stderr",
     "output_type": "stream",
     "text": [
      " 33%|███▎      | 9583/29000 [00:22<00:43, 449.79it/s]"
     ]
    },
    {
     "name": "stdout",
     "output_type": "stream",
     "text": [
      "Sigma:  tensor([[0.5069, 0.3874],\n",
      "        [0.3874, 0.8237]], grad_fn=<MmBackward0>)\n",
      "obj:  tensor(0.2441, grad_fn=<AddBackward0>)\n",
      "mle loss:  tensor(0.7383, grad_fn=<AddBackward0>)\n",
      "h_val:  tensor(0.1678, grad_fn=<AddBackward0>)\n"
     ]
    },
    {
     "name": "stderr",
     "output_type": "stream",
     "text": [
      " 33%|███▎      | 9674/29000 [00:22<00:43, 447.04it/s]"
     ]
    },
    {
     "name": "stdout",
     "output_type": "stream",
     "text": [
      "Sigma:  tensor([[0.5119, 0.3865],\n",
      "        [0.3865, 0.8365]], grad_fn=<MmBackward0>)\n",
      "obj:  tensor(0.2399, grad_fn=<AddBackward0>)\n",
      "mle loss:  tensor(0.7734, grad_fn=<AddBackward0>)\n",
      "h_val:  tensor(0.1602, grad_fn=<AddBackward0>)\n"
     ]
    },
    {
     "name": "stderr",
     "output_type": "stream",
     "text": [
      " 34%|███▎      | 9765/29000 [00:22<00:43, 445.09it/s]"
     ]
    },
    {
     "name": "stdout",
     "output_type": "stream",
     "text": [
      "Sigma:  tensor([[0.5169, 0.3854],\n",
      "        [0.3854, 0.8491]], grad_fn=<MmBackward0>)\n",
      "obj:  tensor(0.2359, grad_fn=<AddBackward0>)\n",
      "mle loss:  tensor(0.8079, grad_fn=<AddBackward0>)\n",
      "h_val:  tensor(0.1528, grad_fn=<AddBackward0>)\n"
     ]
    },
    {
     "name": "stderr",
     "output_type": "stream",
     "text": [
      " 34%|███▍      | 9857/29000 [00:23<00:42, 446.39it/s]"
     ]
    },
    {
     "name": "stdout",
     "output_type": "stream",
     "text": [
      "Sigma:  tensor([[0.5219, 0.3842],\n",
      "        [0.3842, 0.8615]], grad_fn=<MmBackward0>)\n",
      "obj:  tensor(0.2321, grad_fn=<AddBackward0>)\n",
      "mle loss:  tensor(0.8416, grad_fn=<AddBackward0>)\n",
      "h_val:  tensor(0.1457, grad_fn=<AddBackward0>)\n"
     ]
    },
    {
     "name": "stderr",
     "output_type": "stream",
     "text": [
      " 34%|███▍      | 9949/29000 [00:23<00:42, 447.65it/s]"
     ]
    },
    {
     "name": "stdout",
     "output_type": "stream",
     "text": [
      "Sigma:  tensor([[0.5269, 0.3829],\n",
      "        [0.3829, 0.8735]], grad_fn=<MmBackward0>)\n",
      "obj:  tensor(0.2285, grad_fn=<AddBackward0>)\n",
      "mle loss:  tensor(0.8747, grad_fn=<AddBackward0>)\n",
      "h_val:  tensor(0.1389, grad_fn=<AddBackward0>)\n"
     ]
    },
    {
     "name": "stderr",
     "output_type": "stream",
     "text": [
      " 35%|███▍      | 10091/29000 [00:23<00:41, 458.64it/s]"
     ]
    },
    {
     "name": "stdout",
     "output_type": "stream",
     "text": [
      "Sigma:  tensor([[0.5320, 0.3814],\n",
      "        [0.3814, 0.8852]], grad_fn=<MmBackward0>)\n",
      "obj:  tensor(0.2251, grad_fn=<AddBackward0>)\n",
      "mle loss:  tensor(0.9070, grad_fn=<AddBackward0>)\n",
      "h_val:  tensor(0.1323, grad_fn=<AddBackward0>)\n"
     ]
    },
    {
     "name": "stderr",
     "output_type": "stream",
     "text": [
      " 35%|███▌      | 10183/29000 [00:23<00:41, 452.58it/s]"
     ]
    },
    {
     "name": "stdout",
     "output_type": "stream",
     "text": [
      "Sigma:  tensor([[0.5371, 0.3799],\n",
      "        [0.3799, 0.8965]], grad_fn=<MmBackward0>)\n",
      "obj:  tensor(0.2218, grad_fn=<AddBackward0>)\n",
      "mle loss:  tensor(0.9384, grad_fn=<AddBackward0>)\n",
      "h_val:  tensor(0.1260, grad_fn=<AddBackward0>)\n"
     ]
    },
    {
     "name": "stderr",
     "output_type": "stream",
     "text": [
      " 35%|███▌      | 10274/29000 [00:24<00:41, 448.22it/s]"
     ]
    },
    {
     "name": "stdout",
     "output_type": "stream",
     "text": [
      "Sigma:  tensor([[0.5422, 0.3783],\n",
      "        [0.3783, 0.9074]], grad_fn=<MmBackward0>)\n",
      "obj:  tensor(0.2188, grad_fn=<AddBackward0>)\n",
      "mle loss:  tensor(0.9691, grad_fn=<AddBackward0>)\n",
      "h_val:  tensor(0.1200, grad_fn=<AddBackward0>)\n"
     ]
    },
    {
     "name": "stderr",
     "output_type": "stream",
     "text": [
      " 36%|███▌      | 10366/29000 [00:24<00:41, 449.24it/s]"
     ]
    },
    {
     "name": "stdout",
     "output_type": "stream",
     "text": [
      "Sigma:  tensor([[0.5473, 0.3767],\n",
      "        [0.3767, 0.9179]], grad_fn=<MmBackward0>)\n",
      "obj:  tensor(0.2159, grad_fn=<AddBackward0>)\n",
      "mle loss:  tensor(0.9988, grad_fn=<AddBackward0>)\n",
      "h_val:  tensor(0.1142, grad_fn=<AddBackward0>)\n"
     ]
    },
    {
     "name": "stderr",
     "output_type": "stream",
     "text": [
      " 36%|███▌      | 10457/29000 [00:24<00:42, 441.48it/s]"
     ]
    },
    {
     "name": "stdout",
     "output_type": "stream",
     "text": [
      "Sigma:  tensor([[0.5525, 0.3750],\n",
      "        [0.3750, 0.9280]], grad_fn=<MmBackward0>)\n",
      "obj:  tensor(0.2132, grad_fn=<AddBackward0>)\n",
      "mle loss:  tensor(1.0277, grad_fn=<AddBackward0>)\n",
      "h_val:  tensor(0.1087, grad_fn=<AddBackward0>)\n"
     ]
    },
    {
     "name": "stderr",
     "output_type": "stream",
     "text": [
      " 36%|███▋      | 10548/29000 [00:24<00:41, 445.19it/s]"
     ]
    },
    {
     "name": "stdout",
     "output_type": "stream",
     "text": [
      "Sigma:  tensor([[0.5576, 0.3732],\n",
      "        [0.3732, 0.9377]], grad_fn=<MmBackward0>)\n",
      "obj:  tensor(0.2107, grad_fn=<AddBackward0>)\n",
      "mle loss:  tensor(1.0557, grad_fn=<AddBackward0>)\n",
      "h_val:  tensor(0.1035, grad_fn=<AddBackward0>)\n"
     ]
    },
    {
     "name": "stderr",
     "output_type": "stream",
     "text": [
      " 37%|███▋      | 10690/29000 [00:24<00:39, 459.98it/s]"
     ]
    },
    {
     "name": "stdout",
     "output_type": "stream",
     "text": [
      "Sigma:  tensor([[0.5628, 0.3716],\n",
      "        [0.3716, 0.9469]], grad_fn=<MmBackward0>)\n",
      "obj:  tensor(0.2084, grad_fn=<AddBackward0>)\n",
      "mle loss:  tensor(1.0824, grad_fn=<AddBackward0>)\n",
      "h_val:  tensor(0.0985, grad_fn=<AddBackward0>)\n"
     ]
    },
    {
     "name": "stderr",
     "output_type": "stream",
     "text": [
      " 37%|███▋      | 10784/29000 [00:25<00:40, 454.52it/s]"
     ]
    },
    {
     "name": "stdout",
     "output_type": "stream",
     "text": [
      "Sigma:  tensor([[0.5689, 0.3711],\n",
      "        [0.3711, 0.9554]], grad_fn=<MmBackward0>)\n",
      "obj:  tensor(0.2062, grad_fn=<AddBackward0>)\n",
      "mle loss:  tensor(1.1078, grad_fn=<AddBackward0>)\n",
      "h_val:  tensor(0.0938, grad_fn=<AddBackward0>)\n"
     ]
    },
    {
     "name": "stderr",
     "output_type": "stream",
     "text": [
      " 38%|███▊      | 10878/29000 [00:25<00:39, 458.17it/s]"
     ]
    },
    {
     "name": "stdout",
     "output_type": "stream",
     "text": [
      "Sigma:  tensor([[0.5759, 0.3724],\n",
      "        [0.3724, 0.9634]], grad_fn=<MmBackward0>)\n",
      "obj:  tensor(0.2042, grad_fn=<AddBackward0>)\n",
      "mle loss:  tensor(1.1323, grad_fn=<AddBackward0>)\n",
      "h_val:  tensor(0.0894, grad_fn=<AddBackward0>)\n"
     ]
    },
    {
     "name": "stderr",
     "output_type": "stream",
     "text": [
      " 38%|███▊      | 10971/29000 [00:25<00:39, 453.76it/s]"
     ]
    },
    {
     "name": "stdout",
     "output_type": "stream",
     "text": [
      "Sigma:  tensor([[0.5832, 0.3745],\n",
      "        [0.3745, 0.9718]], grad_fn=<MmBackward0>)\n",
      "obj:  tensor(0.2023, grad_fn=<AddBackward0>)\n",
      "mle loss:  tensor(1.1559, grad_fn=<AddBackward0>)\n",
      "h_val:  tensor(0.0852, grad_fn=<AddBackward0>)\n"
     ]
    },
    {
     "name": "stderr",
     "output_type": "stream",
     "text": [
      " 38%|███▊      | 11017/29000 [00:25<00:40, 447.61it/s]"
     ]
    },
    {
     "name": "stdout",
     "output_type": "stream",
     "text": [
      "Sigma:  tensor([[0.5903, 0.3764],\n",
      "        [0.3764, 0.9801]], grad_fn=<MmBackward0>)\n",
      "obj:  tensor(0.2006, grad_fn=<AddBackward0>)\n",
      "mle loss:  tensor(1.1787, grad_fn=<AddBackward0>)\n",
      "h_val:  tensor(0.0812, grad_fn=<AddBackward0>)\n"
     ]
    },
    {
     "name": "stderr",
     "output_type": "stream",
     "text": [
      " 38%|███▊      | 11155/29000 [00:26<00:49, 363.43it/s]"
     ]
    },
    {
     "name": "stdout",
     "output_type": "stream",
     "text": [
      "Sigma:  tensor([[0.5971, 0.3782],\n",
      "        [0.3782, 0.9881]], grad_fn=<MmBackward0>)\n",
      "obj:  tensor(0.1989, grad_fn=<AddBackward0>)\n",
      "mle loss:  tensor(1.2008, grad_fn=<AddBackward0>)\n",
      "h_val:  tensor(0.0774, grad_fn=<AddBackward0>)\n"
     ]
    },
    {
     "name": "stderr",
     "output_type": "stream",
     "text": [
      " 39%|███▉      | 11247/29000 [00:26<00:44, 399.55it/s]"
     ]
    },
    {
     "name": "stdout",
     "output_type": "stream",
     "text": [
      "Sigma:  tensor([[0.6040, 0.3802],\n",
      "        [0.3802, 0.9958]], grad_fn=<MmBackward0>)\n",
      "obj:  tensor(0.1974, grad_fn=<AddBackward0>)\n",
      "mle loss:  tensor(1.2221, grad_fn=<AddBackward0>)\n",
      "h_val:  tensor(0.0738, grad_fn=<AddBackward0>)\n"
     ]
    },
    {
     "name": "stderr",
     "output_type": "stream",
     "text": [
      " 39%|███▉      | 11381/29000 [00:26<00:41, 424.64it/s]"
     ]
    },
    {
     "name": "stdout",
     "output_type": "stream",
     "text": [
      "Sigma:  tensor([[0.6108, 0.3825],\n",
      "        [0.3825, 1.0034]], grad_fn=<MmBackward0>)\n",
      "obj:  tensor(0.1960, grad_fn=<AddBackward0>)\n",
      "mle loss:  tensor(1.2426, grad_fn=<AddBackward0>)\n",
      "h_val:  tensor(0.0704, grad_fn=<AddBackward0>)\n"
     ]
    },
    {
     "name": "stderr",
     "output_type": "stream",
     "text": [
      " 40%|███▉      | 11470/29000 [00:26<00:40, 430.71it/s]"
     ]
    },
    {
     "name": "stdout",
     "output_type": "stream",
     "text": [
      "Sigma:  tensor([[0.6176, 0.3849],\n",
      "        [0.3849, 1.0109]], grad_fn=<MmBackward0>)\n",
      "obj:  tensor(0.1947, grad_fn=<AddBackward0>)\n",
      "mle loss:  tensor(1.2623, grad_fn=<AddBackward0>)\n",
      "h_val:  tensor(0.0671, grad_fn=<AddBackward0>)\n"
     ]
    },
    {
     "name": "stderr",
     "output_type": "stream",
     "text": [
      " 40%|███▉      | 11559/29000 [00:27<00:40, 433.00it/s]"
     ]
    },
    {
     "name": "stdout",
     "output_type": "stream",
     "text": [
      "Sigma:  tensor([[0.6243, 0.3874],\n",
      "        [0.3874, 1.0181]], grad_fn=<MmBackward0>)\n",
      "obj:  tensor(0.1935, grad_fn=<AddBackward0>)\n",
      "mle loss:  tensor(1.2813, grad_fn=<AddBackward0>)\n",
      "h_val:  tensor(0.0641, grad_fn=<AddBackward0>)\n"
     ]
    },
    {
     "name": "stderr",
     "output_type": "stream",
     "text": [
      " 40%|████      | 11651/29000 [00:27<00:39, 440.88it/s]"
     ]
    },
    {
     "name": "stdout",
     "output_type": "stream",
     "text": [
      "Sigma:  tensor([[0.6310, 0.3900],\n",
      "        [0.3900, 1.0250]], grad_fn=<MmBackward0>)\n",
      "obj:  tensor(0.1924, grad_fn=<AddBackward0>)\n",
      "mle loss:  tensor(1.2996, grad_fn=<AddBackward0>)\n",
      "h_val:  tensor(0.0611, grad_fn=<AddBackward0>)\n"
     ]
    },
    {
     "name": "stderr",
     "output_type": "stream",
     "text": [
      " 41%|████      | 11792/29000 [00:27<00:37, 456.82it/s]"
     ]
    },
    {
     "name": "stdout",
     "output_type": "stream",
     "text": [
      "Sigma:  tensor([[0.6377, 0.3927],\n",
      "        [0.3927, 1.0317]], grad_fn=<MmBackward0>)\n",
      "obj:  tensor(0.1913, grad_fn=<AddBackward0>)\n",
      "mle loss:  tensor(1.3172, grad_fn=<AddBackward0>)\n",
      "h_val:  tensor(0.0584, grad_fn=<AddBackward0>)\n"
     ]
    },
    {
     "name": "stderr",
     "output_type": "stream",
     "text": [
      " 41%|████      | 11884/29000 [00:27<00:37, 450.68it/s]"
     ]
    },
    {
     "name": "stdout",
     "output_type": "stream",
     "text": [
      "Sigma:  tensor([[0.6443, 0.3956],\n",
      "        [0.3956, 1.0382]], grad_fn=<MmBackward0>)\n",
      "obj:  tensor(0.1904, grad_fn=<AddBackward0>)\n",
      "mle loss:  tensor(1.3341, grad_fn=<AddBackward0>)\n",
      "h_val:  tensor(0.0558, grad_fn=<AddBackward0>)\n"
     ]
    },
    {
     "name": "stderr",
     "output_type": "stream",
     "text": [
      " 41%|████▏     | 11976/29000 [00:28<00:37, 448.12it/s]"
     ]
    },
    {
     "name": "stdout",
     "output_type": "stream",
     "text": [
      "Sigma:  tensor([[0.6508, 0.3986],\n",
      "        [0.3986, 1.0445]], grad_fn=<MmBackward0>)\n",
      "obj:  tensor(0.1895, grad_fn=<AddBackward0>)\n",
      "mle loss:  tensor(1.3503, grad_fn=<AddBackward0>)\n",
      "h_val:  tensor(0.0533, grad_fn=<AddBackward0>)\n"
     ]
    },
    {
     "name": "stderr",
     "output_type": "stream",
     "text": [
      " 42%|████▏     | 12066/29000 [00:28<00:38, 444.44it/s]"
     ]
    },
    {
     "name": "stdout",
     "output_type": "stream",
     "text": [
      "Sigma:  tensor([[0.6573, 0.4016],\n",
      "        [0.4016, 1.0506]], grad_fn=<MmBackward0>)\n",
      "obj:  tensor(0.1887, grad_fn=<AddBackward0>)\n",
      "mle loss:  tensor(1.3659, grad_fn=<AddBackward0>)\n",
      "h_val:  tensor(0.0510, grad_fn=<AddBackward0>)\n"
     ]
    },
    {
     "name": "stderr",
     "output_type": "stream",
     "text": [
      " 42%|████▏     | 12157/29000 [00:28<00:37, 446.05it/s]"
     ]
    },
    {
     "name": "stdout",
     "output_type": "stream",
     "text": [
      "Sigma:  tensor([[0.6637, 0.4048],\n",
      "        [0.4048, 1.0565]], grad_fn=<MmBackward0>)\n",
      "obj:  tensor(0.1880, grad_fn=<AddBackward0>)\n",
      "mle loss:  tensor(1.3810, grad_fn=<AddBackward0>)\n",
      "h_val:  tensor(0.0488, grad_fn=<AddBackward0>)\n"
     ]
    },
    {
     "name": "stderr",
     "output_type": "stream",
     "text": [
      " 42%|████▏     | 12247/29000 [00:28<00:37, 443.10it/s]"
     ]
    },
    {
     "name": "stdout",
     "output_type": "stream",
     "text": [
      "Sigma:  tensor([[0.6699, 0.4079],\n",
      "        [0.4079, 1.0623]], grad_fn=<MmBackward0>)\n",
      "obj:  tensor(0.1873, grad_fn=<AddBackward0>)\n",
      "mle loss:  tensor(1.3955, grad_fn=<AddBackward0>)\n",
      "h_val:  tensor(0.0467, grad_fn=<AddBackward0>)\n"
     ]
    },
    {
     "name": "stderr",
     "output_type": "stream",
     "text": [
      " 43%|████▎     | 12389/29000 [00:28<00:36, 450.59it/s]"
     ]
    },
    {
     "name": "stdout",
     "output_type": "stream",
     "text": [
      "Sigma:  tensor([[0.6761, 0.4111],\n",
      "        [0.4111, 1.0679]], grad_fn=<MmBackward0>)\n",
      "obj:  tensor(0.1867, grad_fn=<AddBackward0>)\n",
      "mle loss:  tensor(1.4094, grad_fn=<AddBackward0>)\n",
      "h_val:  tensor(0.0447, grad_fn=<AddBackward0>)\n"
     ]
    },
    {
     "name": "stderr",
     "output_type": "stream",
     "text": [
      " 43%|████▎     | 12481/29000 [00:29<00:36, 447.54it/s]"
     ]
    },
    {
     "name": "stdout",
     "output_type": "stream",
     "text": [
      "Sigma:  tensor([[0.6816, 0.4138],\n",
      "        [0.4138, 1.0736]], grad_fn=<MmBackward0>)\n",
      "obj:  tensor(0.1861, grad_fn=<AddBackward0>)\n",
      "mle loss:  tensor(1.4229, grad_fn=<AddBackward0>)\n",
      "h_val:  tensor(0.0428, grad_fn=<AddBackward0>)\n"
     ]
    },
    {
     "name": "stderr",
     "output_type": "stream",
     "text": [
      " 43%|████▎     | 12571/29000 [00:29<00:37, 441.87it/s]"
     ]
    },
    {
     "name": "stdout",
     "output_type": "stream",
     "text": [
      "Sigma:  tensor([[0.6867, 0.4157],\n",
      "        [0.4157, 1.0790]], grad_fn=<MmBackward0>)\n",
      "obj:  tensor(0.1856, grad_fn=<AddBackward0>)\n",
      "mle loss:  tensor(1.4358, grad_fn=<AddBackward0>)\n",
      "h_val:  tensor(0.0410, grad_fn=<AddBackward0>)\n"
     ]
    },
    {
     "name": "stderr",
     "output_type": "stream",
     "text": [
      " 44%|████▎     | 12663/29000 [00:29<00:36, 445.94it/s]"
     ]
    },
    {
     "name": "stdout",
     "output_type": "stream",
     "text": [
      "Sigma:  tensor([[0.6917, 0.4178],\n",
      "        [0.4178, 1.0838]], grad_fn=<MmBackward0>)\n",
      "obj:  tensor(0.1852, grad_fn=<AddBackward0>)\n",
      "mle loss:  tensor(1.4483, grad_fn=<AddBackward0>)\n",
      "h_val:  tensor(0.0394, grad_fn=<AddBackward0>)\n"
     ]
    },
    {
     "name": "stderr",
     "output_type": "stream",
     "text": [
      " 44%|████▍     | 12753/29000 [00:29<00:36, 442.37it/s]"
     ]
    },
    {
     "name": "stdout",
     "output_type": "stream",
     "text": [
      "Sigma:  tensor([[0.6966, 0.4198],\n",
      "        [0.4198, 1.0887]], grad_fn=<MmBackward0>)\n",
      "obj:  tensor(0.1848, grad_fn=<AddBackward0>)\n",
      "mle loss:  tensor(1.4603, grad_fn=<AddBackward0>)\n",
      "h_val:  tensor(0.0378, grad_fn=<AddBackward0>)\n"
     ]
    },
    {
     "name": "stderr",
     "output_type": "stream",
     "text": [
      " 44%|████▍     | 12842/29000 [00:30<00:38, 419.49it/s]"
     ]
    },
    {
     "name": "stdout",
     "output_type": "stream",
     "text": [
      "Sigma:  tensor([[0.7012, 0.4215],\n",
      "        [0.4215, 1.0932]], grad_fn=<MmBackward0>)\n",
      "obj:  tensor(0.1844, grad_fn=<AddBackward0>)\n",
      "mle loss:  tensor(1.4717, grad_fn=<AddBackward0>)\n",
      "h_val:  tensor(0.0363, grad_fn=<AddBackward0>)\n"
     ]
    },
    {
     "name": "stderr",
     "output_type": "stream",
     "text": [
      " 45%|████▍     | 12978/29000 [00:30<00:36, 437.60it/s]"
     ]
    },
    {
     "name": "stdout",
     "output_type": "stream",
     "text": [
      "Sigma:  tensor([[0.7056, 0.4231],\n",
      "        [0.4231, 1.0976]], grad_fn=<MmBackward0>)\n",
      "obj:  tensor(0.1841, grad_fn=<AddBackward0>)\n",
      "mle loss:  tensor(1.4827, grad_fn=<AddBackward0>)\n",
      "h_val:  tensor(0.0350, grad_fn=<AddBackward0>)\n"
     ]
    },
    {
     "name": "stderr",
     "output_type": "stream",
     "text": [
      " 45%|████▌     | 13066/29000 [00:30<00:37, 419.49it/s]"
     ]
    },
    {
     "name": "stdout",
     "output_type": "stream",
     "text": [
      "Sigma:  tensor([[0.7097, 0.4252],\n",
      "        [0.4252, 1.1025]], grad_fn=<MmBackward0>)\n",
      "obj:  tensor(0.1839, grad_fn=<AddBackward0>)\n",
      "mle loss:  tensor(1.4932, grad_fn=<AddBackward0>)\n",
      "h_val:  tensor(0.0337, grad_fn=<AddBackward0>)\n"
     ]
    },
    {
     "name": "stderr",
     "output_type": "stream",
     "text": [
      " 45%|████▌     | 13150/29000 [00:30<00:40, 386.95it/s]"
     ]
    },
    {
     "name": "stdout",
     "output_type": "stream",
     "text": [
      "Sigma:  tensor([[0.7139, 0.4274],\n",
      "        [0.4274, 1.1073]], grad_fn=<MmBackward0>)\n",
      "obj:  tensor(0.1837, grad_fn=<AddBackward0>)\n",
      "mle loss:  tensor(1.5031, grad_fn=<AddBackward0>)\n",
      "h_val:  tensor(0.0325, grad_fn=<AddBackward0>)\n"
     ]
    },
    {
     "name": "stderr",
     "output_type": "stream",
     "text": [
      " 46%|████▌     | 13269/29000 [00:31<00:40, 386.59it/s]"
     ]
    },
    {
     "name": "stdout",
     "output_type": "stream",
     "text": [
      "Sigma:  tensor([[0.7177, 0.4292],\n",
      "        [0.4292, 1.1117]], grad_fn=<MmBackward0>)\n",
      "obj:  tensor(0.1835, grad_fn=<AddBackward0>)\n",
      "mle loss:  tensor(1.5125, grad_fn=<AddBackward0>)\n",
      "h_val:  tensor(0.0314, grad_fn=<AddBackward0>)\n"
     ]
    },
    {
     "name": "stderr",
     "output_type": "stream",
     "text": [
      " 46%|████▌     | 13347/29000 [00:31<00:40, 385.29it/s]"
     ]
    },
    {
     "name": "stdout",
     "output_type": "stream",
     "text": [
      "Sigma:  tensor([[0.7213, 0.4311],\n",
      "        [0.4311, 1.1161]], grad_fn=<MmBackward0>)\n",
      "obj:  tensor(0.1833, grad_fn=<AddBackward0>)\n",
      "mle loss:  tensor(1.5214, grad_fn=<AddBackward0>)\n",
      "h_val:  tensor(0.0303, grad_fn=<AddBackward0>)\n"
     ]
    },
    {
     "name": "stderr",
     "output_type": "stream",
     "text": [
      " 46%|████▋     | 13469/29000 [00:31<00:39, 394.19it/s]"
     ]
    },
    {
     "name": "stdout",
     "output_type": "stream",
     "text": [
      "Sigma:  tensor([[0.7246, 0.4328],\n",
      "        [0.4328, 1.1202]], grad_fn=<MmBackward0>)\n",
      "obj:  tensor(0.1832, grad_fn=<AddBackward0>)\n",
      "mle loss:  tensor(1.5297, grad_fn=<AddBackward0>)\n",
      "h_val:  tensor(0.0294, grad_fn=<AddBackward0>)\n"
     ]
    },
    {
     "name": "stderr",
     "output_type": "stream",
     "text": [
      " 47%|████▋     | 13548/29000 [00:31<00:40, 378.54it/s]"
     ]
    },
    {
     "name": "stdout",
     "output_type": "stream",
     "text": [
      "Sigma:  tensor([[0.7277, 0.4344],\n",
      "        [0.4344, 1.1241]], grad_fn=<MmBackward0>)\n",
      "obj:  tensor(0.1831, grad_fn=<AddBackward0>)\n",
      "mle loss:  tensor(1.5375, grad_fn=<AddBackward0>)\n",
      "h_val:  tensor(0.0285, grad_fn=<AddBackward0>)\n"
     ]
    },
    {
     "name": "stderr",
     "output_type": "stream",
     "text": [
      " 47%|████▋     | 13662/29000 [00:32<00:41, 373.90it/s]"
     ]
    },
    {
     "name": "stdout",
     "output_type": "stream",
     "text": [
      "Sigma:  tensor([[0.7306, 0.4360],\n",
      "        [0.4360, 1.1278]], grad_fn=<MmBackward0>)\n",
      "obj:  tensor(0.1830, grad_fn=<AddBackward0>)\n",
      "mle loss:  tensor(1.5447, grad_fn=<AddBackward0>)\n",
      "h_val:  tensor(0.0277, grad_fn=<AddBackward0>)\n"
     ]
    },
    {
     "name": "stderr",
     "output_type": "stream",
     "text": [
      " 48%|████▊     | 13779/29000 [00:32<00:39, 383.98it/s]"
     ]
    },
    {
     "name": "stdout",
     "output_type": "stream",
     "text": [
      "Sigma:  tensor([[0.7332, 0.4375],\n",
      "        [0.4375, 1.1313]], grad_fn=<MmBackward0>)\n",
      "obj:  tensor(0.1830, grad_fn=<AddBackward0>)\n",
      "mle loss:  tensor(1.5513, grad_fn=<AddBackward0>)\n",
      "h_val:  tensor(0.0270, grad_fn=<AddBackward0>)\n"
     ]
    },
    {
     "name": "stderr",
     "output_type": "stream",
     "text": [
      " 48%|████▊     | 13857/29000 [00:32<00:39, 380.65it/s]"
     ]
    },
    {
     "name": "stdout",
     "output_type": "stream",
     "text": [
      "Sigma:  tensor([[0.7356, 0.4388],\n",
      "        [0.4388, 1.1345]], grad_fn=<MmBackward0>)\n",
      "obj:  tensor(0.1829, grad_fn=<AddBackward0>)\n",
      "mle loss:  tensor(1.5574, grad_fn=<AddBackward0>)\n",
      "h_val:  tensor(0.0264, grad_fn=<AddBackward0>)\n"
     ]
    },
    {
     "name": "stderr",
     "output_type": "stream",
     "text": [
      " 48%|████▊     | 13976/29000 [00:32<00:39, 382.30it/s]"
     ]
    },
    {
     "name": "stdout",
     "output_type": "stream",
     "text": [
      "Sigma:  tensor([[0.7378, 0.4401],\n",
      "        [0.4401, 1.1375]], grad_fn=<MmBackward0>)\n",
      "obj:  tensor(0.1829, grad_fn=<AddBackward0>)\n",
      "mle loss:  tensor(1.5629, grad_fn=<AddBackward0>)\n",
      "h_val:  tensor(0.0258, grad_fn=<AddBackward0>)\n"
     ]
    },
    {
     "name": "stderr",
     "output_type": "stream",
     "text": [
      " 49%|████▉     | 14183/29000 [00:33<00:36, 411.43it/s]"
     ]
    },
    {
     "name": "stdout",
     "output_type": "stream",
     "text": [
      "Sigma:  tensor([[0.7427, 0.4434],\n",
      "        [0.4434, 1.1515]], grad_fn=<MmBackward0>)\n",
      "obj:  tensor(0.0399, grad_fn=<AddBackward0>)\n",
      "mle loss:  tensor(1.5810, grad_fn=<AddBackward0>)\n",
      "h_val:  tensor(0.0240, grad_fn=<AddBackward0>)\n"
     ]
    },
    {
     "name": "stderr",
     "output_type": "stream",
     "text": [
      " 49%|████▉     | 14266/29000 [00:33<00:37, 396.51it/s]"
     ]
    },
    {
     "name": "stdout",
     "output_type": "stream",
     "text": [
      "Sigma:  tensor([[0.7463, 0.4411],\n",
      "        [0.4411, 1.1646]], grad_fn=<MmBackward0>)\n",
      "obj:  tensor(0.0376, grad_fn=<AddBackward0>)\n",
      "mle loss:  tensor(1.6073, grad_fn=<AddBackward0>)\n",
      "h_val:  tensor(0.0215, grad_fn=<AddBackward0>)\n"
     ]
    },
    {
     "name": "stderr",
     "output_type": "stream",
     "text": [
      " 49%|████▉     | 14345/29000 [00:33<00:38, 383.15it/s]"
     ]
    },
    {
     "name": "stdout",
     "output_type": "stream",
     "text": [
      "Sigma:  tensor([[0.7518, 0.4405],\n",
      "        [0.4405, 1.1783]], grad_fn=<MmBackward0>)\n",
      "obj:  tensor(0.0353, grad_fn=<AddBackward0>)\n",
      "mle loss:  tensor(1.6363, grad_fn=<AddBackward0>)\n",
      "h_val:  tensor(0.0188, grad_fn=<AddBackward0>)\n"
     ]
    },
    {
     "name": "stderr",
     "output_type": "stream",
     "text": [
      " 50%|████▉     | 14467/29000 [00:34<00:37, 391.17it/s]"
     ]
    },
    {
     "name": "stdout",
     "output_type": "stream",
     "text": [
      "Sigma:  tensor([[0.7620, 0.4469],\n",
      "        [0.4469, 1.1966]], grad_fn=<MmBackward0>)\n",
      "obj:  tensor(0.0330, grad_fn=<AddBackward0>)\n",
      "mle loss:  tensor(1.6656, grad_fn=<AddBackward0>)\n",
      "h_val:  tensor(0.0163, grad_fn=<AddBackward0>)\n"
     ]
    },
    {
     "name": "stderr",
     "output_type": "stream",
     "text": [
      " 50%|█████     | 14546/29000 [00:34<00:37, 380.68it/s]"
     ]
    },
    {
     "name": "stdout",
     "output_type": "stream",
     "text": [
      "Sigma:  tensor([[0.7748, 0.4577],\n",
      "        [0.4577, 1.2178]], grad_fn=<MmBackward0>)\n",
      "obj:  tensor(0.0310, grad_fn=<AddBackward0>)\n",
      "mle loss:  tensor(1.6945, grad_fn=<AddBackward0>)\n",
      "h_val:  tensor(0.0140, grad_fn=<AddBackward0>)\n"
     ]
    },
    {
     "name": "stderr",
     "output_type": "stream",
     "text": [
      " 51%|█████     | 14666/29000 [00:34<00:36, 387.52it/s]"
     ]
    },
    {
     "name": "stdout",
     "output_type": "stream",
     "text": [
      "Sigma:  tensor([[0.7879, 0.4682],\n",
      "        [0.4682, 1.2375]], grad_fn=<MmBackward0>)\n",
      "obj:  tensor(0.0292, grad_fn=<AddBackward0>)\n",
      "mle loss:  tensor(1.7224, grad_fn=<AddBackward0>)\n",
      "h_val:  tensor(0.0120, grad_fn=<AddBackward0>)\n"
     ]
    },
    {
     "name": "stderr",
     "output_type": "stream",
     "text": [
      " 51%|█████     | 14743/29000 [00:34<00:38, 372.16it/s]"
     ]
    },
    {
     "name": "stdout",
     "output_type": "stream",
     "text": [
      "Sigma:  tensor([[0.8003, 0.4777],\n",
      "        [0.4777, 1.2556]], grad_fn=<MmBackward0>)\n",
      "obj:  tensor(0.0277, grad_fn=<AddBackward0>)\n",
      "mle loss:  tensor(1.7491, grad_fn=<AddBackward0>)\n",
      "h_val:  tensor(0.0101, grad_fn=<AddBackward0>)\n"
     ]
    },
    {
     "name": "stderr",
     "output_type": "stream",
     "text": [
      " 51%|█████▏    | 14866/29000 [00:35<00:36, 385.78it/s]"
     ]
    },
    {
     "name": "stdout",
     "output_type": "stream",
     "text": [
      "Sigma:  tensor([[0.8120, 0.4865],\n",
      "        [0.4865, 1.2729]], grad_fn=<MmBackward0>)\n",
      "obj:  tensor(0.0263, grad_fn=<AddBackward0>)\n",
      "mle loss:  tensor(1.7744, grad_fn=<AddBackward0>)\n",
      "h_val:  tensor(0.0085, grad_fn=<AddBackward0>)\n"
     ]
    },
    {
     "name": "stderr",
     "output_type": "stream",
     "text": [
      " 52%|█████▏    | 14945/29000 [00:35<00:36, 388.83it/s]"
     ]
    },
    {
     "name": "stdout",
     "output_type": "stream",
     "text": [
      "Sigma:  tensor([[0.8226, 0.4938],\n",
      "        [0.4938, 1.2888]], grad_fn=<MmBackward0>)\n",
      "obj:  tensor(0.0252, grad_fn=<AddBackward0>)\n",
      "mle loss:  tensor(1.7983, grad_fn=<AddBackward0>)\n",
      "h_val:  tensor(0.0072, grad_fn=<AddBackward0>)\n"
     ]
    },
    {
     "name": "stderr",
     "output_type": "stream",
     "text": [
      " 52%|█████▏    | 15071/29000 [00:35<00:34, 401.48it/s]"
     ]
    },
    {
     "name": "stdout",
     "output_type": "stream",
     "text": [
      "Sigma:  tensor([[0.8323, 0.4999],\n",
      "        [0.4999, 1.3032]], grad_fn=<MmBackward0>)\n",
      "obj:  tensor(0.0242, grad_fn=<AddBackward0>)\n",
      "mle loss:  tensor(1.8206, grad_fn=<AddBackward0>)\n",
      "h_val:  tensor(0.0060, grad_fn=<AddBackward0>)\n"
     ]
    },
    {
     "name": "stderr",
     "output_type": "stream",
     "text": [
      " 52%|█████▏    | 15151/29000 [00:35<00:36, 384.14it/s]"
     ]
    },
    {
     "name": "stdout",
     "output_type": "stream",
     "text": [
      "Sigma:  tensor([[0.8412, 0.5055],\n",
      "        [0.5055, 1.3168]], grad_fn=<MmBackward0>)\n",
      "obj:  tensor(0.0234, grad_fn=<AddBackward0>)\n",
      "mle loss:  tensor(1.8413, grad_fn=<AddBackward0>)\n",
      "h_val:  tensor(0.0050, grad_fn=<AddBackward0>)\n"
     ]
    },
    {
     "name": "stderr",
     "output_type": "stream",
     "text": [
      " 53%|█████▎    | 15269/29000 [00:36<00:35, 384.55it/s]"
     ]
    },
    {
     "name": "stdout",
     "output_type": "stream",
     "text": [
      "Sigma:  tensor([[0.8496, 0.5104],\n",
      "        [0.5104, 1.3292]], grad_fn=<MmBackward0>)\n",
      "obj:  tensor(0.0227, grad_fn=<AddBackward0>)\n",
      "mle loss:  tensor(1.8605, grad_fn=<AddBackward0>)\n",
      "h_val:  tensor(0.0041, grad_fn=<AddBackward0>)\n"
     ]
    },
    {
     "name": "stderr",
     "output_type": "stream",
     "text": [
      " 53%|█████▎    | 15346/29000 [00:36<00:36, 373.76it/s]"
     ]
    },
    {
     "name": "stdout",
     "output_type": "stream",
     "text": [
      "Sigma:  tensor([[0.8575, 0.5150],\n",
      "        [0.5150, 1.3406]], grad_fn=<MmBackward0>)\n",
      "obj:  tensor(0.0222, grad_fn=<AddBackward0>)\n",
      "mle loss:  tensor(1.8782, grad_fn=<AddBackward0>)\n",
      "h_val:  tensor(0.0034, grad_fn=<AddBackward0>)\n"
     ]
    },
    {
     "name": "stderr",
     "output_type": "stream",
     "text": [
      " 53%|█████▎    | 15464/29000 [00:36<00:36, 372.60it/s]"
     ]
    },
    {
     "name": "stdout",
     "output_type": "stream",
     "text": [
      "Sigma:  tensor([[0.8649, 0.5193],\n",
      "        [0.5193, 1.3510]], grad_fn=<MmBackward0>)\n",
      "obj:  tensor(0.0217, grad_fn=<AddBackward0>)\n",
      "mle loss:  tensor(1.8944, grad_fn=<AddBackward0>)\n",
      "h_val:  tensor(0.0028, grad_fn=<AddBackward0>)\n"
     ]
    },
    {
     "name": "stderr",
     "output_type": "stream",
     "text": [
      " 54%|█████▎    | 15539/29000 [00:37<00:38, 347.51it/s]"
     ]
    },
    {
     "name": "stdout",
     "output_type": "stream",
     "text": [
      "Sigma:  tensor([[0.8717, 0.5232],\n",
      "        [0.5232, 1.3603]], grad_fn=<MmBackward0>)\n",
      "obj:  tensor(0.0214, grad_fn=<AddBackward0>)\n",
      "mle loss:  tensor(1.9092, grad_fn=<AddBackward0>)\n",
      "h_val:  tensor(0.0023, grad_fn=<AddBackward0>)\n"
     ]
    },
    {
     "name": "stderr",
     "output_type": "stream",
     "text": [
      " 54%|█████▍    | 15646/29000 [00:37<00:38, 344.58it/s]"
     ]
    },
    {
     "name": "stdout",
     "output_type": "stream",
     "text": [
      "Sigma:  tensor([[0.8781, 0.5267],\n",
      "        [0.5267, 1.3687]], grad_fn=<MmBackward0>)\n",
      "obj:  tensor(0.0211, grad_fn=<AddBackward0>)\n",
      "mle loss:  tensor(1.9226, grad_fn=<AddBackward0>)\n",
      "h_val:  tensor(0.0018, grad_fn=<AddBackward0>)\n"
     ]
    },
    {
     "name": "stderr",
     "output_type": "stream",
     "text": [
      " 54%|█████▍    | 15753/29000 [00:37<00:38, 341.69it/s]"
     ]
    },
    {
     "name": "stdout",
     "output_type": "stream",
     "text": [
      "Sigma:  tensor([[0.8840, 0.5299],\n",
      "        [0.5299, 1.3762]], grad_fn=<MmBackward0>)\n",
      "obj:  tensor(0.0209, grad_fn=<AddBackward0>)\n",
      "mle loss:  tensor(1.9346, grad_fn=<AddBackward0>)\n",
      "h_val:  tensor(0.0015, grad_fn=<AddBackward0>)\n"
     ]
    },
    {
     "name": "stderr",
     "output_type": "stream",
     "text": [
      " 55%|█████▍    | 15861/29000 [00:37<00:37, 346.35it/s]"
     ]
    },
    {
     "name": "stdout",
     "output_type": "stream",
     "text": [
      "Sigma:  tensor([[0.8893, 0.5327],\n",
      "        [0.5327, 1.3827]], grad_fn=<MmBackward0>)\n",
      "obj:  tensor(0.0207, grad_fn=<AddBackward0>)\n",
      "mle loss:  tensor(1.9454, grad_fn=<AddBackward0>)\n",
      "h_val:  tensor(0.0012, grad_fn=<AddBackward0>)\n"
     ]
    },
    {
     "name": "stderr",
     "output_type": "stream",
     "text": [
      " 55%|█████▌    | 15970/29000 [00:38<00:36, 353.13it/s]"
     ]
    },
    {
     "name": "stdout",
     "output_type": "stream",
     "text": [
      "Sigma:  tensor([[0.8942, 0.5352],\n",
      "        [0.5352, 1.3883]], grad_fn=<MmBackward0>)\n",
      "obj:  tensor(0.0206, grad_fn=<AddBackward0>)\n",
      "mle loss:  tensor(1.9549, grad_fn=<AddBackward0>)\n",
      "h_val:  tensor(0.0010, grad_fn=<AddBackward0>)\n"
     ]
    },
    {
     "name": "stderr",
     "output_type": "stream",
     "text": [
      " 55%|█████▌    | 16042/29000 [00:38<00:36, 352.71it/s]"
     ]
    },
    {
     "name": "stdout",
     "output_type": "stream",
     "text": [
      "Sigma:  tensor([[0.8986, 0.5374],\n",
      "        [0.5374, 1.3931]], grad_fn=<MmBackward0>)\n",
      "obj:  tensor(0.0205, grad_fn=<AddBackward0>)\n",
      "mle loss:  tensor(1.9633, grad_fn=<AddBackward0>)\n",
      "h_val:  tensor(0.0008, grad_fn=<AddBackward0>)\n"
     ]
    },
    {
     "name": "stderr",
     "output_type": "stream",
     "text": [
      " 56%|█████▌    | 16159/29000 [00:38<00:35, 365.34it/s]"
     ]
    },
    {
     "name": "stdout",
     "output_type": "stream",
     "text": [
      "Sigma:  tensor([[0.9026, 0.5393],\n",
      "        [0.5393, 1.3971]], grad_fn=<MmBackward0>)\n",
      "obj:  tensor(0.0204, grad_fn=<AddBackward0>)\n",
      "mle loss:  tensor(1.9706, grad_fn=<AddBackward0>)\n",
      "h_val:  tensor(0.0007, grad_fn=<AddBackward0>)\n"
     ]
    },
    {
     "name": "stderr",
     "output_type": "stream",
     "text": [
      " 56%|█████▌    | 16286/29000 [00:39<00:31, 405.01it/s]"
     ]
    },
    {
     "name": "stdout",
     "output_type": "stream",
     "text": [
      "Sigma:  tensor([[0.9061, 0.5410],\n",
      "        [0.5410, 1.4003]], grad_fn=<MmBackward0>)\n",
      "obj:  tensor(0.0203, grad_fn=<AddBackward0>)\n",
      "mle loss:  tensor(1.9769, grad_fn=<AddBackward0>)\n",
      "h_val:  tensor(0.0006, grad_fn=<AddBackward0>)\n"
     ]
    },
    {
     "name": "stderr",
     "output_type": "stream",
     "text": [
      " 56%|█████▋    | 16369/29000 [00:39<00:31, 405.36it/s]"
     ]
    },
    {
     "name": "stdout",
     "output_type": "stream",
     "text": [
      "Sigma:  tensor([[0.9092, 0.5424],\n",
      "        [0.5424, 1.4030]], grad_fn=<MmBackward0>)\n",
      "obj:  tensor(0.0203, grad_fn=<AddBackward0>)\n",
      "mle loss:  tensor(1.9822, grad_fn=<AddBackward0>)\n",
      "h_val:  tensor(0.0005, grad_fn=<AddBackward0>)\n"
     ]
    },
    {
     "name": "stderr",
     "output_type": "stream",
     "text": [
      " 57%|█████▋    | 16410/29000 [00:39<00:30, 406.38it/s]"
     ]
    },
    {
     "name": "stdout",
     "output_type": "stream",
     "text": [
      "Sigma:  tensor([[0.9119, 0.5435],\n",
      "        [0.5435, 1.4050]], grad_fn=<MmBackward0>)\n",
      "obj:  tensor(0.0203, grad_fn=<AddBackward0>)\n",
      "mle loss:  tensor(1.9867, grad_fn=<AddBackward0>)\n",
      "h_val:  tensor(0.0004, grad_fn=<AddBackward0>)\n"
     ]
    },
    {
     "name": "stderr",
     "output_type": "stream",
     "text": [
      " 57%|█████▋    | 16565/29000 [00:40<00:38, 324.51it/s]"
     ]
    },
    {
     "name": "stdout",
     "output_type": "stream",
     "text": [
      "Sigma:  tensor([[0.9143, 0.5444],\n",
      "        [0.5444, 1.4065]], grad_fn=<MmBackward0>)\n",
      "obj:  tensor(0.0203, grad_fn=<AddBackward0>)\n",
      "mle loss:  tensor(1.9903, grad_fn=<AddBackward0>)\n",
      "h_val:  tensor(0.0003, grad_fn=<AddBackward0>)\n"
     ]
    },
    {
     "name": "stderr",
     "output_type": "stream",
     "text": [
      " 57%|█████▋    | 16640/29000 [00:40<00:36, 342.14it/s]"
     ]
    },
    {
     "name": "stdout",
     "output_type": "stream",
     "text": [
      "Sigma:  tensor([[0.9162, 0.5452],\n",
      "        [0.5452, 1.4076]], grad_fn=<MmBackward0>)\n",
      "obj:  tensor(0.0202, grad_fn=<AddBackward0>)\n",
      "mle loss:  tensor(1.9933, grad_fn=<AddBackward0>)\n",
      "h_val:  tensor(0.0003, grad_fn=<AddBackward0>)\n"
     ]
    },
    {
     "name": "stderr",
     "output_type": "stream",
     "text": [
      " 58%|█████▊    | 16763/29000 [00:40<00:31, 386.61it/s]"
     ]
    },
    {
     "name": "stdout",
     "output_type": "stream",
     "text": [
      "Sigma:  tensor([[0.9178, 0.5457],\n",
      "        [0.5457, 1.4084]], grad_fn=<MmBackward0>)\n",
      "obj:  tensor(0.0202, grad_fn=<AddBackward0>)\n",
      "mle loss:  tensor(1.9956, grad_fn=<AddBackward0>)\n",
      "h_val:  tensor(0.0003, grad_fn=<AddBackward0>)\n"
     ]
    },
    {
     "name": "stderr",
     "output_type": "stream",
     "text": [
      " 58%|█████▊    | 16847/29000 [00:40<00:30, 392.96it/s]"
     ]
    },
    {
     "name": "stdout",
     "output_type": "stream",
     "text": [
      "Sigma:  tensor([[0.9191, 0.5462],\n",
      "        [0.5462, 1.4088]], grad_fn=<MmBackward0>)\n",
      "obj:  tensor(0.0202, grad_fn=<AddBackward0>)\n",
      "mle loss:  tensor(1.9975, grad_fn=<AddBackward0>)\n",
      "h_val:  tensor(0.0003, grad_fn=<AddBackward0>)\n"
     ]
    },
    {
     "name": "stderr",
     "output_type": "stream",
     "text": [
      " 59%|█████▊    | 16984/29000 [00:41<00:28, 428.61it/s]"
     ]
    },
    {
     "name": "stdout",
     "output_type": "stream",
     "text": [
      "Sigma:  tensor([[0.9202, 0.5465],\n",
      "        [0.5465, 1.4091]], grad_fn=<MmBackward0>)\n",
      "obj:  tensor(0.0202, grad_fn=<AddBackward0>)\n",
      "mle loss:  tensor(1.9988, grad_fn=<AddBackward0>)\n",
      "h_val:  tensor(0.0002, grad_fn=<AddBackward0>)\n"
     ]
    },
    {
     "name": "stderr",
     "output_type": "stream",
     "text": [
      " 59%|█████▉    | 17072/29000 [00:41<00:27, 428.15it/s]"
     ]
    },
    {
     "name": "stdout",
     "output_type": "stream",
     "text": [
      "Sigma:  tensor([[0.9210, 0.5467],\n",
      "        [0.5467, 1.4092]], grad_fn=<MmBackward0>)\n",
      "obj:  tensor(0.0202, grad_fn=<AddBackward0>)\n",
      "mle loss:  tensor(1.9999, grad_fn=<AddBackward0>)\n",
      "h_val:  tensor(0.0002, grad_fn=<AddBackward0>)\n"
     ]
    },
    {
     "name": "stderr",
     "output_type": "stream",
     "text": [
      " 59%|█████▉    | 17158/29000 [00:41<00:28, 422.21it/s]"
     ]
    },
    {
     "name": "stdout",
     "output_type": "stream",
     "text": [
      "Sigma:  tensor([[0.9216, 0.5469],\n",
      "        [0.5469, 1.4093]], grad_fn=<MmBackward0>)\n",
      "obj:  tensor(0.0202, grad_fn=<AddBackward0>)\n",
      "mle loss:  tensor(2.0006, grad_fn=<AddBackward0>)\n",
      "h_val:  tensor(0.0002, grad_fn=<AddBackward0>)\n"
     ]
    },
    {
     "name": "stderr",
     "output_type": "stream",
     "text": [
      " 59%|█████▉    | 17245/29000 [00:41<00:27, 423.22it/s]"
     ]
    },
    {
     "name": "stdout",
     "output_type": "stream",
     "text": [
      "Sigma:  tensor([[0.9221, 0.5470],\n",
      "        [0.5470, 1.4093]], grad_fn=<MmBackward0>)\n",
      "obj:  tensor(0.0202, grad_fn=<AddBackward0>)\n",
      "mle loss:  tensor(2.0011, grad_fn=<AddBackward0>)\n",
      "h_val:  tensor(0.0002, grad_fn=<AddBackward0>)\n"
     ]
    },
    {
     "name": "stderr",
     "output_type": "stream",
     "text": [
      " 60%|█████▉    | 17384/29000 [00:41<00:26, 442.51it/s]"
     ]
    },
    {
     "name": "stdout",
     "output_type": "stream",
     "text": [
      "Sigma:  tensor([[0.9224, 0.5471],\n",
      "        [0.5471, 1.4092]], grad_fn=<MmBackward0>)\n",
      "obj:  tensor(0.0202, grad_fn=<AddBackward0>)\n",
      "mle loss:  tensor(2.0014, grad_fn=<AddBackward0>)\n",
      "h_val:  tensor(0.0002, grad_fn=<AddBackward0>)\n"
     ]
    },
    {
     "name": "stderr",
     "output_type": "stream",
     "text": [
      " 60%|██████    | 17473/29000 [00:42<00:26, 433.02it/s]"
     ]
    },
    {
     "name": "stdout",
     "output_type": "stream",
     "text": [
      "Sigma:  tensor([[0.9226, 0.5471],\n",
      "        [0.5471, 1.4092]], grad_fn=<MmBackward0>)\n",
      "obj:  tensor(0.0202, grad_fn=<AddBackward0>)\n",
      "mle loss:  tensor(2.0016, grad_fn=<AddBackward0>)\n",
      "h_val:  tensor(0.0002, grad_fn=<AddBackward0>)\n"
     ]
    },
    {
     "name": "stderr",
     "output_type": "stream",
     "text": [
      " 61%|██████    | 17557/29000 [00:42<00:30, 372.85it/s]"
     ]
    },
    {
     "name": "stdout",
     "output_type": "stream",
     "text": [
      "Sigma:  tensor([[0.9227, 0.5471],\n",
      "        [0.5471, 1.4092]], grad_fn=<MmBackward0>)\n",
      "obj:  tensor(0.0202, grad_fn=<AddBackward0>)\n",
      "mle loss:  tensor(2.0018, grad_fn=<AddBackward0>)\n",
      "h_val:  tensor(0.0002, grad_fn=<AddBackward0>)\n"
     ]
    },
    {
     "name": "stderr",
     "output_type": "stream",
     "text": [
      " 61%|██████    | 17671/29000 [00:42<00:30, 365.88it/s]"
     ]
    },
    {
     "name": "stdout",
     "output_type": "stream",
     "text": [
      "Sigma:  tensor([[0.9228, 0.5472],\n",
      "        [0.5472, 1.4092]], grad_fn=<MmBackward0>)\n",
      "obj:  tensor(0.0202, grad_fn=<AddBackward0>)\n",
      "mle loss:  tensor(2.0019, grad_fn=<AddBackward0>)\n",
      "h_val:  tensor(0.0002, grad_fn=<AddBackward0>)\n"
     ]
    },
    {
     "name": "stderr",
     "output_type": "stream",
     "text": [
      " 61%|██████    | 17745/29000 [00:43<00:31, 359.03it/s]"
     ]
    },
    {
     "name": "stdout",
     "output_type": "stream",
     "text": [
      "Sigma:  tensor([[0.9229, 0.5472],\n",
      "        [0.5472, 1.4092]], grad_fn=<MmBackward0>)\n",
      "obj:  tensor(0.0202, grad_fn=<AddBackward0>)\n",
      "mle loss:  tensor(2.0019, grad_fn=<AddBackward0>)\n",
      "h_val:  tensor(0.0002, grad_fn=<AddBackward0>)\n"
     ]
    },
    {
     "name": "stderr",
     "output_type": "stream",
     "text": [
      " 62%|██████▏   | 17856/29000 [00:43<00:33, 336.74it/s]"
     ]
    },
    {
     "name": "stdout",
     "output_type": "stream",
     "text": [
      "Sigma:  tensor([[0.9229, 0.5472],\n",
      "        [0.5472, 1.4092]], grad_fn=<MmBackward0>)\n",
      "obj:  tensor(0.0202, grad_fn=<AddBackward0>)\n",
      "mle loss:  tensor(2.0020, grad_fn=<AddBackward0>)\n",
      "h_val:  tensor(0.0002, grad_fn=<AddBackward0>)\n"
     ]
    },
    {
     "name": "stderr",
     "output_type": "stream",
     "text": [
      " 62%|██████▏   | 17956/29000 [00:43<00:34, 321.10it/s]"
     ]
    },
    {
     "name": "stdout",
     "output_type": "stream",
     "text": [
      "Sigma:  tensor([[0.9229, 0.5472],\n",
      "        [0.5472, 1.4092]], grad_fn=<MmBackward0>)\n",
      "obj:  tensor(0.0202, grad_fn=<AddBackward0>)\n",
      "mle loss:  tensor(2.0020, grad_fn=<AddBackward0>)\n",
      "h_val:  tensor(0.0002, grad_fn=<AddBackward0>)\n"
     ]
    },
    {
     "name": "stderr",
     "output_type": "stream",
     "text": [
      " 72%|███████▏  | 21022/29000 [00:43<00:00, 8756.42it/s]"
     ]
    },
    {
     "name": "stdout",
     "output_type": "stream",
     "text": [
      "Sigma:  tensor([[0.9230, 0.5473],\n",
      "        [0.5473, 1.4093]], grad_fn=<MmBackward0>)\n",
      "obj:  tensor(0.0202, grad_fn=<AddBackward0>)\n",
      "mle loss:  tensor(2.0021, grad_fn=<AddBackward0>)\n",
      "h_val:  tensor(0.0002, grad_fn=<AddBackward0>)\n",
      "Sigma:  tensor([[0.9231, 0.5501],\n",
      "        [0.5501, 1.4107]], grad_fn=<MmBackward0>)\n",
      "obj:  tensor(0.0022, grad_fn=<AddBackward0>)\n",
      "mle loss:  tensor(1.9990, grad_fn=<AddBackward0>)\n",
      "h_val:  tensor(0.0002, grad_fn=<AddBackward0>)\n",
      "Sigma:  tensor([[0.9239, 0.5506],\n",
      "        [0.5506, 1.4109]], grad_fn=<MmBackward0>)\n",
      "obj:  tensor(0.0022, grad_fn=<AddBackward0>)\n",
      "mle loss:  tensor(2.0017, grad_fn=<AddBackward0>)\n",
      "h_val:  tensor(0.0002, grad_fn=<AddBackward0>)\n",
      "Sigma:  tensor([[0.9252, 0.5506],\n",
      "        [0.5506, 1.4158]], grad_fn=<MmBackward0>)\n",
      "obj:  tensor(0.0022, grad_fn=<AddBackward0>)\n",
      "mle loss:  tensor(2.0060, grad_fn=<AddBackward0>)\n",
      "h_val:  tensor(0.0002, grad_fn=<AddBackward0>)\n",
      "Sigma:  tensor([[0.9269, 0.5507],\n",
      "        [0.5507, 1.4162]], grad_fn=<MmBackward0>)\n",
      "obj:  tensor(0.0021, grad_fn=<AddBackward0>)\n",
      "mle loss:  tensor(2.0111, grad_fn=<AddBackward0>)\n",
      "h_val:  tensor(0.0001, grad_fn=<AddBackward0>)\n",
      "Sigma:  tensor([[0.9287, 0.5508],\n",
      "        [0.5508, 1.4202]], grad_fn=<MmBackward0>)\n",
      "obj:  tensor(0.0021, grad_fn=<AddBackward0>)\n",
      "mle loss:  tensor(2.0164, grad_fn=<AddBackward0>)\n",
      "h_val:  tensor(8.2377e-05, grad_fn=<AddBackward0>)\n",
      "Sigma:  tensor([[0.9304, 0.5512],\n",
      "        [0.5512, 1.4221]], grad_fn=<MmBackward0>)\n",
      "obj:  tensor(0.0021, grad_fn=<AddBackward0>)\n",
      "mle loss:  tensor(2.0213, grad_fn=<AddBackward0>)\n",
      "h_val:  tensor(5.4000e-05, grad_fn=<AddBackward0>)\n",
      "Sigma:  tensor([[0.9324, 0.5519],\n",
      "        [0.5519, 1.4254]], grad_fn=<MmBackward0>)\n",
      "obj:  tensor(0.0021, grad_fn=<AddBackward0>)\n",
      "mle loss:  tensor(2.0257, grad_fn=<AddBackward0>)\n",
      "h_val:  tensor(3.3778e-05, grad_fn=<AddBackward0>)\n",
      "Sigma:  tensor([[0.9340, 0.5528],\n",
      "        [0.5528, 1.4276]], grad_fn=<MmBackward0>)\n",
      "obj:  tensor(0.0021, grad_fn=<AddBackward0>)\n",
      "mle loss:  tensor(2.0294, grad_fn=<AddBackward0>)\n",
      "h_val:  tensor(2.0395e-05, grad_fn=<AddBackward0>)\n"
     ]
    },
    {
     "name": "stderr",
     "output_type": "stream",
     "text": [
      " 76%|███████▌  | 21935/29000 [00:46<00:06, 1149.79it/s]"
     ]
    },
    {
     "name": "stdout",
     "output_type": "stream",
     "text": [
      "Sigma:  tensor([[0.9356, 0.5538],\n",
      "        [0.5538, 1.4300]], grad_fn=<MmBackward0>)\n",
      "obj:  tensor(0.0020, grad_fn=<AddBackward0>)\n",
      "mle loss:  tensor(2.0324, grad_fn=<AddBackward0>)\n",
      "h_val:  tensor(1.2101e-05, grad_fn=<AddBackward0>)\n",
      "Sigma:  tensor([[0.9369, 0.5548],\n",
      "        [0.5548, 1.4318]], grad_fn=<MmBackward0>)\n",
      "obj:  tensor(0.0020, grad_fn=<AddBackward0>)\n",
      "mle loss:  tensor(2.0347, grad_fn=<AddBackward0>)\n",
      "h_val:  tensor(7.2459e-06, grad_fn=<AddBackward0>)\n",
      "Sigma:  tensor([[0.9380, 0.5557],\n",
      "        [0.5557, 1.4332]], grad_fn=<MmBackward0>)\n",
      "obj:  tensor(0.0020, grad_fn=<AddBackward0>)\n",
      "mle loss:  tensor(2.0363, grad_fn=<AddBackward0>)\n",
      "h_val:  tensor(4.5397e-06, grad_fn=<AddBackward0>)\n",
      "Sigma:  tensor([[0.9388, 0.5564],\n",
      "        [0.5564, 1.4343]], grad_fn=<MmBackward0>)\n",
      "obj:  tensor(0.0020, grad_fn=<AddBackward0>)\n",
      "mle loss:  tensor(2.0374, grad_fn=<AddBackward0>)\n",
      "h_val:  tensor(3.0957e-06, grad_fn=<AddBackward0>)\n",
      "Sigma:  tensor([[0.9393, 0.5570],\n",
      "        [0.5570, 1.4350]], grad_fn=<MmBackward0>)\n",
      "obj:  tensor(0.0020, grad_fn=<AddBackward0>)\n",
      "mle loss:  tensor(2.0381, grad_fn=<AddBackward0>)\n",
      "h_val:  tensor(2.3646e-06, grad_fn=<AddBackward0>)\n",
      "Sigma:  tensor([[0.9397, 0.5573],\n",
      "        [0.5573, 1.4354]], grad_fn=<MmBackward0>)\n",
      "obj:  tensor(0.0020, grad_fn=<AddBackward0>)\n",
      "mle loss:  tensor(2.0385, grad_fn=<AddBackward0>)\n",
      "h_val:  tensor(2.0277e-06, grad_fn=<AddBackward0>)\n",
      "Sigma:  tensor([[0.9399, 0.5575],\n",
      "        [0.5575, 1.4356]], grad_fn=<MmBackward0>)\n",
      "obj:  tensor(0.0020, grad_fn=<AddBackward0>)\n",
      "mle loss:  tensor(2.0387, grad_fn=<AddBackward0>)\n",
      "h_val:  tensor(1.9033e-06, grad_fn=<AddBackward0>)\n"
     ]
    },
    {
     "name": "stderr",
     "output_type": "stream",
     "text": [
      " 78%|███████▊  | 22585/29000 [00:47<00:08, 799.88it/s] "
     ]
    },
    {
     "name": "stdout",
     "output_type": "stream",
     "text": [
      "Sigma:  tensor([[0.9400, 0.5576],\n",
      "        [0.5576, 1.4357]], grad_fn=<MmBackward0>)\n",
      "obj:  tensor(0.0020, grad_fn=<AddBackward0>)\n",
      "mle loss:  tensor(2.0388, grad_fn=<AddBackward0>)\n",
      "h_val:  tensor(1.8854e-06, grad_fn=<AddBackward0>)\n",
      "Sigma:  tensor([[0.9400, 0.5576],\n",
      "        [0.5576, 1.4357]], grad_fn=<MmBackward0>)\n",
      "obj:  tensor(0.0020, grad_fn=<AddBackward0>)\n",
      "mle loss:  tensor(2.0389, grad_fn=<AddBackward0>)\n",
      "h_val:  tensor(1.9107e-06, grad_fn=<AddBackward0>)\n",
      "Sigma:  tensor([[0.9400, 0.5576],\n",
      "        [0.5576, 1.4358]], grad_fn=<MmBackward0>)\n",
      "obj:  tensor(0.0020, grad_fn=<AddBackward0>)\n",
      "mle loss:  tensor(2.0389, grad_fn=<AddBackward0>)\n",
      "h_val:  tensor(1.9437e-06, grad_fn=<AddBackward0>)\n",
      "Sigma:  tensor([[0.9400, 0.5577],\n",
      "        [0.5577, 1.4360]], grad_fn=<MmBackward0>)\n",
      "obj:  tensor(0.0020, grad_fn=<AddBackward0>)\n",
      "mle loss:  tensor(2.0390, grad_fn=<AddBackward0>)\n",
      "h_val:  tensor(1.9681e-06, grad_fn=<AddBackward0>)\n"
     ]
    },
    {
     "name": "stderr",
     "output_type": "stream",
     "text": [
      "100%|██████████| 29000/29000 [00:49<00:00, 591.83it/s] "
     ]
    },
    {
     "name": "stdout",
     "output_type": "stream",
     "text": [
      "Sigma:  tensor([[0.9400, 0.5577],\n",
      "        [0.5577, 1.4361]], grad_fn=<MmBackward0>)\n",
      "obj:  tensor(0.0020, grad_fn=<AddBackward0>)\n",
      "mle loss:  tensor(2.0391, grad_fn=<AddBackward0>)\n",
      "h_val:  tensor(1.9798e-06, grad_fn=<AddBackward0>)\n"
     ]
    },
    {
     "name": "stderr",
     "output_type": "stream",
     "text": [
      "\n"
     ]
    }
   ],
   "source": [
    "# eq_model = nonlinear.DagmaMLP(\n",
    "#     dims=[d, 10, 1], bias=True, dtype=torch.double)\n",
    "# model = nonlinear.DagmaNonlinear(\n",
    "#     eq_model, dtype=torch.double, use_mse_loss=True)\n",
    "\n",
    "# W_est_dagma = model.fit(X, lambda1=2e-2, lambda2=0.005,\n",
    "#                         T=1, lr=2e-4, w_threshold=0.3, mu_init=0.1, warm_iter=70000, max_iter=80000)\n",
    "\n",
    "# # Use DAGMA weights as initial weights for DAGMA-DCE\n",
    "# fc1_weight = eq_model.fc1.weight\n",
    "# fc1_bias = eq_model.fc1.bias\n",
    "# fc2_weight = eq_model.fc2[0].weight\n",
    "# fc2_bias = eq_model.fc2[0].bias\n",
    "\n",
    "eq_model = nonlinear_dce.DagmaMLP_DCE(\n",
    "    dims=[d, 10, 1], bias=True)\n",
    "model = nonlinear_dce.DagmaDCE(eq_model, use_mle_loss=True)\n",
    "# eq_model.fc1.weight = fc1_weight\n",
    "# eq_model.fc1.bias = fc1_bias\n",
    "# eq_model.fc2[0].weight = fc2_weight\n",
    "# eq_model.fc2[0].bias = fc2_bias\n",
    "\n",
    "W_est_dce_no_thresh, W2, x_est = model.fit(X, lambda1=3.5e-2, lambda2=5e-3,\n",
    "                                lr=2e-4, mu_factor=0.1, mu_init=1, T=4, warm_iter=7000, max_iter=8000)"
   ]
  },
  {
   "cell_type": "code",
   "execution_count": 8,
   "metadata": {},
   "outputs": [
    {
     "name": "stdout",
     "output_type": "stream",
     "text": [
      "W_est_dce_no_thresh tensor([[9.9168e-04, 2.0070e-05],\n",
      "        [1.4649e-04, 9.9479e-04]], grad_fn=<SqrtBackward0>)\n"
     ]
    }
   ],
   "source": [
    "print(\"W_est_dce_no_thresh\", W_est_dce_no_thresh)"
   ]
  },
  {
   "cell_type": "code",
   "execution_count": 9,
   "metadata": {},
   "outputs": [
    {
     "data": {
      "image/png": "[encoded data removed]",
      "text/plain": [
       "<Figure size 1000x600 with 1 Axes>"
      ]
     },
     "metadata": {},
     "output_type": "display_data"
    },
    {
     "name": "stdout",
     "output_type": "stream",
     "text": [
      "The programm is closed\n"
     ]
    }
   ],
   "source": [
    "plt.figure(figsize=(10, 6))  # Optional: specifies the figure size\n",
    "plt.scatter(X.detach().numpy()[:, 0], X.detach().numpy()[:, 1], label='y', color='blue', marker='o')  # Plot x vs. y1\n",
    "plt.scatter(X.detach().numpy()[:, 0], x_est.detach().numpy()[:, 1], label='y_est', color='red', marker='s') \n",
    "plt.scatter(X.detach().numpy()[:, 0], X_true.detach().numpy()[:, 1], label='y_noise', color='green', marker='s') \n",
    "plt.xlabel('x')\n",
    "plt.ylabel('y')\n",
    "plt.legend()\n",
    "plt.show()\n",
    "print(\"The programm is closed\")"
   ]
  },
  {
   "cell_type": "code",
   "execution_count": 10,
   "metadata": {},
   "outputs": [
    {
     "data": {
      "image/png": "[encoded data removed]",
      "text/plain": [
       "<Figure size 1000x600 with 1 Axes>"
      ]
     },
     "metadata": {},
     "output_type": "display_data"
    },
    {
     "name": "stdout",
     "output_type": "stream",
     "text": [
      "The programm is closed\n"
     ]
    }
   ],
   "source": [
    "plt.figure(figsize=(10, 6))  # Optional: specifies the figure size\n",
    "plt.scatter(X.detach().numpy()[:, 1], x_est.detach().numpy()[:, 0], label='x_est', color='red', marker='s') \n",
    "plt.scatter(X.detach().numpy()[:, 1], X.detach().numpy()[:, 0], label='x', color='green', marker='o')\n",
    "plt.xlabel('x')\n",
    "plt.ylabel('y')\n",
    "plt.legend()\n",
    "plt.show()\n",
    "print(\"The programm is closed\")"
   ]
  },
  {
   "cell_type": "code",
   "execution_count": null,
   "metadata": {},
   "outputs": [],
   "source": []
  }
 ],
 "metadata": {
  "kernelspec": {
   "display_name": "admg",
   "language": "python",
   "name": "python3"
  },
  "language_info": {
   "codemirror_mode": {
    "name": "ipython",
    "version": 3
   },
   "file_extension": ".py",
   "mimetype": "text/x-python",
   "name": "python",
   "nbconvert_exporter": "python",
   "pygments_lexer": "ipython3",
   "version": "3.11.10"
  }
 },
 "nbformat": 4,
 "nbformat_minor": 2
}
