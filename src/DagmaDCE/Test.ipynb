{
 "cells": [
  {
   "cell_type": "markdown",
   "metadata": {},
   "source": [
    "# Test"
   ]
  },
  {
   "cell_type": "code",
   "execution_count": 1,
   "metadata": {},
   "outputs": [
    {
     "name": "stderr",
     "output_type": "stream",
     "text": [
      "/opt/anaconda3/envs/admg/lib/python3.11/site-packages/tqdm/auto.py:21: TqdmWarning: IProgress not found. Please update jupyter and ipywidgets. See https://ipywidgets.readthedocs.io/en/stable/user_install.html\n",
      "  from .autonotebook import tqdm as notebook_tqdm\n"
     ]
    }
   ],
   "source": [
    "import nonlinear_dce\n",
    "import torch"
   ]
  },
  {
   "cell_type": "code",
   "execution_count": 2,
   "metadata": {},
   "outputs": [],
   "source": [
    "class DummyModel(torch.nn.Module):\n",
    "    def __init__(self):\n",
    "        super().__init__()\n",
    "\n",
    "dummy_model = DummyModel()\n",
    "\n",
    "dagma = nonlinear_dce.DagmaDCE(model=dummy_model, use_mle_loss=True)\n",
    "dims = [5,7,1]\n",
    "dagma_mlp = nonlinear_dce.DagmaMLP_DCE(dims=dims)\n",
    "n, d = 100, dims[0]\n",
    "target = torch.randn(n, d)\n",
    "output = target + 0.1 * torch.randn(n, d)\n",
    "\n",
    "A = torch.randn(d, d)\n",
    "Sigma = A @ A.T + 1e-3 * torch.eye(d)"
   ]
  },
  {
   "cell_type": "markdown",
   "metadata": {},
   "source": [
    "## MLE loss"
   ]
  },
  {
   "cell_type": "code",
   "execution_count": 3,
   "metadata": {},
   "outputs": [
    {
     "name": "stdout",
     "output_type": "stream",
     "text": [
      "MLE loss: 7.3140552211697\n"
     ]
    }
   ],
   "source": [
    "loss_value = dagma.mle_loss(output=output, target=target, Sigma=Sigma)\n",
    "print(\"MLE loss:\", loss_value.item())"
   ]
  },
  {
   "cell_type": "code",
   "execution_count": 4,
   "metadata": {},
   "outputs": [
    {
     "name": "stdout",
     "output_type": "stream",
     "text": [
      "MLE loss: 7.314055221169701\n"
     ]
    }
   ],
   "source": [
    "tmp = 0\n",
    "diff = target - output\n",
    "for i in range(0,n):\n",
    "    tmp += diff[i, :]@ torch.inverse(Sigma)@diff[i, :].unsqueeze(1)\n",
    "\n",
    "logdet = torch.logdet(Sigma)\n",
    "loss_value2 = tmp/n + logdet\n",
    "print(\"MLE loss:\", loss_value2.item())"
   ]
  },
  {
   "cell_type": "markdown",
   "metadata": {},
   "source": [
    "## h_func"
   ]
  },
  {
   "cell_type": "code",
   "execution_count": 5,
   "metadata": {},
   "outputs": [
    {
     "name": "stdout",
     "output_type": "stream",
     "text": [
      "h_value: 8.84974343251615\n"
     ]
    }
   ],
   "source": [
    "W1 = torch.rand(d, d)   # values in [0,1)\n",
    "W2 = torch.rand(d, d)\n",
    "h_value =dagma_mlp.h_func(W1, W2)\n",
    "print(\"h_value:\", h_value.item())"
   ]
  },
  {
   "cell_type": "markdown",
   "metadata": {},
   "source": [
    "## Log Cholesky"
   ]
  },
  {
   "cell_type": "code",
   "execution_count": 8,
   "metadata": {},
   "outputs": [
    {
     "name": "stdout",
     "output_type": "stream",
     "text": [
      "Sigma:  tensor([[ 9.3026,  0.3791,  4.0431, -0.6954, -1.1468],\n",
      "        [ 0.3791,  3.2425,  3.3744,  3.3295,  0.5797],\n",
      "        [ 4.0431,  3.3744,  5.1537,  3.5565, -0.5255],\n",
      "        [-0.6954,  3.3295,  3.5565,  4.9086, -0.8183],\n",
      "        [-1.1468,  0.5797, -0.5255, -0.8183,  2.7815]])\n"
     ]
    }
   ],
   "source": [
    "A = torch.randn(d, d)             \n",
    "Sigma = A @ A.T + 1e-3 * torch.eye(d)\n",
    "print(\"Sigma: \", Sigma)"
   ]
  },
  {
   "cell_type": "code",
   "execution_count": 9,
   "metadata": {},
   "outputs": [
    {
     "name": "stdout",
     "output_type": "stream",
     "text": [
      "M:  tensor([[ 1.1151,  0.0000,  0.0000,  0.0000,  0.0000],\n",
      "        [ 0.1243,  0.5858,  0.0000,  0.0000,  0.0000],\n",
      "        [ 1.3256,  1.7867, -0.7945,  0.0000,  0.0000],\n",
      "        [-0.2280,  1.8692,  1.1488, -1.5735,  0.0000],\n",
      "        [-0.3760,  0.3487, -1.4390,  0.4692, -0.7401]])\n"
     ]
    }
   ],
   "source": [
    "M = nonlinear_dce.reverse_SPDLogCholesky(Sigma)\n",
    "print(\"M: \", M)"
   ]
  },
  {
   "cell_type": "code",
   "execution_count": 10,
   "metadata": {},
   "outputs": [
    {
     "name": "stdout",
     "output_type": "stream",
     "text": [
      "Sigma:  tensor([[ 9.3026,  0.3791,  4.0431, -0.6954, -1.1468],\n",
      "        [ 0.3791,  3.2425,  3.3744,  3.3295,  0.5797],\n",
      "        [ 4.0431,  3.3744,  5.1537,  3.5565, -0.5255],\n",
      "        [-0.6954,  3.3295,  3.5565,  4.9086, -0.8183],\n",
      "        [-1.1468,  0.5797, -0.5255, -0.8183,  2.7815]])\n"
     ]
    }
   ],
   "source": [
    "Sigma = nonlinear_dce.SPDLogCholesky(M)\n",
    "print(\"Sigma: \", Sigma)"
   ]
  },
  {
   "cell_type": "code",
   "execution_count": null,
   "metadata": {},
   "outputs": [],
   "source": []
  }
 ],
 "metadata": {
  "kernelspec": {
   "display_name": "admg",
   "language": "python",
   "name": "python3"
  },
  "language_info": {
   "codemirror_mode": {
    "name": "ipython",
    "version": 3
   },
   "file_extension": ".py",
   "mimetype": "text/x-python",
   "name": "python",
   "nbconvert_exporter": "python",
   "pygments_lexer": "ipython3",
   "version": "3.11.10"
  }
 },
 "nbformat": 4,
 "nbformat_minor": 2
}
